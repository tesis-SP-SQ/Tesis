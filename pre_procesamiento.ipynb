{
  "nbformat": 4,
  "nbformat_minor": 0,
  "metadata": {
    "colab": {
      "name": "pre_procesamiento.ipynb",
      "provenance": [],
      "collapsed_sections": [],
      "include_colab_link": true
    },
    "kernelspec": {
      "name": "python3",
      "display_name": "Python 3"
    }
  },
  "cells": [
    {
      "cell_type": "markdown",
      "metadata": {
        "id": "view-in-github",
        "colab_type": "text"
      },
      "source": [
        "<a href=\"https://colab.research.google.com/github/santiagoprado12/Tesis/blob/main/pre_procesamiento.ipynb\" target=\"_parent\"><img src=\"https://colab.research.google.com/assets/colab-badge.svg\" alt=\"Open In Colab\"/></a>"
      ]
    },
    {
      "cell_type": "code",
      "metadata": {
        "colab": {
          "base_uri": "https://localhost:8080/"
        },
        "id": "c9uj84mFULZx",
        "outputId": "b3737713-6efd-456e-ffc2-3796039d8ed4"
      },
      "source": [
        "!pip install geopandas\n",
        "import geopandas\n",
        "import datetime \n",
        "import numpy as np\n",
        "import matplotlib.pyplot as plt\n",
        "import plotly.offline as py\n",
        "import plotly.graph_objects as go"
      ],
      "execution_count": null,
      "outputs": [
        {
          "output_type": "stream",
          "text": [
            "Collecting geopandas\n",
            "\u001b[?25l  Downloading https://files.pythonhosted.org/packages/d7/bf/e9cefb69d39155d122b6ddca53893b61535fa6ffdad70bf5ef708977f53f/geopandas-0.9.0-py2.py3-none-any.whl (994kB)\n",
            "\r\u001b[K     |▎                               | 10kB 13.1MB/s eta 0:00:01\r\u001b[K     |▋                               | 20kB 17.8MB/s eta 0:00:01\r\u001b[K     |█                               | 30kB 12.1MB/s eta 0:00:01\r\u001b[K     |█▎                              | 40kB 9.8MB/s eta 0:00:01\r\u001b[K     |█▋                              | 51kB 5.1MB/s eta 0:00:01\r\u001b[K     |██                              | 61kB 5.3MB/s eta 0:00:01\r\u001b[K     |██▎                             | 71kB 5.7MB/s eta 0:00:01\r\u001b[K     |██▋                             | 81kB 6.1MB/s eta 0:00:01\r\u001b[K     |███                             | 92kB 6.3MB/s eta 0:00:01\r\u001b[K     |███▎                            | 102kB 5.1MB/s eta 0:00:01\r\u001b[K     |███▋                            | 112kB 5.1MB/s eta 0:00:01\r\u001b[K     |████                            | 122kB 5.1MB/s eta 0:00:01\r\u001b[K     |████▎                           | 133kB 5.1MB/s eta 0:00:01\r\u001b[K     |████▋                           | 143kB 5.1MB/s eta 0:00:01\r\u001b[K     |█████                           | 153kB 5.1MB/s eta 0:00:01\r\u001b[K     |█████▎                          | 163kB 5.1MB/s eta 0:00:01\r\u001b[K     |█████▋                          | 174kB 5.1MB/s eta 0:00:01\r\u001b[K     |██████                          | 184kB 5.1MB/s eta 0:00:01\r\u001b[K     |██████▎                         | 194kB 5.1MB/s eta 0:00:01\r\u001b[K     |██████▋                         | 204kB 5.1MB/s eta 0:00:01\r\u001b[K     |███████                         | 215kB 5.1MB/s eta 0:00:01\r\u001b[K     |███████▎                        | 225kB 5.1MB/s eta 0:00:01\r\u001b[K     |███████▋                        | 235kB 5.1MB/s eta 0:00:01\r\u001b[K     |████████                        | 245kB 5.1MB/s eta 0:00:01\r\u001b[K     |████████▎                       | 256kB 5.1MB/s eta 0:00:01\r\u001b[K     |████████▋                       | 266kB 5.1MB/s eta 0:00:01\r\u001b[K     |█████████                       | 276kB 5.1MB/s eta 0:00:01\r\u001b[K     |█████████▎                      | 286kB 5.1MB/s eta 0:00:01\r\u001b[K     |█████████▌                      | 296kB 5.1MB/s eta 0:00:01\r\u001b[K     |█████████▉                      | 307kB 5.1MB/s eta 0:00:01\r\u001b[K     |██████████▏                     | 317kB 5.1MB/s eta 0:00:01\r\u001b[K     |██████████▌                     | 327kB 5.1MB/s eta 0:00:01\r\u001b[K     |██████████▉                     | 337kB 5.1MB/s eta 0:00:01\r\u001b[K     |███████████▏                    | 348kB 5.1MB/s eta 0:00:01\r\u001b[K     |███████████▌                    | 358kB 5.1MB/s eta 0:00:01\r\u001b[K     |███████████▉                    | 368kB 5.1MB/s eta 0:00:01\r\u001b[K     |████████████▏                   | 378kB 5.1MB/s eta 0:00:01\r\u001b[K     |████████████▌                   | 389kB 5.1MB/s eta 0:00:01\r\u001b[K     |████████████▉                   | 399kB 5.1MB/s eta 0:00:01\r\u001b[K     |█████████████▏                  | 409kB 5.1MB/s eta 0:00:01\r\u001b[K     |█████████████▌                  | 419kB 5.1MB/s eta 0:00:01\r\u001b[K     |█████████████▉                  | 430kB 5.1MB/s eta 0:00:01\r\u001b[K     |██████████████▏                 | 440kB 5.1MB/s eta 0:00:01\r\u001b[K     |██████████████▌                 | 450kB 5.1MB/s eta 0:00:01\r\u001b[K     |██████████████▉                 | 460kB 5.1MB/s eta 0:00:01\r\u001b[K     |███████████████▏                | 471kB 5.1MB/s eta 0:00:01\r\u001b[K     |███████████████▌                | 481kB 5.1MB/s eta 0:00:01\r\u001b[K     |███████████████▉                | 491kB 5.1MB/s eta 0:00:01\r\u001b[K     |████████████████▏               | 501kB 5.1MB/s eta 0:00:01\r\u001b[K     |████████████████▌               | 512kB 5.1MB/s eta 0:00:01\r\u001b[K     |████████████████▉               | 522kB 5.1MB/s eta 0:00:01\r\u001b[K     |█████████████████▏              | 532kB 5.1MB/s eta 0:00:01\r\u001b[K     |█████████████████▌              | 542kB 5.1MB/s eta 0:00:01\r\u001b[K     |█████████████████▉              | 552kB 5.1MB/s eta 0:00:01\r\u001b[K     |██████████████████▏             | 563kB 5.1MB/s eta 0:00:01\r\u001b[K     |██████████████████▌             | 573kB 5.1MB/s eta 0:00:01\r\u001b[K     |██████████████████▊             | 583kB 5.1MB/s eta 0:00:01\r\u001b[K     |███████████████████             | 593kB 5.1MB/s eta 0:00:01\r\u001b[K     |███████████████████▍            | 604kB 5.1MB/s eta 0:00:01\r\u001b[K     |███████████████████▊            | 614kB 5.1MB/s eta 0:00:01\r\u001b[K     |████████████████████            | 624kB 5.1MB/s eta 0:00:01\r\u001b[K     |████████████████████▍           | 634kB 5.1MB/s eta 0:00:01\r\u001b[K     |████████████████████▊           | 645kB 5.1MB/s eta 0:00:01\r\u001b[K     |█████████████████████           | 655kB 5.1MB/s eta 0:00:01\r\u001b[K     |█████████████████████▍          | 665kB 5.1MB/s eta 0:00:01\r\u001b[K     |█████████████████████▊          | 675kB 5.1MB/s eta 0:00:01\r\u001b[K     |██████████████████████          | 686kB 5.1MB/s eta 0:00:01\r\u001b[K     |██████████████████████▍         | 696kB 5.1MB/s eta 0:00:01\r\u001b[K     |██████████████████████▊         | 706kB 5.1MB/s eta 0:00:01\r\u001b[K     |███████████████████████         | 716kB 5.1MB/s eta 0:00:01\r\u001b[K     |███████████████████████▍        | 727kB 5.1MB/s eta 0:00:01\r\u001b[K     |███████████████████████▊        | 737kB 5.1MB/s eta 0:00:01\r\u001b[K     |████████████████████████        | 747kB 5.1MB/s eta 0:00:01\r\u001b[K     |████████████████████████▍       | 757kB 5.1MB/s eta 0:00:01\r\u001b[K     |████████████████████████▊       | 768kB 5.1MB/s eta 0:00:01\r\u001b[K     |█████████████████████████       | 778kB 5.1MB/s eta 0:00:01\r\u001b[K     |█████████████████████████▍      | 788kB 5.1MB/s eta 0:00:01\r\u001b[K     |█████████████████████████▊      | 798kB 5.1MB/s eta 0:00:01\r\u001b[K     |██████████████████████████      | 808kB 5.1MB/s eta 0:00:01\r\u001b[K     |██████████████████████████▍     | 819kB 5.1MB/s eta 0:00:01\r\u001b[K     |██████████████████████████▊     | 829kB 5.1MB/s eta 0:00:01\r\u001b[K     |███████████████████████████     | 839kB 5.1MB/s eta 0:00:01\r\u001b[K     |███████████████████████████▍    | 849kB 5.1MB/s eta 0:00:01\r\u001b[K     |███████████████████████████▊    | 860kB 5.1MB/s eta 0:00:01\r\u001b[K     |████████████████████████████    | 870kB 5.1MB/s eta 0:00:01\r\u001b[K     |████████████████████████████▎   | 880kB 5.1MB/s eta 0:00:01\r\u001b[K     |████████████████████████████▋   | 890kB 5.1MB/s eta 0:00:01\r\u001b[K     |█████████████████████████████   | 901kB 5.1MB/s eta 0:00:01\r\u001b[K     |█████████████████████████████▎  | 911kB 5.1MB/s eta 0:00:01\r\u001b[K     |█████████████████████████████▋  | 921kB 5.1MB/s eta 0:00:01\r\u001b[K     |██████████████████████████████  | 931kB 5.1MB/s eta 0:00:01\r\u001b[K     |██████████████████████████████▎ | 942kB 5.1MB/s eta 0:00:01\r\u001b[K     |██████████████████████████████▋ | 952kB 5.1MB/s eta 0:00:01\r\u001b[K     |███████████████████████████████ | 962kB 5.1MB/s eta 0:00:01\r\u001b[K     |███████████████████████████████▎| 972kB 5.1MB/s eta 0:00:01\r\u001b[K     |███████████████████████████████▋| 983kB 5.1MB/s eta 0:00:01\r\u001b[K     |████████████████████████████████| 993kB 5.1MB/s eta 0:00:01\r\u001b[K     |████████████████████████████████| 1.0MB 5.1MB/s \n",
            "\u001b[?25hRequirement already satisfied: pandas>=0.24.0 in /usr/local/lib/python3.7/dist-packages (from geopandas) (1.1.5)\n",
            "Collecting fiona>=1.8\n",
            "\u001b[?25l  Downloading https://files.pythonhosted.org/packages/47/c2/67d1d0acbaaee3b03e5e22e3b96c33219cb5dd392531c9ff9cee7c2eb3e4/Fiona-1.8.18-cp37-cp37m-manylinux1_x86_64.whl (14.8MB)\n",
            "\u001b[K     |████████████████████████████████| 14.8MB 299kB/s \n",
            "\u001b[?25hCollecting pyproj>=2.2.0\n",
            "\u001b[?25l  Downloading https://files.pythonhosted.org/packages/05/0c/d7c2c7c370ea5368b813a44e772247ed1a461dc47de70c5d02e079abc7e0/pyproj-3.0.0.post1-cp37-cp37m-manylinux2010_x86_64.whl (6.4MB)\n",
            "\u001b[K     |████████████████████████████████| 6.5MB 43.5MB/s \n",
            "\u001b[?25hRequirement already satisfied: shapely>=1.6 in /usr/local/lib/python3.7/dist-packages (from geopandas) (1.7.1)\n",
            "Requirement already satisfied: pytz>=2017.2 in /usr/local/lib/python3.7/dist-packages (from pandas>=0.24.0->geopandas) (2018.9)\n",
            "Requirement already satisfied: python-dateutil>=2.7.3 in /usr/local/lib/python3.7/dist-packages (from pandas>=0.24.0->geopandas) (2.8.1)\n",
            "Requirement already satisfied: numpy>=1.15.4 in /usr/local/lib/python3.7/dist-packages (from pandas>=0.24.0->geopandas) (1.19.5)\n",
            "Requirement already satisfied: attrs>=17 in /usr/local/lib/python3.7/dist-packages (from fiona>=1.8->geopandas) (20.3.0)\n",
            "Requirement already satisfied: click<8,>=4.0 in /usr/local/lib/python3.7/dist-packages (from fiona>=1.8->geopandas) (7.1.2)\n",
            "Requirement already satisfied: certifi in /usr/local/lib/python3.7/dist-packages (from fiona>=1.8->geopandas) (2020.12.5)\n",
            "Collecting click-plugins>=1.0\n",
            "  Downloading https://files.pythonhosted.org/packages/e9/da/824b92d9942f4e472702488857914bdd50f73021efea15b4cad9aca8ecef/click_plugins-1.1.1-py2.py3-none-any.whl\n",
            "Collecting cligj>=0.5\n",
            "  Downloading https://files.pythonhosted.org/packages/42/1e/947eadf10d6804bf276eb8a038bd5307996dceaaa41cfd21b7a15ec62f5d/cligj-0.7.1-py3-none-any.whl\n",
            "Requirement already satisfied: six>=1.7 in /usr/local/lib/python3.7/dist-packages (from fiona>=1.8->geopandas) (1.15.0)\n",
            "Collecting munch\n",
            "  Downloading https://files.pythonhosted.org/packages/cc/ab/85d8da5c9a45e072301beb37ad7f833cd344e04c817d97e0cc75681d248f/munch-2.5.0-py2.py3-none-any.whl\n",
            "Installing collected packages: click-plugins, cligj, munch, fiona, pyproj, geopandas\n",
            "Successfully installed click-plugins-1.1.1 cligj-0.7.1 fiona-1.8.18 geopandas-0.9.0 munch-2.5.0 pyproj-3.0.0.post1\n"
          ],
          "name": "stdout"
        }
      ]
    },
    {
      "cell_type": "code",
      "metadata": {
        "colab": {
          "base_uri": "https://localhost:8080/"
        },
        "id": "wmnn0mHftfts",
        "outputId": "028f82fa-854c-4a78-a398-6940871fb5fc"
      },
      "source": [
        "# make sure to install these packages before running:\n",
        "#!pip install pandas\n",
        "!pip install sodapy\n",
        "##\n",
        "##\n",
        "import pandas as pd\n",
        "from sodapy import Socrata\n",
        " \n",
        "# Unauthenticated client only works with public data sets. Note 'None'\n",
        "# in place of application token, and no username or password:\n",
        "client = Socrata(\"www.datos.gov.co\", None)\n",
        " \n",
        "# Example authenticated client (needed for non-public datasets):\n",
        "# client = Socrata(www.datos.gov.co,\n",
        "#                  MyAppToken,\n",
        "#                  userame=\"user@example.com\",\n",
        "#                  password=\"AFakePassword\")\n",
        " \n",
        "# First 2000 results, returned as JSON from API / converted to Python list of\n",
        "# dictionaries by sodapy.\n",
        "results = client.get(\"gt2j-8ykr\",limit=2217001) \n",
        " \n",
        "# Convert to pandas DataFrame\n",
        "results_df = pd.DataFrame.from_records(results)\n",
        "\n",
        "################################################################################\n",
        "\n",
        "url = \"https://opendata.arcgis.com/datasets/782122624f364fbdbd7e287b96c4a358_6.geojson\"\n",
        "df = geopandas.read_file(url)"
      ],
      "execution_count": null,
      "outputs": [
        {
          "output_type": "stream",
          "text": [
            "Collecting sodapy\n",
            "  Downloading https://files.pythonhosted.org/packages/9e/74/95fb7d45bbe7f1de43caac45d7dd4807ef1e15881564a00eef489a3bb5c6/sodapy-2.1.0-py2.py3-none-any.whl\n",
            "Requirement already satisfied: requests>=2.20.0 in /usr/local/lib/python3.7/dist-packages (from sodapy) (2.23.0)\n",
            "Requirement already satisfied: idna<3,>=2.5 in /usr/local/lib/python3.7/dist-packages (from requests>=2.20.0->sodapy) (2.10)\n",
            "Requirement already satisfied: chardet<4,>=3.0.2 in /usr/local/lib/python3.7/dist-packages (from requests>=2.20.0->sodapy) (3.0.4)\n",
            "Requirement already satisfied: certifi>=2017.4.17 in /usr/local/lib/python3.7/dist-packages (from requests>=2.20.0->sodapy) (2020.12.5)\n",
            "Requirement already satisfied: urllib3!=1.25.0,!=1.25.1,<1.26,>=1.21.1 in /usr/local/lib/python3.7/dist-packages (from requests>=2.20.0->sodapy) (1.24.3)\n",
            "Installing collected packages: sodapy\n",
            "Successfully installed sodapy-2.1.0\n"
          ],
          "name": "stdout"
        },
        {
          "output_type": "stream",
          "text": [
            "WARNING:root:Requests made without an app_token will be subject to strict throttling limits.\n"
          ],
          "name": "stderr"
        }
      ]
    },
    {
      "cell_type": "code",
      "metadata": {
        "colab": {
          "base_uri": "https://localhost:8080/"
        },
        "id": "1hTsx3W5m5KC",
        "outputId": "993a721c-c877-44f8-a837-43390940366c"
      },
      "source": [
        "results_df[\"estado\"].unique()"
      ],
      "execution_count": null,
      "outputs": [
        {
          "output_type": "execute_result",
          "data": {
            "text/plain": [
              "array(['Leve', 'Fallecido', 'N/A', 'leve', 'Moderado', 'Grave',\n",
              "       'moderado', 'LEVE'], dtype=object)"
            ]
          },
          "metadata": {
            "tags": []
          },
          "execution_count": 3
        }
      ]
    },
    {
      "cell_type": "code",
      "metadata": {
        "id": "cX7ITxSHHZUF"
      },
      "source": [
        "diagnosticados=results_df[pd.notnull(results_df[\"fecha_de_notificaci_n\"])][\"fecha_de_notificaci_n\"]\n",
        "diagnosticados_date_fmat=[datetime.datetime.strptime(str(x),\"%d/%m/%Y %H:%M:%S\") for x in diagnosticados]#Creando una nueva columna formato datetime\n",
        "diagnosticados_sint= results_df[pd.notnull(results_df[\"fecha_de_notificaci_n\"])][\"fecha_inicio_sintomas\"]\n",
        "\n",
        "\n",
        "\n",
        "df_diagnosticados_date_fmat=pd.DataFrame({'diagnosticadosN': diagnosticados})\n",
        "df_diagnosticados_date_fmat['diagnosticadosS']=diagnosticados_sint\n",
        "\n",
        "df_diagnosticados_date_fmat['diagnosticadosS'].fillna(df_diagnosticados_date_fmat['diagnosticadosN'], inplace=True)\n",
        "\n",
        "diagnosticados_sint_date_fmat=[datetime.datetime.strptime(str(x),\"%d/%m/%Y %H:%M:%S\") for x in df_diagnosticados_date_fmat['diagnosticadosS']]#Creando una nueva columna formato datetime\n",
        "\n",
        "\n",
        "diagnostico=[]\n",
        "for i,d in enumerate(diagnosticados_date_fmat):\n",
        "  if d<diagnosticados_sint_date_fmat[i]:\n",
        "    diagnostico.append(d)\n",
        "  else:\n",
        "    diagnostico.append(diagnosticados_sint_date_fmat[i])\n",
        "\n",
        "\n",
        "\n",
        "df_diagnosticados_date_fmat=pd.DataFrame({'diagnosticados': diagnostico})"
      ],
      "execution_count": null,
      "outputs": []
    },
    {
      "cell_type": "code",
      "metadata": {
        "id": "W8XwATNMDzrm"
      },
      "source": [
        "diagnosticados1=results_df[pd.notnull(results_df[\"fecha_de_notificaci_n\"])][\"fecha_de_notificaci_n\"]\n",
        "diagnosticados_date_fmat1=[datetime.datetime.strptime(str(x),\"%d/%m/%Y %H:%M:%S\") for x in diagnosticados1]#Creando una nueva columna formato datetime\n",
        "diagnosticados_sint1= results_df[pd.notnull(results_df[\"fecha_de_notificaci_n\"])][\"fecha_inicio_sintomas\"]\n",
        "\n",
        "\n",
        "\n",
        "df_diagnosticados_date_fmat1=pd.DataFrame({'diagnosticadosN': diagnosticados})\n",
        "df_diagnosticados_date_fmat1['diagnosticadosS']=diagnosticados_sint1\n",
        "\n",
        "df_diagnosticados_date_fmat1['diagnosticadosS'].fillna(df_diagnosticados_date_fmat1['diagnosticadosN'], inplace=True)\n",
        "\n",
        "diagnosticados_sint_date_fmat1=[datetime.datetime.strptime(str(x),\"%d/%m/%Y %H:%M:%S\") for x in df_diagnosticados_date_fmat1['diagnosticadosS']]#Creando una nueva columna formato datetime\n",
        "\n",
        "\n",
        "diagnostico=[]\n",
        "for i,d in enumerate(diagnosticados_date_fmat1):\n",
        "\n",
        "  if d<diagnosticados_sint_date_fmat1[i]:\n",
        "    diagnostico.append(d)\n",
        "  else:\n",
        "    diagnostico.append(diagnosticados_sint_date_fmat1[i]-datetime.timedelta(days=8))\n",
        "\n",
        "\n",
        "df_expuestos_date_fmat=pd.DataFrame({'expuestos': diagnostico})\n",
        "\n",
        "asintomaticos_rec=results_df[(pd.isnull(results_df[\"fecha_inicio_sintomas\"])) & (results_df[\"recuperado\"]==\"Recuperado\")][\"fecha_recuperado\"]\n",
        "asintomaticos_rec_date_fmat=[datetime.datetime.strptime(str(x),\"%d/%m/%Y %H:%M:%S\") for x in asintomaticos_rec]#Creando una nueva columna formato datetime\n",
        "df_asintomaticos_rec_date_fmat=pd.DataFrame({'asintomaticos_rec': asintomaticos_rec_date_fmat})\n",
        "\n",
        "\n",
        "asintomaticos_muer=results_df[(pd.isnull(results_df[\"fecha_inicio_sintomas\"])) & ((results_df[\"recuperado\"]=='fallecido') | (results_df[\"recuperado\"]=='Fallecido'))][\"fecha_muerte\"]\n",
        "asintomaticos_muer_date_fmat=[datetime.datetime.strptime(str(x),\"%d/%m/%Y %H:%M:%S\") for x in asintomaticos_muer]#Creando una nueva columna formato datetime\n",
        "df_asintomaticos_muer_date_fmat=pd.DataFrame({'asintomaticos_muer': asintomaticos_muer_date_fmat})"
      ],
      "execution_count": null,
      "outputs": []
    },
    {
      "cell_type": "code",
      "metadata": {
        "id": "C1AP66LtG-qD"
      },
      "source": [
        "muertes=results_df[(pd.notnull(results_df[\"fecha_muerte\"])) & ((results_df[\"recuperado\"]=='fallecido') | (results_df[\"recuperado\"]=='Fallecido'))][\"fecha_muerte\"]\n",
        "muertes_date_fmat=[datetime.datetime.strptime(str(x),\"%d/%m/%Y %H:%M:%S\") for x in muertes]#Creando una nueva columna formato datetime\n",
        "df_muertes_date_fmat=pd.DataFrame({'muertes': muertes_date_fmat})"
      ],
      "execution_count": null,
      "outputs": []
    },
    {
      "cell_type": "code",
      "metadata": {
        "id": "M5fhrl5BbAuh"
      },
      "source": [
        "#recuperados=results_df[(pd.notnull(results_df[\"fecha_recuperado\"]))][\"fecha_recuperado\"]\n",
        "recuperados=results_df[results_df[\"recuperado\"]==\"Recuperado\"][\"fecha_recuperado\"]\n",
        "recuperados_date_fmat=[datetime.datetime.strptime(str(x),\"%d/%m/%Y %H:%M:%S\") for x in recuperados]#Creando una nueva columna formato datetime\n",
        "df_recuperados_date_fmat=pd.DataFrame({'recuperados': recuperados_date_fmat})"
      ],
      "execution_count": null,
      "outputs": []
    },
    {
      "cell_type": "code",
      "metadata": {
        "id": "gzh-z69X2bQb"
      },
      "source": [
        "sintomaticos=results_df[pd.notnull(results_df[\"fecha_inicio_sintomas\"]) ][\"fecha_inicio_sintomas\"]\n",
        "sintomaticos_date_fmat=[datetime.datetime.strptime(str(x),\"%d/%m/%Y %H:%M:%S\") for x in sintomaticos]#Creando una nueva columna formato datetime\n",
        "df_sintomaticos_date_fmat=pd.DataFrame({'sintomaticos': sintomaticos_date_fmat})\n",
        "\n",
        "\n",
        "sintomaticos_rec=results_df[(pd.notnull(results_df[\"fecha_inicio_sintomas\"])) & (results_df[\"recuperado\"]==\"Recuperado\")][\"fecha_recuperado\"]\n",
        "sintomaticos_rec_date_fmat=[datetime.datetime.strptime(str(x),\"%d/%m/%Y %H:%M:%S\") for x in sintomaticos_rec]#Creando una nueva columna formato datetime\n",
        "df_sintomaticos_rec_date_fmat=pd.DataFrame({'sintomaticos_rec': sintomaticos_rec_date_fmat})\n",
        "\n",
        "\n",
        "sintomaticos_muer=results_df[(pd.notnull(results_df[\"fecha_inicio_sintomas\"])) & ((results_df[\"recuperado\"]=='fallecido') | (results_df[\"recuperado\"]=='Fallecido'))][\"fecha_muerte\"]\n",
        "sintomaticos_muer_date_fmat=[datetime.datetime.strptime(str(x),\"%d/%m/%Y %H:%M:%S\") for x in sintomaticos_muer]#Creando una nueva columna formato datetime\n",
        "df_sintomaticos_muer_date_fmat=pd.DataFrame({'sintomaticos_muer': sintomaticos_muer_date_fmat})"
      ],
      "execution_count": null,
      "outputs": []
    },
    {
      "cell_type": "code",
      "metadata": {
        "id": "USIedfEG8pX_"
      },
      "source": [
        "fecha_mayor=str(results_df[\"fecha_de_notificaci_n\"].unique()[-1])\n",
        "fecha_mayor1=datetime.datetime.strptime(str(fecha_mayor),\"%d/%m/%Y %H:%M:%S\")"
      ],
      "execution_count": null,
      "outputs": []
    },
    {
      "cell_type": "code",
      "metadata": {
        "id": "GJyCzO2M11EK"
      },
      "source": [
        "c=str(results_df[\"fecha_reporte_web\"][0])\n",
        "c1=datetime.datetime.strptime(c,\"%d/%m/%Y %H:%M:%S\")-datetime.timedelta(days=8)\n",
        "c2=[c1]\n",
        "i=1\n",
        "while c2[-1] != fecha_mayor1:\n",
        "    c2.append(c2[0]+datetime.timedelta(days=i))\n",
        "    i+=1"
      ],
      "execution_count": null,
      "outputs": []
    },
    {
      "cell_type": "code",
      "metadata": {
        "id": "X7hSHghf9Vel"
      },
      "source": [
        "casos_diarios={}\n",
        "casos_diarios[\"fechas\"]=c2\n",
        "casos_diarios_DF=pd.DataFrame(data=casos_diarios)"
      ],
      "execution_count": null,
      "outputs": []
    },
    {
      "cell_type": "code",
      "metadata": {
        "colab": {
          "base_uri": "https://localhost:8080/",
          "height": 289
        },
        "id": "sjor1NseZbAl",
        "outputId": "94e4dea6-f247-4e82-b0fd-ff69a70b6de8"
      },
      "source": [
        "fecha_Actu=[f.split('+')[0] for f in df[\"FECHA_ACTUALIZACION\"]]\n",
        "FECHA_ACTUALIZACION_DATE_FMAT=[datetime.datetime.strptime(str(x),\"%Y-%m-%dT%H:%M:%S\") for x in fecha_Actu]#Creando una nueva columna formato datetime\n",
        "df.tail()"
      ],
      "execution_count": null,
      "outputs": [
        {
          "output_type": "execute_result",
          "data": {
            "text/html": [
              "<div>\n",
              "<style scoped>\n",
              "    .dataframe tbody tr th:only-of-type {\n",
              "        vertical-align: middle;\n",
              "    }\n",
              "\n",
              "    .dataframe tbody tr th {\n",
              "        vertical-align: top;\n",
              "    }\n",
              "\n",
              "    .dataframe thead th {\n",
              "        text-align: right;\n",
              "    }\n",
              "</style>\n",
              "<table border=\"1\" class=\"dataframe\">\n",
              "  <thead>\n",
              "    <tr style=\"text-align: right;\">\n",
              "      <th></th>\n",
              "      <th>OBJECTID</th>\n",
              "      <th>NUEVOS_CASOS</th>\n",
              "      <th>TOTAL_CASOS</th>\n",
              "      <th>TOTAL_MUERTES</th>\n",
              "      <th>TOTAL_RECUPERADOS</th>\n",
              "      <th>FECHA_ACTUALIZACION</th>\n",
              "      <th>GlobalID</th>\n",
              "      <th>NUEVOS_MUERTOS</th>\n",
              "      <th>NUEVO_RECUPERADOS</th>\n",
              "      <th>geometry</th>\n",
              "    </tr>\n",
              "  </thead>\n",
              "  <tbody>\n",
              "    <tr>\n",
              "      <th>358</th>\n",
              "      <td>910</td>\n",
              "      <td>3343</td>\n",
              "      <td>2248135</td>\n",
              "      <td>59660</td>\n",
              "      <td>2145450</td>\n",
              "      <td>2021-02-27T05:00:00+00:00</td>\n",
              "      <td>b0f3ab3a-b3e4-4e6c-b582-3fa328af7c89</td>\n",
              "      <td>142</td>\n",
              "      <td>3576</td>\n",
              "      <td>None</td>\n",
              "    </tr>\n",
              "    <tr>\n",
              "      <th>359</th>\n",
              "      <td>911</td>\n",
              "      <td>3555</td>\n",
              "      <td>2251690</td>\n",
              "      <td>59766</td>\n",
              "      <td>2148249</td>\n",
              "      <td>2021-02-28T05:00:00+00:00</td>\n",
              "      <td>364b3615-1942-4278-bc7c-4a81ec85c2b7</td>\n",
              "      <td>106</td>\n",
              "      <td>2799</td>\n",
              "      <td>None</td>\n",
              "    </tr>\n",
              "    <tr>\n",
              "      <th>360</th>\n",
              "      <td>912</td>\n",
              "      <td>3570</td>\n",
              "      <td>2255260</td>\n",
              "      <td>59866</td>\n",
              "      <td>2151633</td>\n",
              "      <td>2021-03-01T05:00:00+00:00</td>\n",
              "      <td>31105e39-f019-4577-92c1-0b7ff1032bfb</td>\n",
              "      <td>100</td>\n",
              "      <td>3384</td>\n",
              "      <td>None</td>\n",
              "    </tr>\n",
              "    <tr>\n",
              "      <th>361</th>\n",
              "      <td>913</td>\n",
              "      <td>4339</td>\n",
              "      <td>2259599</td>\n",
              "      <td>59972</td>\n",
              "      <td>2156057</td>\n",
              "      <td>2021-03-02T05:00:00+00:00</td>\n",
              "      <td>4975f47a-b9bf-44a4-8670-a742943811b8</td>\n",
              "      <td>106</td>\n",
              "      <td>4424</td>\n",
              "      <td>None</td>\n",
              "    </tr>\n",
              "    <tr>\n",
              "      <th>362</th>\n",
              "      <td>914</td>\n",
              "      <td>3047</td>\n",
              "      <td>2262646</td>\n",
              "      <td>60082</td>\n",
              "      <td>2160555</td>\n",
              "      <td>2021-03-03T05:00:00+00:00</td>\n",
              "      <td>91e8b974-38dc-4f39-a2dc-4caac97d51ca</td>\n",
              "      <td>110</td>\n",
              "      <td>4498</td>\n",
              "      <td>None</td>\n",
              "    </tr>\n",
              "  </tbody>\n",
              "</table>\n",
              "</div>"
            ],
            "text/plain": [
              "     OBJECTID  NUEVOS_CASOS  ...  NUEVO_RECUPERADOS  geometry\n",
              "358       910          3343  ...               3576      None\n",
              "359       911          3555  ...               2799      None\n",
              "360       912          3570  ...               3384      None\n",
              "361       913          4339  ...               4424      None\n",
              "362       914          3047  ...               4498      None\n",
              "\n",
              "[5 rows x 10 columns]"
            ]
          },
          "metadata": {
            "tags": []
          },
          "execution_count": 12
        }
      ]
    },
    {
      "cell_type": "code",
      "metadata": {
        "id": "H2ix1hswYLmN"
      },
      "source": [
        "casos_diarios_DF[\"casos por dia\"]=list(map(lambda f: sum(df_diagnosticados_date_fmat['diagnosticados']==f), casos_diarios_DF[\"fechas\"]))"
      ],
      "execution_count": null,
      "outputs": []
    },
    {
      "cell_type": "code",
      "metadata": {
        "id": "syLxfkSSHvoK"
      },
      "source": [
        "casos_diarios_DF[\"fallecidos por dia\"]=list(map(lambda f: sum(df_muertes_date_fmat['muertes']==f), casos_diarios_DF[\"fechas\"]))"
      ],
      "execution_count": null,
      "outputs": []
    },
    {
      "cell_type": "code",
      "metadata": {
        "id": "Vgg4rp4ZbMmL"
      },
      "source": [
        "casos_diarios_DF[\"recuperados por dia\"]=list(map(lambda f: sum(df_recuperados_date_fmat['recuperados']==f), casos_diarios_DF[\"fechas\"]))"
      ],
      "execution_count": null,
      "outputs": []
    },
    {
      "cell_type": "code",
      "metadata": {
        "id": "pPXWoPD7NurA"
      },
      "source": [
        "casos_diarios_DF[\"sintomaticos activos\"]=list(map(lambda f: (sum(df_sintomaticos_date_fmat['sintomaticos']==f))-(sum(df_sintomaticos_rec_date_fmat['sintomaticos_rec']==f))-(sum(df_sintomaticos_muer_date_fmat['sintomaticos_muer']==f)), casos_diarios_DF[\"fechas\"]))"
      ],
      "execution_count": null,
      "outputs": []
    },
    {
      "cell_type": "code",
      "metadata": {
        "id": "q0eZ9I6mFF1j"
      },
      "source": [
        "casos_diarios_DF[\"expuestos\"]=list(map(lambda f: sum(df_expuestos_date_fmat['expuestos']==f)-(sum(df_sintomaticos_date_fmat['sintomaticos']==f))-(sum(df_asintomaticos_rec_date_fmat['asintomaticos_rec']==f))-(sum(df_asintomaticos_muer_date_fmat['asintomaticos_muer']==f)), casos_diarios_DF[\"fechas\"]))"
      ],
      "execution_count": null,
      "outputs": []
    },
    {
      "cell_type": "code",
      "metadata": {
        "colab": {
          "base_uri": "https://localhost:8080/",
          "height": 542
        },
        "id": "Jc1IXYTF1AXR",
        "outputId": "6cd27eaa-816c-45ff-8b4a-c4c7a3a19863"
      },
      "source": [
        "fig = go.Figure()\n",
        "\n",
        "fig.add_trace(go.Scatter(\n",
        "    x=casos_diarios_DF[\"fechas\"],\n",
        "    y=casos_diarios_DF[\"casos por dia\"],\n",
        "    name=\"Preprocesamiento propio\"\n",
        "))\n",
        "\n",
        "\n",
        "fig.add_trace(go.Scatter(\n",
        "    x=FECHA_ACTUALIZACION_DATE_FMAT,\n",
        "    y=df[\"NUEVOS_CASOS\"],\n",
        "    name=\"base de datos\"\n",
        "))\n",
        "\n",
        "fig.update_layout(title=\"Casos nuevos por dia\")\n",
        "\n",
        "fig.update_layout(showlegend=True)\n",
        "\n",
        "fig.show()"
      ],
      "execution_count": null,
      "outputs": [
        {
          "output_type": "display_data",
          "data": {
            "text/html": [
              "<html>\n",
              "<head><meta charset=\"utf-8\" /></head>\n",
              "<body>\n",
              "    <div>\n",
              "            <script src=\"https://cdnjs.cloudflare.com/ajax/libs/mathjax/2.7.5/MathJax.js?config=TeX-AMS-MML_SVG\"></script><script type=\"text/javascript\">if (window.MathJax) {MathJax.Hub.Config({SVG: {font: \"STIX-Web\"}});}</script>\n",
              "                <script type=\"text/javascript\">window.PlotlyConfig = {MathJaxConfig: 'local'};</script>\n",
              "        <script src=\"https://cdn.plot.ly/plotly-latest.min.js\"></script>    \n",
              "            <div id=\"f7c4f98a-cc48-4cc4-8e4f-d5f9652129b2\" class=\"plotly-graph-div\" style=\"height:525px; width:100%;\"></div>\n",
              "            <script type=\"text/javascript\">\n",
              "                \n",
              "                    window.PLOTLYENV=window.PLOTLYENV || {};\n",
              "                    \n",
              "                if (document.getElementById(\"f7c4f98a-cc48-4cc4-8e4f-d5f9652129b2\")) {\n",
              "                    Plotly.newPlot(\n",
              "                        'f7c4f98a-cc48-4cc4-8e4f-d5f9652129b2',\n",
              "                        [{\"name\": \"Preprocesamiento propio\", \"type\": \"scatter\", \"x\": [\"2020-02-27T00:00:00\", \"2020-02-28T00:00:00\", \"2020-02-29T00:00:00\", \"2020-03-01T00:00:00\", \"2020-03-02T00:00:00\", \"2020-03-03T00:00:00\", \"2020-03-04T00:00:00\", \"2020-03-05T00:00:00\", \"2020-03-06T00:00:00\", \"2020-03-07T00:00:00\", \"2020-03-08T00:00:00\", \"2020-03-09T00:00:00\", \"2020-03-10T00:00:00\", \"2020-03-11T00:00:00\", \"2020-03-12T00:00:00\", \"2020-03-13T00:00:00\", \"2020-03-14T00:00:00\", \"2020-03-15T00:00:00\", \"2020-03-16T00:00:00\", \"2020-03-17T00:00:00\", \"2020-03-18T00:00:00\", \"2020-03-19T00:00:00\", \"2020-03-20T00:00:00\", \"2020-03-21T00:00:00\", \"2020-03-22T00:00:00\", \"2020-03-23T00:00:00\", \"2020-03-24T00:00:00\", \"2020-03-25T00:00:00\", \"2020-03-26T00:00:00\", \"2020-03-27T00:00:00\", \"2020-03-28T00:00:00\", \"2020-03-29T00:00:00\", \"2020-03-30T00:00:00\", \"2020-03-31T00:00:00\", \"2020-04-01T00:00:00\", \"2020-04-02T00:00:00\", \"2020-04-03T00:00:00\", \"2020-04-04T00:00:00\", \"2020-04-05T00:00:00\", \"2020-04-06T00:00:00\", \"2020-04-07T00:00:00\", \"2020-04-08T00:00:00\", \"2020-04-09T00:00:00\", \"2020-04-10T00:00:00\", \"2020-04-11T00:00:00\", \"2020-04-12T00:00:00\", \"2020-04-13T00:00:00\", \"2020-04-14T00:00:00\", \"2020-04-15T00:00:00\", \"2020-04-16T00:00:00\", \"2020-04-17T00:00:00\", \"2020-04-18T00:00:00\", \"2020-04-19T00:00:00\", \"2020-04-20T00:00:00\", \"2020-04-21T00:00:00\", \"2020-04-22T00:00:00\", \"2020-04-23T00:00:00\", \"2020-04-24T00:00:00\", \"2020-04-25T00:00:00\", \"2020-04-26T00:00:00\", \"2020-04-27T00:00:00\", \"2020-04-28T00:00:00\", \"2020-04-29T00:00:00\", \"2020-04-30T00:00:00\", \"2020-05-01T00:00:00\", \"2020-05-02T00:00:00\", \"2020-05-03T00:00:00\", \"2020-05-04T00:00:00\", \"2020-05-05T00:00:00\", \"2020-05-06T00:00:00\", \"2020-05-07T00:00:00\", \"2020-05-08T00:00:00\", \"2020-05-09T00:00:00\", \"2020-05-10T00:00:00\", \"2020-05-11T00:00:00\", \"2020-05-12T00:00:00\", \"2020-05-13T00:00:00\", \"2020-05-14T00:00:00\", \"2020-05-15T00:00:00\", \"2020-05-16T00:00:00\", \"2020-05-17T00:00:00\", \"2020-05-18T00:00:00\", \"2020-05-19T00:00:00\", \"2020-05-20T00:00:00\", \"2020-05-21T00:00:00\", \"2020-05-22T00:00:00\", \"2020-05-23T00:00:00\", \"2020-05-24T00:00:00\", \"2020-05-25T00:00:00\", \"2020-05-26T00:00:00\", \"2020-05-27T00:00:00\", \"2020-05-28T00:00:00\", \"2020-05-29T00:00:00\", \"2020-05-30T00:00:00\", \"2020-05-31T00:00:00\", \"2020-06-01T00:00:00\", \"2020-06-02T00:00:00\", \"2020-06-03T00:00:00\", \"2020-06-04T00:00:00\", \"2020-06-05T00:00:00\", \"2020-06-06T00:00:00\", \"2020-06-07T00:00:00\", \"2020-06-08T00:00:00\", \"2020-06-09T00:00:00\", \"2020-06-10T00:00:00\", \"2020-06-11T00:00:00\", \"2020-06-12T00:00:00\", \"2020-06-13T00:00:00\", \"2020-06-14T00:00:00\", \"2020-06-15T00:00:00\", \"2020-06-16T00:00:00\", \"2020-06-17T00:00:00\", \"2020-06-18T00:00:00\", \"2020-06-19T00:00:00\", \"2020-06-20T00:00:00\", \"2020-06-21T00:00:00\", \"2020-06-22T00:00:00\", \"2020-06-23T00:00:00\", \"2020-06-24T00:00:00\", \"2020-06-25T00:00:00\", \"2020-06-26T00:00:00\", \"2020-06-27T00:00:00\", \"2020-06-28T00:00:00\", \"2020-06-29T00:00:00\", \"2020-06-30T00:00:00\", \"2020-07-01T00:00:00\", \"2020-07-02T00:00:00\", \"2020-07-03T00:00:00\", \"2020-07-04T00:00:00\", \"2020-07-05T00:00:00\", \"2020-07-06T00:00:00\", \"2020-07-07T00:00:00\", \"2020-07-08T00:00:00\", \"2020-07-09T00:00:00\", \"2020-07-10T00:00:00\", \"2020-07-11T00:00:00\", \"2020-07-12T00:00:00\", \"2020-07-13T00:00:00\", \"2020-07-14T00:00:00\", \"2020-07-15T00:00:00\", \"2020-07-16T00:00:00\", \"2020-07-17T00:00:00\", \"2020-07-18T00:00:00\", \"2020-07-19T00:00:00\", \"2020-07-20T00:00:00\", \"2020-07-21T00:00:00\", \"2020-07-22T00:00:00\", \"2020-07-23T00:00:00\", \"2020-07-24T00:00:00\", \"2020-07-25T00:00:00\", \"2020-07-26T00:00:00\", \"2020-07-27T00:00:00\", \"2020-07-28T00:00:00\", \"2020-07-29T00:00:00\", \"2020-07-30T00:00:00\", \"2020-07-31T00:00:00\", \"2020-08-01T00:00:00\", \"2020-08-02T00:00:00\", \"2020-08-03T00:00:00\", \"2020-08-04T00:00:00\", \"2020-08-05T00:00:00\", \"2020-08-06T00:00:00\", \"2020-08-07T00:00:00\", \"2020-08-08T00:00:00\", \"2020-08-09T00:00:00\", \"2020-08-10T00:00:00\", \"2020-08-11T00:00:00\", \"2020-08-12T00:00:00\", \"2020-08-13T00:00:00\", \"2020-08-14T00:00:00\", \"2020-08-15T00:00:00\", \"2020-08-16T00:00:00\", \"2020-08-17T00:00:00\", \"2020-08-18T00:00:00\", \"2020-08-19T00:00:00\", \"2020-08-20T00:00:00\", \"2020-08-21T00:00:00\", \"2020-08-22T00:00:00\", \"2020-08-23T00:00:00\", \"2020-08-24T00:00:00\", \"2020-08-25T00:00:00\", \"2020-08-26T00:00:00\", \"2020-08-27T00:00:00\", \"2020-08-28T00:00:00\", \"2020-08-29T00:00:00\", \"2020-08-30T00:00:00\", \"2020-08-31T00:00:00\", \"2020-09-01T00:00:00\", \"2020-09-02T00:00:00\", \"2020-09-03T00:00:00\", \"2020-09-04T00:00:00\", \"2020-09-05T00:00:00\", \"2020-09-06T00:00:00\", \"2020-09-07T00:00:00\", \"2020-09-08T00:00:00\", \"2020-09-09T00:00:00\", \"2020-09-10T00:00:00\", \"2020-09-11T00:00:00\", \"2020-09-12T00:00:00\", \"2020-09-13T00:00:00\", \"2020-09-14T00:00:00\", \"2020-09-15T00:00:00\", \"2020-09-16T00:00:00\", \"2020-09-17T00:00:00\", \"2020-09-18T00:00:00\", \"2020-09-19T00:00:00\", \"2020-09-20T00:00:00\", \"2020-09-21T00:00:00\", \"2020-09-22T00:00:00\", \"2020-09-23T00:00:00\", \"2020-09-24T00:00:00\", \"2020-09-25T00:00:00\", \"2020-09-26T00:00:00\", \"2020-09-27T00:00:00\", \"2020-09-28T00:00:00\", \"2020-09-29T00:00:00\", \"2020-09-30T00:00:00\", \"2020-10-01T00:00:00\", \"2020-10-02T00:00:00\", \"2020-10-03T00:00:00\", \"2020-10-04T00:00:00\", \"2020-10-05T00:00:00\", \"2020-10-06T00:00:00\", \"2020-10-07T00:00:00\", \"2020-10-08T00:00:00\", \"2020-10-09T00:00:00\", \"2020-10-10T00:00:00\", \"2020-10-11T00:00:00\", \"2020-10-12T00:00:00\", \"2020-10-13T00:00:00\", \"2020-10-14T00:00:00\", \"2020-10-15T00:00:00\", \"2020-10-16T00:00:00\", \"2020-10-17T00:00:00\", \"2020-10-18T00:00:00\", \"2020-10-19T00:00:00\", \"2020-10-20T00:00:00\", \"2020-10-21T00:00:00\", \"2020-10-22T00:00:00\", \"2020-10-23T00:00:00\", \"2020-10-24T00:00:00\", \"2020-10-25T00:00:00\", \"2020-10-26T00:00:00\", \"2020-10-27T00:00:00\", \"2020-10-28T00:00:00\", \"2020-10-29T00:00:00\", \"2020-10-30T00:00:00\", \"2020-10-31T00:00:00\", \"2020-11-01T00:00:00\", \"2020-11-02T00:00:00\", \"2020-11-03T00:00:00\", \"2020-11-04T00:00:00\", \"2020-11-05T00:00:00\", \"2020-11-06T00:00:00\", \"2020-11-07T00:00:00\", \"2020-11-08T00:00:00\", \"2020-11-09T00:00:00\", \"2020-11-10T00:00:00\", \"2020-11-11T00:00:00\", \"2020-11-12T00:00:00\", \"2020-11-13T00:00:00\", \"2020-11-14T00:00:00\", \"2020-11-15T00:00:00\", \"2020-11-16T00:00:00\", \"2020-11-17T00:00:00\", \"2020-11-18T00:00:00\", \"2020-11-19T00:00:00\", \"2020-11-20T00:00:00\", \"2020-11-21T00:00:00\", \"2020-11-22T00:00:00\", \"2020-11-23T00:00:00\", \"2020-11-24T00:00:00\", \"2020-11-25T00:00:00\", \"2020-11-26T00:00:00\", \"2020-11-27T00:00:00\", \"2020-11-28T00:00:00\", \"2020-11-29T00:00:00\", \"2020-11-30T00:00:00\", \"2020-12-01T00:00:00\", \"2020-12-02T00:00:00\", \"2020-12-03T00:00:00\", \"2020-12-04T00:00:00\", \"2020-12-05T00:00:00\", \"2020-12-06T00:00:00\", \"2020-12-07T00:00:00\", \"2020-12-08T00:00:00\", \"2020-12-09T00:00:00\", \"2020-12-10T00:00:00\", \"2020-12-11T00:00:00\", \"2020-12-12T00:00:00\", \"2020-12-13T00:00:00\", \"2020-12-14T00:00:00\", \"2020-12-15T00:00:00\", \"2020-12-16T00:00:00\", \"2020-12-17T00:00:00\", \"2020-12-18T00:00:00\", \"2020-12-19T00:00:00\", \"2020-12-20T00:00:00\", \"2020-12-21T00:00:00\", \"2020-12-22T00:00:00\", \"2020-12-23T00:00:00\", \"2020-12-24T00:00:00\", \"2020-12-25T00:00:00\", \"2020-12-26T00:00:00\", \"2020-12-27T00:00:00\", \"2020-12-28T00:00:00\", \"2020-12-29T00:00:00\", \"2020-12-30T00:00:00\", \"2020-12-31T00:00:00\", \"2021-01-01T00:00:00\", \"2021-01-02T00:00:00\", \"2021-01-03T00:00:00\", \"2021-01-04T00:00:00\", \"2021-01-05T00:00:00\", \"2021-01-06T00:00:00\", \"2021-01-07T00:00:00\", \"2021-01-08T00:00:00\", \"2021-01-09T00:00:00\", \"2021-01-10T00:00:00\", \"2021-01-11T00:00:00\", \"2021-01-12T00:00:00\", \"2021-01-13T00:00:00\", \"2021-01-14T00:00:00\", \"2021-01-15T00:00:00\", \"2021-01-16T00:00:00\", \"2021-01-17T00:00:00\", \"2021-01-18T00:00:00\", \"2021-01-19T00:00:00\", \"2021-01-20T00:00:00\", \"2021-01-21T00:00:00\", \"2021-01-22T00:00:00\", \"2021-01-23T00:00:00\", \"2021-01-24T00:00:00\", \"2021-01-25T00:00:00\", \"2021-01-26T00:00:00\", \"2021-01-27T00:00:00\", \"2021-01-28T00:00:00\", \"2021-01-29T00:00:00\", \"2021-01-30T00:00:00\", \"2021-01-31T00:00:00\", \"2021-02-01T00:00:00\", \"2021-02-02T00:00:00\", \"2021-02-03T00:00:00\", \"2021-02-04T00:00:00\", \"2021-02-05T00:00:00\", \"2021-02-06T00:00:00\", \"2021-02-07T00:00:00\", \"2021-02-08T00:00:00\", \"2021-02-09T00:00:00\", \"2021-02-10T00:00:00\", \"2021-02-11T00:00:00\", \"2021-02-12T00:00:00\", \"2021-02-13T00:00:00\", \"2021-02-14T00:00:00\", \"2021-02-15T00:00:00\", \"2021-02-16T00:00:00\", \"2021-02-17T00:00:00\", \"2021-02-18T00:00:00\", \"2021-02-19T00:00:00\"], \"y\": [1, 1, 2, 5, 4, 2, 3, 8, 15, 14, 11, 22, 37, 33, 49, 65, 98, 134, 137, 127, 139, 162, 198, 160, 152, 147, 138, 165, 154, 149, 163, 113, 143, 107, 199, 146, 136, 166, 140, 180, 135, 156, 150, 222, 190, 204, 214, 202, 213, 241, 193, 272, 236, 376, 242, 257, 314, 330, 368, 405, 414, 596, 381, 521, 817, 620, 616, 682, 1007, 821, 764, 887, 870, 1062, 830, 942, 1016, 1001, 1179, 1096, 1165, 1336, 1277, 1632, 1375, 1505, 1460, 1241, 1574, 1417, 1496, 1658, 1636, 1625, 1437, 2640, 1981, 2059, 1910, 2560, 2441, 1942, 2897, 2669, 3499, 2867, 3353, 2782, 2506, 3185, 4075, 3971, 4201, 4434, 5068, 3516, 3936, 5291, 4958, 5664, 5815, 5400, 4978, 4700, 6691, 8622, 6950, 7213, 6943, 6378, 8133, 7518, 7823, 8164, 10014, 7576, 7272, 9525, 9429, 9429, 9749, 9302, 8329, 7318, 8690, 9084, 9532, 10132, 13459, 10911, 8285, 12212, 10543, 10785, 9250, 10148, 11303, 8341, 10427, 9622, 9207, 9718, 7366, 8562, 7428, 11055, 8865, 9679, 8996, 9179, 8170, 7333, 7536, 9348, 9285, 10340, 8876, 6958, 5992, 7538, 8063, 10472, 8078, 7499, 6592, 6109, 8617, 8753, 7103, 6871, 7404, 6617, 5893, 8148, 7672, 7395, 7621, 6676, 5721, 4737, 7236, 6823, 6323, 6528, 7076, 5700, 5699, 6210, 6619, 7412, 8073, 9104, 5701, 5367, 9245, 8632, 9056, 10235, 8015, 6938, 5305, 8360, 7647, 6981, 7754, 7213, 7469, 6538, 6823, 9020, 8292, 11357, 10350, 8363, 7652, 10840, 11061, 10089, 10443, 8213, 7256, 6628, 9735, 9126, 8855, 8421, 7828, 6751, 6295, 6285, 7708, 8023, 9269, 8629, 6642, 5738, 8100, 8324, 7620, 8041, 8218, 6417, 5694, 7047, 7947, 7732, 8720, 8772, 7121, 6410, 9303, 8536, 8778, 9428, 8394, 8289, 6985, 10400, 10066, 10021, 10210, 10993, 9568, 8979, 13306, 9491, 12438, 13841, 11472, 10952, 9150, 14358, 14878, 15313, 12397, 13119, 12745, 12536, 15206, 14968, 15534, 15634, 11840, 13062, 10054, 14003, 14539, 17074, 17016, 15925, 16044, 16493, 21740, 19694, 18059, 16756, 19229, 18010, 15310, 12763, 16639, 13138, 13237, 12224, 9958, 7918, 11715, 10905, 10937, 8237, 8786, 6973, 6037, 8024, 7307, 6797, 6440, 5805, 4702, 3876, 5413, 4594, 3731, 3588, 3417, 2947, 2250, 2982, 2521, 2322, 2300, 2159, 1499, 615, 1190, 910, 301, 21, 0]}, {\"name\": \"base de datos\", \"type\": \"scatter\", \"x\": [\"2020-03-06T05:00:00\", \"2020-03-07T05:00:00\", \"2020-03-08T05:00:00\", \"2020-03-09T05:00:00\", \"2020-03-10T05:00:00\", \"2020-03-11T05:00:00\", \"2020-03-12T05:00:00\", \"2020-03-13T05:00:00\", \"2020-03-14T05:00:00\", \"2020-03-15T05:00:00\", \"2020-03-16T05:00:00\", \"2020-03-17T05:00:00\", \"2020-03-18T05:00:00\", \"2020-03-19T05:00:00\", \"2020-03-20T05:00:00\", \"2020-03-21T05:00:00\", \"2020-03-22T05:00:00\", \"2020-03-23T05:00:00\", \"2020-03-24T05:00:00\", \"2020-03-25T05:00:00\", \"2020-03-26T05:00:00\", \"2020-03-27T05:00:00\", \"2020-03-28T05:00:00\", \"2020-03-29T05:00:00\", \"2020-03-30T05:00:00\", \"2020-03-31T05:00:00\", \"2020-04-01T05:00:00\", \"2020-04-02T05:00:00\", \"2020-04-03T05:00:00\", \"2020-04-04T05:00:00\", \"2020-04-05T05:00:00\", \"2020-04-06T05:00:00\", \"2020-04-07T05:00:00\", \"2020-04-08T08:38:00\", \"2020-04-09T08:39:00\", \"2020-04-10T05:00:00\", \"2020-04-11T05:00:00\", \"2020-04-12T05:00:00\", \"2020-04-13T05:00:00\", \"2020-04-14T05:00:00\", \"2020-04-15T05:00:00\", \"2020-04-16T05:00:00\", \"2020-04-17T05:00:00\", \"2020-04-18T05:00:00\", \"2020-04-19T05:00:00\", \"2020-04-20T05:00:00\", \"2020-04-21T05:00:00\", \"2020-04-22T05:00:00\", \"2020-04-23T05:00:00\", \"2020-04-24T05:00:00\", \"2020-04-25T05:00:00\", \"2020-04-26T05:00:00\", \"2020-04-27T05:00:00\", \"2020-04-28T05:00:00\", \"2020-04-29T05:00:00\", \"2020-04-30T05:00:00\", \"2020-05-01T05:00:00\", \"2020-05-02T05:00:00\", \"2020-05-03T05:00:00\", \"2020-05-04T05:00:00\", \"2020-05-05T05:00:00\", \"2020-05-06T05:00:00\", \"2020-05-07T05:00:00\", \"2020-05-08T05:00:00\", \"2020-05-09T05:00:00\", \"2020-05-10T05:00:00\", \"2020-05-11T05:00:00\", \"2020-05-12T05:00:00\", \"2020-05-13T05:00:00\", \"2020-05-14T05:00:00\", \"2020-05-15T05:00:00\", \"2020-05-16T05:00:00\", \"2020-05-17T05:00:00\", \"2020-05-18T05:00:00\", \"2020-05-19T05:00:00\", \"2020-05-20T05:00:00\", \"2020-05-21T05:00:00\", \"2020-05-22T05:00:00\", \"2020-05-23T05:00:00\", \"2020-05-24T05:00:00\", \"2020-05-25T05:00:00\", \"2020-05-26T05:00:00\", \"2020-05-27T05:00:00\", \"2020-05-28T05:00:00\", \"2020-05-29T05:00:00\", \"2020-05-30T05:00:00\", \"2020-05-31T05:00:00\", \"2020-06-01T05:00:00\", \"2020-06-02T05:00:00\", \"2020-06-03T05:00:00\", \"2020-06-04T05:00:00\", \"2020-06-05T05:00:00\", \"2020-06-06T05:00:00\", \"2020-06-07T05:00:00\", \"2020-06-08T05:00:00\", \"2020-06-09T05:00:00\", \"2020-06-10T05:00:00\", \"2020-06-11T05:00:00\", \"2020-06-12T05:00:00\", \"2020-06-13T05:00:00\", \"2020-06-14T05:00:00\", \"2020-06-15T05:00:00\", \"2020-06-16T05:00:00\", \"2020-06-17T05:00:00\", \"2020-06-18T05:00:00\", \"2020-06-19T05:00:00\", \"2020-06-20T05:00:00\", \"2020-06-21T05:00:00\", \"2020-06-22T05:00:00\", \"2020-06-23T05:00:00\", \"2020-06-24T05:00:00\", \"2020-06-25T05:00:00\", \"2020-06-26T05:00:00\", \"2020-06-27T05:00:00\", \"2020-06-28T05:00:00\", \"2020-06-29T05:00:00\", \"2020-06-30T05:00:00\", \"2020-07-01T05:00:00\", \"2020-07-02T05:00:00\", \"2020-07-03T05:00:00\", \"2020-07-04T05:00:00\", \"2020-07-05T05:00:00\", \"2020-07-06T05:00:00\", \"2020-07-07T05:00:00\", \"2020-07-08T05:00:00\", \"2020-07-09T05:00:00\", \"2020-07-10T05:00:00\", \"2020-07-11T05:00:00\", \"2020-07-12T05:00:00\", \"2020-07-13T05:00:00\", \"2020-07-14T05:00:00\", \"2020-07-15T05:00:00\", \"2020-07-16T05:00:00\", \"2020-07-17T05:00:00\", \"2020-07-18T05:00:00\", \"2020-07-19T05:00:00\", \"2020-07-20T05:00:00\", \"2020-07-21T05:00:00\", \"2020-07-22T05:00:00\", \"2020-07-23T05:00:00\", \"2020-07-24T05:00:00\", \"2020-07-25T05:00:00\", \"2020-07-26T05:00:00\", \"2020-07-27T05:00:00\", \"2020-07-28T05:00:00\", \"2020-07-29T05:00:00\", \"2020-07-30T05:00:00\", \"2020-07-31T05:00:00\", \"2020-08-01T05:00:00\", \"2020-08-02T05:00:00\", \"2020-08-03T05:00:00\", \"2020-08-04T05:00:00\", \"2020-08-05T05:00:00\", \"2020-08-06T05:00:00\", \"2020-08-07T05:00:00\", \"2020-08-08T05:00:00\", \"2020-08-09T05:00:00\", \"2020-08-10T05:00:00\", \"2020-08-11T05:00:00\", \"2020-08-12T05:00:00\", \"2020-08-13T05:00:00\", \"2020-08-14T05:00:00\", \"2020-08-15T05:00:00\", \"2020-08-16T05:00:00\", \"2020-08-17T05:00:00\", \"2020-08-18T05:00:00\", \"2020-08-19T05:00:00\", \"2020-08-20T05:00:00\", \"2020-08-21T05:00:00\", \"2020-08-22T05:00:00\", \"2020-08-23T05:00:00\", \"2020-08-24T05:00:00\", \"2020-08-25T05:00:00\", \"2020-08-26T05:00:00\", \"2020-08-27T05:00:00\", \"2020-08-28T05:00:00\", \"2020-08-29T05:00:00\", \"2020-08-30T05:00:00\", \"2020-08-31T05:00:00\", \"2020-09-01T05:00:00\", \"2020-09-02T05:00:00\", \"2020-09-03T05:00:00\", \"2020-09-04T05:00:00\", \"2020-09-05T05:00:00\", \"2020-09-06T05:00:00\", \"2020-09-07T05:00:00\", \"2020-09-08T05:00:00\", \"2020-09-09T05:00:00\", \"2020-09-10T05:00:00\", \"2020-09-11T05:00:00\", \"2020-09-12T05:00:00\", \"2020-09-13T05:00:00\", \"2020-09-14T05:00:00\", \"2020-09-15T05:00:00\", \"2020-09-16T05:00:00\", \"2020-09-17T05:00:00\", \"2020-09-18T05:00:00\", \"2020-09-19T05:00:00\", \"2020-09-20T05:00:00\", \"2020-09-21T05:00:00\", \"2020-09-22T05:00:00\", \"2020-09-23T05:00:00\", \"2020-09-24T05:00:00\", \"2020-09-25T05:00:00\", \"2020-09-26T05:00:00\", \"2020-09-27T05:00:00\", \"2020-09-28T05:00:00\", \"2020-09-29T05:00:00\", \"2020-09-30T05:00:00\", \"2020-10-01T05:00:00\", \"2020-10-02T05:00:00\", \"2020-10-03T05:00:00\", \"2020-10-04T05:00:00\", \"2020-10-05T05:00:00\", \"2020-10-06T05:00:00\", \"2020-10-07T05:00:00\", \"2020-10-08T05:00:00\", \"2020-10-09T05:00:00\", \"2020-10-10T05:00:00\", \"2020-10-11T05:00:00\", \"2020-10-12T05:00:00\", \"2020-10-13T05:00:00\", \"2020-10-14T05:00:00\", \"2020-10-15T05:00:00\", \"2020-10-16T05:00:00\", \"2020-10-17T05:00:00\", \"2020-10-18T05:00:00\", \"2020-10-19T05:00:00\", \"2020-10-20T05:00:00\", \"2020-10-21T05:00:00\", \"2020-10-22T05:00:00\", \"2020-10-23T05:00:00\", \"2020-10-24T05:00:00\", \"2020-10-25T05:00:00\", \"2020-10-26T05:00:00\", \"2020-10-27T05:00:00\", \"2020-10-28T05:00:00\", \"2020-10-29T05:00:00\", \"2020-10-30T05:00:00\", \"2020-10-31T05:00:00\", \"2020-11-01T05:00:00\", \"2020-11-02T05:00:00\", \"2020-11-03T05:00:00\", \"2020-11-04T05:00:00\", \"2020-11-05T05:00:00\", \"2020-11-06T05:00:00\", \"2020-11-07T05:00:00\", \"2020-11-08T05:00:00\", \"2020-11-09T05:00:00\", \"2020-11-10T05:00:00\", \"2020-11-11T05:00:00\", \"2020-11-12T05:00:00\", \"2020-11-13T05:00:00\", \"2020-11-14T05:00:00\", \"2020-11-15T05:00:00\", \"2020-11-16T05:00:00\", \"2020-11-17T05:00:00\", \"2020-11-18T05:00:00\", \"2020-11-19T05:00:00\", \"2020-11-20T05:00:00\", \"2020-11-21T05:00:00\", \"2020-11-22T05:00:00\", \"2020-11-23T05:00:00\", \"2020-11-24T05:00:00\", \"2020-11-25T05:00:00\", \"2020-11-26T05:00:00\", \"2020-11-27T05:00:00\", \"2020-11-28T05:00:00\", \"2020-11-29T05:00:00\", \"2020-11-30T05:00:00\", \"2020-12-01T05:00:00\", \"2020-12-02T05:00:00\", \"2020-12-03T05:00:00\", \"2020-12-04T05:00:00\", \"2020-12-05T05:00:00\", \"2020-12-06T05:00:00\", \"2020-12-07T05:00:00\", \"2020-12-08T05:00:00\", \"2020-12-09T05:00:00\", \"2020-12-10T05:00:00\", \"2020-12-11T05:00:00\", \"2020-12-12T05:00:00\", \"2020-12-13T05:00:00\", \"2020-12-14T05:00:00\", \"2020-12-15T05:00:00\", \"2020-12-16T05:00:00\", \"2020-12-17T05:00:00\", \"2020-12-18T05:00:00\", \"2020-12-19T05:00:00\", \"2020-12-20T05:00:00\", \"2020-12-21T05:00:00\", \"2020-12-22T05:00:00\", \"2020-12-23T05:00:00\", \"2020-12-24T05:00:00\", \"2020-12-25T05:00:00\", \"2020-12-26T05:00:00\", \"2020-12-27T05:00:00\", \"2020-12-28T05:00:00\", \"2020-12-29T05:00:00\", \"2020-12-30T05:00:00\", \"2020-12-31T05:00:00\", \"2021-01-01T05:00:00\", \"2021-01-02T05:00:00\", \"2021-01-03T05:00:00\", \"2021-01-04T05:00:00\", \"2021-01-05T05:00:00\", \"2021-01-06T05:00:00\", \"2021-01-07T05:00:00\", \"2021-01-08T05:00:00\", \"2021-01-09T05:00:00\", \"2021-01-10T05:00:00\", \"2021-01-11T05:00:00\", \"2021-01-12T05:00:00\", \"2021-01-13T05:00:00\", \"2021-01-14T05:00:00\", \"2021-01-15T05:00:00\", \"2021-01-16T05:00:00\", \"2021-01-17T05:00:00\", \"2021-01-18T05:00:00\", \"2021-01-19T05:00:00\", \"2021-01-20T05:00:00\", \"2021-01-21T05:00:00\", \"2021-01-22T05:00:00\", \"2021-01-23T05:00:00\", \"2021-01-24T05:00:00\", \"2021-01-25T05:00:00\", \"2021-01-26T05:00:00\", \"2021-01-27T05:00:00\", \"2021-01-28T05:00:00\", \"2021-01-29T05:00:00\", \"2021-01-30T05:00:00\", \"2021-01-31T05:00:00\", \"2021-02-01T05:00:00\", \"2021-02-02T05:00:00\", \"2021-02-03T05:00:00\", \"2021-02-04T05:00:00\", \"2021-02-05T05:00:00\", \"2021-02-06T05:00:00\", \"2021-02-07T05:00:00\", \"2021-02-08T05:00:00\", \"2021-02-09T05:00:00\", \"2021-02-10T05:00:00\", \"2021-02-11T05:00:00\", \"2021-02-12T05:00:00\", \"2021-02-13T05:00:00\", \"2021-02-14T05:00:00\", \"2021-02-15T05:00:00\", \"2021-02-16T05:00:00\", \"2021-02-17T05:00:00\", \"2021-02-18T05:00:00\", \"2021-02-19T05:00:00\", \"2021-02-20T05:00:00\", \"2021-02-21T05:00:00\", \"2021-02-22T05:00:00\", \"2021-02-23T05:00:00\", \"2021-02-24T05:00:00\", \"2021-02-25T05:00:00\", \"2021-02-26T05:00:00\", \"2021-02-27T05:00:00\", \"2021-02-28T05:00:00\", \"2021-03-01T05:00:00\", \"2021-03-02T05:00:00\", \"2021-03-03T05:00:00\"], \"y\": [1, 0, 0, 2, 0, 6, 4, 3, 8, 21, 12, 18, 27, 26, 47, 35, 30, 66, 113, 62, 10, 48, 69, 94, 96, 108, 159, 96, 106, 106, 79, 94, 201, 274, 169, 250, 236, 67, 76, 127, 126, 128, 206, 182, 171, 185, 172, 207, 205, 320, 261, 237, 218, 352, 262, 296, 499, 279, 383, 305, 640, 346, 497, 595, 444, 568, 550, 659, 658, 680, 606, 723, 635, 721, 640, 752, 643, 801, 1046, 998, 806, 1022, 1101, 1262, 1322, 1548, 1147, 1110, 1340, 1521, 1766, 1515, 1392, 1209, 1483, 1359, 1604, 1530, 1646, 1888, 2193, 2124, 1868, 2115, 3171, 3059, 2357, 3019, 2531, 2389, 3541, 3486, 3843, 4149, 3178, 3274, 2803, 4163, 4101, 3395, 3884, 3721, 3171, 4213, 4144, 5335, 6803, 4586, 5083, 3832, 5621, 5271, 8037, 8934, 8560, 6578, 6727, 7033, 7390, 7945, 7168, 7254, 8181, 8125, 10284, 8670, 9965, 9488, 10673, 11470, 10199, 7129, 10735, 11996, 9486, 9674, 10611, 10142, 12830, 12066, 11286, 11306, 11578, 11643, 8328, 12462, 13056, 11541, 8419, 10965, 8044, 10549, 10432, 10142, 9752, 8498, 9394, 8024, 7230, 8901, 9270, 8235, 8488, 8394, 8065, 5327, 7665, 7338, 7813, 7424, 6826, 7355, 5573, 6698, 7787, 7568, 6526, 7927, 6678, 5359, 7102, 6731, 6555, 7494, 7721, 7018, 5150, 5836, 5637, 5660, 6192, 6616, 6905, 7106, 7650, 7875, 8496, 8121, 8447, 8569, 7767, 5013, 6063, 6823, 8372, 7017, 7201, 6311, 8256, 7561, 8570, 8672, 8769, 8174, 9167, 8166, 8717, 11187, 10029, 11033, 9137, 9935, 6136, 8692, 9893, 9756, 8714, 7440, 5176, 7612, 8651, 8686, 8685, 8307, 7742, 6471, 5911, 6875, 7487, 7954, 7049, 7924, 6562, 7515, 8497, 9496, 10023, 9103, 8763, 8430, 7986, 9297, 9233, 9285, 9642, 8854, 5997, 7510, 7523, 7778, 8998, 8163, 8702, 8742, 10130, 11953, 12196, 13277, 13990, 11160, 10845, 12526, 14233, 14940, 14941, 10196, 9594, 9310, 11015, 11639, 16314, 12105, 11528, 9412, 10311, 16835, 16805, 17576, 18221, 15795, 15537, 15003, 14179, 15898, 17121, 21078, 20855, 17379, 14719, 15939, 17908, 15366, 15073, 15551, 12516, 12261, 13606, 13953, 12270, 10058, 9173, 8078, 9622, 10091, 11025, 9790, 7248, 8547, 6009, 4246, 5442, 6443, 6294, 5528, 4947, 4923, 3510, 4049, 5103, 4824, 4476, 5017, 4244, 3401, 3926, 3953, 3683, 3567, 3343, 3555, 3570, 4339, 3047]}],\n",
              "                        {\"showlegend\": true, \"template\": {\"data\": {\"bar\": [{\"error_x\": {\"color\": \"#2a3f5f\"}, \"error_y\": {\"color\": \"#2a3f5f\"}, \"marker\": {\"line\": {\"color\": \"#E5ECF6\", \"width\": 0.5}}, \"type\": \"bar\"}], \"barpolar\": [{\"marker\": {\"line\": {\"color\": \"#E5ECF6\", \"width\": 0.5}}, \"type\": \"barpolar\"}], \"carpet\": [{\"aaxis\": {\"endlinecolor\": \"#2a3f5f\", \"gridcolor\": \"white\", \"linecolor\": \"white\", \"minorgridcolor\": \"white\", \"startlinecolor\": \"#2a3f5f\"}, \"baxis\": {\"endlinecolor\": \"#2a3f5f\", \"gridcolor\": \"white\", \"linecolor\": \"white\", \"minorgridcolor\": \"white\", \"startlinecolor\": \"#2a3f5f\"}, \"type\": \"carpet\"}], \"choropleth\": [{\"colorbar\": {\"outlinewidth\": 0, \"ticks\": \"\"}, \"type\": \"choropleth\"}], \"contour\": [{\"colorbar\": {\"outlinewidth\": 0, \"ticks\": \"\"}, \"colorscale\": [[0.0, \"#0d0887\"], [0.1111111111111111, \"#46039f\"], [0.2222222222222222, \"#7201a8\"], [0.3333333333333333, \"#9c179e\"], [0.4444444444444444, \"#bd3786\"], [0.5555555555555556, \"#d8576b\"], [0.6666666666666666, \"#ed7953\"], [0.7777777777777778, \"#fb9f3a\"], [0.8888888888888888, \"#fdca26\"], [1.0, \"#f0f921\"]], \"type\": \"contour\"}], \"contourcarpet\": [{\"colorbar\": {\"outlinewidth\": 0, \"ticks\": \"\"}, \"type\": \"contourcarpet\"}], \"heatmap\": [{\"colorbar\": {\"outlinewidth\": 0, \"ticks\": \"\"}, \"colorscale\": [[0.0, \"#0d0887\"], [0.1111111111111111, \"#46039f\"], [0.2222222222222222, \"#7201a8\"], [0.3333333333333333, \"#9c179e\"], [0.4444444444444444, \"#bd3786\"], [0.5555555555555556, \"#d8576b\"], [0.6666666666666666, \"#ed7953\"], [0.7777777777777778, \"#fb9f3a\"], [0.8888888888888888, \"#fdca26\"], [1.0, \"#f0f921\"]], \"type\": \"heatmap\"}], \"heatmapgl\": [{\"colorbar\": {\"outlinewidth\": 0, \"ticks\": \"\"}, \"colorscale\": [[0.0, \"#0d0887\"], [0.1111111111111111, \"#46039f\"], [0.2222222222222222, \"#7201a8\"], [0.3333333333333333, \"#9c179e\"], [0.4444444444444444, \"#bd3786\"], [0.5555555555555556, \"#d8576b\"], [0.6666666666666666, \"#ed7953\"], [0.7777777777777778, \"#fb9f3a\"], [0.8888888888888888, \"#fdca26\"], [1.0, \"#f0f921\"]], \"type\": \"heatmapgl\"}], \"histogram\": [{\"marker\": {\"colorbar\": {\"outlinewidth\": 0, \"ticks\": \"\"}}, \"type\": \"histogram\"}], \"histogram2d\": [{\"colorbar\": {\"outlinewidth\": 0, \"ticks\": \"\"}, \"colorscale\": [[0.0, \"#0d0887\"], [0.1111111111111111, \"#46039f\"], [0.2222222222222222, \"#7201a8\"], [0.3333333333333333, \"#9c179e\"], [0.4444444444444444, \"#bd3786\"], [0.5555555555555556, \"#d8576b\"], [0.6666666666666666, \"#ed7953\"], [0.7777777777777778, \"#fb9f3a\"], [0.8888888888888888, \"#fdca26\"], [1.0, \"#f0f921\"]], \"type\": \"histogram2d\"}], \"histogram2dcontour\": [{\"colorbar\": {\"outlinewidth\": 0, \"ticks\": \"\"}, \"colorscale\": [[0.0, \"#0d0887\"], [0.1111111111111111, \"#46039f\"], [0.2222222222222222, \"#7201a8\"], [0.3333333333333333, \"#9c179e\"], [0.4444444444444444, \"#bd3786\"], [0.5555555555555556, \"#d8576b\"], [0.6666666666666666, \"#ed7953\"], [0.7777777777777778, \"#fb9f3a\"], [0.8888888888888888, \"#fdca26\"], [1.0, \"#f0f921\"]], \"type\": \"histogram2dcontour\"}], \"mesh3d\": [{\"colorbar\": {\"outlinewidth\": 0, \"ticks\": \"\"}, \"type\": \"mesh3d\"}], \"parcoords\": [{\"line\": {\"colorbar\": {\"outlinewidth\": 0, \"ticks\": \"\"}}, \"type\": \"parcoords\"}], \"pie\": [{\"automargin\": true, \"type\": \"pie\"}], \"scatter\": [{\"marker\": {\"colorbar\": {\"outlinewidth\": 0, \"ticks\": \"\"}}, \"type\": \"scatter\"}], \"scatter3d\": [{\"line\": {\"colorbar\": {\"outlinewidth\": 0, \"ticks\": \"\"}}, \"marker\": {\"colorbar\": {\"outlinewidth\": 0, \"ticks\": \"\"}}, \"type\": \"scatter3d\"}], \"scattercarpet\": [{\"marker\": {\"colorbar\": {\"outlinewidth\": 0, \"ticks\": \"\"}}, \"type\": \"scattercarpet\"}], \"scattergeo\": [{\"marker\": {\"colorbar\": {\"outlinewidth\": 0, \"ticks\": \"\"}}, \"type\": \"scattergeo\"}], \"scattergl\": [{\"marker\": {\"colorbar\": {\"outlinewidth\": 0, \"ticks\": \"\"}}, \"type\": \"scattergl\"}], \"scattermapbox\": [{\"marker\": {\"colorbar\": {\"outlinewidth\": 0, \"ticks\": \"\"}}, \"type\": \"scattermapbox\"}], \"scatterpolar\": [{\"marker\": {\"colorbar\": {\"outlinewidth\": 0, \"ticks\": \"\"}}, \"type\": \"scatterpolar\"}], \"scatterpolargl\": [{\"marker\": {\"colorbar\": {\"outlinewidth\": 0, \"ticks\": \"\"}}, \"type\": \"scatterpolargl\"}], \"scatterternary\": [{\"marker\": {\"colorbar\": {\"outlinewidth\": 0, \"ticks\": \"\"}}, \"type\": \"scatterternary\"}], \"surface\": [{\"colorbar\": {\"outlinewidth\": 0, \"ticks\": \"\"}, \"colorscale\": [[0.0, \"#0d0887\"], [0.1111111111111111, \"#46039f\"], [0.2222222222222222, \"#7201a8\"], [0.3333333333333333, \"#9c179e\"], [0.4444444444444444, \"#bd3786\"], [0.5555555555555556, \"#d8576b\"], [0.6666666666666666, \"#ed7953\"], [0.7777777777777778, \"#fb9f3a\"], [0.8888888888888888, \"#fdca26\"], [1.0, \"#f0f921\"]], \"type\": \"surface\"}], \"table\": [{\"cells\": {\"fill\": {\"color\": \"#EBF0F8\"}, \"line\": {\"color\": \"white\"}}, \"header\": {\"fill\": {\"color\": \"#C8D4E3\"}, \"line\": {\"color\": \"white\"}}, \"type\": \"table\"}]}, \"layout\": {\"annotationdefaults\": {\"arrowcolor\": \"#2a3f5f\", \"arrowhead\": 0, \"arrowwidth\": 1}, \"coloraxis\": {\"colorbar\": {\"outlinewidth\": 0, \"ticks\": \"\"}}, \"colorscale\": {\"diverging\": [[0, \"#8e0152\"], [0.1, \"#c51b7d\"], [0.2, \"#de77ae\"], [0.3, \"#f1b6da\"], [0.4, \"#fde0ef\"], [0.5, \"#f7f7f7\"], [0.6, \"#e6f5d0\"], [0.7, \"#b8e186\"], [0.8, \"#7fbc41\"], [0.9, \"#4d9221\"], [1, \"#276419\"]], \"sequential\": [[0.0, \"#0d0887\"], [0.1111111111111111, \"#46039f\"], [0.2222222222222222, \"#7201a8\"], [0.3333333333333333, \"#9c179e\"], [0.4444444444444444, \"#bd3786\"], [0.5555555555555556, \"#d8576b\"], [0.6666666666666666, \"#ed7953\"], [0.7777777777777778, \"#fb9f3a\"], [0.8888888888888888, \"#fdca26\"], [1.0, \"#f0f921\"]], \"sequentialminus\": [[0.0, \"#0d0887\"], [0.1111111111111111, \"#46039f\"], [0.2222222222222222, \"#7201a8\"], [0.3333333333333333, \"#9c179e\"], [0.4444444444444444, \"#bd3786\"], [0.5555555555555556, \"#d8576b\"], [0.6666666666666666, \"#ed7953\"], [0.7777777777777778, \"#fb9f3a\"], [0.8888888888888888, \"#fdca26\"], [1.0, \"#f0f921\"]]}, \"colorway\": [\"#636efa\", \"#EF553B\", \"#00cc96\", \"#ab63fa\", \"#FFA15A\", \"#19d3f3\", \"#FF6692\", \"#B6E880\", \"#FF97FF\", \"#FECB52\"], \"font\": {\"color\": \"#2a3f5f\"}, \"geo\": {\"bgcolor\": \"white\", \"lakecolor\": \"white\", \"landcolor\": \"#E5ECF6\", \"showlakes\": true, \"showland\": true, \"subunitcolor\": \"white\"}, \"hoverlabel\": {\"align\": \"left\"}, \"hovermode\": \"closest\", \"mapbox\": {\"style\": \"light\"}, \"paper_bgcolor\": \"white\", \"plot_bgcolor\": \"#E5ECF6\", \"polar\": {\"angularaxis\": {\"gridcolor\": \"white\", \"linecolor\": \"white\", \"ticks\": \"\"}, \"bgcolor\": \"#E5ECF6\", \"radialaxis\": {\"gridcolor\": \"white\", \"linecolor\": \"white\", \"ticks\": \"\"}}, \"scene\": {\"xaxis\": {\"backgroundcolor\": \"#E5ECF6\", \"gridcolor\": \"white\", \"gridwidth\": 2, \"linecolor\": \"white\", \"showbackground\": true, \"ticks\": \"\", \"zerolinecolor\": \"white\"}, \"yaxis\": {\"backgroundcolor\": \"#E5ECF6\", \"gridcolor\": \"white\", \"gridwidth\": 2, \"linecolor\": \"white\", \"showbackground\": true, \"ticks\": \"\", \"zerolinecolor\": \"white\"}, \"zaxis\": {\"backgroundcolor\": \"#E5ECF6\", \"gridcolor\": \"white\", \"gridwidth\": 2, \"linecolor\": \"white\", \"showbackground\": true, \"ticks\": \"\", \"zerolinecolor\": \"white\"}}, \"shapedefaults\": {\"line\": {\"color\": \"#2a3f5f\"}}, \"ternary\": {\"aaxis\": {\"gridcolor\": \"white\", \"linecolor\": \"white\", \"ticks\": \"\"}, \"baxis\": {\"gridcolor\": \"white\", \"linecolor\": \"white\", \"ticks\": \"\"}, \"bgcolor\": \"#E5ECF6\", \"caxis\": {\"gridcolor\": \"white\", \"linecolor\": \"white\", \"ticks\": \"\"}}, \"title\": {\"x\": 0.05}, \"xaxis\": {\"automargin\": true, \"gridcolor\": \"white\", \"linecolor\": \"white\", \"ticks\": \"\", \"title\": {\"standoff\": 15}, \"zerolinecolor\": \"white\", \"zerolinewidth\": 2}, \"yaxis\": {\"automargin\": true, \"gridcolor\": \"white\", \"linecolor\": \"white\", \"ticks\": \"\", \"title\": {\"standoff\": 15}, \"zerolinecolor\": \"white\", \"zerolinewidth\": 2}}}, \"title\": {\"text\": \"Casos nuevos por dia\"}},\n",
              "                        {\"responsive\": true}\n",
              "                    ).then(function(){\n",
              "                            \n",
              "var gd = document.getElementById('f7c4f98a-cc48-4cc4-8e4f-d5f9652129b2');\n",
              "var x = new MutationObserver(function (mutations, observer) {{\n",
              "        var display = window.getComputedStyle(gd).display;\n",
              "        if (!display || display === 'none') {{\n",
              "            console.log([gd, 'removed!']);\n",
              "            Plotly.purge(gd);\n",
              "            observer.disconnect();\n",
              "        }}\n",
              "}});\n",
              "\n",
              "// Listen for the removal of the full notebook cells\n",
              "var notebookContainer = gd.closest('#notebook-container');\n",
              "if (notebookContainer) {{\n",
              "    x.observe(notebookContainer, {childList: true});\n",
              "}}\n",
              "\n",
              "// Listen for the clearing of the current output cell\n",
              "var outputEl = gd.closest('.output');\n",
              "if (outputEl) {{\n",
              "    x.observe(outputEl, {childList: true});\n",
              "}}\n",
              "\n",
              "                        })\n",
              "                };\n",
              "                \n",
              "            </script>\n",
              "        </div>\n",
              "</body>\n",
              "</html>"
            ]
          },
          "metadata": {
            "tags": []
          }
        }
      ]
    },
    {
      "cell_type": "code",
      "metadata": {
        "colab": {
          "base_uri": "https://localhost:8080/",
          "height": 542
        },
        "id": "rocBdmaU1Riu",
        "outputId": "dbfdbfdf-3881-4894-facf-b07f00f51e5b"
      },
      "source": [
        "fig = go.Figure()\n",
        "\n",
        "fig.add_trace(go.Scatter(\n",
        "    x=casos_diarios_DF[\"fechas\"],\n",
        "    y=casos_diarios_DF[\"fallecidos por dia\"],\n",
        "    name=\"Preprocesamiento propio\"\n",
        "))\n",
        "\n",
        "\n",
        "fig.add_trace(go.Scatter(\n",
        "    x=FECHA_ACTUALIZACION_DATE_FMAT,\n",
        "    y=df[\"NUEVOS_MUERTOS\"],\n",
        "    name=\"base de datos\"\n",
        "))\n",
        "\n",
        "fig.update_layout(title=\"Muertos por dia\")\n",
        "\n",
        "fig.update_layout(showlegend=True)\n",
        "\n",
        "fig.show()"
      ],
      "execution_count": null,
      "outputs": [
        {
          "output_type": "display_data",
          "data": {
            "text/html": [
              "<html>\n",
              "<head><meta charset=\"utf-8\" /></head>\n",
              "<body>\n",
              "    <div>\n",
              "            <script src=\"https://cdnjs.cloudflare.com/ajax/libs/mathjax/2.7.5/MathJax.js?config=TeX-AMS-MML_SVG\"></script><script type=\"text/javascript\">if (window.MathJax) {MathJax.Hub.Config({SVG: {font: \"STIX-Web\"}});}</script>\n",
              "                <script type=\"text/javascript\">window.PlotlyConfig = {MathJaxConfig: 'local'};</script>\n",
              "        <script src=\"https://cdn.plot.ly/plotly-latest.min.js\"></script>    \n",
              "            <div id=\"43c00182-f64e-49db-9ae2-55bb9cdbe4ec\" class=\"plotly-graph-div\" style=\"height:525px; width:100%;\"></div>\n",
              "            <script type=\"text/javascript\">\n",
              "                \n",
              "                    window.PLOTLYENV=window.PLOTLYENV || {};\n",
              "                    \n",
              "                if (document.getElementById(\"43c00182-f64e-49db-9ae2-55bb9cdbe4ec\")) {\n",
              "                    Plotly.newPlot(\n",
              "                        '43c00182-f64e-49db-9ae2-55bb9cdbe4ec',\n",
              "                        [{\"name\": \"Preprocesamiento propio\", \"type\": \"scatter\", \"x\": [\"2020-02-27T00:00:00\", \"2020-02-28T00:00:00\", \"2020-02-29T00:00:00\", \"2020-03-01T00:00:00\", \"2020-03-02T00:00:00\", \"2020-03-03T00:00:00\", \"2020-03-04T00:00:00\", \"2020-03-05T00:00:00\", \"2020-03-06T00:00:00\", \"2020-03-07T00:00:00\", \"2020-03-08T00:00:00\", \"2020-03-09T00:00:00\", \"2020-03-10T00:00:00\", \"2020-03-11T00:00:00\", \"2020-03-12T00:00:00\", \"2020-03-13T00:00:00\", \"2020-03-14T00:00:00\", \"2020-03-15T00:00:00\", \"2020-03-16T00:00:00\", \"2020-03-17T00:00:00\", \"2020-03-18T00:00:00\", \"2020-03-19T00:00:00\", \"2020-03-20T00:00:00\", \"2020-03-21T00:00:00\", \"2020-03-22T00:00:00\", \"2020-03-23T00:00:00\", \"2020-03-24T00:00:00\", \"2020-03-25T00:00:00\", \"2020-03-26T00:00:00\", \"2020-03-27T00:00:00\", \"2020-03-28T00:00:00\", \"2020-03-29T00:00:00\", \"2020-03-30T00:00:00\", \"2020-03-31T00:00:00\", \"2020-04-01T00:00:00\", \"2020-04-02T00:00:00\", \"2020-04-03T00:00:00\", \"2020-04-04T00:00:00\", \"2020-04-05T00:00:00\", \"2020-04-06T00:00:00\", \"2020-04-07T00:00:00\", \"2020-04-08T00:00:00\", \"2020-04-09T00:00:00\", \"2020-04-10T00:00:00\", \"2020-04-11T00:00:00\", \"2020-04-12T00:00:00\", \"2020-04-13T00:00:00\", \"2020-04-14T00:00:00\", \"2020-04-15T00:00:00\", \"2020-04-16T00:00:00\", \"2020-04-17T00:00:00\", \"2020-04-18T00:00:00\", \"2020-04-19T00:00:00\", \"2020-04-20T00:00:00\", \"2020-04-21T00:00:00\", \"2020-04-22T00:00:00\", \"2020-04-23T00:00:00\", \"2020-04-24T00:00:00\", \"2020-04-25T00:00:00\", \"2020-04-26T00:00:00\", \"2020-04-27T00:00:00\", \"2020-04-28T00:00:00\", \"2020-04-29T00:00:00\", \"2020-04-30T00:00:00\", \"2020-05-01T00:00:00\", \"2020-05-02T00:00:00\", \"2020-05-03T00:00:00\", \"2020-05-04T00:00:00\", \"2020-05-05T00:00:00\", \"2020-05-06T00:00:00\", \"2020-05-07T00:00:00\", \"2020-05-08T00:00:00\", \"2020-05-09T00:00:00\", \"2020-05-10T00:00:00\", \"2020-05-11T00:00:00\", \"2020-05-12T00:00:00\", \"2020-05-13T00:00:00\", \"2020-05-14T00:00:00\", \"2020-05-15T00:00:00\", \"2020-05-16T00:00:00\", \"2020-05-17T00:00:00\", \"2020-05-18T00:00:00\", \"2020-05-19T00:00:00\", \"2020-05-20T00:00:00\", \"2020-05-21T00:00:00\", \"2020-05-22T00:00:00\", \"2020-05-23T00:00:00\", \"2020-05-24T00:00:00\", \"2020-05-25T00:00:00\", \"2020-05-26T00:00:00\", \"2020-05-27T00:00:00\", \"2020-05-28T00:00:00\", \"2020-05-29T00:00:00\", \"2020-05-30T00:00:00\", \"2020-05-31T00:00:00\", \"2020-06-01T00:00:00\", \"2020-06-02T00:00:00\", \"2020-06-03T00:00:00\", \"2020-06-04T00:00:00\", \"2020-06-05T00:00:00\", \"2020-06-06T00:00:00\", \"2020-06-07T00:00:00\", \"2020-06-08T00:00:00\", \"2020-06-09T00:00:00\", \"2020-06-10T00:00:00\", \"2020-06-11T00:00:00\", \"2020-06-12T00:00:00\", \"2020-06-13T00:00:00\", \"2020-06-14T00:00:00\", \"2020-06-15T00:00:00\", \"2020-06-16T00:00:00\", \"2020-06-17T00:00:00\", \"2020-06-18T00:00:00\", \"2020-06-19T00:00:00\", \"2020-06-20T00:00:00\", \"2020-06-21T00:00:00\", \"2020-06-22T00:00:00\", \"2020-06-23T00:00:00\", \"2020-06-24T00:00:00\", \"2020-06-25T00:00:00\", \"2020-06-26T00:00:00\", \"2020-06-27T00:00:00\", \"2020-06-28T00:00:00\", \"2020-06-29T00:00:00\", \"2020-06-30T00:00:00\", \"2020-07-01T00:00:00\", \"2020-07-02T00:00:00\", \"2020-07-03T00:00:00\", \"2020-07-04T00:00:00\", \"2020-07-05T00:00:00\", \"2020-07-06T00:00:00\", \"2020-07-07T00:00:00\", \"2020-07-08T00:00:00\", \"2020-07-09T00:00:00\", \"2020-07-10T00:00:00\", \"2020-07-11T00:00:00\", \"2020-07-12T00:00:00\", \"2020-07-13T00:00:00\", \"2020-07-14T00:00:00\", \"2020-07-15T00:00:00\", \"2020-07-16T00:00:00\", \"2020-07-17T00:00:00\", \"2020-07-18T00:00:00\", \"2020-07-19T00:00:00\", \"2020-07-20T00:00:00\", \"2020-07-21T00:00:00\", \"2020-07-22T00:00:00\", \"2020-07-23T00:00:00\", \"2020-07-24T00:00:00\", \"2020-07-25T00:00:00\", \"2020-07-26T00:00:00\", \"2020-07-27T00:00:00\", \"2020-07-28T00:00:00\", \"2020-07-29T00:00:00\", \"2020-07-30T00:00:00\", \"2020-07-31T00:00:00\", \"2020-08-01T00:00:00\", \"2020-08-02T00:00:00\", \"2020-08-03T00:00:00\", \"2020-08-04T00:00:00\", \"2020-08-05T00:00:00\", \"2020-08-06T00:00:00\", \"2020-08-07T00:00:00\", \"2020-08-08T00:00:00\", \"2020-08-09T00:00:00\", \"2020-08-10T00:00:00\", \"2020-08-11T00:00:00\", \"2020-08-12T00:00:00\", \"2020-08-13T00:00:00\", \"2020-08-14T00:00:00\", \"2020-08-15T00:00:00\", \"2020-08-16T00:00:00\", \"2020-08-17T00:00:00\", \"2020-08-18T00:00:00\", \"2020-08-19T00:00:00\", \"2020-08-20T00:00:00\", \"2020-08-21T00:00:00\", \"2020-08-22T00:00:00\", \"2020-08-23T00:00:00\", \"2020-08-24T00:00:00\", \"2020-08-25T00:00:00\", \"2020-08-26T00:00:00\", \"2020-08-27T00:00:00\", \"2020-08-28T00:00:00\", \"2020-08-29T00:00:00\", \"2020-08-30T00:00:00\", \"2020-08-31T00:00:00\", \"2020-09-01T00:00:00\", \"2020-09-02T00:00:00\", \"2020-09-03T00:00:00\", \"2020-09-04T00:00:00\", \"2020-09-05T00:00:00\", \"2020-09-06T00:00:00\", \"2020-09-07T00:00:00\", \"2020-09-08T00:00:00\", \"2020-09-09T00:00:00\", \"2020-09-10T00:00:00\", \"2020-09-11T00:00:00\", \"2020-09-12T00:00:00\", \"2020-09-13T00:00:00\", \"2020-09-14T00:00:00\", \"2020-09-15T00:00:00\", \"2020-09-16T00:00:00\", \"2020-09-17T00:00:00\", \"2020-09-18T00:00:00\", \"2020-09-19T00:00:00\", \"2020-09-20T00:00:00\", \"2020-09-21T00:00:00\", \"2020-09-22T00:00:00\", \"2020-09-23T00:00:00\", \"2020-09-24T00:00:00\", \"2020-09-25T00:00:00\", \"2020-09-26T00:00:00\", \"2020-09-27T00:00:00\", \"2020-09-28T00:00:00\", \"2020-09-29T00:00:00\", \"2020-09-30T00:00:00\", \"2020-10-01T00:00:00\", \"2020-10-02T00:00:00\", \"2020-10-03T00:00:00\", \"2020-10-04T00:00:00\", \"2020-10-05T00:00:00\", \"2020-10-06T00:00:00\", \"2020-10-07T00:00:00\", \"2020-10-08T00:00:00\", \"2020-10-09T00:00:00\", \"2020-10-10T00:00:00\", \"2020-10-11T00:00:00\", \"2020-10-12T00:00:00\", \"2020-10-13T00:00:00\", \"2020-10-14T00:00:00\", \"2020-10-15T00:00:00\", \"2020-10-16T00:00:00\", \"2020-10-17T00:00:00\", \"2020-10-18T00:00:00\", \"2020-10-19T00:00:00\", \"2020-10-20T00:00:00\", \"2020-10-21T00:00:00\", \"2020-10-22T00:00:00\", \"2020-10-23T00:00:00\", \"2020-10-24T00:00:00\", \"2020-10-25T00:00:00\", \"2020-10-26T00:00:00\", \"2020-10-27T00:00:00\", \"2020-10-28T00:00:00\", \"2020-10-29T00:00:00\", \"2020-10-30T00:00:00\", \"2020-10-31T00:00:00\", \"2020-11-01T00:00:00\", \"2020-11-02T00:00:00\", \"2020-11-03T00:00:00\", \"2020-11-04T00:00:00\", \"2020-11-05T00:00:00\", \"2020-11-06T00:00:00\", \"2020-11-07T00:00:00\", \"2020-11-08T00:00:00\", \"2020-11-09T00:00:00\", \"2020-11-10T00:00:00\", \"2020-11-11T00:00:00\", \"2020-11-12T00:00:00\", \"2020-11-13T00:00:00\", \"2020-11-14T00:00:00\", \"2020-11-15T00:00:00\", \"2020-11-16T00:00:00\", \"2020-11-17T00:00:00\", \"2020-11-18T00:00:00\", \"2020-11-19T00:00:00\", \"2020-11-20T00:00:00\", \"2020-11-21T00:00:00\", \"2020-11-22T00:00:00\", \"2020-11-23T00:00:00\", \"2020-11-24T00:00:00\", \"2020-11-25T00:00:00\", \"2020-11-26T00:00:00\", \"2020-11-27T00:00:00\", \"2020-11-28T00:00:00\", \"2020-11-29T00:00:00\", \"2020-11-30T00:00:00\", \"2020-12-01T00:00:00\", \"2020-12-02T00:00:00\", \"2020-12-03T00:00:00\", \"2020-12-04T00:00:00\", \"2020-12-05T00:00:00\", \"2020-12-06T00:00:00\", \"2020-12-07T00:00:00\", \"2020-12-08T00:00:00\", \"2020-12-09T00:00:00\", \"2020-12-10T00:00:00\", \"2020-12-11T00:00:00\", \"2020-12-12T00:00:00\", \"2020-12-13T00:00:00\", \"2020-12-14T00:00:00\", \"2020-12-15T00:00:00\", \"2020-12-16T00:00:00\", \"2020-12-17T00:00:00\", \"2020-12-18T00:00:00\", \"2020-12-19T00:00:00\", \"2020-12-20T00:00:00\", \"2020-12-21T00:00:00\", \"2020-12-22T00:00:00\", \"2020-12-23T00:00:00\", \"2020-12-24T00:00:00\", \"2020-12-25T00:00:00\", \"2020-12-26T00:00:00\", \"2020-12-27T00:00:00\", \"2020-12-28T00:00:00\", \"2020-12-29T00:00:00\", \"2020-12-30T00:00:00\", \"2020-12-31T00:00:00\", \"2021-01-01T00:00:00\", \"2021-01-02T00:00:00\", \"2021-01-03T00:00:00\", \"2021-01-04T00:00:00\", \"2021-01-05T00:00:00\", \"2021-01-06T00:00:00\", \"2021-01-07T00:00:00\", \"2021-01-08T00:00:00\", \"2021-01-09T00:00:00\", \"2021-01-10T00:00:00\", \"2021-01-11T00:00:00\", \"2021-01-12T00:00:00\", \"2021-01-13T00:00:00\", \"2021-01-14T00:00:00\", \"2021-01-15T00:00:00\", \"2021-01-16T00:00:00\", \"2021-01-17T00:00:00\", \"2021-01-18T00:00:00\", \"2021-01-19T00:00:00\", \"2021-01-20T00:00:00\", \"2021-01-21T00:00:00\", \"2021-01-22T00:00:00\", \"2021-01-23T00:00:00\", \"2021-01-24T00:00:00\", \"2021-01-25T00:00:00\", \"2021-01-26T00:00:00\", \"2021-01-27T00:00:00\", \"2021-01-28T00:00:00\", \"2021-01-29T00:00:00\", \"2021-01-30T00:00:00\", \"2021-01-31T00:00:00\", \"2021-02-01T00:00:00\", \"2021-02-02T00:00:00\", \"2021-02-03T00:00:00\", \"2021-02-04T00:00:00\", \"2021-02-05T00:00:00\", \"2021-02-06T00:00:00\", \"2021-02-07T00:00:00\", \"2021-02-08T00:00:00\", \"2021-02-09T00:00:00\", \"2021-02-10T00:00:00\", \"2021-02-11T00:00:00\", \"2021-02-12T00:00:00\", \"2021-02-13T00:00:00\", \"2021-02-14T00:00:00\", \"2021-02-15T00:00:00\", \"2021-02-16T00:00:00\", \"2021-02-17T00:00:00\", \"2021-02-18T00:00:00\", \"2021-02-19T00:00:00\"], \"y\": [0, 0, 0, 0, 0, 0, 0, 0, 0, 0, 0, 0, 0, 0, 0, 0, 0, 0, 1, 0, 0, 0, 0, 0, 1, 1, 1, 4, 2, 3, 5, 1, 5, 5, 4, 7, 14, 15, 8, 12, 9, 5, 13, 5, 9, 12, 7, 11, 12, 16, 4, 13, 9, 10, 10, 8, 9, 15, 10, 18, 11, 13, 20, 22, 13, 21, 18, 21, 20, 24, 26, 20, 18, 19, 29, 11, 14, 19, 24, 19, 21, 26, 30, 31, 26, 41, 43, 40, 28, 48, 32, 40, 48, 51, 46, 52, 55, 80, 62, 75, 64, 71, 72, 81, 71, 75, 80, 82, 112, 99, 110, 106, 123, 112, 113, 141, 139, 131, 142, 141, 136, 146, 130, 149, 150, 142, 168, 179, 140, 172, 195, 208, 188, 208, 204, 211, 205, 247, 222, 237, 245, 280, 258, 251, 254, 310, 296, 303, 301, 286, 299, 320, 321, 333, 358, 334, 301, 290, 343, 303, 315, 314, 335, 354, 319, 310, 324, 290, 327, 276, 292, 276, 273, 303, 310, 262, 290, 259, 254, 264, 275, 244, 286, 277, 260, 204, 240, 237, 232, 229, 238, 214, 221, 221, 210, 197, 202, 200, 182, 185, 183, 181, 192, 187, 164, 194, 151, 198, 187, 155, 162, 159, 179, 170, 172, 172, 171, 177, 169, 154, 171, 163, 170, 135, 157, 151, 172, 174, 172, 178, 160, 167, 175, 166, 154, 179, 176, 170, 160, 199, 181, 183, 189, 189, 172, 199, 195, 172, 160, 179, 197, 202, 181, 179, 194, 151, 164, 169, 173, 185, 171, 176, 187, 184, 164, 178, 175, 177, 182, 194, 188, 202, 166, 180, 190, 186, 181, 169, 170, 178, 172, 166, 180, 172, 188, 190, 196, 177, 210, 178, 191, 182, 200, 211, 223, 217, 243, 245, 251, 232, 242, 259, 234, 275, 236, 251, 309, 294, 264, 321, 276, 256, 289, 299, 338, 368, 315, 359, 341, 373, 368, 393, 371, 379, 372, 406, 392, 416, 393, 410, 368, 331, 358, 387, 356, 333, 316, 316, 296, 283, 271, 265, 266, 264, 242, 235, 257, 200, 212, 193, 160, 197, 162, 174, 134, 155, 163, 155, 130]}, {\"name\": \"base de datos\", \"type\": \"scatter\", \"x\": [\"2020-03-06T05:00:00\", \"2020-03-07T05:00:00\", \"2020-03-08T05:00:00\", \"2020-03-09T05:00:00\", \"2020-03-10T05:00:00\", \"2020-03-11T05:00:00\", \"2020-03-12T05:00:00\", \"2020-03-13T05:00:00\", \"2020-03-14T05:00:00\", \"2020-03-15T05:00:00\", \"2020-03-16T05:00:00\", \"2020-03-17T05:00:00\", \"2020-03-18T05:00:00\", \"2020-03-19T05:00:00\", \"2020-03-20T05:00:00\", \"2020-03-21T05:00:00\", \"2020-03-22T05:00:00\", \"2020-03-23T05:00:00\", \"2020-03-24T05:00:00\", \"2020-03-25T05:00:00\", \"2020-03-26T05:00:00\", \"2020-03-27T05:00:00\", \"2020-03-28T05:00:00\", \"2020-03-29T05:00:00\", \"2020-03-30T05:00:00\", \"2020-03-31T05:00:00\", \"2020-04-01T05:00:00\", \"2020-04-02T05:00:00\", \"2020-04-03T05:00:00\", \"2020-04-04T05:00:00\", \"2020-04-05T05:00:00\", \"2020-04-06T05:00:00\", \"2020-04-07T05:00:00\", \"2020-04-08T08:38:00\", \"2020-04-09T08:39:00\", \"2020-04-10T05:00:00\", \"2020-04-11T05:00:00\", \"2020-04-12T05:00:00\", \"2020-04-13T05:00:00\", \"2020-04-14T05:00:00\", \"2020-04-15T05:00:00\", \"2020-04-16T05:00:00\", \"2020-04-17T05:00:00\", \"2020-04-18T05:00:00\", \"2020-04-19T05:00:00\", \"2020-04-20T05:00:00\", \"2020-04-21T05:00:00\", \"2020-04-22T05:00:00\", \"2020-04-23T05:00:00\", \"2020-04-24T05:00:00\", \"2020-04-25T05:00:00\", \"2020-04-26T05:00:00\", \"2020-04-27T05:00:00\", \"2020-04-28T05:00:00\", \"2020-04-29T05:00:00\", \"2020-04-30T05:00:00\", \"2020-05-01T05:00:00\", \"2020-05-02T05:00:00\", \"2020-05-03T05:00:00\", \"2020-05-04T05:00:00\", \"2020-05-05T05:00:00\", \"2020-05-06T05:00:00\", \"2020-05-07T05:00:00\", \"2020-05-08T05:00:00\", \"2020-05-09T05:00:00\", \"2020-05-10T05:00:00\", \"2020-05-11T05:00:00\", \"2020-05-12T05:00:00\", \"2020-05-13T05:00:00\", \"2020-05-14T05:00:00\", \"2020-05-15T05:00:00\", \"2020-05-16T05:00:00\", \"2020-05-17T05:00:00\", \"2020-05-18T05:00:00\", \"2020-05-19T05:00:00\", \"2020-05-20T05:00:00\", \"2020-05-21T05:00:00\", \"2020-05-22T05:00:00\", \"2020-05-23T05:00:00\", \"2020-05-24T05:00:00\", \"2020-05-25T05:00:00\", \"2020-05-26T05:00:00\", \"2020-05-27T05:00:00\", \"2020-05-28T05:00:00\", \"2020-05-29T05:00:00\", \"2020-05-30T05:00:00\", \"2020-05-31T05:00:00\", \"2020-06-01T05:00:00\", \"2020-06-02T05:00:00\", \"2020-06-03T05:00:00\", \"2020-06-04T05:00:00\", \"2020-06-05T05:00:00\", \"2020-06-06T05:00:00\", \"2020-06-07T05:00:00\", \"2020-06-08T05:00:00\", \"2020-06-09T05:00:00\", \"2020-06-10T05:00:00\", \"2020-06-11T05:00:00\", \"2020-06-12T05:00:00\", \"2020-06-13T05:00:00\", \"2020-06-14T05:00:00\", \"2020-06-15T05:00:00\", \"2020-06-16T05:00:00\", \"2020-06-17T05:00:00\", \"2020-06-18T05:00:00\", \"2020-06-19T05:00:00\", \"2020-06-20T05:00:00\", \"2020-06-21T05:00:00\", \"2020-06-22T05:00:00\", \"2020-06-23T05:00:00\", \"2020-06-24T05:00:00\", \"2020-06-25T05:00:00\", \"2020-06-26T05:00:00\", \"2020-06-27T05:00:00\", \"2020-06-28T05:00:00\", \"2020-06-29T05:00:00\", \"2020-06-30T05:00:00\", \"2020-07-01T05:00:00\", \"2020-07-02T05:00:00\", \"2020-07-03T05:00:00\", \"2020-07-04T05:00:00\", \"2020-07-05T05:00:00\", \"2020-07-06T05:00:00\", \"2020-07-07T05:00:00\", \"2020-07-08T05:00:00\", \"2020-07-09T05:00:00\", \"2020-07-10T05:00:00\", \"2020-07-11T05:00:00\", \"2020-07-12T05:00:00\", \"2020-07-13T05:00:00\", \"2020-07-14T05:00:00\", \"2020-07-15T05:00:00\", \"2020-07-16T05:00:00\", \"2020-07-17T05:00:00\", \"2020-07-18T05:00:00\", \"2020-07-19T05:00:00\", \"2020-07-20T05:00:00\", \"2020-07-21T05:00:00\", \"2020-07-22T05:00:00\", \"2020-07-23T05:00:00\", \"2020-07-24T05:00:00\", \"2020-07-25T05:00:00\", \"2020-07-26T05:00:00\", \"2020-07-27T05:00:00\", \"2020-07-28T05:00:00\", \"2020-07-29T05:00:00\", \"2020-07-30T05:00:00\", \"2020-07-31T05:00:00\", \"2020-08-01T05:00:00\", \"2020-08-02T05:00:00\", \"2020-08-03T05:00:00\", \"2020-08-04T05:00:00\", \"2020-08-05T05:00:00\", \"2020-08-06T05:00:00\", \"2020-08-07T05:00:00\", \"2020-08-08T05:00:00\", \"2020-08-09T05:00:00\", \"2020-08-10T05:00:00\", \"2020-08-11T05:00:00\", \"2020-08-12T05:00:00\", \"2020-08-13T05:00:00\", \"2020-08-14T05:00:00\", \"2020-08-15T05:00:00\", \"2020-08-16T05:00:00\", \"2020-08-17T05:00:00\", \"2020-08-18T05:00:00\", \"2020-08-19T05:00:00\", \"2020-08-20T05:00:00\", \"2020-08-21T05:00:00\", \"2020-08-22T05:00:00\", \"2020-08-23T05:00:00\", \"2020-08-24T05:00:00\", \"2020-08-25T05:00:00\", \"2020-08-26T05:00:00\", \"2020-08-27T05:00:00\", \"2020-08-28T05:00:00\", \"2020-08-29T05:00:00\", \"2020-08-30T05:00:00\", \"2020-08-31T05:00:00\", \"2020-09-01T05:00:00\", \"2020-09-02T05:00:00\", \"2020-09-03T05:00:00\", \"2020-09-04T05:00:00\", \"2020-09-05T05:00:00\", \"2020-09-06T05:00:00\", \"2020-09-07T05:00:00\", \"2020-09-08T05:00:00\", \"2020-09-09T05:00:00\", \"2020-09-10T05:00:00\", \"2020-09-11T05:00:00\", \"2020-09-12T05:00:00\", \"2020-09-13T05:00:00\", \"2020-09-14T05:00:00\", \"2020-09-15T05:00:00\", \"2020-09-16T05:00:00\", \"2020-09-17T05:00:00\", \"2020-09-18T05:00:00\", \"2020-09-19T05:00:00\", \"2020-09-20T05:00:00\", \"2020-09-21T05:00:00\", \"2020-09-22T05:00:00\", \"2020-09-23T05:00:00\", \"2020-09-24T05:00:00\", \"2020-09-25T05:00:00\", \"2020-09-26T05:00:00\", \"2020-09-27T05:00:00\", \"2020-09-28T05:00:00\", \"2020-09-29T05:00:00\", \"2020-09-30T05:00:00\", \"2020-10-01T05:00:00\", \"2020-10-02T05:00:00\", \"2020-10-03T05:00:00\", \"2020-10-04T05:00:00\", \"2020-10-05T05:00:00\", \"2020-10-06T05:00:00\", \"2020-10-07T05:00:00\", \"2020-10-08T05:00:00\", \"2020-10-09T05:00:00\", \"2020-10-10T05:00:00\", \"2020-10-11T05:00:00\", \"2020-10-12T05:00:00\", \"2020-10-13T05:00:00\", \"2020-10-14T05:00:00\", \"2020-10-15T05:00:00\", \"2020-10-16T05:00:00\", \"2020-10-17T05:00:00\", \"2020-10-18T05:00:00\", \"2020-10-19T05:00:00\", \"2020-10-20T05:00:00\", \"2020-10-21T05:00:00\", \"2020-10-22T05:00:00\", \"2020-10-23T05:00:00\", \"2020-10-24T05:00:00\", \"2020-10-25T05:00:00\", \"2020-10-26T05:00:00\", \"2020-10-27T05:00:00\", \"2020-10-28T05:00:00\", \"2020-10-29T05:00:00\", \"2020-10-30T05:00:00\", \"2020-10-31T05:00:00\", \"2020-11-01T05:00:00\", \"2020-11-02T05:00:00\", \"2020-11-03T05:00:00\", \"2020-11-04T05:00:00\", \"2020-11-05T05:00:00\", \"2020-11-06T05:00:00\", \"2020-11-07T05:00:00\", \"2020-11-08T05:00:00\", \"2020-11-09T05:00:00\", \"2020-11-10T05:00:00\", \"2020-11-11T05:00:00\", \"2020-11-12T05:00:00\", \"2020-11-13T05:00:00\", \"2020-11-14T05:00:00\", \"2020-11-15T05:00:00\", \"2020-11-16T05:00:00\", \"2020-11-17T05:00:00\", \"2020-11-18T05:00:00\", \"2020-11-19T05:00:00\", \"2020-11-20T05:00:00\", \"2020-11-21T05:00:00\", \"2020-11-22T05:00:00\", \"2020-11-23T05:00:00\", \"2020-11-24T05:00:00\", \"2020-11-25T05:00:00\", \"2020-11-26T05:00:00\", \"2020-11-27T05:00:00\", \"2020-11-28T05:00:00\", \"2020-11-29T05:00:00\", \"2020-11-30T05:00:00\", \"2020-12-01T05:00:00\", \"2020-12-02T05:00:00\", \"2020-12-03T05:00:00\", \"2020-12-04T05:00:00\", \"2020-12-05T05:00:00\", \"2020-12-06T05:00:00\", \"2020-12-07T05:00:00\", \"2020-12-08T05:00:00\", \"2020-12-09T05:00:00\", \"2020-12-10T05:00:00\", \"2020-12-11T05:00:00\", \"2020-12-12T05:00:00\", \"2020-12-13T05:00:00\", \"2020-12-14T05:00:00\", \"2020-12-15T05:00:00\", \"2020-12-16T05:00:00\", \"2020-12-17T05:00:00\", \"2020-12-18T05:00:00\", \"2020-12-19T05:00:00\", \"2020-12-20T05:00:00\", \"2020-12-21T05:00:00\", \"2020-12-22T05:00:00\", \"2020-12-23T05:00:00\", \"2020-12-24T05:00:00\", \"2020-12-25T05:00:00\", \"2020-12-26T05:00:00\", \"2020-12-27T05:00:00\", \"2020-12-28T05:00:00\", \"2020-12-29T05:00:00\", \"2020-12-30T05:00:00\", \"2020-12-31T05:00:00\", \"2021-01-01T05:00:00\", \"2021-01-02T05:00:00\", \"2021-01-03T05:00:00\", \"2021-01-04T05:00:00\", \"2021-01-05T05:00:00\", \"2021-01-06T05:00:00\", \"2021-01-07T05:00:00\", \"2021-01-08T05:00:00\", \"2021-01-09T05:00:00\", \"2021-01-10T05:00:00\", \"2021-01-11T05:00:00\", \"2021-01-12T05:00:00\", \"2021-01-13T05:00:00\", \"2021-01-14T05:00:00\", \"2021-01-15T05:00:00\", \"2021-01-16T05:00:00\", \"2021-01-17T05:00:00\", \"2021-01-18T05:00:00\", \"2021-01-19T05:00:00\", \"2021-01-20T05:00:00\", \"2021-01-21T05:00:00\", \"2021-01-22T05:00:00\", \"2021-01-23T05:00:00\", \"2021-01-24T05:00:00\", \"2021-01-25T05:00:00\", \"2021-01-26T05:00:00\", \"2021-01-27T05:00:00\", \"2021-01-28T05:00:00\", \"2021-01-29T05:00:00\", \"2021-01-30T05:00:00\", \"2021-01-31T05:00:00\", \"2021-02-01T05:00:00\", \"2021-02-02T05:00:00\", \"2021-02-03T05:00:00\", \"2021-02-04T05:00:00\", \"2021-02-05T05:00:00\", \"2021-02-06T05:00:00\", \"2021-02-07T05:00:00\", \"2021-02-08T05:00:00\", \"2021-02-09T05:00:00\", \"2021-02-10T05:00:00\", \"2021-02-11T05:00:00\", \"2021-02-12T05:00:00\", \"2021-02-13T05:00:00\", \"2021-02-14T05:00:00\", \"2021-02-15T05:00:00\", \"2021-02-16T05:00:00\", \"2021-02-17T05:00:00\", \"2021-02-18T05:00:00\", \"2021-02-19T05:00:00\", \"2021-02-20T05:00:00\", \"2021-02-21T05:00:00\", \"2021-02-22T05:00:00\", \"2021-02-23T05:00:00\", \"2021-02-24T05:00:00\", \"2021-02-25T05:00:00\", \"2021-02-26T05:00:00\", \"2021-02-27T05:00:00\", \"2021-02-28T05:00:00\", \"2021-03-01T05:00:00\", \"2021-03-02T05:00:00\", \"2021-03-03T05:00:00\"], \"y\": [0, 0, 0, 0, 0, 0, 0, 0, 0, 0, 0, 0, 0, 0, 0, 1, 1, 1, 0, 1, 2, 0, 0, 4, 4, 2, 1, 2, 6, 6, 3, 11, 4, 4, 15, 11, 20, 9, 3, 15, 4, 13, 9, 13, 13, 10, 7, 10, 9, 10, 8, 11, 9, 16, 9, 15, 21, 10, 16, 18, 20, 19, 10, 21, 17, 18, 16, 14, 16, 16, 21, 16, 12, 18, 21, 17, 22, 30, 23, 22, 23, 26, 27, 19, 31, 37, 49, 30, 40, 36, 42, 58, 60, 54, 49, 64, 61, 55, 57, 47, 75, 59, 75, 63, 86, 95, 81, 147, 37, 94, 87, 163, 157, 128, 167, 117, 111, 136, 171, 136, 165, 122, 146, 149, 168, 187, 211, 194, 188, 148, 170, 189, 215, 259, 228, 220, 193, 237, 207, 315, 287, 294, 256, 252, 297, 380, 356, 295, 225, 320, 367, 298, 309, 315, 311, 290, 302, 312, 321, 362, 308, 347, 318, 287, 275, 247, 360, 204, 385, 400, 348, 296, 277, 295, 284, 299, 297, 300, 299, 390, 295, 270, 270, 268, 356, 103, 202, 236, 222, 243, 216, 190, 199, 165, 190, 187, 185, 189, 169, 189, 173, 176, 178, 179, 193, 192, 153, 187, 170, 198, 201, 159, 156, 132, 173, 163, 151, 164, 165, 174, 151, 156, 165, 151, 159, 187, 167, 132, 170, 192, 172, 166, 198, 154, 194, 217, 188, 173, 209, 179, 201, 155, 177, 166, 196, 196, 190, 196, 183, 174, 164, 179, 178, 160, 202, 192, 158, 182, 198, 168, 175, 183, 192, 198, 183, 159, 195, 187, 183, 182, 168, 183, 188, 162, 166, 174, 188, 163, 150, 176, 185, 197, 187, 142, 161, 204, 227, 232, 249, 207, 205, 251, 243, 280, 236, 253, 228, 203, 246, 289, 304, 282, 270, 200, 222, 239, 297, 344, 364, 353, 330, 337, 331, 342, 367, 377, 388, 375, 373, 398, 390, 395, 399, 396, 392, 373, 381, 395, 390, 371, 366, 333, 289, 304, 301, 254, 272, 290, 300, 297, 217, 226, 250, 213, 229, 180, 181, 163, 185, 200, 177, 174, 149, 140, 144, 142, 136, 122, 142, 106, 100, 106, 110]}],\n",
              "                        {\"showlegend\": true, \"template\": {\"data\": {\"bar\": [{\"error_x\": {\"color\": \"#2a3f5f\"}, \"error_y\": {\"color\": \"#2a3f5f\"}, \"marker\": {\"line\": {\"color\": \"#E5ECF6\", \"width\": 0.5}}, \"type\": \"bar\"}], \"barpolar\": [{\"marker\": {\"line\": {\"color\": \"#E5ECF6\", \"width\": 0.5}}, \"type\": \"barpolar\"}], \"carpet\": [{\"aaxis\": {\"endlinecolor\": \"#2a3f5f\", \"gridcolor\": \"white\", \"linecolor\": \"white\", \"minorgridcolor\": \"white\", \"startlinecolor\": \"#2a3f5f\"}, \"baxis\": {\"endlinecolor\": \"#2a3f5f\", \"gridcolor\": \"white\", \"linecolor\": \"white\", \"minorgridcolor\": \"white\", \"startlinecolor\": \"#2a3f5f\"}, \"type\": \"carpet\"}], \"choropleth\": [{\"colorbar\": {\"outlinewidth\": 0, \"ticks\": \"\"}, \"type\": \"choropleth\"}], \"contour\": [{\"colorbar\": {\"outlinewidth\": 0, \"ticks\": \"\"}, \"colorscale\": [[0.0, \"#0d0887\"], [0.1111111111111111, \"#46039f\"], [0.2222222222222222, \"#7201a8\"], [0.3333333333333333, \"#9c179e\"], [0.4444444444444444, \"#bd3786\"], [0.5555555555555556, \"#d8576b\"], [0.6666666666666666, \"#ed7953\"], [0.7777777777777778, \"#fb9f3a\"], [0.8888888888888888, \"#fdca26\"], [1.0, \"#f0f921\"]], \"type\": \"contour\"}], \"contourcarpet\": [{\"colorbar\": {\"outlinewidth\": 0, \"ticks\": \"\"}, \"type\": \"contourcarpet\"}], \"heatmap\": [{\"colorbar\": {\"outlinewidth\": 0, \"ticks\": \"\"}, \"colorscale\": [[0.0, \"#0d0887\"], [0.1111111111111111, \"#46039f\"], [0.2222222222222222, \"#7201a8\"], [0.3333333333333333, \"#9c179e\"], [0.4444444444444444, \"#bd3786\"], [0.5555555555555556, \"#d8576b\"], [0.6666666666666666, \"#ed7953\"], [0.7777777777777778, \"#fb9f3a\"], [0.8888888888888888, \"#fdca26\"], [1.0, \"#f0f921\"]], \"type\": \"heatmap\"}], \"heatmapgl\": [{\"colorbar\": {\"outlinewidth\": 0, \"ticks\": \"\"}, \"colorscale\": [[0.0, \"#0d0887\"], [0.1111111111111111, \"#46039f\"], [0.2222222222222222, \"#7201a8\"], [0.3333333333333333, \"#9c179e\"], [0.4444444444444444, \"#bd3786\"], [0.5555555555555556, \"#d8576b\"], [0.6666666666666666, \"#ed7953\"], [0.7777777777777778, \"#fb9f3a\"], [0.8888888888888888, \"#fdca26\"], [1.0, \"#f0f921\"]], \"type\": \"heatmapgl\"}], \"histogram\": [{\"marker\": {\"colorbar\": {\"outlinewidth\": 0, \"ticks\": \"\"}}, \"type\": \"histogram\"}], \"histogram2d\": [{\"colorbar\": {\"outlinewidth\": 0, \"ticks\": \"\"}, \"colorscale\": [[0.0, \"#0d0887\"], [0.1111111111111111, \"#46039f\"], [0.2222222222222222, \"#7201a8\"], [0.3333333333333333, \"#9c179e\"], [0.4444444444444444, \"#bd3786\"], [0.5555555555555556, \"#d8576b\"], [0.6666666666666666, \"#ed7953\"], [0.7777777777777778, \"#fb9f3a\"], [0.8888888888888888, \"#fdca26\"], [1.0, \"#f0f921\"]], \"type\": \"histogram2d\"}], \"histogram2dcontour\": [{\"colorbar\": {\"outlinewidth\": 0, \"ticks\": \"\"}, \"colorscale\": [[0.0, \"#0d0887\"], [0.1111111111111111, \"#46039f\"], [0.2222222222222222, \"#7201a8\"], [0.3333333333333333, \"#9c179e\"], [0.4444444444444444, \"#bd3786\"], [0.5555555555555556, \"#d8576b\"], [0.6666666666666666, \"#ed7953\"], [0.7777777777777778, \"#fb9f3a\"], [0.8888888888888888, \"#fdca26\"], [1.0, \"#f0f921\"]], \"type\": \"histogram2dcontour\"}], \"mesh3d\": [{\"colorbar\": {\"outlinewidth\": 0, \"ticks\": \"\"}, \"type\": \"mesh3d\"}], \"parcoords\": [{\"line\": {\"colorbar\": {\"outlinewidth\": 0, \"ticks\": \"\"}}, \"type\": \"parcoords\"}], \"pie\": [{\"automargin\": true, \"type\": \"pie\"}], \"scatter\": [{\"marker\": {\"colorbar\": {\"outlinewidth\": 0, \"ticks\": \"\"}}, \"type\": \"scatter\"}], \"scatter3d\": [{\"line\": {\"colorbar\": {\"outlinewidth\": 0, \"ticks\": \"\"}}, \"marker\": {\"colorbar\": {\"outlinewidth\": 0, \"ticks\": \"\"}}, \"type\": \"scatter3d\"}], \"scattercarpet\": [{\"marker\": {\"colorbar\": {\"outlinewidth\": 0, \"ticks\": \"\"}}, \"type\": \"scattercarpet\"}], \"scattergeo\": [{\"marker\": {\"colorbar\": {\"outlinewidth\": 0, \"ticks\": \"\"}}, \"type\": \"scattergeo\"}], \"scattergl\": [{\"marker\": {\"colorbar\": {\"outlinewidth\": 0, \"ticks\": \"\"}}, \"type\": \"scattergl\"}], \"scattermapbox\": [{\"marker\": {\"colorbar\": {\"outlinewidth\": 0, \"ticks\": \"\"}}, \"type\": \"scattermapbox\"}], \"scatterpolar\": [{\"marker\": {\"colorbar\": {\"outlinewidth\": 0, \"ticks\": \"\"}}, \"type\": \"scatterpolar\"}], \"scatterpolargl\": [{\"marker\": {\"colorbar\": {\"outlinewidth\": 0, \"ticks\": \"\"}}, \"type\": \"scatterpolargl\"}], \"scatterternary\": [{\"marker\": {\"colorbar\": {\"outlinewidth\": 0, \"ticks\": \"\"}}, \"type\": \"scatterternary\"}], \"surface\": [{\"colorbar\": {\"outlinewidth\": 0, \"ticks\": \"\"}, \"colorscale\": [[0.0, \"#0d0887\"], [0.1111111111111111, \"#46039f\"], [0.2222222222222222, \"#7201a8\"], [0.3333333333333333, \"#9c179e\"], [0.4444444444444444, \"#bd3786\"], [0.5555555555555556, \"#d8576b\"], [0.6666666666666666, \"#ed7953\"], [0.7777777777777778, \"#fb9f3a\"], [0.8888888888888888, \"#fdca26\"], [1.0, \"#f0f921\"]], \"type\": \"surface\"}], \"table\": [{\"cells\": {\"fill\": {\"color\": \"#EBF0F8\"}, \"line\": {\"color\": \"white\"}}, \"header\": {\"fill\": {\"color\": \"#C8D4E3\"}, \"line\": {\"color\": \"white\"}}, \"type\": \"table\"}]}, \"layout\": {\"annotationdefaults\": {\"arrowcolor\": \"#2a3f5f\", \"arrowhead\": 0, \"arrowwidth\": 1}, \"coloraxis\": {\"colorbar\": {\"outlinewidth\": 0, \"ticks\": \"\"}}, \"colorscale\": {\"diverging\": [[0, \"#8e0152\"], [0.1, \"#c51b7d\"], [0.2, \"#de77ae\"], [0.3, \"#f1b6da\"], [0.4, \"#fde0ef\"], [0.5, \"#f7f7f7\"], [0.6, \"#e6f5d0\"], [0.7, \"#b8e186\"], [0.8, \"#7fbc41\"], [0.9, \"#4d9221\"], [1, \"#276419\"]], \"sequential\": [[0.0, \"#0d0887\"], [0.1111111111111111, \"#46039f\"], [0.2222222222222222, \"#7201a8\"], [0.3333333333333333, \"#9c179e\"], [0.4444444444444444, \"#bd3786\"], [0.5555555555555556, \"#d8576b\"], [0.6666666666666666, \"#ed7953\"], [0.7777777777777778, \"#fb9f3a\"], [0.8888888888888888, \"#fdca26\"], [1.0, \"#f0f921\"]], \"sequentialminus\": [[0.0, \"#0d0887\"], [0.1111111111111111, \"#46039f\"], [0.2222222222222222, \"#7201a8\"], [0.3333333333333333, \"#9c179e\"], [0.4444444444444444, \"#bd3786\"], [0.5555555555555556, \"#d8576b\"], [0.6666666666666666, \"#ed7953\"], [0.7777777777777778, \"#fb9f3a\"], [0.8888888888888888, \"#fdca26\"], [1.0, \"#f0f921\"]]}, \"colorway\": [\"#636efa\", \"#EF553B\", \"#00cc96\", \"#ab63fa\", \"#FFA15A\", \"#19d3f3\", \"#FF6692\", \"#B6E880\", \"#FF97FF\", \"#FECB52\"], \"font\": {\"color\": \"#2a3f5f\"}, \"geo\": {\"bgcolor\": \"white\", \"lakecolor\": \"white\", \"landcolor\": \"#E5ECF6\", \"showlakes\": true, \"showland\": true, \"subunitcolor\": \"white\"}, \"hoverlabel\": {\"align\": \"left\"}, \"hovermode\": \"closest\", \"mapbox\": {\"style\": \"light\"}, \"paper_bgcolor\": \"white\", \"plot_bgcolor\": \"#E5ECF6\", \"polar\": {\"angularaxis\": {\"gridcolor\": \"white\", \"linecolor\": \"white\", \"ticks\": \"\"}, \"bgcolor\": \"#E5ECF6\", \"radialaxis\": {\"gridcolor\": \"white\", \"linecolor\": \"white\", \"ticks\": \"\"}}, \"scene\": {\"xaxis\": {\"backgroundcolor\": \"#E5ECF6\", \"gridcolor\": \"white\", \"gridwidth\": 2, \"linecolor\": \"white\", \"showbackground\": true, \"ticks\": \"\", \"zerolinecolor\": \"white\"}, \"yaxis\": {\"backgroundcolor\": \"#E5ECF6\", \"gridcolor\": \"white\", \"gridwidth\": 2, \"linecolor\": \"white\", \"showbackground\": true, \"ticks\": \"\", \"zerolinecolor\": \"white\"}, \"zaxis\": {\"backgroundcolor\": \"#E5ECF6\", \"gridcolor\": \"white\", \"gridwidth\": 2, \"linecolor\": \"white\", \"showbackground\": true, \"ticks\": \"\", \"zerolinecolor\": \"white\"}}, \"shapedefaults\": {\"line\": {\"color\": \"#2a3f5f\"}}, \"ternary\": {\"aaxis\": {\"gridcolor\": \"white\", \"linecolor\": \"white\", \"ticks\": \"\"}, \"baxis\": {\"gridcolor\": \"white\", \"linecolor\": \"white\", \"ticks\": \"\"}, \"bgcolor\": \"#E5ECF6\", \"caxis\": {\"gridcolor\": \"white\", \"linecolor\": \"white\", \"ticks\": \"\"}}, \"title\": {\"x\": 0.05}, \"xaxis\": {\"automargin\": true, \"gridcolor\": \"white\", \"linecolor\": \"white\", \"ticks\": \"\", \"title\": {\"standoff\": 15}, \"zerolinecolor\": \"white\", \"zerolinewidth\": 2}, \"yaxis\": {\"automargin\": true, \"gridcolor\": \"white\", \"linecolor\": \"white\", \"ticks\": \"\", \"title\": {\"standoff\": 15}, \"zerolinecolor\": \"white\", \"zerolinewidth\": 2}}}, \"title\": {\"text\": \"Muertos por dia\"}},\n",
              "                        {\"responsive\": true}\n",
              "                    ).then(function(){\n",
              "                            \n",
              "var gd = document.getElementById('43c00182-f64e-49db-9ae2-55bb9cdbe4ec');\n",
              "var x = new MutationObserver(function (mutations, observer) {{\n",
              "        var display = window.getComputedStyle(gd).display;\n",
              "        if (!display || display === 'none') {{\n",
              "            console.log([gd, 'removed!']);\n",
              "            Plotly.purge(gd);\n",
              "            observer.disconnect();\n",
              "        }}\n",
              "}});\n",
              "\n",
              "// Listen for the removal of the full notebook cells\n",
              "var notebookContainer = gd.closest('#notebook-container');\n",
              "if (notebookContainer) {{\n",
              "    x.observe(notebookContainer, {childList: true});\n",
              "}}\n",
              "\n",
              "// Listen for the clearing of the current output cell\n",
              "var outputEl = gd.closest('.output');\n",
              "if (outputEl) {{\n",
              "    x.observe(outputEl, {childList: true});\n",
              "}}\n",
              "\n",
              "                        })\n",
              "                };\n",
              "                \n",
              "            </script>\n",
              "        </div>\n",
              "</body>\n",
              "</html>"
            ]
          },
          "metadata": {
            "tags": []
          }
        }
      ]
    },
    {
      "cell_type": "code",
      "metadata": {
        "colab": {
          "base_uri": "https://localhost:8080/",
          "height": 542
        },
        "id": "CeV-Suy81OOG",
        "outputId": "7bcb92b4-40f8-4a7e-8172-72df43c2d2f1"
      },
      "source": [
        "fig = go.Figure()\n",
        "\n",
        "fig.add_trace(go.Scatter(\n",
        "    x=casos_diarios_DF[\"fechas\"],\n",
        "    y=casos_diarios_DF[\"recuperados por dia\"],\n",
        "    name=\"Preprocesamiento propio\"\n",
        "))\n",
        "\n",
        "\n",
        "fig.add_trace(go.Scatter(\n",
        "    x=FECHA_ACTUALIZACION_DATE_FMAT,\n",
        "    y=df[\"NUEVO_RECUPERADOS\"],\n",
        "    name=\"base de datos\"\n",
        "))\n",
        "fig.update_layout(title=\"Recuperados por dia\")\n",
        "\n",
        "fig.update_layout(showlegend=True)\n",
        "\n",
        "fig.show()"
      ],
      "execution_count": null,
      "outputs": [
        {
          "output_type": "display_data",
          "data": {
            "text/html": [
              "<html>\n",
              "<head><meta charset=\"utf-8\" /></head>\n",
              "<body>\n",
              "    <div>\n",
              "            <script src=\"https://cdnjs.cloudflare.com/ajax/libs/mathjax/2.7.5/MathJax.js?config=TeX-AMS-MML_SVG\"></script><script type=\"text/javascript\">if (window.MathJax) {MathJax.Hub.Config({SVG: {font: \"STIX-Web\"}});}</script>\n",
              "                <script type=\"text/javascript\">window.PlotlyConfig = {MathJaxConfig: 'local'};</script>\n",
              "        <script src=\"https://cdn.plot.ly/plotly-latest.min.js\"></script>    \n",
              "            <div id=\"2f91168f-db94-4872-adfc-737cf920cc65\" class=\"plotly-graph-div\" style=\"height:525px; width:100%;\"></div>\n",
              "            <script type=\"text/javascript\">\n",
              "                \n",
              "                    window.PLOTLYENV=window.PLOTLYENV || {};\n",
              "                    \n",
              "                if (document.getElementById(\"2f91168f-db94-4872-adfc-737cf920cc65\")) {\n",
              "                    Plotly.newPlot(\n",
              "                        '2f91168f-db94-4872-adfc-737cf920cc65',\n",
              "                        [{\"name\": \"Preprocesamiento propio\", \"type\": \"scatter\", \"x\": [\"2020-02-27T00:00:00\", \"2020-02-28T00:00:00\", \"2020-02-29T00:00:00\", \"2020-03-01T00:00:00\", \"2020-03-02T00:00:00\", \"2020-03-03T00:00:00\", \"2020-03-04T00:00:00\", \"2020-03-05T00:00:00\", \"2020-03-06T00:00:00\", \"2020-03-07T00:00:00\", \"2020-03-08T00:00:00\", \"2020-03-09T00:00:00\", \"2020-03-10T00:00:00\", \"2020-03-11T00:00:00\", \"2020-03-12T00:00:00\", \"2020-03-13T00:00:00\", \"2020-03-14T00:00:00\", \"2020-03-15T00:00:00\", \"2020-03-16T00:00:00\", \"2020-03-17T00:00:00\", \"2020-03-18T00:00:00\", \"2020-03-19T00:00:00\", \"2020-03-20T00:00:00\", \"2020-03-21T00:00:00\", \"2020-03-22T00:00:00\", \"2020-03-23T00:00:00\", \"2020-03-24T00:00:00\", \"2020-03-25T00:00:00\", \"2020-03-26T00:00:00\", \"2020-03-27T00:00:00\", \"2020-03-28T00:00:00\", \"2020-03-29T00:00:00\", \"2020-03-30T00:00:00\", \"2020-03-31T00:00:00\", \"2020-04-01T00:00:00\", \"2020-04-02T00:00:00\", \"2020-04-03T00:00:00\", \"2020-04-04T00:00:00\", \"2020-04-05T00:00:00\", \"2020-04-06T00:00:00\", \"2020-04-07T00:00:00\", \"2020-04-08T00:00:00\", \"2020-04-09T00:00:00\", \"2020-04-10T00:00:00\", \"2020-04-11T00:00:00\", \"2020-04-12T00:00:00\", \"2020-04-13T00:00:00\", \"2020-04-14T00:00:00\", \"2020-04-15T00:00:00\", \"2020-04-16T00:00:00\", \"2020-04-17T00:00:00\", \"2020-04-18T00:00:00\", \"2020-04-19T00:00:00\", \"2020-04-20T00:00:00\", \"2020-04-21T00:00:00\", \"2020-04-22T00:00:00\", \"2020-04-23T00:00:00\", \"2020-04-24T00:00:00\", \"2020-04-25T00:00:00\", \"2020-04-26T00:00:00\", \"2020-04-27T00:00:00\", \"2020-04-28T00:00:00\", \"2020-04-29T00:00:00\", \"2020-04-30T00:00:00\", \"2020-05-01T00:00:00\", \"2020-05-02T00:00:00\", \"2020-05-03T00:00:00\", \"2020-05-04T00:00:00\", \"2020-05-05T00:00:00\", \"2020-05-06T00:00:00\", \"2020-05-07T00:00:00\", \"2020-05-08T00:00:00\", \"2020-05-09T00:00:00\", \"2020-05-10T00:00:00\", \"2020-05-11T00:00:00\", \"2020-05-12T00:00:00\", \"2020-05-13T00:00:00\", \"2020-05-14T00:00:00\", \"2020-05-15T00:00:00\", \"2020-05-16T00:00:00\", \"2020-05-17T00:00:00\", \"2020-05-18T00:00:00\", \"2020-05-19T00:00:00\", \"2020-05-20T00:00:00\", \"2020-05-21T00:00:00\", \"2020-05-22T00:00:00\", \"2020-05-23T00:00:00\", \"2020-05-24T00:00:00\", \"2020-05-25T00:00:00\", \"2020-05-26T00:00:00\", \"2020-05-27T00:00:00\", \"2020-05-28T00:00:00\", \"2020-05-29T00:00:00\", \"2020-05-30T00:00:00\", \"2020-05-31T00:00:00\", \"2020-06-01T00:00:00\", \"2020-06-02T00:00:00\", \"2020-06-03T00:00:00\", \"2020-06-04T00:00:00\", \"2020-06-05T00:00:00\", \"2020-06-06T00:00:00\", \"2020-06-07T00:00:00\", \"2020-06-08T00:00:00\", \"2020-06-09T00:00:00\", \"2020-06-10T00:00:00\", \"2020-06-11T00:00:00\", \"2020-06-12T00:00:00\", \"2020-06-13T00:00:00\", \"2020-06-14T00:00:00\", \"2020-06-15T00:00:00\", \"2020-06-16T00:00:00\", \"2020-06-17T00:00:00\", \"2020-06-18T00:00:00\", \"2020-06-19T00:00:00\", \"2020-06-20T00:00:00\", \"2020-06-21T00:00:00\", \"2020-06-22T00:00:00\", \"2020-06-23T00:00:00\", \"2020-06-24T00:00:00\", \"2020-06-25T00:00:00\", \"2020-06-26T00:00:00\", \"2020-06-27T00:00:00\", \"2020-06-28T00:00:00\", \"2020-06-29T00:00:00\", \"2020-06-30T00:00:00\", \"2020-07-01T00:00:00\", \"2020-07-02T00:00:00\", \"2020-07-03T00:00:00\", \"2020-07-04T00:00:00\", \"2020-07-05T00:00:00\", \"2020-07-06T00:00:00\", \"2020-07-07T00:00:00\", \"2020-07-08T00:00:00\", \"2020-07-09T00:00:00\", \"2020-07-10T00:00:00\", \"2020-07-11T00:00:00\", \"2020-07-12T00:00:00\", \"2020-07-13T00:00:00\", \"2020-07-14T00:00:00\", \"2020-07-15T00:00:00\", \"2020-07-16T00:00:00\", \"2020-07-17T00:00:00\", \"2020-07-18T00:00:00\", \"2020-07-19T00:00:00\", \"2020-07-20T00:00:00\", \"2020-07-21T00:00:00\", \"2020-07-22T00:00:00\", \"2020-07-23T00:00:00\", \"2020-07-24T00:00:00\", \"2020-07-25T00:00:00\", \"2020-07-26T00:00:00\", \"2020-07-27T00:00:00\", \"2020-07-28T00:00:00\", \"2020-07-29T00:00:00\", \"2020-07-30T00:00:00\", \"2020-07-31T00:00:00\", \"2020-08-01T00:00:00\", \"2020-08-02T00:00:00\", \"2020-08-03T00:00:00\", \"2020-08-04T00:00:00\", \"2020-08-05T00:00:00\", \"2020-08-06T00:00:00\", \"2020-08-07T00:00:00\", \"2020-08-08T00:00:00\", \"2020-08-09T00:00:00\", \"2020-08-10T00:00:00\", \"2020-08-11T00:00:00\", \"2020-08-12T00:00:00\", \"2020-08-13T00:00:00\", \"2020-08-14T00:00:00\", \"2020-08-15T00:00:00\", \"2020-08-16T00:00:00\", \"2020-08-17T00:00:00\", \"2020-08-18T00:00:00\", \"2020-08-19T00:00:00\", \"2020-08-20T00:00:00\", \"2020-08-21T00:00:00\", \"2020-08-22T00:00:00\", \"2020-08-23T00:00:00\", \"2020-08-24T00:00:00\", \"2020-08-25T00:00:00\", \"2020-08-26T00:00:00\", \"2020-08-27T00:00:00\", \"2020-08-28T00:00:00\", \"2020-08-29T00:00:00\", \"2020-08-30T00:00:00\", \"2020-08-31T00:00:00\", \"2020-09-01T00:00:00\", \"2020-09-02T00:00:00\", \"2020-09-03T00:00:00\", \"2020-09-04T00:00:00\", \"2020-09-05T00:00:00\", \"2020-09-06T00:00:00\", \"2020-09-07T00:00:00\", \"2020-09-08T00:00:00\", \"2020-09-09T00:00:00\", \"2020-09-10T00:00:00\", \"2020-09-11T00:00:00\", \"2020-09-12T00:00:00\", \"2020-09-13T00:00:00\", \"2020-09-14T00:00:00\", \"2020-09-15T00:00:00\", \"2020-09-16T00:00:00\", \"2020-09-17T00:00:00\", \"2020-09-18T00:00:00\", \"2020-09-19T00:00:00\", \"2020-09-20T00:00:00\", \"2020-09-21T00:00:00\", \"2020-09-22T00:00:00\", \"2020-09-23T00:00:00\", \"2020-09-24T00:00:00\", \"2020-09-25T00:00:00\", \"2020-09-26T00:00:00\", \"2020-09-27T00:00:00\", \"2020-09-28T00:00:00\", \"2020-09-29T00:00:00\", \"2020-09-30T00:00:00\", \"2020-10-01T00:00:00\", \"2020-10-02T00:00:00\", \"2020-10-03T00:00:00\", \"2020-10-04T00:00:00\", \"2020-10-05T00:00:00\", \"2020-10-06T00:00:00\", \"2020-10-07T00:00:00\", \"2020-10-08T00:00:00\", \"2020-10-09T00:00:00\", \"2020-10-10T00:00:00\", \"2020-10-11T00:00:00\", \"2020-10-12T00:00:00\", \"2020-10-13T00:00:00\", \"2020-10-14T00:00:00\", \"2020-10-15T00:00:00\", \"2020-10-16T00:00:00\", \"2020-10-17T00:00:00\", \"2020-10-18T00:00:00\", \"2020-10-19T00:00:00\", \"2020-10-20T00:00:00\", \"2020-10-21T00:00:00\", \"2020-10-22T00:00:00\", \"2020-10-23T00:00:00\", \"2020-10-24T00:00:00\", \"2020-10-25T00:00:00\", \"2020-10-26T00:00:00\", \"2020-10-27T00:00:00\", \"2020-10-28T00:00:00\", \"2020-10-29T00:00:00\", \"2020-10-30T00:00:00\", \"2020-10-31T00:00:00\", \"2020-11-01T00:00:00\", \"2020-11-02T00:00:00\", \"2020-11-03T00:00:00\", \"2020-11-04T00:00:00\", \"2020-11-05T00:00:00\", \"2020-11-06T00:00:00\", \"2020-11-07T00:00:00\", \"2020-11-08T00:00:00\", \"2020-11-09T00:00:00\", \"2020-11-10T00:00:00\", \"2020-11-11T00:00:00\", \"2020-11-12T00:00:00\", \"2020-11-13T00:00:00\", \"2020-11-14T00:00:00\", \"2020-11-15T00:00:00\", \"2020-11-16T00:00:00\", \"2020-11-17T00:00:00\", \"2020-11-18T00:00:00\", \"2020-11-19T00:00:00\", \"2020-11-20T00:00:00\", \"2020-11-21T00:00:00\", \"2020-11-22T00:00:00\", \"2020-11-23T00:00:00\", \"2020-11-24T00:00:00\", \"2020-11-25T00:00:00\", \"2020-11-26T00:00:00\", \"2020-11-27T00:00:00\", \"2020-11-28T00:00:00\", \"2020-11-29T00:00:00\", \"2020-11-30T00:00:00\", \"2020-12-01T00:00:00\", \"2020-12-02T00:00:00\", \"2020-12-03T00:00:00\", \"2020-12-04T00:00:00\", \"2020-12-05T00:00:00\", \"2020-12-06T00:00:00\", \"2020-12-07T00:00:00\", \"2020-12-08T00:00:00\", \"2020-12-09T00:00:00\", \"2020-12-10T00:00:00\", \"2020-12-11T00:00:00\", \"2020-12-12T00:00:00\", \"2020-12-13T00:00:00\", \"2020-12-14T00:00:00\", \"2020-12-15T00:00:00\", \"2020-12-16T00:00:00\", \"2020-12-17T00:00:00\", \"2020-12-18T00:00:00\", \"2020-12-19T00:00:00\", \"2020-12-20T00:00:00\", \"2020-12-21T00:00:00\", \"2020-12-22T00:00:00\", \"2020-12-23T00:00:00\", \"2020-12-24T00:00:00\", \"2020-12-25T00:00:00\", \"2020-12-26T00:00:00\", \"2020-12-27T00:00:00\", \"2020-12-28T00:00:00\", \"2020-12-29T00:00:00\", \"2020-12-30T00:00:00\", \"2020-12-31T00:00:00\", \"2021-01-01T00:00:00\", \"2021-01-02T00:00:00\", \"2021-01-03T00:00:00\", \"2021-01-04T00:00:00\", \"2021-01-05T00:00:00\", \"2021-01-06T00:00:00\", \"2021-01-07T00:00:00\", \"2021-01-08T00:00:00\", \"2021-01-09T00:00:00\", \"2021-01-10T00:00:00\", \"2021-01-11T00:00:00\", \"2021-01-12T00:00:00\", \"2021-01-13T00:00:00\", \"2021-01-14T00:00:00\", \"2021-01-15T00:00:00\", \"2021-01-16T00:00:00\", \"2021-01-17T00:00:00\", \"2021-01-18T00:00:00\", \"2021-01-19T00:00:00\", \"2021-01-20T00:00:00\", \"2021-01-21T00:00:00\", \"2021-01-22T00:00:00\", \"2021-01-23T00:00:00\", \"2021-01-24T00:00:00\", \"2021-01-25T00:00:00\", \"2021-01-26T00:00:00\", \"2021-01-27T00:00:00\", \"2021-01-28T00:00:00\", \"2021-01-29T00:00:00\", \"2021-01-30T00:00:00\", \"2021-01-31T00:00:00\", \"2021-02-01T00:00:00\", \"2021-02-02T00:00:00\", \"2021-02-03T00:00:00\", \"2021-02-04T00:00:00\", \"2021-02-05T00:00:00\", \"2021-02-06T00:00:00\", \"2021-02-07T00:00:00\", \"2021-02-08T00:00:00\", \"2021-02-09T00:00:00\", \"2021-02-10T00:00:00\", \"2021-02-11T00:00:00\", \"2021-02-12T00:00:00\", \"2021-02-13T00:00:00\", \"2021-02-14T00:00:00\", \"2021-02-15T00:00:00\", \"2021-02-16T00:00:00\", \"2021-02-17T00:00:00\", \"2021-02-18T00:00:00\", \"2021-02-19T00:00:00\"], \"y\": [0, 0, 0, 0, 0, 0, 0, 0, 0, 0, 0, 0, 0, 0, 0, 1, 1, 1, 0, 1, 0, 1, 1, 3, 3, 8, 11, 12, 16, 18, 33, 29, 35, 27, 33, 33, 36, 39, 19, 24, 26, 42, 43, 47, 55, 95, 96, 79, 96, 77, 51, 56, 72, 81, 85, 88, 104, 85, 103, 94, 89, 110, 127, 61, 112, 133, 99, 149, 293, 222, 156, 158, 201, 162, 246, 139, 230, 138, 208, 218, 151, 201, 198, 262, 286, 274, 220, 309, 277, 360, 343, 370, 359, 242, 1738, 385, 1345, 1024, 666, 879, 495, 936, 1008, 542, 1056, 644, 867, 701, 456, 346, 512, 991, 1099, 1265, 1377, 1562, 1315, 1398, 1580, 1944, 1975, 1453, 1794, 1746, 2171, 1652, 1399, 1374, 1471, 1323, 2638, 1989, 1969, 2606, 2791, 2347, 1907, 2550, 2715, 2989, 3656, 3829, 4526, 4435, 3148, 2656, 2269, 5018, 4776, 5674, 4442, 7091, 6313, 6212, 6034, 5988, 6822, 6165, 6255, 6362, 5657, 5641, 5717, 5648, 7613, 7753, 8499, 8997, 10114, 9993, 12637, 12044, 13502, 10207, 13074, 12508, 9552, 10494, 13458, 10200, 11358, 11346, 10504, 11817, 10676, 9757, 8442, 9831, 9518, 9351, 8825, 8652, 10090, 10808, 11307, 11002, 15792, 12724, 9574, 6215, 7275, 1118, 2032, 5223, 5830, 5921, 5596, 7883, 10514, 11544, 12431, 12222, 12340, 10931, 10738, 11249, 9322, 8104, 2254, 3830, 3802, 4339, 4317, 3185, 3619, 2849, 2583, 6712, 8458, 8301, 10033, 10194, 10192, 10340, 10505, 9464, 8520, 7999, 8594, 7758, 5593, 7839, 8335, 8510, 8735, 8288, 8919, 9889, 8631, 8034, 8259, 8572, 9199, 9331, 8847, 8781, 8892, 11794, 11050, 11182, 7619, 8364, 7465, 7085, 7388, 6676, 7622, 6569, 6492, 5900, 8031, 8708, 7056, 7282, 7093, 7565, 7107, 5984, 6947, 7833, 7350, 7798, 8645, 7666, 10092, 10585, 9150, 8715, 7826, 6397, 5533, 7006, 7495, 8399, 8062, 10710, 8964, 17240, 9600, 12650, 10547, 13407, 13009, 13806, 12123, 13344, 8038, 14587, 11528, 12035, 10510, 11128, 9790, 7283, 10454, 10635, 16595, 12398, 11414, 11374, 14038, 17743, 18568, 14414, 13139, 17340, 24054, 15543, 15935, 14756, 10733, 11604, 10755, 17813, 16660, 16583, 16404, 16439, 14922, 13878, 16320, 19749, 17582, 12308, 7260, 12162, 5951, 7896, 15172, 7913, 9531, 7557, 5643, 5151, 6911, 4679, 4632, 5861, 5179]}, {\"name\": \"base de datos\", \"type\": \"scatter\", \"x\": [\"2020-03-06T05:00:00\", \"2020-03-07T05:00:00\", \"2020-03-08T05:00:00\", \"2020-03-09T05:00:00\", \"2020-03-10T05:00:00\", \"2020-03-11T05:00:00\", \"2020-03-12T05:00:00\", \"2020-03-13T05:00:00\", \"2020-03-14T05:00:00\", \"2020-03-15T05:00:00\", \"2020-03-16T05:00:00\", \"2020-03-17T05:00:00\", \"2020-03-18T05:00:00\", \"2020-03-19T05:00:00\", \"2020-03-20T05:00:00\", \"2020-03-21T05:00:00\", \"2020-03-22T05:00:00\", \"2020-03-23T05:00:00\", \"2020-03-24T05:00:00\", \"2020-03-25T05:00:00\", \"2020-03-26T05:00:00\", \"2020-03-27T05:00:00\", \"2020-03-28T05:00:00\", \"2020-03-29T05:00:00\", \"2020-03-30T05:00:00\", \"2020-03-31T05:00:00\", \"2020-04-01T05:00:00\", \"2020-04-02T05:00:00\", \"2020-04-03T05:00:00\", \"2020-04-04T05:00:00\", \"2020-04-05T05:00:00\", \"2020-04-06T05:00:00\", \"2020-04-07T05:00:00\", \"2020-04-08T08:38:00\", \"2020-04-09T08:39:00\", \"2020-04-10T05:00:00\", \"2020-04-11T05:00:00\", \"2020-04-12T05:00:00\", \"2020-04-13T05:00:00\", \"2020-04-14T05:00:00\", \"2020-04-15T05:00:00\", \"2020-04-16T05:00:00\", \"2020-04-17T05:00:00\", \"2020-04-18T05:00:00\", \"2020-04-19T05:00:00\", \"2020-04-20T05:00:00\", \"2020-04-21T05:00:00\", \"2020-04-22T05:00:00\", \"2020-04-23T05:00:00\", \"2020-04-24T05:00:00\", \"2020-04-25T05:00:00\", \"2020-04-26T05:00:00\", \"2020-04-27T05:00:00\", \"2020-04-28T05:00:00\", \"2020-04-29T05:00:00\", \"2020-04-30T05:00:00\", \"2020-05-01T05:00:00\", \"2020-05-02T05:00:00\", \"2020-05-03T05:00:00\", \"2020-05-04T05:00:00\", \"2020-05-05T05:00:00\", \"2020-05-06T05:00:00\", \"2020-05-07T05:00:00\", \"2020-05-08T05:00:00\", \"2020-05-09T05:00:00\", \"2020-05-10T05:00:00\", \"2020-05-11T05:00:00\", \"2020-05-12T05:00:00\", \"2020-05-13T05:00:00\", \"2020-05-14T05:00:00\", \"2020-05-15T05:00:00\", \"2020-05-16T05:00:00\", \"2020-05-17T05:00:00\", \"2020-05-18T05:00:00\", \"2020-05-19T05:00:00\", \"2020-05-20T05:00:00\", \"2020-05-21T05:00:00\", \"2020-05-22T05:00:00\", \"2020-05-23T05:00:00\", \"2020-05-24T05:00:00\", \"2020-05-25T05:00:00\", \"2020-05-26T05:00:00\", \"2020-05-27T05:00:00\", \"2020-05-28T05:00:00\", \"2020-05-29T05:00:00\", \"2020-05-30T05:00:00\", \"2020-05-31T05:00:00\", \"2020-06-01T05:00:00\", \"2020-06-02T05:00:00\", \"2020-06-03T05:00:00\", \"2020-06-04T05:00:00\", \"2020-06-05T05:00:00\", \"2020-06-06T05:00:00\", \"2020-06-07T05:00:00\", \"2020-06-08T05:00:00\", \"2020-06-09T05:00:00\", \"2020-06-10T05:00:00\", \"2020-06-11T05:00:00\", \"2020-06-12T05:00:00\", \"2020-06-13T05:00:00\", \"2020-06-14T05:00:00\", \"2020-06-15T05:00:00\", \"2020-06-16T05:00:00\", \"2020-06-17T05:00:00\", \"2020-06-18T05:00:00\", \"2020-06-19T05:00:00\", \"2020-06-20T05:00:00\", \"2020-06-21T05:00:00\", \"2020-06-22T05:00:00\", \"2020-06-23T05:00:00\", \"2020-06-24T05:00:00\", \"2020-06-25T05:00:00\", \"2020-06-26T05:00:00\", \"2020-06-27T05:00:00\", \"2020-06-28T05:00:00\", \"2020-06-29T05:00:00\", \"2020-06-30T05:00:00\", \"2020-07-01T05:00:00\", \"2020-07-02T05:00:00\", \"2020-07-03T05:00:00\", \"2020-07-04T05:00:00\", \"2020-07-05T05:00:00\", \"2020-07-06T05:00:00\", \"2020-07-07T05:00:00\", \"2020-07-08T05:00:00\", \"2020-07-09T05:00:00\", \"2020-07-10T05:00:00\", \"2020-07-11T05:00:00\", \"2020-07-12T05:00:00\", \"2020-07-13T05:00:00\", \"2020-07-14T05:00:00\", \"2020-07-15T05:00:00\", \"2020-07-16T05:00:00\", \"2020-07-17T05:00:00\", \"2020-07-18T05:00:00\", \"2020-07-19T05:00:00\", \"2020-07-20T05:00:00\", \"2020-07-21T05:00:00\", \"2020-07-22T05:00:00\", \"2020-07-23T05:00:00\", \"2020-07-24T05:00:00\", \"2020-07-25T05:00:00\", \"2020-07-26T05:00:00\", \"2020-07-27T05:00:00\", \"2020-07-28T05:00:00\", \"2020-07-29T05:00:00\", \"2020-07-30T05:00:00\", \"2020-07-31T05:00:00\", \"2020-08-01T05:00:00\", \"2020-08-02T05:00:00\", \"2020-08-03T05:00:00\", \"2020-08-04T05:00:00\", \"2020-08-05T05:00:00\", \"2020-08-06T05:00:00\", \"2020-08-07T05:00:00\", \"2020-08-08T05:00:00\", \"2020-08-09T05:00:00\", \"2020-08-10T05:00:00\", \"2020-08-11T05:00:00\", \"2020-08-12T05:00:00\", \"2020-08-13T05:00:00\", \"2020-08-14T05:00:00\", \"2020-08-15T05:00:00\", \"2020-08-16T05:00:00\", \"2020-08-17T05:00:00\", \"2020-08-18T05:00:00\", \"2020-08-19T05:00:00\", \"2020-08-20T05:00:00\", \"2020-08-21T05:00:00\", \"2020-08-22T05:00:00\", \"2020-08-23T05:00:00\", \"2020-08-24T05:00:00\", \"2020-08-25T05:00:00\", \"2020-08-26T05:00:00\", \"2020-08-27T05:00:00\", \"2020-08-28T05:00:00\", \"2020-08-29T05:00:00\", \"2020-08-30T05:00:00\", \"2020-08-31T05:00:00\", \"2020-09-01T05:00:00\", \"2020-09-02T05:00:00\", \"2020-09-03T05:00:00\", \"2020-09-04T05:00:00\", \"2020-09-05T05:00:00\", \"2020-09-06T05:00:00\", \"2020-09-07T05:00:00\", \"2020-09-08T05:00:00\", \"2020-09-09T05:00:00\", \"2020-09-10T05:00:00\", \"2020-09-11T05:00:00\", \"2020-09-12T05:00:00\", \"2020-09-13T05:00:00\", \"2020-09-14T05:00:00\", \"2020-09-15T05:00:00\", \"2020-09-16T05:00:00\", \"2020-09-17T05:00:00\", \"2020-09-18T05:00:00\", \"2020-09-19T05:00:00\", \"2020-09-20T05:00:00\", \"2020-09-21T05:00:00\", \"2020-09-22T05:00:00\", \"2020-09-23T05:00:00\", \"2020-09-24T05:00:00\", \"2020-09-25T05:00:00\", \"2020-09-26T05:00:00\", \"2020-09-27T05:00:00\", \"2020-09-28T05:00:00\", \"2020-09-29T05:00:00\", \"2020-09-30T05:00:00\", \"2020-10-01T05:00:00\", \"2020-10-02T05:00:00\", \"2020-10-03T05:00:00\", \"2020-10-04T05:00:00\", \"2020-10-05T05:00:00\", \"2020-10-06T05:00:00\", \"2020-10-07T05:00:00\", \"2020-10-08T05:00:00\", \"2020-10-09T05:00:00\", \"2020-10-10T05:00:00\", \"2020-10-11T05:00:00\", \"2020-10-12T05:00:00\", \"2020-10-13T05:00:00\", \"2020-10-14T05:00:00\", \"2020-10-15T05:00:00\", \"2020-10-16T05:00:00\", \"2020-10-17T05:00:00\", \"2020-10-18T05:00:00\", \"2020-10-19T05:00:00\", \"2020-10-20T05:00:00\", \"2020-10-21T05:00:00\", \"2020-10-22T05:00:00\", \"2020-10-23T05:00:00\", \"2020-10-24T05:00:00\", \"2020-10-25T05:00:00\", \"2020-10-26T05:00:00\", \"2020-10-27T05:00:00\", \"2020-10-28T05:00:00\", \"2020-10-29T05:00:00\", \"2020-10-30T05:00:00\", \"2020-10-31T05:00:00\", \"2020-11-01T05:00:00\", \"2020-11-02T05:00:00\", \"2020-11-03T05:00:00\", \"2020-11-04T05:00:00\", \"2020-11-05T05:00:00\", \"2020-11-06T05:00:00\", \"2020-11-07T05:00:00\", \"2020-11-08T05:00:00\", \"2020-11-09T05:00:00\", \"2020-11-10T05:00:00\", \"2020-11-11T05:00:00\", \"2020-11-12T05:00:00\", \"2020-11-13T05:00:00\", \"2020-11-14T05:00:00\", \"2020-11-15T05:00:00\", \"2020-11-16T05:00:00\", \"2020-11-17T05:00:00\", \"2020-11-18T05:00:00\", \"2020-11-19T05:00:00\", \"2020-11-20T05:00:00\", \"2020-11-21T05:00:00\", \"2020-11-22T05:00:00\", \"2020-11-23T05:00:00\", \"2020-11-24T05:00:00\", \"2020-11-25T05:00:00\", \"2020-11-26T05:00:00\", \"2020-11-27T05:00:00\", \"2020-11-28T05:00:00\", \"2020-11-29T05:00:00\", \"2020-11-30T05:00:00\", \"2020-12-01T05:00:00\", \"2020-12-02T05:00:00\", \"2020-12-03T05:00:00\", \"2020-12-04T05:00:00\", \"2020-12-05T05:00:00\", \"2020-12-06T05:00:00\", \"2020-12-07T05:00:00\", \"2020-12-08T05:00:00\", \"2020-12-09T05:00:00\", \"2020-12-10T05:00:00\", \"2020-12-11T05:00:00\", \"2020-12-12T05:00:00\", \"2020-12-13T05:00:00\", \"2020-12-14T05:00:00\", \"2020-12-15T05:00:00\", \"2020-12-16T05:00:00\", \"2020-12-17T05:00:00\", \"2020-12-18T05:00:00\", \"2020-12-19T05:00:00\", \"2020-12-20T05:00:00\", \"2020-12-21T05:00:00\", \"2020-12-22T05:00:00\", \"2020-12-23T05:00:00\", \"2020-12-24T05:00:00\", \"2020-12-25T05:00:00\", \"2020-12-26T05:00:00\", \"2020-12-27T05:00:00\", \"2020-12-28T05:00:00\", \"2020-12-29T05:00:00\", \"2020-12-30T05:00:00\", \"2020-12-31T05:00:00\", \"2021-01-01T05:00:00\", \"2021-01-02T05:00:00\", \"2021-01-03T05:00:00\", \"2021-01-04T05:00:00\", \"2021-01-05T05:00:00\", \"2021-01-06T05:00:00\", \"2021-01-07T05:00:00\", \"2021-01-08T05:00:00\", \"2021-01-09T05:00:00\", \"2021-01-10T05:00:00\", \"2021-01-11T05:00:00\", \"2021-01-12T05:00:00\", \"2021-01-13T05:00:00\", \"2021-01-14T05:00:00\", \"2021-01-15T05:00:00\", \"2021-01-16T05:00:00\", \"2021-01-17T05:00:00\", \"2021-01-18T05:00:00\", \"2021-01-19T05:00:00\", \"2021-01-20T05:00:00\", \"2021-01-21T05:00:00\", \"2021-01-22T05:00:00\", \"2021-01-23T05:00:00\", \"2021-01-24T05:00:00\", \"2021-01-25T05:00:00\", \"2021-01-26T05:00:00\", \"2021-01-27T05:00:00\", \"2021-01-28T05:00:00\", \"2021-01-29T05:00:00\", \"2021-01-30T05:00:00\", \"2021-01-31T05:00:00\", \"2021-02-01T05:00:00\", \"2021-02-02T05:00:00\", \"2021-02-03T05:00:00\", \"2021-02-04T05:00:00\", \"2021-02-05T05:00:00\", \"2021-02-06T05:00:00\", \"2021-02-07T05:00:00\", \"2021-02-08T05:00:00\", \"2021-02-09T05:00:00\", \"2021-02-10T05:00:00\", \"2021-02-11T05:00:00\", \"2021-02-12T05:00:00\", \"2021-02-13T05:00:00\", \"2021-02-14T05:00:00\", \"2021-02-15T05:00:00\", \"2021-02-16T05:00:00\", \"2021-02-17T05:00:00\", \"2021-02-18T05:00:00\", \"2021-02-19T05:00:00\", \"2021-02-20T05:00:00\", \"2021-02-21T05:00:00\", \"2021-02-22T05:00:00\", \"2021-02-23T05:00:00\", \"2021-02-24T05:00:00\", \"2021-02-25T05:00:00\", \"2021-02-26T05:00:00\", \"2021-02-27T05:00:00\", \"2021-02-28T05:00:00\", \"2021-03-01T05:00:00\", \"2021-03-02T05:00:00\", \"2021-03-03T05:00:00\"], \"y\": [0, 0, 0, 0, 0, 0, 0, 0, 0, 0, 0, 0, 0, 0, 0, 0, 0, 6, 0, 2, 0, 2, 0, 0, 5, 16, 8, 16, 0, 0, 3, 0, 12, 23, 51, 23, 17, 56, 49, 35, 98, 98, 84, 57, 20, 93, 0, 66, 57, 76, 64, 66, 77, 58, 143, 28, 112, 115, 56, 85, 206, 135, 152, 124, 145, 136, 120, 146, 162, 225, 102, 127, 164, 152, 147, 206, 175, 144, 143, 298, 249, 246, 600, 554, 248, 208, 1422, 1118, 1481, 1146, 633, 717, 744, 940, 1105, 107, 799, 457, 925, 711, 396, 130, 414, 960, 1354, 1308, 1511, 1861, 1608, 1491, 1212, 1678, 1588, 1336, 2007, 1674, 2119, 1334, 1124, 803, 1229, 1318, 2491, 1489, 1773, 2638, 2528, 2386, 2265, 2358, 2997, 2932, 4426, 4473, 5199, 5957, 4011, 3036, 2773, 6338, 5913, 5803, 5370, 6124, 5529, 6087, 5918, 5692, 6321, 6531, 6488, 6531, 6059, 6038, 6140, 6096, 8097, 8797, 8942, 9358, 10709, 10802, 13124, 13016, 14089, 10798, 13975, 12826, 9816, 10852, 14238, 10141, 11299, 11651, 10672, 11827, 10954, 10047, 8854, 10082, 10011, 9583, 9070, 9549, 10459, 11050, 12183, 11423, 16594, 13215, 10126, 6565, 7540, 1053, 2100, 5379, 6064, 6164, 5514, 7701, 9901, 11476, 12684, 12516, 12635, 11360, 11064, 11618, 9499, 8038, 2262, 3848, 3873, 4626, 4512, 3161, 3685, 2889, 2584, 6656, 8609, 8307, 9964, 10164, 10170, 10466, 10827, 9667, 8770, 8164, 8817, 7940, 5727, 8072, 8593, 8838, 8992, 8474, 9085, 9797, 8574, 7992, 8081, 8325, 8964, 9097, 8819, 9000, 8935, 12220, 11186, 11268, 7649, 8236, 7380, 6911, 7035, 6282, 7209, 6188, 6342, 6009, 7965, 8960, 7102, 6794, 7746, 7705, 7248, 6037, 7158, 7988, 7480, 7875, 8712, 7708, 10185, 10731, 9271, 8823, 7879, 6126, 4411, 6633, 6961, 7736, 7653, 10202, 8522, 10789, 9008, 12034, 9794, 13148, 13393, 13332, 11934, 13066, 13986, 14153, 11239, 12129, 10425, 11380, 9824, 6833, 10568, 10707, 16875, 12404, 11455, 11595, 14278, 18111, 18832, 14622, 13467, 17709, 24589, 15713, 16235, 14964, 10418, 10757, 9859, 17026, 15710, 15137, 14343, 15407, 14610, 13921, 16352, 16668, 17616, 12177, 9806, 11390, 5002, 6895, 14064, 7176, 9741, 7584, 5598, 5160, 6916, 4638, 4523, 5817, 5117, 4908, 4896, 4329, 4796, 4563, 4139, 3681, 3576, 2799, 3384, 4424, 4498]}],\n",
              "                        {\"showlegend\": true, \"template\": {\"data\": {\"bar\": [{\"error_x\": {\"color\": \"#2a3f5f\"}, \"error_y\": {\"color\": \"#2a3f5f\"}, \"marker\": {\"line\": {\"color\": \"#E5ECF6\", \"width\": 0.5}}, \"type\": \"bar\"}], \"barpolar\": [{\"marker\": {\"line\": {\"color\": \"#E5ECF6\", \"width\": 0.5}}, \"type\": \"barpolar\"}], \"carpet\": [{\"aaxis\": {\"endlinecolor\": \"#2a3f5f\", \"gridcolor\": \"white\", \"linecolor\": \"white\", \"minorgridcolor\": \"white\", \"startlinecolor\": \"#2a3f5f\"}, \"baxis\": {\"endlinecolor\": \"#2a3f5f\", \"gridcolor\": \"white\", \"linecolor\": \"white\", \"minorgridcolor\": \"white\", \"startlinecolor\": \"#2a3f5f\"}, \"type\": \"carpet\"}], \"choropleth\": [{\"colorbar\": {\"outlinewidth\": 0, \"ticks\": \"\"}, \"type\": \"choropleth\"}], \"contour\": [{\"colorbar\": {\"outlinewidth\": 0, \"ticks\": \"\"}, \"colorscale\": [[0.0, \"#0d0887\"], [0.1111111111111111, \"#46039f\"], [0.2222222222222222, \"#7201a8\"], [0.3333333333333333, \"#9c179e\"], [0.4444444444444444, \"#bd3786\"], [0.5555555555555556, \"#d8576b\"], [0.6666666666666666, \"#ed7953\"], [0.7777777777777778, \"#fb9f3a\"], [0.8888888888888888, \"#fdca26\"], [1.0, \"#f0f921\"]], \"type\": \"contour\"}], \"contourcarpet\": [{\"colorbar\": {\"outlinewidth\": 0, \"ticks\": \"\"}, \"type\": \"contourcarpet\"}], \"heatmap\": [{\"colorbar\": {\"outlinewidth\": 0, \"ticks\": \"\"}, \"colorscale\": [[0.0, \"#0d0887\"], [0.1111111111111111, \"#46039f\"], [0.2222222222222222, \"#7201a8\"], [0.3333333333333333, \"#9c179e\"], [0.4444444444444444, \"#bd3786\"], [0.5555555555555556, \"#d8576b\"], [0.6666666666666666, \"#ed7953\"], [0.7777777777777778, \"#fb9f3a\"], [0.8888888888888888, \"#fdca26\"], [1.0, \"#f0f921\"]], \"type\": \"heatmap\"}], \"heatmapgl\": [{\"colorbar\": {\"outlinewidth\": 0, \"ticks\": \"\"}, \"colorscale\": [[0.0, \"#0d0887\"], [0.1111111111111111, \"#46039f\"], [0.2222222222222222, \"#7201a8\"], [0.3333333333333333, \"#9c179e\"], [0.4444444444444444, \"#bd3786\"], [0.5555555555555556, \"#d8576b\"], [0.6666666666666666, \"#ed7953\"], [0.7777777777777778, \"#fb9f3a\"], [0.8888888888888888, \"#fdca26\"], [1.0, \"#f0f921\"]], \"type\": \"heatmapgl\"}], \"histogram\": [{\"marker\": {\"colorbar\": {\"outlinewidth\": 0, \"ticks\": \"\"}}, \"type\": \"histogram\"}], \"histogram2d\": [{\"colorbar\": {\"outlinewidth\": 0, \"ticks\": \"\"}, \"colorscale\": [[0.0, \"#0d0887\"], [0.1111111111111111, \"#46039f\"], [0.2222222222222222, \"#7201a8\"], [0.3333333333333333, \"#9c179e\"], [0.4444444444444444, \"#bd3786\"], [0.5555555555555556, \"#d8576b\"], [0.6666666666666666, \"#ed7953\"], [0.7777777777777778, \"#fb9f3a\"], [0.8888888888888888, \"#fdca26\"], [1.0, \"#f0f921\"]], \"type\": \"histogram2d\"}], \"histogram2dcontour\": [{\"colorbar\": {\"outlinewidth\": 0, \"ticks\": \"\"}, \"colorscale\": [[0.0, \"#0d0887\"], [0.1111111111111111, \"#46039f\"], [0.2222222222222222, \"#7201a8\"], [0.3333333333333333, \"#9c179e\"], [0.4444444444444444, \"#bd3786\"], [0.5555555555555556, \"#d8576b\"], [0.6666666666666666, \"#ed7953\"], [0.7777777777777778, \"#fb9f3a\"], [0.8888888888888888, \"#fdca26\"], [1.0, \"#f0f921\"]], \"type\": \"histogram2dcontour\"}], \"mesh3d\": [{\"colorbar\": {\"outlinewidth\": 0, \"ticks\": \"\"}, \"type\": \"mesh3d\"}], \"parcoords\": [{\"line\": {\"colorbar\": {\"outlinewidth\": 0, \"ticks\": \"\"}}, \"type\": \"parcoords\"}], \"pie\": [{\"automargin\": true, \"type\": \"pie\"}], \"scatter\": [{\"marker\": {\"colorbar\": {\"outlinewidth\": 0, \"ticks\": \"\"}}, \"type\": \"scatter\"}], \"scatter3d\": [{\"line\": {\"colorbar\": {\"outlinewidth\": 0, \"ticks\": \"\"}}, \"marker\": {\"colorbar\": {\"outlinewidth\": 0, \"ticks\": \"\"}}, \"type\": \"scatter3d\"}], \"scattercarpet\": [{\"marker\": {\"colorbar\": {\"outlinewidth\": 0, \"ticks\": \"\"}}, \"type\": \"scattercarpet\"}], \"scattergeo\": [{\"marker\": {\"colorbar\": {\"outlinewidth\": 0, \"ticks\": \"\"}}, \"type\": \"scattergeo\"}], \"scattergl\": [{\"marker\": {\"colorbar\": {\"outlinewidth\": 0, \"ticks\": \"\"}}, \"type\": \"scattergl\"}], \"scattermapbox\": [{\"marker\": {\"colorbar\": {\"outlinewidth\": 0, \"ticks\": \"\"}}, \"type\": \"scattermapbox\"}], \"scatterpolar\": [{\"marker\": {\"colorbar\": {\"outlinewidth\": 0, \"ticks\": \"\"}}, \"type\": \"scatterpolar\"}], \"scatterpolargl\": [{\"marker\": {\"colorbar\": {\"outlinewidth\": 0, \"ticks\": \"\"}}, \"type\": \"scatterpolargl\"}], \"scatterternary\": [{\"marker\": {\"colorbar\": {\"outlinewidth\": 0, \"ticks\": \"\"}}, \"type\": \"scatterternary\"}], \"surface\": [{\"colorbar\": {\"outlinewidth\": 0, \"ticks\": \"\"}, \"colorscale\": [[0.0, \"#0d0887\"], [0.1111111111111111, \"#46039f\"], [0.2222222222222222, \"#7201a8\"], [0.3333333333333333, \"#9c179e\"], [0.4444444444444444, \"#bd3786\"], [0.5555555555555556, \"#d8576b\"], [0.6666666666666666, \"#ed7953\"], [0.7777777777777778, \"#fb9f3a\"], [0.8888888888888888, \"#fdca26\"], [1.0, \"#f0f921\"]], \"type\": \"surface\"}], \"table\": [{\"cells\": {\"fill\": {\"color\": \"#EBF0F8\"}, \"line\": {\"color\": \"white\"}}, \"header\": {\"fill\": {\"color\": \"#C8D4E3\"}, \"line\": {\"color\": \"white\"}}, \"type\": \"table\"}]}, \"layout\": {\"annotationdefaults\": {\"arrowcolor\": \"#2a3f5f\", \"arrowhead\": 0, \"arrowwidth\": 1}, \"coloraxis\": {\"colorbar\": {\"outlinewidth\": 0, \"ticks\": \"\"}}, \"colorscale\": {\"diverging\": [[0, \"#8e0152\"], [0.1, \"#c51b7d\"], [0.2, \"#de77ae\"], [0.3, \"#f1b6da\"], [0.4, \"#fde0ef\"], [0.5, \"#f7f7f7\"], [0.6, \"#e6f5d0\"], [0.7, \"#b8e186\"], [0.8, \"#7fbc41\"], [0.9, \"#4d9221\"], [1, \"#276419\"]], \"sequential\": [[0.0, \"#0d0887\"], [0.1111111111111111, \"#46039f\"], [0.2222222222222222, \"#7201a8\"], [0.3333333333333333, \"#9c179e\"], [0.4444444444444444, \"#bd3786\"], [0.5555555555555556, \"#d8576b\"], [0.6666666666666666, \"#ed7953\"], [0.7777777777777778, \"#fb9f3a\"], [0.8888888888888888, \"#fdca26\"], [1.0, \"#f0f921\"]], \"sequentialminus\": [[0.0, \"#0d0887\"], [0.1111111111111111, \"#46039f\"], [0.2222222222222222, \"#7201a8\"], [0.3333333333333333, \"#9c179e\"], [0.4444444444444444, \"#bd3786\"], [0.5555555555555556, \"#d8576b\"], [0.6666666666666666, \"#ed7953\"], [0.7777777777777778, \"#fb9f3a\"], [0.8888888888888888, \"#fdca26\"], [1.0, \"#f0f921\"]]}, \"colorway\": [\"#636efa\", \"#EF553B\", \"#00cc96\", \"#ab63fa\", \"#FFA15A\", \"#19d3f3\", \"#FF6692\", \"#B6E880\", \"#FF97FF\", \"#FECB52\"], \"font\": {\"color\": \"#2a3f5f\"}, \"geo\": {\"bgcolor\": \"white\", \"lakecolor\": \"white\", \"landcolor\": \"#E5ECF6\", \"showlakes\": true, \"showland\": true, \"subunitcolor\": \"white\"}, \"hoverlabel\": {\"align\": \"left\"}, \"hovermode\": \"closest\", \"mapbox\": {\"style\": \"light\"}, \"paper_bgcolor\": \"white\", \"plot_bgcolor\": \"#E5ECF6\", \"polar\": {\"angularaxis\": {\"gridcolor\": \"white\", \"linecolor\": \"white\", \"ticks\": \"\"}, \"bgcolor\": \"#E5ECF6\", \"radialaxis\": {\"gridcolor\": \"white\", \"linecolor\": \"white\", \"ticks\": \"\"}}, \"scene\": {\"xaxis\": {\"backgroundcolor\": \"#E5ECF6\", \"gridcolor\": \"white\", \"gridwidth\": 2, \"linecolor\": \"white\", \"showbackground\": true, \"ticks\": \"\", \"zerolinecolor\": \"white\"}, \"yaxis\": {\"backgroundcolor\": \"#E5ECF6\", \"gridcolor\": \"white\", \"gridwidth\": 2, \"linecolor\": \"white\", \"showbackground\": true, \"ticks\": \"\", \"zerolinecolor\": \"white\"}, \"zaxis\": {\"backgroundcolor\": \"#E5ECF6\", \"gridcolor\": \"white\", \"gridwidth\": 2, \"linecolor\": \"white\", \"showbackground\": true, \"ticks\": \"\", \"zerolinecolor\": \"white\"}}, \"shapedefaults\": {\"line\": {\"color\": \"#2a3f5f\"}}, \"ternary\": {\"aaxis\": {\"gridcolor\": \"white\", \"linecolor\": \"white\", \"ticks\": \"\"}, \"baxis\": {\"gridcolor\": \"white\", \"linecolor\": \"white\", \"ticks\": \"\"}, \"bgcolor\": \"#E5ECF6\", \"caxis\": {\"gridcolor\": \"white\", \"linecolor\": \"white\", \"ticks\": \"\"}}, \"title\": {\"x\": 0.05}, \"xaxis\": {\"automargin\": true, \"gridcolor\": \"white\", \"linecolor\": \"white\", \"ticks\": \"\", \"title\": {\"standoff\": 15}, \"zerolinecolor\": \"white\", \"zerolinewidth\": 2}, \"yaxis\": {\"automargin\": true, \"gridcolor\": \"white\", \"linecolor\": \"white\", \"ticks\": \"\", \"title\": {\"standoff\": 15}, \"zerolinecolor\": \"white\", \"zerolinewidth\": 2}}}, \"title\": {\"text\": \"Recuperados por dia\"}},\n",
              "                        {\"responsive\": true}\n",
              "                    ).then(function(){\n",
              "                            \n",
              "var gd = document.getElementById('2f91168f-db94-4872-adfc-737cf920cc65');\n",
              "var x = new MutationObserver(function (mutations, observer) {{\n",
              "        var display = window.getComputedStyle(gd).display;\n",
              "        if (!display || display === 'none') {{\n",
              "            console.log([gd, 'removed!']);\n",
              "            Plotly.purge(gd);\n",
              "            observer.disconnect();\n",
              "        }}\n",
              "}});\n",
              "\n",
              "// Listen for the removal of the full notebook cells\n",
              "var notebookContainer = gd.closest('#notebook-container');\n",
              "if (notebookContainer) {{\n",
              "    x.observe(notebookContainer, {childList: true});\n",
              "}}\n",
              "\n",
              "// Listen for the clearing of the current output cell\n",
              "var outputEl = gd.closest('.output');\n",
              "if (outputEl) {{\n",
              "    x.observe(outputEl, {childList: true});\n",
              "}}\n",
              "\n",
              "                        })\n",
              "                };\n",
              "                \n",
              "            </script>\n",
              "        </div>\n",
              "</body>\n",
              "</html>"
            ]
          },
          "metadata": {
            "tags": []
          }
        }
      ]
    },
    {
      "cell_type": "code",
      "metadata": {
        "colab": {
          "base_uri": "https://localhost:8080/"
        },
        "id": "LX0JzF_XKGUG",
        "outputId": "4622123f-5690-4a7b-c509-89e3e1888fb0"
      },
      "source": [
        "len(results_df[(results_df[\"recuperado\"]==\"Recuperado\") & (results_df[\"tipo_recuperacion\"]==\"Tiempo\")][\"fecha_recuperado\"])/len(results_df[results_df[\"recuperado\"]==\"Recuperado\"][\"fecha_recuperado\"])"
      ],
      "execution_count": null,
      "outputs": [
        {
          "output_type": "execute_result",
          "data": {
            "text/plain": [
              "0.8818085335977465"
            ]
          },
          "metadata": {
            "tags": []
          },
          "execution_count": 21
        }
      ]
    },
    {
      "cell_type": "code",
      "metadata": {
        "colab": {
          "base_uri": "https://localhost:8080/"
        },
        "id": "q8AHxQLXvldv",
        "outputId": "ce3ab0a3-6527-42d1-b545-ef86af40be72"
      },
      "source": [
        "sum(df[\"NUEVOS_CASOS\"])"
      ],
      "execution_count": null,
      "outputs": [
        {
          "output_type": "execute_result",
          "data": {
            "text/plain": [
              "2262563"
            ]
          },
          "metadata": {
            "tags": []
          },
          "execution_count": 22
        }
      ]
    },
    {
      "cell_type": "code",
      "metadata": {
        "colab": {
          "base_uri": "https://localhost:8080/"
        },
        "id": "gBTQ3X0hvlVo",
        "outputId": "eaf2bac9-fcc1-421b-b688-e2e24eee6ce5"
      },
      "source": [
        "sum(casos_diarios_DF[\"casos por dia\"])"
      ],
      "execution_count": null,
      "outputs": [
        {
          "output_type": "execute_result",
          "data": {
            "text/plain": [
              "2217001"
            ]
          },
          "metadata": {
            "tags": []
          },
          "execution_count": 23
        }
      ]
    },
    {
      "cell_type": "code",
      "metadata": {
        "colab": {
          "base_uri": "https://localhost:8080/"
        },
        "id": "iK-LEBPo2aUy",
        "outputId": "d3e117b8-bb47-4349-f77e-b8d479c19f66"
      },
      "source": [
        "sum(casos_diarios_DF[\"fallecidos por dia\"])"
      ],
      "execution_count": null,
      "outputs": [
        {
          "output_type": "execute_result",
          "data": {
            "text/plain": [
              "58780"
            ]
          },
          "metadata": {
            "tags": []
          },
          "execution_count": 24
        }
      ]
    },
    {
      "cell_type": "code",
      "metadata": {
        "colab": {
          "base_uri": "https://localhost:8080/"
        },
        "id": "Ol45t7TAFXHh",
        "outputId": "d14c9255-55e2-4e8c-f212-1fb62c096540"
      },
      "source": [
        "sum(df[\"NUEVOS_MUERTOS\"])"
      ],
      "execution_count": null,
      "outputs": [
        {
          "output_type": "execute_result",
          "data": {
            "text/plain": [
              "60081"
            ]
          },
          "metadata": {
            "tags": []
          },
          "execution_count": 25
        }
      ]
    },
    {
      "cell_type": "code",
      "metadata": {
        "colab": {
          "base_uri": "https://localhost:8080/"
        },
        "id": "JCxLYicjvERo",
        "outputId": "9b128dc1-7528-42b5-d7ab-d9ef40885cc8"
      },
      "source": [
        "sum(df[\"NUEVO_RECUPERADOS\"])"
      ],
      "execution_count": null,
      "outputs": [
        {
          "output_type": "execute_result",
          "data": {
            "text/plain": [
              "2160525"
            ]
          },
          "metadata": {
            "tags": []
          },
          "execution_count": 26
        }
      ]
    },
    {
      "cell_type": "code",
      "metadata": {
        "colab": {
          "base_uri": "https://localhost:8080/"
        },
        "id": "KwclI-hhFdlX",
        "outputId": "4e98a2c0-1864-4bb3-b048-54f4532699b6"
      },
      "source": [
        "sum(casos_diarios_DF[\"recuperados por dia\"])"
      ],
      "execution_count": null,
      "outputs": [
        {
          "output_type": "execute_result",
          "data": {
            "text/plain": [
              "2102774"
            ]
          },
          "metadata": {
            "tags": []
          },
          "execution_count": 27
        }
      ]
    },
    {
      "cell_type": "code",
      "metadata": {
        "id": "iaILB3FdFkU1"
      },
      "source": [
        "casos_diarios_DF[\"acumulado muertes\"] = [sum(casos_diarios_DF[\"fallecidos por dia\"][:x]) for x in range(0,len(casos_diarios_DF[\"fallecidos por dia\"]))]\n",
        "casos_diarios_DF[\"acumulado recuperados\"] = [sum(casos_diarios_DF[\"recuperados por dia\"][:x]) for x in range(0,len(casos_diarios_DF[\"recuperados por dia\"]))]\n",
        "casos_diarios_DF[\"acumulado casos\"] = [sum(casos_diarios_DF[\"casos por dia\"][:x]) for x in range(0,len(casos_diarios_DF[\"casos por dia\"]))]\n",
        "casos_diarios_DF[\"acumulado sintomaticos\"] = [sum(casos_diarios_DF[\"sintomaticos activos\"][:x]) for x in range(0,len(casos_diarios_DF[\"sintomaticos activos\"]))]\n",
        "casos_diarios_DF[\"acumulado expuestos\"] = [sum(casos_diarios_DF[\"expuestos\"][:x]) for x in range(0,len(casos_diarios_DF[\"expuestos\"]))]"
      ],
      "execution_count": null,
      "outputs": []
    },
    {
      "cell_type": "code",
      "metadata": {
        "id": "O3SLrzI2KErX"
      },
      "source": [
        "casos_diarios_DF[\"activos por dia\"] = casos_diarios_DF[\"acumulado casos\"]-casos_diarios_DF[\"acumulado recuperados\"]-casos_diarios_DF[\"acumulado muertes\"]"
      ],
      "execution_count": null,
      "outputs": []
    },
    {
      "cell_type": "code",
      "metadata": {
        "id": "8kSNNPETWcao"
      },
      "source": [
        "casos_diarios_DF['asintomaticos']=casos_diarios_DF[\"activos por dia\"]-casos_diarios_DF[\"acumulado sintomaticos\"]"
      ],
      "execution_count": null,
      "outputs": []
    },
    {
      "cell_type": "code",
      "metadata": {
        "id": "GM6ZsO_vXdE6",
        "colab": {
          "base_uri": "https://localhost:8080/"
        },
        "outputId": "ece28935-12c5-4e45-8e85-b59fea3d95bb"
      },
      "source": [
        "actv=df[\"NUEVOS_CASOS\"]-df[\"NUEVOS_MUERTOS\"]-df[\"NUEVO_RECUPERADOS\"]\n",
        "actv"
      ],
      "execution_count": null,
      "outputs": [
        {
          "output_type": "execute_result",
          "data": {
            "text/plain": [
              "0         1\n",
              "1         0\n",
              "2         0\n",
              "3         2\n",
              "4         0\n",
              "       ... \n",
              "358    -375\n",
              "359     650\n",
              "360      86\n",
              "361    -191\n",
              "362   -1561\n",
              "Length: 363, dtype: int64"
            ]
          },
          "metadata": {
            "tags": []
          },
          "execution_count": 31
        }
      ]
    },
    {
      "cell_type": "code",
      "metadata": {
        "colab": {
          "base_uri": "https://localhost:8080/",
          "height": 542
        },
        "id": "0fubKtxqNXkS",
        "outputId": "0a4e8082-8f1f-4892-e834-09207cab1a54"
      },
      "source": [
        "fig = go.Figure()\n",
        "\n",
        "fig.add_trace(go.Scatter(\n",
        "    x=casos_diarios_DF[\"fechas\"],\n",
        "    y=casos_diarios_DF[\"activos por dia\"],\n",
        "    name=\"Preprocesamiento propio\"\n",
        "))\n",
        "\n",
        "fig.add_trace(go.Scatter(\n",
        "    x=casos_diarios_DF[\"fechas\"],\n",
        "    y=casos_diarios_DF[\"acumulado sintomaticos\"],\n",
        "    name=\"sintomaticos activos\"\n",
        "))\n",
        "\n",
        "fig.add_trace(go.Scatter(\n",
        "    x=casos_diarios_DF[\"fechas\"],\n",
        "    y=casos_diarios_DF[\"acumulado expuestos\"],\n",
        "    name=\"expuestos\"\n",
        "))\n",
        "fig.update_layout(title=\"Activos por dia\")\n",
        "\n",
        "fig.update_layout(showlegend=True)\n",
        "\n",
        "fig.show()"
      ],
      "execution_count": null,
      "outputs": [
        {
          "output_type": "display_data",
          "data": {
            "text/html": [
              "<html>\n",
              "<head><meta charset=\"utf-8\" /></head>\n",
              "<body>\n",
              "    <div>\n",
              "            <script src=\"https://cdnjs.cloudflare.com/ajax/libs/mathjax/2.7.5/MathJax.js?config=TeX-AMS-MML_SVG\"></script><script type=\"text/javascript\">if (window.MathJax) {MathJax.Hub.Config({SVG: {font: \"STIX-Web\"}});}</script>\n",
              "                <script type=\"text/javascript\">window.PlotlyConfig = {MathJaxConfig: 'local'};</script>\n",
              "        <script src=\"https://cdn.plot.ly/plotly-latest.min.js\"></script>    \n",
              "            <div id=\"67e935e7-a63a-4198-912c-702e492d2d52\" class=\"plotly-graph-div\" style=\"height:525px; width:100%;\"></div>\n",
              "            <script type=\"text/javascript\">\n",
              "                \n",
              "                    window.PLOTLYENV=window.PLOTLYENV || {};\n",
              "                    \n",
              "                if (document.getElementById(\"67e935e7-a63a-4198-912c-702e492d2d52\")) {\n",
              "                    Plotly.newPlot(\n",
              "                        '67e935e7-a63a-4198-912c-702e492d2d52',\n",
              "                        [{\"name\": \"Preprocesamiento propio\", \"type\": \"scatter\", \"x\": [\"2020-02-27T00:00:00\", \"2020-02-28T00:00:00\", \"2020-02-29T00:00:00\", \"2020-03-01T00:00:00\", \"2020-03-02T00:00:00\", \"2020-03-03T00:00:00\", \"2020-03-04T00:00:00\", \"2020-03-05T00:00:00\", \"2020-03-06T00:00:00\", \"2020-03-07T00:00:00\", \"2020-03-08T00:00:00\", \"2020-03-09T00:00:00\", \"2020-03-10T00:00:00\", \"2020-03-11T00:00:00\", \"2020-03-12T00:00:00\", \"2020-03-13T00:00:00\", \"2020-03-14T00:00:00\", \"2020-03-15T00:00:00\", \"2020-03-16T00:00:00\", \"2020-03-17T00:00:00\", \"2020-03-18T00:00:00\", \"2020-03-19T00:00:00\", \"2020-03-20T00:00:00\", \"2020-03-21T00:00:00\", \"2020-03-22T00:00:00\", \"2020-03-23T00:00:00\", \"2020-03-24T00:00:00\", \"2020-03-25T00:00:00\", \"2020-03-26T00:00:00\", \"2020-03-27T00:00:00\", \"2020-03-28T00:00:00\", \"2020-03-29T00:00:00\", \"2020-03-30T00:00:00\", \"2020-03-31T00:00:00\", \"2020-04-01T00:00:00\", \"2020-04-02T00:00:00\", \"2020-04-03T00:00:00\", \"2020-04-04T00:00:00\", \"2020-04-05T00:00:00\", \"2020-04-06T00:00:00\", \"2020-04-07T00:00:00\", \"2020-04-08T00:00:00\", \"2020-04-09T00:00:00\", \"2020-04-10T00:00:00\", \"2020-04-11T00:00:00\", \"2020-04-12T00:00:00\", \"2020-04-13T00:00:00\", \"2020-04-14T00:00:00\", \"2020-04-15T00:00:00\", \"2020-04-16T00:00:00\", \"2020-04-17T00:00:00\", \"2020-04-18T00:00:00\", \"2020-04-19T00:00:00\", \"2020-04-20T00:00:00\", \"2020-04-21T00:00:00\", \"2020-04-22T00:00:00\", \"2020-04-23T00:00:00\", \"2020-04-24T00:00:00\", \"2020-04-25T00:00:00\", \"2020-04-26T00:00:00\", \"2020-04-27T00:00:00\", \"2020-04-28T00:00:00\", \"2020-04-29T00:00:00\", \"2020-04-30T00:00:00\", \"2020-05-01T00:00:00\", \"2020-05-02T00:00:00\", \"2020-05-03T00:00:00\", \"2020-05-04T00:00:00\", \"2020-05-05T00:00:00\", \"2020-05-06T00:00:00\", \"2020-05-07T00:00:00\", \"2020-05-08T00:00:00\", \"2020-05-09T00:00:00\", \"2020-05-10T00:00:00\", \"2020-05-11T00:00:00\", \"2020-05-12T00:00:00\", \"2020-05-13T00:00:00\", \"2020-05-14T00:00:00\", \"2020-05-15T00:00:00\", \"2020-05-16T00:00:00\", \"2020-05-17T00:00:00\", \"2020-05-18T00:00:00\", \"2020-05-19T00:00:00\", \"2020-05-20T00:00:00\", \"2020-05-21T00:00:00\", \"2020-05-22T00:00:00\", \"2020-05-23T00:00:00\", \"2020-05-24T00:00:00\", \"2020-05-25T00:00:00\", \"2020-05-26T00:00:00\", \"2020-05-27T00:00:00\", \"2020-05-28T00:00:00\", \"2020-05-29T00:00:00\", \"2020-05-30T00:00:00\", \"2020-05-31T00:00:00\", \"2020-06-01T00:00:00\", \"2020-06-02T00:00:00\", \"2020-06-03T00:00:00\", \"2020-06-04T00:00:00\", \"2020-06-05T00:00:00\", \"2020-06-06T00:00:00\", \"2020-06-07T00:00:00\", \"2020-06-08T00:00:00\", \"2020-06-09T00:00:00\", \"2020-06-10T00:00:00\", \"2020-06-11T00:00:00\", \"2020-06-12T00:00:00\", \"2020-06-13T00:00:00\", \"2020-06-14T00:00:00\", \"2020-06-15T00:00:00\", \"2020-06-16T00:00:00\", \"2020-06-17T00:00:00\", \"2020-06-18T00:00:00\", \"2020-06-19T00:00:00\", \"2020-06-20T00:00:00\", \"2020-06-21T00:00:00\", \"2020-06-22T00:00:00\", \"2020-06-23T00:00:00\", \"2020-06-24T00:00:00\", \"2020-06-25T00:00:00\", \"2020-06-26T00:00:00\", \"2020-06-27T00:00:00\", \"2020-06-28T00:00:00\", \"2020-06-29T00:00:00\", \"2020-06-30T00:00:00\", \"2020-07-01T00:00:00\", \"2020-07-02T00:00:00\", \"2020-07-03T00:00:00\", \"2020-07-04T00:00:00\", \"2020-07-05T00:00:00\", \"2020-07-06T00:00:00\", \"2020-07-07T00:00:00\", \"2020-07-08T00:00:00\", \"2020-07-09T00:00:00\", \"2020-07-10T00:00:00\", \"2020-07-11T00:00:00\", \"2020-07-12T00:00:00\", \"2020-07-13T00:00:00\", \"2020-07-14T00:00:00\", \"2020-07-15T00:00:00\", \"2020-07-16T00:00:00\", \"2020-07-17T00:00:00\", \"2020-07-18T00:00:00\", \"2020-07-19T00:00:00\", \"2020-07-20T00:00:00\", \"2020-07-21T00:00:00\", \"2020-07-22T00:00:00\", \"2020-07-23T00:00:00\", \"2020-07-24T00:00:00\", \"2020-07-25T00:00:00\", \"2020-07-26T00:00:00\", \"2020-07-27T00:00:00\", \"2020-07-28T00:00:00\", \"2020-07-29T00:00:00\", \"2020-07-30T00:00:00\", \"2020-07-31T00:00:00\", \"2020-08-01T00:00:00\", \"2020-08-02T00:00:00\", \"2020-08-03T00:00:00\", \"2020-08-04T00:00:00\", \"2020-08-05T00:00:00\", \"2020-08-06T00:00:00\", \"2020-08-07T00:00:00\", \"2020-08-08T00:00:00\", \"2020-08-09T00:00:00\", \"2020-08-10T00:00:00\", \"2020-08-11T00:00:00\", \"2020-08-12T00:00:00\", \"2020-08-13T00:00:00\", \"2020-08-14T00:00:00\", \"2020-08-15T00:00:00\", \"2020-08-16T00:00:00\", \"2020-08-17T00:00:00\", \"2020-08-18T00:00:00\", \"2020-08-19T00:00:00\", \"2020-08-20T00:00:00\", \"2020-08-21T00:00:00\", \"2020-08-22T00:00:00\", \"2020-08-23T00:00:00\", \"2020-08-24T00:00:00\", \"2020-08-25T00:00:00\", \"2020-08-26T00:00:00\", \"2020-08-27T00:00:00\", \"2020-08-28T00:00:00\", \"2020-08-29T00:00:00\", \"2020-08-30T00:00:00\", \"2020-08-31T00:00:00\", \"2020-09-01T00:00:00\", \"2020-09-02T00:00:00\", \"2020-09-03T00:00:00\", \"2020-09-04T00:00:00\", \"2020-09-05T00:00:00\", \"2020-09-06T00:00:00\", \"2020-09-07T00:00:00\", \"2020-09-08T00:00:00\", \"2020-09-09T00:00:00\", \"2020-09-10T00:00:00\", \"2020-09-11T00:00:00\", \"2020-09-12T00:00:00\", \"2020-09-13T00:00:00\", \"2020-09-14T00:00:00\", \"2020-09-15T00:00:00\", \"2020-09-16T00:00:00\", \"2020-09-17T00:00:00\", \"2020-09-18T00:00:00\", \"2020-09-19T00:00:00\", \"2020-09-20T00:00:00\", \"2020-09-21T00:00:00\", \"2020-09-22T00:00:00\", \"2020-09-23T00:00:00\", \"2020-09-24T00:00:00\", \"2020-09-25T00:00:00\", \"2020-09-26T00:00:00\", \"2020-09-27T00:00:00\", \"2020-09-28T00:00:00\", \"2020-09-29T00:00:00\", \"2020-09-30T00:00:00\", \"2020-10-01T00:00:00\", \"2020-10-02T00:00:00\", \"2020-10-03T00:00:00\", \"2020-10-04T00:00:00\", \"2020-10-05T00:00:00\", \"2020-10-06T00:00:00\", \"2020-10-07T00:00:00\", \"2020-10-08T00:00:00\", \"2020-10-09T00:00:00\", \"2020-10-10T00:00:00\", \"2020-10-11T00:00:00\", \"2020-10-12T00:00:00\", \"2020-10-13T00:00:00\", \"2020-10-14T00:00:00\", \"2020-10-15T00:00:00\", \"2020-10-16T00:00:00\", \"2020-10-17T00:00:00\", \"2020-10-18T00:00:00\", \"2020-10-19T00:00:00\", \"2020-10-20T00:00:00\", \"2020-10-21T00:00:00\", \"2020-10-22T00:00:00\", \"2020-10-23T00:00:00\", \"2020-10-24T00:00:00\", \"2020-10-25T00:00:00\", \"2020-10-26T00:00:00\", \"2020-10-27T00:00:00\", \"2020-10-28T00:00:00\", \"2020-10-29T00:00:00\", \"2020-10-30T00:00:00\", \"2020-10-31T00:00:00\", \"2020-11-01T00:00:00\", \"2020-11-02T00:00:00\", \"2020-11-03T00:00:00\", \"2020-11-04T00:00:00\", \"2020-11-05T00:00:00\", \"2020-11-06T00:00:00\", \"2020-11-07T00:00:00\", \"2020-11-08T00:00:00\", \"2020-11-09T00:00:00\", \"2020-11-10T00:00:00\", \"2020-11-11T00:00:00\", \"2020-11-12T00:00:00\", \"2020-11-13T00:00:00\", \"2020-11-14T00:00:00\", \"2020-11-15T00:00:00\", \"2020-11-16T00:00:00\", \"2020-11-17T00:00:00\", \"2020-11-18T00:00:00\", \"2020-11-19T00:00:00\", \"2020-11-20T00:00:00\", \"2020-11-21T00:00:00\", \"2020-11-22T00:00:00\", \"2020-11-23T00:00:00\", \"2020-11-24T00:00:00\", \"2020-11-25T00:00:00\", \"2020-11-26T00:00:00\", \"2020-11-27T00:00:00\", \"2020-11-28T00:00:00\", \"2020-11-29T00:00:00\", \"2020-11-30T00:00:00\", \"2020-12-01T00:00:00\", \"2020-12-02T00:00:00\", \"2020-12-03T00:00:00\", \"2020-12-04T00:00:00\", \"2020-12-05T00:00:00\", \"2020-12-06T00:00:00\", \"2020-12-07T00:00:00\", \"2020-12-08T00:00:00\", \"2020-12-09T00:00:00\", \"2020-12-10T00:00:00\", \"2020-12-11T00:00:00\", \"2020-12-12T00:00:00\", \"2020-12-13T00:00:00\", \"2020-12-14T00:00:00\", \"2020-12-15T00:00:00\", \"2020-12-16T00:00:00\", \"2020-12-17T00:00:00\", \"2020-12-18T00:00:00\", \"2020-12-19T00:00:00\", \"2020-12-20T00:00:00\", \"2020-12-21T00:00:00\", \"2020-12-22T00:00:00\", \"2020-12-23T00:00:00\", \"2020-12-24T00:00:00\", \"2020-12-25T00:00:00\", \"2020-12-26T00:00:00\", \"2020-12-27T00:00:00\", \"2020-12-28T00:00:00\", \"2020-12-29T00:00:00\", \"2020-12-30T00:00:00\", \"2020-12-31T00:00:00\", \"2021-01-01T00:00:00\", \"2021-01-02T00:00:00\", \"2021-01-03T00:00:00\", \"2021-01-04T00:00:00\", \"2021-01-05T00:00:00\", \"2021-01-06T00:00:00\", \"2021-01-07T00:00:00\", \"2021-01-08T00:00:00\", \"2021-01-09T00:00:00\", \"2021-01-10T00:00:00\", \"2021-01-11T00:00:00\", \"2021-01-12T00:00:00\", \"2021-01-13T00:00:00\", \"2021-01-14T00:00:00\", \"2021-01-15T00:00:00\", \"2021-01-16T00:00:00\", \"2021-01-17T00:00:00\", \"2021-01-18T00:00:00\", \"2021-01-19T00:00:00\", \"2021-01-20T00:00:00\", \"2021-01-21T00:00:00\", \"2021-01-22T00:00:00\", \"2021-01-23T00:00:00\", \"2021-01-24T00:00:00\", \"2021-01-25T00:00:00\", \"2021-01-26T00:00:00\", \"2021-01-27T00:00:00\", \"2021-01-28T00:00:00\", \"2021-01-29T00:00:00\", \"2021-01-30T00:00:00\", \"2021-01-31T00:00:00\", \"2021-02-01T00:00:00\", \"2021-02-02T00:00:00\", \"2021-02-03T00:00:00\", \"2021-02-04T00:00:00\", \"2021-02-05T00:00:00\", \"2021-02-06T00:00:00\", \"2021-02-07T00:00:00\", \"2021-02-08T00:00:00\", \"2021-02-09T00:00:00\", \"2021-02-10T00:00:00\", \"2021-02-11T00:00:00\", \"2021-02-12T00:00:00\", \"2021-02-13T00:00:00\", \"2021-02-14T00:00:00\", \"2021-02-15T00:00:00\", \"2021-02-16T00:00:00\", \"2021-02-17T00:00:00\", \"2021-02-18T00:00:00\", \"2021-02-19T00:00:00\"], \"y\": [0, 1, 2, 4, 9, 13, 15, 18, 26, 41, 55, 66, 88, 125, 158, 207, 271, 368, 501, 637, 763, 902, 1063, 1260, 1417, 1565, 1703, 1829, 1978, 2114, 2242, 2367, 2450, 2553, 2628, 2790, 2896, 2982, 3094, 3207, 3351, 3451, 3560, 3654, 3824, 3950, 4047, 4158, 4270, 4375, 4523, 4661, 4864, 5019, 5304, 5451, 5612, 5813, 6043, 6298, 6591, 6905, 7378, 7612, 8050, 8742, 9208, 9707, 10219, 10913, 11488, 12070, 12779, 13430, 14311, 14866, 15658, 16430, 17274, 18221, 19080, 20073, 21182, 22231, 23570, 24633, 25823, 27020, 27912, 29181, 30190, 31311, 32559, 33788, 35120, 34773, 36976, 37557, 38512, 39694, 41300, 43182, 44117, 45934, 47980, 50352, 52500, 54906, 56905, 58843, 61583, 65036, 67910, 70889, 73946, 77524, 79337, 81819, 85581, 88817, 92396, 96100, 99901, 102955, 105760, 110130, 116958, 122341, 128001, 133333, 138216, 143516, 148837, 154503, 159853, 166872, 171890, 177050, 183778, 190270, 196473, 202321, 207514, 211059, 213691, 218979, 225097, 232064, 236875, 245257, 250208, 253752, 258553, 262462, 266702, 269560, 273386, 277566, 279452, 283281, 286238, 289473, 293236, 294550, 297110, 296606, 299598, 299640, 300032, 298587, 297497, 292738, 287751, 281512, 280350, 276251, 273821, 272855, 269060, 261340, 258414, 254844, 253726, 251014, 246419, 242075, 238223, 238158, 236843, 234196, 231487, 229828, 227579, 223161, 220280, 216435, 212631, 204258, 198010, 193975, 192312, 192090, 197614, 201713, 202831, 203913, 203498, 203450, 201579, 197497, 193210, 188690, 185413, 178595, 172861, 171196, 168407, 167970, 169924, 175516, 178470, 179802, 183660, 186820, 190481, 194459, 198672, 203386, 203038, 201231, 201772, 199871, 200867, 200850, 198707, 195700, 196897, 199262, 201182, 202871, 203127, 204609, 203215, 204426, 204853, 204801, 204735, 203449, 200139, 197643, 195715, 194967, 194216, 194105, 193224, 190825, 187631, 186675, 183036, 179433, 176107, 176535, 174412, 172454, 172232, 172627, 173505, 174428, 176454, 176901, 177217, 178301, 177927, 179483, 181449, 182560, 183098, 182795, 187042, 189991, 192001, 194689, 197718, 198461, 199602, 202628, 201344, 204436, 209385, 212821, 217198, 220624, 227794, 234977, 241680, 245792, 247984, 251522, 246573, 251928, 254014, 258759, 260727, 259324, 258305, 256000, 256408, 262600, 264793, 270017, 273586, 278844, 283953, 295614, 307726, 314993, 320746, 323065, 328318, 331873, 332889, 335122, 330124, 324422, 321853, 318300, 308472, 295741, 290687, 285296, 278367, 276052, 271090, 266014, 255838, 246129, 236010, 225730, 214780, 204264, 193979, 182801, 167381, 153264, 144280, 140195, 130745, 126787, 121673, 108810, 103026, 95635, 90040, 85734, 81024, 75169, 71245, 66751, 60756]}, {\"name\": \"sintomaticos activos\", \"type\": \"scatter\", \"x\": [\"2020-02-27T00:00:00\", \"2020-02-28T00:00:00\", \"2020-02-29T00:00:00\", \"2020-03-01T00:00:00\", \"2020-03-02T00:00:00\", \"2020-03-03T00:00:00\", \"2020-03-04T00:00:00\", \"2020-03-05T00:00:00\", \"2020-03-06T00:00:00\", \"2020-03-07T00:00:00\", \"2020-03-08T00:00:00\", \"2020-03-09T00:00:00\", \"2020-03-10T00:00:00\", \"2020-03-11T00:00:00\", \"2020-03-12T00:00:00\", \"2020-03-13T00:00:00\", \"2020-03-14T00:00:00\", \"2020-03-15T00:00:00\", \"2020-03-16T00:00:00\", \"2020-03-17T00:00:00\", \"2020-03-18T00:00:00\", \"2020-03-19T00:00:00\", \"2020-03-20T00:00:00\", \"2020-03-21T00:00:00\", \"2020-03-22T00:00:00\", \"2020-03-23T00:00:00\", \"2020-03-24T00:00:00\", \"2020-03-25T00:00:00\", \"2020-03-26T00:00:00\", \"2020-03-27T00:00:00\", \"2020-03-28T00:00:00\", \"2020-03-29T00:00:00\", \"2020-03-30T00:00:00\", \"2020-03-31T00:00:00\", \"2020-04-01T00:00:00\", \"2020-04-02T00:00:00\", \"2020-04-03T00:00:00\", \"2020-04-04T00:00:00\", \"2020-04-05T00:00:00\", \"2020-04-06T00:00:00\", \"2020-04-07T00:00:00\", \"2020-04-08T00:00:00\", \"2020-04-09T00:00:00\", \"2020-04-10T00:00:00\", \"2020-04-11T00:00:00\", \"2020-04-12T00:00:00\", \"2020-04-13T00:00:00\", \"2020-04-14T00:00:00\", \"2020-04-15T00:00:00\", \"2020-04-16T00:00:00\", \"2020-04-17T00:00:00\", \"2020-04-18T00:00:00\", \"2020-04-19T00:00:00\", \"2020-04-20T00:00:00\", \"2020-04-21T00:00:00\", \"2020-04-22T00:00:00\", \"2020-04-23T00:00:00\", \"2020-04-24T00:00:00\", \"2020-04-25T00:00:00\", \"2020-04-26T00:00:00\", \"2020-04-27T00:00:00\", \"2020-04-28T00:00:00\", \"2020-04-29T00:00:00\", \"2020-04-30T00:00:00\", \"2020-05-01T00:00:00\", \"2020-05-02T00:00:00\", \"2020-05-03T00:00:00\", \"2020-05-04T00:00:00\", \"2020-05-05T00:00:00\", \"2020-05-06T00:00:00\", \"2020-05-07T00:00:00\", \"2020-05-08T00:00:00\", \"2020-05-09T00:00:00\", \"2020-05-10T00:00:00\", \"2020-05-11T00:00:00\", \"2020-05-12T00:00:00\", \"2020-05-13T00:00:00\", \"2020-05-14T00:00:00\", \"2020-05-15T00:00:00\", \"2020-05-16T00:00:00\", \"2020-05-17T00:00:00\", \"2020-05-18T00:00:00\", \"2020-05-19T00:00:00\", \"2020-05-20T00:00:00\", \"2020-05-21T00:00:00\", \"2020-05-22T00:00:00\", \"2020-05-23T00:00:00\", \"2020-05-24T00:00:00\", \"2020-05-25T00:00:00\", \"2020-05-26T00:00:00\", \"2020-05-27T00:00:00\", \"2020-05-28T00:00:00\", \"2020-05-29T00:00:00\", \"2020-05-30T00:00:00\", \"2020-05-31T00:00:00\", \"2020-06-01T00:00:00\", \"2020-06-02T00:00:00\", \"2020-06-03T00:00:00\", \"2020-06-04T00:00:00\", \"2020-06-05T00:00:00\", \"2020-06-06T00:00:00\", \"2020-06-07T00:00:00\", \"2020-06-08T00:00:00\", \"2020-06-09T00:00:00\", \"2020-06-10T00:00:00\", \"2020-06-11T00:00:00\", \"2020-06-12T00:00:00\", \"2020-06-13T00:00:00\", \"2020-06-14T00:00:00\", \"2020-06-15T00:00:00\", \"2020-06-16T00:00:00\", \"2020-06-17T00:00:00\", \"2020-06-18T00:00:00\", \"2020-06-19T00:00:00\", \"2020-06-20T00:00:00\", \"2020-06-21T00:00:00\", \"2020-06-22T00:00:00\", \"2020-06-23T00:00:00\", \"2020-06-24T00:00:00\", \"2020-06-25T00:00:00\", \"2020-06-26T00:00:00\", \"2020-06-27T00:00:00\", \"2020-06-28T00:00:00\", \"2020-06-29T00:00:00\", \"2020-06-30T00:00:00\", \"2020-07-01T00:00:00\", \"2020-07-02T00:00:00\", \"2020-07-03T00:00:00\", \"2020-07-04T00:00:00\", \"2020-07-05T00:00:00\", \"2020-07-06T00:00:00\", \"2020-07-07T00:00:00\", \"2020-07-08T00:00:00\", \"2020-07-09T00:00:00\", \"2020-07-10T00:00:00\", \"2020-07-11T00:00:00\", \"2020-07-12T00:00:00\", \"2020-07-13T00:00:00\", \"2020-07-14T00:00:00\", \"2020-07-15T00:00:00\", \"2020-07-16T00:00:00\", \"2020-07-17T00:00:00\", \"2020-07-18T00:00:00\", \"2020-07-19T00:00:00\", \"2020-07-20T00:00:00\", \"2020-07-21T00:00:00\", \"2020-07-22T00:00:00\", \"2020-07-23T00:00:00\", \"2020-07-24T00:00:00\", \"2020-07-25T00:00:00\", \"2020-07-26T00:00:00\", \"2020-07-27T00:00:00\", \"2020-07-28T00:00:00\", \"2020-07-29T00:00:00\", \"2020-07-30T00:00:00\", \"2020-07-31T00:00:00\", \"2020-08-01T00:00:00\", \"2020-08-02T00:00:00\", \"2020-08-03T00:00:00\", \"2020-08-04T00:00:00\", \"2020-08-05T00:00:00\", \"2020-08-06T00:00:00\", \"2020-08-07T00:00:00\", \"2020-08-08T00:00:00\", \"2020-08-09T00:00:00\", \"2020-08-10T00:00:00\", \"2020-08-11T00:00:00\", \"2020-08-12T00:00:00\", \"2020-08-13T00:00:00\", \"2020-08-14T00:00:00\", \"2020-08-15T00:00:00\", \"2020-08-16T00:00:00\", \"2020-08-17T00:00:00\", \"2020-08-18T00:00:00\", \"2020-08-19T00:00:00\", \"2020-08-20T00:00:00\", \"2020-08-21T00:00:00\", \"2020-08-22T00:00:00\", \"2020-08-23T00:00:00\", \"2020-08-24T00:00:00\", \"2020-08-25T00:00:00\", \"2020-08-26T00:00:00\", \"2020-08-27T00:00:00\", \"2020-08-28T00:00:00\", \"2020-08-29T00:00:00\", \"2020-08-30T00:00:00\", \"2020-08-31T00:00:00\", \"2020-09-01T00:00:00\", \"2020-09-02T00:00:00\", \"2020-09-03T00:00:00\", \"2020-09-04T00:00:00\", \"2020-09-05T00:00:00\", \"2020-09-06T00:00:00\", \"2020-09-07T00:00:00\", \"2020-09-08T00:00:00\", \"2020-09-09T00:00:00\", \"2020-09-10T00:00:00\", \"2020-09-11T00:00:00\", \"2020-09-12T00:00:00\", \"2020-09-13T00:00:00\", \"2020-09-14T00:00:00\", \"2020-09-15T00:00:00\", \"2020-09-16T00:00:00\", \"2020-09-17T00:00:00\", \"2020-09-18T00:00:00\", \"2020-09-19T00:00:00\", \"2020-09-20T00:00:00\", \"2020-09-21T00:00:00\", \"2020-09-22T00:00:00\", \"2020-09-23T00:00:00\", \"2020-09-24T00:00:00\", \"2020-09-25T00:00:00\", \"2020-09-26T00:00:00\", \"2020-09-27T00:00:00\", \"2020-09-28T00:00:00\", \"2020-09-29T00:00:00\", \"2020-09-30T00:00:00\", \"2020-10-01T00:00:00\", \"2020-10-02T00:00:00\", \"2020-10-03T00:00:00\", \"2020-10-04T00:00:00\", \"2020-10-05T00:00:00\", \"2020-10-06T00:00:00\", \"2020-10-07T00:00:00\", \"2020-10-08T00:00:00\", \"2020-10-09T00:00:00\", \"2020-10-10T00:00:00\", \"2020-10-11T00:00:00\", \"2020-10-12T00:00:00\", \"2020-10-13T00:00:00\", \"2020-10-14T00:00:00\", \"2020-10-15T00:00:00\", \"2020-10-16T00:00:00\", \"2020-10-17T00:00:00\", \"2020-10-18T00:00:00\", \"2020-10-19T00:00:00\", \"2020-10-20T00:00:00\", \"2020-10-21T00:00:00\", \"2020-10-22T00:00:00\", \"2020-10-23T00:00:00\", \"2020-10-24T00:00:00\", \"2020-10-25T00:00:00\", \"2020-10-26T00:00:00\", \"2020-10-27T00:00:00\", \"2020-10-28T00:00:00\", \"2020-10-29T00:00:00\", \"2020-10-30T00:00:00\", \"2020-10-31T00:00:00\", \"2020-11-01T00:00:00\", \"2020-11-02T00:00:00\", \"2020-11-03T00:00:00\", \"2020-11-04T00:00:00\", \"2020-11-05T00:00:00\", \"2020-11-06T00:00:00\", \"2020-11-07T00:00:00\", \"2020-11-08T00:00:00\", \"2020-11-09T00:00:00\", \"2020-11-10T00:00:00\", \"2020-11-11T00:00:00\", \"2020-11-12T00:00:00\", \"2020-11-13T00:00:00\", \"2020-11-14T00:00:00\", \"2020-11-15T00:00:00\", \"2020-11-16T00:00:00\", \"2020-11-17T00:00:00\", \"2020-11-18T00:00:00\", \"2020-11-19T00:00:00\", \"2020-11-20T00:00:00\", \"2020-11-21T00:00:00\", \"2020-11-22T00:00:00\", \"2020-11-23T00:00:00\", \"2020-11-24T00:00:00\", \"2020-11-25T00:00:00\", \"2020-11-26T00:00:00\", \"2020-11-27T00:00:00\", \"2020-11-28T00:00:00\", \"2020-11-29T00:00:00\", \"2020-11-30T00:00:00\", \"2020-12-01T00:00:00\", \"2020-12-02T00:00:00\", \"2020-12-03T00:00:00\", \"2020-12-04T00:00:00\", \"2020-12-05T00:00:00\", \"2020-12-06T00:00:00\", \"2020-12-07T00:00:00\", \"2020-12-08T00:00:00\", \"2020-12-09T00:00:00\", \"2020-12-10T00:00:00\", \"2020-12-11T00:00:00\", \"2020-12-12T00:00:00\", \"2020-12-13T00:00:00\", \"2020-12-14T00:00:00\", \"2020-12-15T00:00:00\", \"2020-12-16T00:00:00\", \"2020-12-17T00:00:00\", \"2020-12-18T00:00:00\", \"2020-12-19T00:00:00\", \"2020-12-20T00:00:00\", \"2020-12-21T00:00:00\", \"2020-12-22T00:00:00\", \"2020-12-23T00:00:00\", \"2020-12-24T00:00:00\", \"2020-12-25T00:00:00\", \"2020-12-26T00:00:00\", \"2020-12-27T00:00:00\", \"2020-12-28T00:00:00\", \"2020-12-29T00:00:00\", \"2020-12-30T00:00:00\", \"2020-12-31T00:00:00\", \"2021-01-01T00:00:00\", \"2021-01-02T00:00:00\", \"2021-01-03T00:00:00\", \"2021-01-04T00:00:00\", \"2021-01-05T00:00:00\", \"2021-01-06T00:00:00\", \"2021-01-07T00:00:00\", \"2021-01-08T00:00:00\", \"2021-01-09T00:00:00\", \"2021-01-10T00:00:00\", \"2021-01-11T00:00:00\", \"2021-01-12T00:00:00\", \"2021-01-13T00:00:00\", \"2021-01-14T00:00:00\", \"2021-01-15T00:00:00\", \"2021-01-16T00:00:00\", \"2021-01-17T00:00:00\", \"2021-01-18T00:00:00\", \"2021-01-19T00:00:00\", \"2021-01-20T00:00:00\", \"2021-01-21T00:00:00\", \"2021-01-22T00:00:00\", \"2021-01-23T00:00:00\", \"2021-01-24T00:00:00\", \"2021-01-25T00:00:00\", \"2021-01-26T00:00:00\", \"2021-01-27T00:00:00\", \"2021-01-28T00:00:00\", \"2021-01-29T00:00:00\", \"2021-01-30T00:00:00\", \"2021-01-31T00:00:00\", \"2021-02-01T00:00:00\", \"2021-02-02T00:00:00\", \"2021-02-03T00:00:00\", \"2021-02-04T00:00:00\", \"2021-02-05T00:00:00\", \"2021-02-06T00:00:00\", \"2021-02-07T00:00:00\", \"2021-02-08T00:00:00\", \"2021-02-09T00:00:00\", \"2021-02-10T00:00:00\", \"2021-02-11T00:00:00\", \"2021-02-12T00:00:00\", \"2021-02-13T00:00:00\", \"2021-02-14T00:00:00\", \"2021-02-15T00:00:00\", \"2021-02-16T00:00:00\", \"2021-02-17T00:00:00\", \"2021-02-18T00:00:00\", \"2021-02-19T00:00:00\"], \"y\": [0, 1, 2, 4, 9, 13, 15, 18, 26, 41, 55, 66, 88, 125, 158, 207, 271, 367, 498, 634, 754, 892, 1052, 1247, 1403, 1545, 1683, 1809, 1956, 2088, 2212, 2325, 2407, 2507, 2574, 2730, 2831, 2915, 3033, 3146, 3288, 3388, 3495, 3578, 3744, 3853, 3945, 4052, 4162, 4266, 4410, 4541, 4731, 4885, 5154, 5295, 5436, 5617, 5814, 6031, 6285, 6551, 6850, 7072, 7460, 8035, 8459, 8868, 9360, 9831, 10381, 10873, 11426, 11949, 12809, 13356, 14116, 14849, 15642, 16535, 17381, 18358, 19437, 20476, 21776, 22785, 23915, 24871, 25739, 26915, 27915, 28987, 30180, 31350, 32616, 32621, 34732, 35480, 36418, 37551, 39060, 40787, 41605, 43206, 45132, 47385, 49288, 51404, 53332, 55220, 57873, 61086, 63715, 66525, 69279, 72553, 74060, 76249, 79508, 82158, 85203, 88436, 91641, 94206, 96718, 100542, 106614, 111092, 116002, 120912, 125468, 130416, 135176, 140288, 145068, 151393, 155828, 160498, 166518, 172187, 177537, 182679, 187023, 189800, 191976, 196843, 202354, 209260, 214169, 223331, 228147, 231969, 236848, 240970, 244723, 247128, 250779, 255269, 257596, 261870, 264133, 267049, 270302, 271366, 273502, 272829, 275256, 276896, 278718, 278179, 275668, 269888, 264176, 257353, 256627, 252054, 249063, 247160, 242553, 237522, 233744, 229688, 226160, 222955, 219229, 213944, 209500, 208156, 205569, 201736, 198059, 194920, 191694, 186563, 182615, 177720, 176091, 166857, 164596, 163585, 162793, 162804, 167749, 171065, 172717, 175647, 174728, 174277, 173647, 173479, 168944, 165617, 162721, 157411, 152489, 149878, 146248, 144713, 145487, 149812, 151942, 152954, 160083, 165905, 170202, 174535, 179284, 184290, 183630, 181554, 181644, 180191, 182001, 182088, 180525, 176977, 177006, 178293, 179298, 179976, 179654, 180572, 181919, 184163, 187102, 186026, 184890, 182318, 178035, 174972, 173535, 171580, 171441, 173647, 173360, 170613, 166954, 165020, 162247, 160275, 156794, 157258, 155979, 154663, 153770, 154414, 155808, 156634, 159158, 159655, 160169, 159708, 159635, 161005, 163292, 163858, 163944, 163080, 166242, 168850, 170089, 171782, 173631, 173854, 175270, 177954, 176088, 179838, 184064, 186848, 190537, 193953, 200095, 204888, 209847, 212448, 213218, 215551, 216974, 222536, 224137, 226664, 230002, 229382, 230548, 229466, 227940, 232504, 234073, 240213, 245880, 252021, 257510, 267080, 279288, 286388, 291092, 295164, 300747, 303953, 304526, 307952, 303664, 298309, 297863, 293857, 283336, 272412, 267567, 258992, 253441, 249498, 243593, 237659, 231109, 221163, 211112, 199815, 187952, 178796, 169799, 160324, 144261, 132645, 125660, 122670, 113811, 110645, 105521, 94614, 89613, 82567, 77348, 73370, 69190, 63639, 59829, 55972, 51379]}, {\"name\": \"expuestos\", \"type\": \"scatter\", \"x\": [\"2020-02-27T00:00:00\", \"2020-02-28T00:00:00\", \"2020-02-29T00:00:00\", \"2020-03-01T00:00:00\", \"2020-03-02T00:00:00\", \"2020-03-03T00:00:00\", \"2020-03-04T00:00:00\", \"2020-03-05T00:00:00\", \"2020-03-06T00:00:00\", \"2020-03-07T00:00:00\", \"2020-03-08T00:00:00\", \"2020-03-09T00:00:00\", \"2020-03-10T00:00:00\", \"2020-03-11T00:00:00\", \"2020-03-12T00:00:00\", \"2020-03-13T00:00:00\", \"2020-03-14T00:00:00\", \"2020-03-15T00:00:00\", \"2020-03-16T00:00:00\", \"2020-03-17T00:00:00\", \"2020-03-18T00:00:00\", \"2020-03-19T00:00:00\", \"2020-03-20T00:00:00\", \"2020-03-21T00:00:00\", \"2020-03-22T00:00:00\", \"2020-03-23T00:00:00\", \"2020-03-24T00:00:00\", \"2020-03-25T00:00:00\", \"2020-03-26T00:00:00\", \"2020-03-27T00:00:00\", \"2020-03-28T00:00:00\", \"2020-03-29T00:00:00\", \"2020-03-30T00:00:00\", \"2020-03-31T00:00:00\", \"2020-04-01T00:00:00\", \"2020-04-02T00:00:00\", \"2020-04-03T00:00:00\", \"2020-04-04T00:00:00\", \"2020-04-05T00:00:00\", \"2020-04-06T00:00:00\", \"2020-04-07T00:00:00\", \"2020-04-08T00:00:00\", \"2020-04-09T00:00:00\", \"2020-04-10T00:00:00\", \"2020-04-11T00:00:00\", \"2020-04-12T00:00:00\", \"2020-04-13T00:00:00\", \"2020-04-14T00:00:00\", \"2020-04-15T00:00:00\", \"2020-04-16T00:00:00\", \"2020-04-17T00:00:00\", \"2020-04-18T00:00:00\", \"2020-04-19T00:00:00\", \"2020-04-20T00:00:00\", \"2020-04-21T00:00:00\", \"2020-04-22T00:00:00\", \"2020-04-23T00:00:00\", \"2020-04-24T00:00:00\", \"2020-04-25T00:00:00\", \"2020-04-26T00:00:00\", \"2020-04-27T00:00:00\", \"2020-04-28T00:00:00\", \"2020-04-29T00:00:00\", \"2020-04-30T00:00:00\", \"2020-05-01T00:00:00\", \"2020-05-02T00:00:00\", \"2020-05-03T00:00:00\", \"2020-05-04T00:00:00\", \"2020-05-05T00:00:00\", \"2020-05-06T00:00:00\", \"2020-05-07T00:00:00\", \"2020-05-08T00:00:00\", \"2020-05-09T00:00:00\", \"2020-05-10T00:00:00\", \"2020-05-11T00:00:00\", \"2020-05-12T00:00:00\", \"2020-05-13T00:00:00\", \"2020-05-14T00:00:00\", \"2020-05-15T00:00:00\", \"2020-05-16T00:00:00\", \"2020-05-17T00:00:00\", \"2020-05-18T00:00:00\", \"2020-05-19T00:00:00\", \"2020-05-20T00:00:00\", \"2020-05-21T00:00:00\", \"2020-05-22T00:00:00\", \"2020-05-23T00:00:00\", \"2020-05-24T00:00:00\", \"2020-05-25T00:00:00\", \"2020-05-26T00:00:00\", \"2020-05-27T00:00:00\", \"2020-05-28T00:00:00\", \"2020-05-29T00:00:00\", \"2020-05-30T00:00:00\", \"2020-05-31T00:00:00\", \"2020-06-01T00:00:00\", \"2020-06-02T00:00:00\", \"2020-06-03T00:00:00\", \"2020-06-04T00:00:00\", \"2020-06-05T00:00:00\", \"2020-06-06T00:00:00\", \"2020-06-07T00:00:00\", \"2020-06-08T00:00:00\", \"2020-06-09T00:00:00\", \"2020-06-10T00:00:00\", \"2020-06-11T00:00:00\", \"2020-06-12T00:00:00\", \"2020-06-13T00:00:00\", \"2020-06-14T00:00:00\", \"2020-06-15T00:00:00\", \"2020-06-16T00:00:00\", \"2020-06-17T00:00:00\", \"2020-06-18T00:00:00\", \"2020-06-19T00:00:00\", \"2020-06-20T00:00:00\", \"2020-06-21T00:00:00\", \"2020-06-22T00:00:00\", \"2020-06-23T00:00:00\", \"2020-06-24T00:00:00\", \"2020-06-25T00:00:00\", \"2020-06-26T00:00:00\", \"2020-06-27T00:00:00\", \"2020-06-28T00:00:00\", \"2020-06-29T00:00:00\", \"2020-06-30T00:00:00\", \"2020-07-01T00:00:00\", \"2020-07-02T00:00:00\", \"2020-07-03T00:00:00\", \"2020-07-04T00:00:00\", \"2020-07-05T00:00:00\", \"2020-07-06T00:00:00\", \"2020-07-07T00:00:00\", \"2020-07-08T00:00:00\", \"2020-07-09T00:00:00\", \"2020-07-10T00:00:00\", \"2020-07-11T00:00:00\", \"2020-07-12T00:00:00\", \"2020-07-13T00:00:00\", \"2020-07-14T00:00:00\", \"2020-07-15T00:00:00\", \"2020-07-16T00:00:00\", \"2020-07-17T00:00:00\", \"2020-07-18T00:00:00\", \"2020-07-19T00:00:00\", \"2020-07-20T00:00:00\", \"2020-07-21T00:00:00\", \"2020-07-22T00:00:00\", \"2020-07-23T00:00:00\", \"2020-07-24T00:00:00\", \"2020-07-25T00:00:00\", \"2020-07-26T00:00:00\", \"2020-07-27T00:00:00\", \"2020-07-28T00:00:00\", \"2020-07-29T00:00:00\", \"2020-07-30T00:00:00\", \"2020-07-31T00:00:00\", \"2020-08-01T00:00:00\", \"2020-08-02T00:00:00\", \"2020-08-03T00:00:00\", \"2020-08-04T00:00:00\", \"2020-08-05T00:00:00\", \"2020-08-06T00:00:00\", \"2020-08-07T00:00:00\", \"2020-08-08T00:00:00\", \"2020-08-09T00:00:00\", \"2020-08-10T00:00:00\", \"2020-08-11T00:00:00\", \"2020-08-12T00:00:00\", \"2020-08-13T00:00:00\", \"2020-08-14T00:00:00\", \"2020-08-15T00:00:00\", \"2020-08-16T00:00:00\", \"2020-08-17T00:00:00\", \"2020-08-18T00:00:00\", \"2020-08-19T00:00:00\", \"2020-08-20T00:00:00\", \"2020-08-21T00:00:00\", \"2020-08-22T00:00:00\", \"2020-08-23T00:00:00\", \"2020-08-24T00:00:00\", \"2020-08-25T00:00:00\", \"2020-08-26T00:00:00\", \"2020-08-27T00:00:00\", \"2020-08-28T00:00:00\", \"2020-08-29T00:00:00\", \"2020-08-30T00:00:00\", \"2020-08-31T00:00:00\", \"2020-09-01T00:00:00\", \"2020-09-02T00:00:00\", \"2020-09-03T00:00:00\", \"2020-09-04T00:00:00\", \"2020-09-05T00:00:00\", \"2020-09-06T00:00:00\", \"2020-09-07T00:00:00\", \"2020-09-08T00:00:00\", \"2020-09-09T00:00:00\", \"2020-09-10T00:00:00\", \"2020-09-11T00:00:00\", \"2020-09-12T00:00:00\", \"2020-09-13T00:00:00\", \"2020-09-14T00:00:00\", \"2020-09-15T00:00:00\", \"2020-09-16T00:00:00\", \"2020-09-17T00:00:00\", \"2020-09-18T00:00:00\", \"2020-09-19T00:00:00\", \"2020-09-20T00:00:00\", \"2020-09-21T00:00:00\", \"2020-09-22T00:00:00\", \"2020-09-23T00:00:00\", \"2020-09-24T00:00:00\", \"2020-09-25T00:00:00\", \"2020-09-26T00:00:00\", \"2020-09-27T00:00:00\", \"2020-09-28T00:00:00\", \"2020-09-29T00:00:00\", \"2020-09-30T00:00:00\", \"2020-10-01T00:00:00\", \"2020-10-02T00:00:00\", \"2020-10-03T00:00:00\", \"2020-10-04T00:00:00\", \"2020-10-05T00:00:00\", \"2020-10-06T00:00:00\", \"2020-10-07T00:00:00\", \"2020-10-08T00:00:00\", \"2020-10-09T00:00:00\", \"2020-10-10T00:00:00\", \"2020-10-11T00:00:00\", \"2020-10-12T00:00:00\", \"2020-10-13T00:00:00\", \"2020-10-14T00:00:00\", \"2020-10-15T00:00:00\", \"2020-10-16T00:00:00\", \"2020-10-17T00:00:00\", \"2020-10-18T00:00:00\", \"2020-10-19T00:00:00\", \"2020-10-20T00:00:00\", \"2020-10-21T00:00:00\", \"2020-10-22T00:00:00\", \"2020-10-23T00:00:00\", \"2020-10-24T00:00:00\", \"2020-10-25T00:00:00\", \"2020-10-26T00:00:00\", \"2020-10-27T00:00:00\", \"2020-10-28T00:00:00\", \"2020-10-29T00:00:00\", \"2020-10-30T00:00:00\", \"2020-10-31T00:00:00\", \"2020-11-01T00:00:00\", \"2020-11-02T00:00:00\", \"2020-11-03T00:00:00\", \"2020-11-04T00:00:00\", \"2020-11-05T00:00:00\", \"2020-11-06T00:00:00\", \"2020-11-07T00:00:00\", \"2020-11-08T00:00:00\", \"2020-11-09T00:00:00\", \"2020-11-10T00:00:00\", \"2020-11-11T00:00:00\", \"2020-11-12T00:00:00\", \"2020-11-13T00:00:00\", \"2020-11-14T00:00:00\", \"2020-11-15T00:00:00\", \"2020-11-16T00:00:00\", \"2020-11-17T00:00:00\", \"2020-11-18T00:00:00\", \"2020-11-19T00:00:00\", \"2020-11-20T00:00:00\", \"2020-11-21T00:00:00\", \"2020-11-22T00:00:00\", \"2020-11-23T00:00:00\", \"2020-11-24T00:00:00\", \"2020-11-25T00:00:00\", \"2020-11-26T00:00:00\", \"2020-11-27T00:00:00\", \"2020-11-28T00:00:00\", \"2020-11-29T00:00:00\", \"2020-11-30T00:00:00\", \"2020-12-01T00:00:00\", \"2020-12-02T00:00:00\", \"2020-12-03T00:00:00\", \"2020-12-04T00:00:00\", \"2020-12-05T00:00:00\", \"2020-12-06T00:00:00\", \"2020-12-07T00:00:00\", \"2020-12-08T00:00:00\", \"2020-12-09T00:00:00\", \"2020-12-10T00:00:00\", \"2020-12-11T00:00:00\", \"2020-12-12T00:00:00\", \"2020-12-13T00:00:00\", \"2020-12-14T00:00:00\", \"2020-12-15T00:00:00\", \"2020-12-16T00:00:00\", \"2020-12-17T00:00:00\", \"2020-12-18T00:00:00\", \"2020-12-19T00:00:00\", \"2020-12-20T00:00:00\", \"2020-12-21T00:00:00\", \"2020-12-22T00:00:00\", \"2020-12-23T00:00:00\", \"2020-12-24T00:00:00\", \"2020-12-25T00:00:00\", \"2020-12-26T00:00:00\", \"2020-12-27T00:00:00\", \"2020-12-28T00:00:00\", \"2020-12-29T00:00:00\", \"2020-12-30T00:00:00\", \"2020-12-31T00:00:00\", \"2021-01-01T00:00:00\", \"2021-01-02T00:00:00\", \"2021-01-03T00:00:00\", \"2021-01-04T00:00:00\", \"2021-01-05T00:00:00\", \"2021-01-06T00:00:00\", \"2021-01-07T00:00:00\", \"2021-01-08T00:00:00\", \"2021-01-09T00:00:00\", \"2021-01-10T00:00:00\", \"2021-01-11T00:00:00\", \"2021-01-12T00:00:00\", \"2021-01-13T00:00:00\", \"2021-01-14T00:00:00\", \"2021-01-15T00:00:00\", \"2021-01-16T00:00:00\", \"2021-01-17T00:00:00\", \"2021-01-18T00:00:00\", \"2021-01-19T00:00:00\", \"2021-01-20T00:00:00\", \"2021-01-21T00:00:00\", \"2021-01-22T00:00:00\", \"2021-01-23T00:00:00\", \"2021-01-24T00:00:00\", \"2021-01-25T00:00:00\", \"2021-01-26T00:00:00\", \"2021-01-27T00:00:00\", \"2021-01-28T00:00:00\", \"2021-01-29T00:00:00\", \"2021-01-30T00:00:00\", \"2021-01-31T00:00:00\", \"2021-02-01T00:00:00\", \"2021-02-02T00:00:00\", \"2021-02-03T00:00:00\", \"2021-02-04T00:00:00\", \"2021-02-05T00:00:00\", \"2021-02-06T00:00:00\", \"2021-02-07T00:00:00\", \"2021-02-08T00:00:00\", \"2021-02-09T00:00:00\", \"2021-02-10T00:00:00\", \"2021-02-11T00:00:00\", \"2021-02-12T00:00:00\", \"2021-02-13T00:00:00\", \"2021-02-14T00:00:00\", \"2021-02-15T00:00:00\", \"2021-02-16T00:00:00\", \"2021-02-17T00:00:00\", \"2021-02-18T00:00:00\", \"2021-02-19T00:00:00\"], \"y\": [0, 14, 27, 36, 53, 86, 117, 163, 220, 303, 423, 549, 654, 756, 885, 1034, 1129, 1184, 1199, 1200, 1244, 1260, 1248, 1215, 1169, 1166, 1126, 1187, 1170, 1156, 1177, 1166, 1234, 1229, 1286, 1243, 1324, 1380, 1412, 1486, 1510, 1588, 1675, 1729, 1783, 1846, 2023, 2055, 2112, 2214, 2307, 2489, 2635, 2814, 3050, 3195, 3479, 4002, 4325, 4611, 4927, 5568, 5967, 6362, 6778, 6948, 7432, 7736, 8016, 8248, 8453, 8958, 9323, 9746, 10041, 10496, 11218, 11616, 12171, 12506, 12664, 13089, 13200, 13429, 13494, 13809, 13989, 14207, 15630, 16130, 16781, 17244, 18201, 19065, 19448, 20556, 20677, 22028, 22853, 24345, 24664, 24884, 26244, 27638, 29060, 29881, 31693, 33698, 34503, 35983, 38176, 39299, 41237, 43020, 44289, 44503, 45993, 49041, 52875, 55453, 57536, 59135, 60709, 64353, 67464, 69142, 69440, 73409, 74522, 75273, 78747, 80395, 82867, 85347, 87055, 86064, 86389, 88297, 88564, 89490, 91046, 95462, 97920, 98644, 103994, 106268, 108576, 108355, 108273, 105337, 102902, 104766, 102098, 100549, 99969, 98538, 97127, 92942, 95215, 93208, 93959, 94067, 94038, 95092, 94287, 94564, 93422, 92244, 91475, 90449, 89649, 88492, 89422, 90533, 91221, 90488, 88208, 86861, 86824, 86760, 88827, 88353, 87162, 86981, 85230, 85472, 88103, 88437, 88351, 90055, 90828, 90625, 89722, 91778, 91520, 91221, 88179, 88495, 83532, 80486, 81088, 80238, 81406, 83939, 85981, 82758, 82929, 86878, 88059, 86582, 89653, 88402, 85855, 83951, 86132, 85480, 84670, 84466, 82624, 83345, 83769, 85607, 82996, 80979, 84719, 86960, 87574, 87465, 92079, 96586, 98106, 99809, 95851, 92653, 90338, 92962, 92416, 91288, 90535, 88931, 88047, 87650, 84566, 81506, 77891, 79329, 80607, 80707, 80667, 83039, 84587, 85706, 85112, 81744, 78938, 78338, 80112, 80937, 79479, 78948, 79834, 78701, 77850, 80817, 82977, 83559, 84739, 84510, 83529, 83343, 87135, 89443, 90627, 92245, 93489, 95208, 96350, 103232, 103408, 106121, 110712, 112969, 114108, 114210, 119314, 121228, 127632, 126933, 126934, 128859, 131131, 137197, 138835, 141881, 143946, 144900, 146265, 144779, 139874, 139000, 141591, 145291, 144212, 147633, 148879, 159342, 166967, 172115, 172421, 173718, 173705, 172088, 167978, 164968, 158316, 153661, 150178, 139154, 128732, 125486, 124071, 117176, 111565, 106767, 99393, 95925, 96724, 90509, 86192, 84879, 81069, 78613, 76459, 76693, 69637, 66298, 63021, 61015, 59070, 55258, 53076, 48481, 46852, 42920, 39492, 36479, 33556, 31704, 29642, 25466, 22382, 19737, 17202, 15375, 14230, 12736, 11712, 10774, 9351]}],\n",
              "                        {\"showlegend\": true, \"template\": {\"data\": {\"bar\": [{\"error_x\": {\"color\": \"#2a3f5f\"}, \"error_y\": {\"color\": \"#2a3f5f\"}, \"marker\": {\"line\": {\"color\": \"#E5ECF6\", \"width\": 0.5}}, \"type\": \"bar\"}], \"barpolar\": [{\"marker\": {\"line\": {\"color\": \"#E5ECF6\", \"width\": 0.5}}, \"type\": \"barpolar\"}], \"carpet\": [{\"aaxis\": {\"endlinecolor\": \"#2a3f5f\", \"gridcolor\": \"white\", \"linecolor\": \"white\", \"minorgridcolor\": \"white\", \"startlinecolor\": \"#2a3f5f\"}, \"baxis\": {\"endlinecolor\": \"#2a3f5f\", \"gridcolor\": \"white\", \"linecolor\": \"white\", \"minorgridcolor\": \"white\", \"startlinecolor\": \"#2a3f5f\"}, \"type\": \"carpet\"}], \"choropleth\": [{\"colorbar\": {\"outlinewidth\": 0, \"ticks\": \"\"}, \"type\": \"choropleth\"}], \"contour\": [{\"colorbar\": {\"outlinewidth\": 0, \"ticks\": \"\"}, \"colorscale\": [[0.0, \"#0d0887\"], [0.1111111111111111, \"#46039f\"], [0.2222222222222222, \"#7201a8\"], [0.3333333333333333, \"#9c179e\"], [0.4444444444444444, \"#bd3786\"], [0.5555555555555556, \"#d8576b\"], [0.6666666666666666, \"#ed7953\"], [0.7777777777777778, \"#fb9f3a\"], [0.8888888888888888, \"#fdca26\"], [1.0, \"#f0f921\"]], \"type\": \"contour\"}], \"contourcarpet\": [{\"colorbar\": {\"outlinewidth\": 0, \"ticks\": \"\"}, \"type\": \"contourcarpet\"}], \"heatmap\": [{\"colorbar\": {\"outlinewidth\": 0, \"ticks\": \"\"}, \"colorscale\": [[0.0, \"#0d0887\"], [0.1111111111111111, \"#46039f\"], [0.2222222222222222, \"#7201a8\"], [0.3333333333333333, \"#9c179e\"], [0.4444444444444444, \"#bd3786\"], [0.5555555555555556, \"#d8576b\"], [0.6666666666666666, \"#ed7953\"], [0.7777777777777778, \"#fb9f3a\"], [0.8888888888888888, \"#fdca26\"], [1.0, \"#f0f921\"]], \"type\": \"heatmap\"}], \"heatmapgl\": [{\"colorbar\": {\"outlinewidth\": 0, \"ticks\": \"\"}, \"colorscale\": [[0.0, \"#0d0887\"], [0.1111111111111111, \"#46039f\"], [0.2222222222222222, \"#7201a8\"], [0.3333333333333333, \"#9c179e\"], [0.4444444444444444, \"#bd3786\"], [0.5555555555555556, \"#d8576b\"], [0.6666666666666666, \"#ed7953\"], [0.7777777777777778, \"#fb9f3a\"], [0.8888888888888888, \"#fdca26\"], [1.0, \"#f0f921\"]], \"type\": \"heatmapgl\"}], \"histogram\": [{\"marker\": {\"colorbar\": {\"outlinewidth\": 0, \"ticks\": \"\"}}, \"type\": \"histogram\"}], \"histogram2d\": [{\"colorbar\": {\"outlinewidth\": 0, \"ticks\": \"\"}, \"colorscale\": [[0.0, \"#0d0887\"], [0.1111111111111111, \"#46039f\"], [0.2222222222222222, \"#7201a8\"], [0.3333333333333333, \"#9c179e\"], [0.4444444444444444, \"#bd3786\"], [0.5555555555555556, \"#d8576b\"], [0.6666666666666666, \"#ed7953\"], [0.7777777777777778, \"#fb9f3a\"], [0.8888888888888888, \"#fdca26\"], [1.0, \"#f0f921\"]], \"type\": \"histogram2d\"}], \"histogram2dcontour\": [{\"colorbar\": {\"outlinewidth\": 0, \"ticks\": \"\"}, \"colorscale\": [[0.0, \"#0d0887\"], [0.1111111111111111, \"#46039f\"], [0.2222222222222222, \"#7201a8\"], [0.3333333333333333, \"#9c179e\"], [0.4444444444444444, \"#bd3786\"], [0.5555555555555556, \"#d8576b\"], [0.6666666666666666, \"#ed7953\"], [0.7777777777777778, \"#fb9f3a\"], [0.8888888888888888, \"#fdca26\"], [1.0, \"#f0f921\"]], \"type\": \"histogram2dcontour\"}], \"mesh3d\": [{\"colorbar\": {\"outlinewidth\": 0, \"ticks\": \"\"}, \"type\": \"mesh3d\"}], \"parcoords\": [{\"line\": {\"colorbar\": {\"outlinewidth\": 0, \"ticks\": \"\"}}, \"type\": \"parcoords\"}], \"pie\": [{\"automargin\": true, \"type\": \"pie\"}], \"scatter\": [{\"marker\": {\"colorbar\": {\"outlinewidth\": 0, \"ticks\": \"\"}}, \"type\": \"scatter\"}], \"scatter3d\": [{\"line\": {\"colorbar\": {\"outlinewidth\": 0, \"ticks\": \"\"}}, \"marker\": {\"colorbar\": {\"outlinewidth\": 0, \"ticks\": \"\"}}, \"type\": \"scatter3d\"}], \"scattercarpet\": [{\"marker\": {\"colorbar\": {\"outlinewidth\": 0, \"ticks\": \"\"}}, \"type\": \"scattercarpet\"}], \"scattergeo\": [{\"marker\": {\"colorbar\": {\"outlinewidth\": 0, \"ticks\": \"\"}}, \"type\": \"scattergeo\"}], \"scattergl\": [{\"marker\": {\"colorbar\": {\"outlinewidth\": 0, \"ticks\": \"\"}}, \"type\": \"scattergl\"}], \"scattermapbox\": [{\"marker\": {\"colorbar\": {\"outlinewidth\": 0, \"ticks\": \"\"}}, \"type\": \"scattermapbox\"}], \"scatterpolar\": [{\"marker\": {\"colorbar\": {\"outlinewidth\": 0, \"ticks\": \"\"}}, \"type\": \"scatterpolar\"}], \"scatterpolargl\": [{\"marker\": {\"colorbar\": {\"outlinewidth\": 0, \"ticks\": \"\"}}, \"type\": \"scatterpolargl\"}], \"scatterternary\": [{\"marker\": {\"colorbar\": {\"outlinewidth\": 0, \"ticks\": \"\"}}, \"type\": \"scatterternary\"}], \"surface\": [{\"colorbar\": {\"outlinewidth\": 0, \"ticks\": \"\"}, \"colorscale\": [[0.0, \"#0d0887\"], [0.1111111111111111, \"#46039f\"], [0.2222222222222222, \"#7201a8\"], [0.3333333333333333, \"#9c179e\"], [0.4444444444444444, \"#bd3786\"], [0.5555555555555556, \"#d8576b\"], [0.6666666666666666, \"#ed7953\"], [0.7777777777777778, \"#fb9f3a\"], [0.8888888888888888, \"#fdca26\"], [1.0, \"#f0f921\"]], \"type\": \"surface\"}], \"table\": [{\"cells\": {\"fill\": {\"color\": \"#EBF0F8\"}, \"line\": {\"color\": \"white\"}}, \"header\": {\"fill\": {\"color\": \"#C8D4E3\"}, \"line\": {\"color\": \"white\"}}, \"type\": \"table\"}]}, \"layout\": {\"annotationdefaults\": {\"arrowcolor\": \"#2a3f5f\", \"arrowhead\": 0, \"arrowwidth\": 1}, \"coloraxis\": {\"colorbar\": {\"outlinewidth\": 0, \"ticks\": \"\"}}, \"colorscale\": {\"diverging\": [[0, \"#8e0152\"], [0.1, \"#c51b7d\"], [0.2, \"#de77ae\"], [0.3, \"#f1b6da\"], [0.4, \"#fde0ef\"], [0.5, \"#f7f7f7\"], [0.6, \"#e6f5d0\"], [0.7, \"#b8e186\"], [0.8, \"#7fbc41\"], [0.9, \"#4d9221\"], [1, \"#276419\"]], \"sequential\": [[0.0, \"#0d0887\"], [0.1111111111111111, \"#46039f\"], [0.2222222222222222, \"#7201a8\"], [0.3333333333333333, \"#9c179e\"], [0.4444444444444444, \"#bd3786\"], [0.5555555555555556, \"#d8576b\"], [0.6666666666666666, \"#ed7953\"], [0.7777777777777778, \"#fb9f3a\"], [0.8888888888888888, \"#fdca26\"], [1.0, \"#f0f921\"]], \"sequentialminus\": [[0.0, \"#0d0887\"], [0.1111111111111111, \"#46039f\"], [0.2222222222222222, \"#7201a8\"], [0.3333333333333333, \"#9c179e\"], [0.4444444444444444, \"#bd3786\"], [0.5555555555555556, \"#d8576b\"], [0.6666666666666666, \"#ed7953\"], [0.7777777777777778, \"#fb9f3a\"], [0.8888888888888888, \"#fdca26\"], [1.0, \"#f0f921\"]]}, \"colorway\": [\"#636efa\", \"#EF553B\", \"#00cc96\", \"#ab63fa\", \"#FFA15A\", \"#19d3f3\", \"#FF6692\", \"#B6E880\", \"#FF97FF\", \"#FECB52\"], \"font\": {\"color\": \"#2a3f5f\"}, \"geo\": {\"bgcolor\": \"white\", \"lakecolor\": \"white\", \"landcolor\": \"#E5ECF6\", \"showlakes\": true, \"showland\": true, \"subunitcolor\": \"white\"}, \"hoverlabel\": {\"align\": \"left\"}, \"hovermode\": \"closest\", \"mapbox\": {\"style\": \"light\"}, \"paper_bgcolor\": \"white\", \"plot_bgcolor\": \"#E5ECF6\", \"polar\": {\"angularaxis\": {\"gridcolor\": \"white\", \"linecolor\": \"white\", \"ticks\": \"\"}, \"bgcolor\": \"#E5ECF6\", \"radialaxis\": {\"gridcolor\": \"white\", \"linecolor\": \"white\", \"ticks\": \"\"}}, \"scene\": {\"xaxis\": {\"backgroundcolor\": \"#E5ECF6\", \"gridcolor\": \"white\", \"gridwidth\": 2, \"linecolor\": \"white\", \"showbackground\": true, \"ticks\": \"\", \"zerolinecolor\": \"white\"}, \"yaxis\": {\"backgroundcolor\": \"#E5ECF6\", \"gridcolor\": \"white\", \"gridwidth\": 2, \"linecolor\": \"white\", \"showbackground\": true, \"ticks\": \"\", \"zerolinecolor\": \"white\"}, \"zaxis\": {\"backgroundcolor\": \"#E5ECF6\", \"gridcolor\": \"white\", \"gridwidth\": 2, \"linecolor\": \"white\", \"showbackground\": true, \"ticks\": \"\", \"zerolinecolor\": \"white\"}}, \"shapedefaults\": {\"line\": {\"color\": \"#2a3f5f\"}}, \"ternary\": {\"aaxis\": {\"gridcolor\": \"white\", \"linecolor\": \"white\", \"ticks\": \"\"}, \"baxis\": {\"gridcolor\": \"white\", \"linecolor\": \"white\", \"ticks\": \"\"}, \"bgcolor\": \"#E5ECF6\", \"caxis\": {\"gridcolor\": \"white\", \"linecolor\": \"white\", \"ticks\": \"\"}}, \"title\": {\"x\": 0.05}, \"xaxis\": {\"automargin\": true, \"gridcolor\": \"white\", \"linecolor\": \"white\", \"ticks\": \"\", \"title\": {\"standoff\": 15}, \"zerolinecolor\": \"white\", \"zerolinewidth\": 2}, \"yaxis\": {\"automargin\": true, \"gridcolor\": \"white\", \"linecolor\": \"white\", \"ticks\": \"\", \"title\": {\"standoff\": 15}, \"zerolinecolor\": \"white\", \"zerolinewidth\": 2}}}, \"title\": {\"text\": \"Activos por dia\"}},\n",
              "                        {\"responsive\": true}\n",
              "                    ).then(function(){\n",
              "                            \n",
              "var gd = document.getElementById('67e935e7-a63a-4198-912c-702e492d2d52');\n",
              "var x = new MutationObserver(function (mutations, observer) {{\n",
              "        var display = window.getComputedStyle(gd).display;\n",
              "        if (!display || display === 'none') {{\n",
              "            console.log([gd, 'removed!']);\n",
              "            Plotly.purge(gd);\n",
              "            observer.disconnect();\n",
              "        }}\n",
              "}});\n",
              "\n",
              "// Listen for the removal of the full notebook cells\n",
              "var notebookContainer = gd.closest('#notebook-container');\n",
              "if (notebookContainer) {{\n",
              "    x.observe(notebookContainer, {childList: true});\n",
              "}}\n",
              "\n",
              "// Listen for the clearing of the current output cell\n",
              "var outputEl = gd.closest('.output');\n",
              "if (outputEl) {{\n",
              "    x.observe(outputEl, {childList: true});\n",
              "}}\n",
              "\n",
              "                        })\n",
              "                };\n",
              "                \n",
              "            </script>\n",
              "        </div>\n",
              "</body>\n",
              "</html>"
            ]
          },
          "metadata": {
            "tags": []
          }
        }
      ]
    },
    {
      "cell_type": "code",
      "metadata": {
        "colab": {
          "base_uri": "https://localhost:8080/",
          "height": 542
        },
        "id": "O33y1s53H0lK",
        "outputId": "b65c758a-9e14-425f-e1f7-5be396d33050"
      },
      "source": [
        "fig = go.Figure()\n",
        "\n",
        "fig.add_trace(go.Scatter(\n",
        "    x=casos_diarios_DF[\"fechas\"],\n",
        "    y=casos_diarios_DF[\"acumulado muertes\"],\n",
        "    name=\"fallecidos Preprocesamiento propio\"\n",
        "))\n",
        "\n",
        "fig.add_trace(go.Scatter(\n",
        "    x=casos_diarios_DF[\"fechas\"],\n",
        "    y=casos_diarios_DF[\"acumulado recuperados\"],\n",
        "    name=\"recuperados Preprocesamiento propio\"\n",
        "))\n",
        "\n",
        "fig.add_trace(go.Scatter(\n",
        "    x=casos_diarios_DF[\"fechas\"],\n",
        "    y=casos_diarios_DF[\"acumulado casos\"],\n",
        "    name=\"infectados Preprocesamiento propio\"\n",
        "))\n",
        "\n",
        "\n",
        "fig.add_trace(go.Scatter(\n",
        "    x=FECHA_ACTUALIZACION_DATE_FMAT,\n",
        "    y=df[\"TOTAL_RECUPERADOS\"],\n",
        "    name=\"recuperados base de datos\"\n",
        "))\n",
        "\n",
        "fig.add_trace(go.Scatter(\n",
        "    x=FECHA_ACTUALIZACION_DATE_FMAT,\n",
        "    y=df[\"TOTAL_CASOS\"],\n",
        "    name=\"infectados base de datos\"\n",
        "))\n",
        "\n",
        "fig.add_trace(go.Scatter(\n",
        "    x=FECHA_ACTUALIZACION_DATE_FMAT,\n",
        "    y=df[\"TOTAL_MUERTES\"],\n",
        "    name=\"muertos base de datos\"\n",
        "))\n",
        "\n",
        "fig.update_layout(title=\"Recuperados por dia\")\n",
        "\n",
        "fig.update_layout(showlegend=True)\n",
        "\n",
        "fig.show()"
      ],
      "execution_count": null,
      "outputs": [
        {
          "output_type": "display_data",
          "data": {
            "text/html": [
              "<html>\n",
              "<head><meta charset=\"utf-8\" /></head>\n",
              "<body>\n",
              "    <div>\n",
              "            <script src=\"https://cdnjs.cloudflare.com/ajax/libs/mathjax/2.7.5/MathJax.js?config=TeX-AMS-MML_SVG\"></script><script type=\"text/javascript\">if (window.MathJax) {MathJax.Hub.Config({SVG: {font: \"STIX-Web\"}});}</script>\n",
              "                <script type=\"text/javascript\">window.PlotlyConfig = {MathJaxConfig: 'local'};</script>\n",
              "        <script src=\"https://cdn.plot.ly/plotly-latest.min.js\"></script>    \n",
              "            <div id=\"036961b4-0c87-4762-b724-535fc758befb\" class=\"plotly-graph-div\" style=\"height:525px; width:100%;\"></div>\n",
              "            <script type=\"text/javascript\">\n",
              "                \n",
              "                    window.PLOTLYENV=window.PLOTLYENV || {};\n",
              "                    \n",
              "                if (document.getElementById(\"036961b4-0c87-4762-b724-535fc758befb\")) {\n",
              "                    Plotly.newPlot(\n",
              "                        '036961b4-0c87-4762-b724-535fc758befb',\n",
              "                        [{\"name\": \"fallecidos Preprocesamiento propio\", \"type\": \"scatter\", \"x\": [\"2020-02-27T00:00:00\", \"2020-02-28T00:00:00\", \"2020-02-29T00:00:00\", \"2020-03-01T00:00:00\", \"2020-03-02T00:00:00\", \"2020-03-03T00:00:00\", \"2020-03-04T00:00:00\", \"2020-03-05T00:00:00\", \"2020-03-06T00:00:00\", \"2020-03-07T00:00:00\", \"2020-03-08T00:00:00\", \"2020-03-09T00:00:00\", \"2020-03-10T00:00:00\", \"2020-03-11T00:00:00\", \"2020-03-12T00:00:00\", \"2020-03-13T00:00:00\", \"2020-03-14T00:00:00\", \"2020-03-15T00:00:00\", \"2020-03-16T00:00:00\", \"2020-03-17T00:00:00\", \"2020-03-18T00:00:00\", \"2020-03-19T00:00:00\", \"2020-03-20T00:00:00\", \"2020-03-21T00:00:00\", \"2020-03-22T00:00:00\", \"2020-03-23T00:00:00\", \"2020-03-24T00:00:00\", \"2020-03-25T00:00:00\", \"2020-03-26T00:00:00\", \"2020-03-27T00:00:00\", \"2020-03-28T00:00:00\", \"2020-03-29T00:00:00\", \"2020-03-30T00:00:00\", \"2020-03-31T00:00:00\", \"2020-04-01T00:00:00\", \"2020-04-02T00:00:00\", \"2020-04-03T00:00:00\", \"2020-04-04T00:00:00\", \"2020-04-05T00:00:00\", \"2020-04-06T00:00:00\", \"2020-04-07T00:00:00\", \"2020-04-08T00:00:00\", \"2020-04-09T00:00:00\", \"2020-04-10T00:00:00\", \"2020-04-11T00:00:00\", \"2020-04-12T00:00:00\", \"2020-04-13T00:00:00\", \"2020-04-14T00:00:00\", \"2020-04-15T00:00:00\", \"2020-04-16T00:00:00\", \"2020-04-17T00:00:00\", \"2020-04-18T00:00:00\", \"2020-04-19T00:00:00\", \"2020-04-20T00:00:00\", \"2020-04-21T00:00:00\", \"2020-04-22T00:00:00\", \"2020-04-23T00:00:00\", \"2020-04-24T00:00:00\", \"2020-04-25T00:00:00\", \"2020-04-26T00:00:00\", \"2020-04-27T00:00:00\", \"2020-04-28T00:00:00\", \"2020-04-29T00:00:00\", \"2020-04-30T00:00:00\", \"2020-05-01T00:00:00\", \"2020-05-02T00:00:00\", \"2020-05-03T00:00:00\", \"2020-05-04T00:00:00\", \"2020-05-05T00:00:00\", \"2020-05-06T00:00:00\", \"2020-05-07T00:00:00\", \"2020-05-08T00:00:00\", \"2020-05-09T00:00:00\", \"2020-05-10T00:00:00\", \"2020-05-11T00:00:00\", \"2020-05-12T00:00:00\", \"2020-05-13T00:00:00\", \"2020-05-14T00:00:00\", \"2020-05-15T00:00:00\", \"2020-05-16T00:00:00\", \"2020-05-17T00:00:00\", \"2020-05-18T00:00:00\", \"2020-05-19T00:00:00\", \"2020-05-20T00:00:00\", \"2020-05-21T00:00:00\", \"2020-05-22T00:00:00\", \"2020-05-23T00:00:00\", \"2020-05-24T00:00:00\", \"2020-05-25T00:00:00\", \"2020-05-26T00:00:00\", \"2020-05-27T00:00:00\", \"2020-05-28T00:00:00\", \"2020-05-29T00:00:00\", \"2020-05-30T00:00:00\", \"2020-05-31T00:00:00\", \"2020-06-01T00:00:00\", \"2020-06-02T00:00:00\", \"2020-06-03T00:00:00\", \"2020-06-04T00:00:00\", \"2020-06-05T00:00:00\", \"2020-06-06T00:00:00\", \"2020-06-07T00:00:00\", \"2020-06-08T00:00:00\", \"2020-06-09T00:00:00\", \"2020-06-10T00:00:00\", \"2020-06-11T00:00:00\", \"2020-06-12T00:00:00\", \"2020-06-13T00:00:00\", \"2020-06-14T00:00:00\", \"2020-06-15T00:00:00\", \"2020-06-16T00:00:00\", \"2020-06-17T00:00:00\", \"2020-06-18T00:00:00\", \"2020-06-19T00:00:00\", \"2020-06-20T00:00:00\", \"2020-06-21T00:00:00\", \"2020-06-22T00:00:00\", \"2020-06-23T00:00:00\", \"2020-06-24T00:00:00\", \"2020-06-25T00:00:00\", \"2020-06-26T00:00:00\", \"2020-06-27T00:00:00\", \"2020-06-28T00:00:00\", \"2020-06-29T00:00:00\", \"2020-06-30T00:00:00\", \"2020-07-01T00:00:00\", \"2020-07-02T00:00:00\", \"2020-07-03T00:00:00\", \"2020-07-04T00:00:00\", \"2020-07-05T00:00:00\", \"2020-07-06T00:00:00\", \"2020-07-07T00:00:00\", \"2020-07-08T00:00:00\", \"2020-07-09T00:00:00\", \"2020-07-10T00:00:00\", \"2020-07-11T00:00:00\", \"2020-07-12T00:00:00\", \"2020-07-13T00:00:00\", \"2020-07-14T00:00:00\", \"2020-07-15T00:00:00\", \"2020-07-16T00:00:00\", \"2020-07-17T00:00:00\", \"2020-07-18T00:00:00\", \"2020-07-19T00:00:00\", \"2020-07-20T00:00:00\", \"2020-07-21T00:00:00\", \"2020-07-22T00:00:00\", \"2020-07-23T00:00:00\", \"2020-07-24T00:00:00\", \"2020-07-25T00:00:00\", \"2020-07-26T00:00:00\", \"2020-07-27T00:00:00\", \"2020-07-28T00:00:00\", \"2020-07-29T00:00:00\", \"2020-07-30T00:00:00\", \"2020-07-31T00:00:00\", \"2020-08-01T00:00:00\", \"2020-08-02T00:00:00\", \"2020-08-03T00:00:00\", \"2020-08-04T00:00:00\", \"2020-08-05T00:00:00\", \"2020-08-06T00:00:00\", \"2020-08-07T00:00:00\", \"2020-08-08T00:00:00\", \"2020-08-09T00:00:00\", \"2020-08-10T00:00:00\", \"2020-08-11T00:00:00\", \"2020-08-12T00:00:00\", \"2020-08-13T00:00:00\", \"2020-08-14T00:00:00\", \"2020-08-15T00:00:00\", \"2020-08-16T00:00:00\", \"2020-08-17T00:00:00\", \"2020-08-18T00:00:00\", \"2020-08-19T00:00:00\", \"2020-08-20T00:00:00\", \"2020-08-21T00:00:00\", \"2020-08-22T00:00:00\", \"2020-08-23T00:00:00\", \"2020-08-24T00:00:00\", \"2020-08-25T00:00:00\", \"2020-08-26T00:00:00\", \"2020-08-27T00:00:00\", \"2020-08-28T00:00:00\", \"2020-08-29T00:00:00\", \"2020-08-30T00:00:00\", \"2020-08-31T00:00:00\", \"2020-09-01T00:00:00\", \"2020-09-02T00:00:00\", \"2020-09-03T00:00:00\", \"2020-09-04T00:00:00\", \"2020-09-05T00:00:00\", \"2020-09-06T00:00:00\", \"2020-09-07T00:00:00\", \"2020-09-08T00:00:00\", \"2020-09-09T00:00:00\", \"2020-09-10T00:00:00\", \"2020-09-11T00:00:00\", \"2020-09-12T00:00:00\", \"2020-09-13T00:00:00\", \"2020-09-14T00:00:00\", \"2020-09-15T00:00:00\", \"2020-09-16T00:00:00\", \"2020-09-17T00:00:00\", \"2020-09-18T00:00:00\", \"2020-09-19T00:00:00\", \"2020-09-20T00:00:00\", \"2020-09-21T00:00:00\", \"2020-09-22T00:00:00\", \"2020-09-23T00:00:00\", \"2020-09-24T00:00:00\", \"2020-09-25T00:00:00\", \"2020-09-26T00:00:00\", \"2020-09-27T00:00:00\", \"2020-09-28T00:00:00\", \"2020-09-29T00:00:00\", \"2020-09-30T00:00:00\", \"2020-10-01T00:00:00\", \"2020-10-02T00:00:00\", \"2020-10-03T00:00:00\", \"2020-10-04T00:00:00\", \"2020-10-05T00:00:00\", \"2020-10-06T00:00:00\", \"2020-10-07T00:00:00\", \"2020-10-08T00:00:00\", \"2020-10-09T00:00:00\", \"2020-10-10T00:00:00\", \"2020-10-11T00:00:00\", \"2020-10-12T00:00:00\", \"2020-10-13T00:00:00\", \"2020-10-14T00:00:00\", \"2020-10-15T00:00:00\", \"2020-10-16T00:00:00\", \"2020-10-17T00:00:00\", \"2020-10-18T00:00:00\", \"2020-10-19T00:00:00\", \"2020-10-20T00:00:00\", \"2020-10-21T00:00:00\", \"2020-10-22T00:00:00\", \"2020-10-23T00:00:00\", \"2020-10-24T00:00:00\", \"2020-10-25T00:00:00\", \"2020-10-26T00:00:00\", \"2020-10-27T00:00:00\", \"2020-10-28T00:00:00\", \"2020-10-29T00:00:00\", \"2020-10-30T00:00:00\", \"2020-10-31T00:00:00\", \"2020-11-01T00:00:00\", \"2020-11-02T00:00:00\", \"2020-11-03T00:00:00\", \"2020-11-04T00:00:00\", \"2020-11-05T00:00:00\", \"2020-11-06T00:00:00\", \"2020-11-07T00:00:00\", \"2020-11-08T00:00:00\", \"2020-11-09T00:00:00\", \"2020-11-10T00:00:00\", \"2020-11-11T00:00:00\", \"2020-11-12T00:00:00\", \"2020-11-13T00:00:00\", \"2020-11-14T00:00:00\", \"2020-11-15T00:00:00\", \"2020-11-16T00:00:00\", \"2020-11-17T00:00:00\", \"2020-11-18T00:00:00\", \"2020-11-19T00:00:00\", \"2020-11-20T00:00:00\", \"2020-11-21T00:00:00\", \"2020-11-22T00:00:00\", \"2020-11-23T00:00:00\", \"2020-11-24T00:00:00\", \"2020-11-25T00:00:00\", \"2020-11-26T00:00:00\", \"2020-11-27T00:00:00\", \"2020-11-28T00:00:00\", \"2020-11-29T00:00:00\", \"2020-11-30T00:00:00\", \"2020-12-01T00:00:00\", \"2020-12-02T00:00:00\", \"2020-12-03T00:00:00\", \"2020-12-04T00:00:00\", \"2020-12-05T00:00:00\", \"2020-12-06T00:00:00\", \"2020-12-07T00:00:00\", \"2020-12-08T00:00:00\", \"2020-12-09T00:00:00\", \"2020-12-10T00:00:00\", \"2020-12-11T00:00:00\", \"2020-12-12T00:00:00\", \"2020-12-13T00:00:00\", \"2020-12-14T00:00:00\", \"2020-12-15T00:00:00\", \"2020-12-16T00:00:00\", \"2020-12-17T00:00:00\", \"2020-12-18T00:00:00\", \"2020-12-19T00:00:00\", \"2020-12-20T00:00:00\", \"2020-12-21T00:00:00\", \"2020-12-22T00:00:00\", \"2020-12-23T00:00:00\", \"2020-12-24T00:00:00\", \"2020-12-25T00:00:00\", \"2020-12-26T00:00:00\", \"2020-12-27T00:00:00\", \"2020-12-28T00:00:00\", \"2020-12-29T00:00:00\", \"2020-12-30T00:00:00\", \"2020-12-31T00:00:00\", \"2021-01-01T00:00:00\", \"2021-01-02T00:00:00\", \"2021-01-03T00:00:00\", \"2021-01-04T00:00:00\", \"2021-01-05T00:00:00\", \"2021-01-06T00:00:00\", \"2021-01-07T00:00:00\", \"2021-01-08T00:00:00\", \"2021-01-09T00:00:00\", \"2021-01-10T00:00:00\", \"2021-01-11T00:00:00\", \"2021-01-12T00:00:00\", \"2021-01-13T00:00:00\", \"2021-01-14T00:00:00\", \"2021-01-15T00:00:00\", \"2021-01-16T00:00:00\", \"2021-01-17T00:00:00\", \"2021-01-18T00:00:00\", \"2021-01-19T00:00:00\", \"2021-01-20T00:00:00\", \"2021-01-21T00:00:00\", \"2021-01-22T00:00:00\", \"2021-01-23T00:00:00\", \"2021-01-24T00:00:00\", \"2021-01-25T00:00:00\", \"2021-01-26T00:00:00\", \"2021-01-27T00:00:00\", \"2021-01-28T00:00:00\", \"2021-01-29T00:00:00\", \"2021-01-30T00:00:00\", \"2021-01-31T00:00:00\", \"2021-02-01T00:00:00\", \"2021-02-02T00:00:00\", \"2021-02-03T00:00:00\", \"2021-02-04T00:00:00\", \"2021-02-05T00:00:00\", \"2021-02-06T00:00:00\", \"2021-02-07T00:00:00\", \"2021-02-08T00:00:00\", \"2021-02-09T00:00:00\", \"2021-02-10T00:00:00\", \"2021-02-11T00:00:00\", \"2021-02-12T00:00:00\", \"2021-02-13T00:00:00\", \"2021-02-14T00:00:00\", \"2021-02-15T00:00:00\", \"2021-02-16T00:00:00\", \"2021-02-17T00:00:00\", \"2021-02-18T00:00:00\", \"2021-02-19T00:00:00\"], \"y\": [0, 0, 0, 0, 0, 0, 0, 0, 0, 0, 0, 0, 0, 0, 0, 0, 0, 0, 0, 1, 1, 1, 1, 1, 1, 2, 3, 4, 8, 10, 13, 18, 19, 24, 29, 33, 40, 54, 69, 77, 89, 98, 103, 116, 121, 130, 142, 149, 160, 172, 188, 192, 205, 214, 224, 234, 242, 251, 266, 276, 294, 305, 318, 338, 360, 373, 394, 412, 433, 453, 477, 503, 523, 541, 560, 589, 600, 614, 633, 657, 676, 697, 723, 753, 784, 810, 851, 894, 934, 962, 1010, 1042, 1082, 1130, 1181, 1227, 1279, 1334, 1414, 1476, 1551, 1615, 1686, 1758, 1839, 1910, 1985, 2065, 2147, 2259, 2358, 2468, 2574, 2697, 2809, 2922, 3063, 3202, 3333, 3475, 3616, 3752, 3898, 4028, 4177, 4327, 4469, 4637, 4816, 4956, 5128, 5323, 5531, 5719, 5927, 6131, 6342, 6547, 6794, 7016, 7253, 7498, 7778, 8036, 8287, 8541, 8851, 9147, 9450, 9751, 10037, 10336, 10656, 10977, 11310, 11668, 12002, 12303, 12593, 12936, 13239, 13554, 13868, 14203, 14557, 14876, 15186, 15510, 15800, 16127, 16403, 16695, 16971, 17244, 17547, 17857, 18119, 18409, 18668, 18922, 19186, 19461, 19705, 19991, 20268, 20528, 20732, 20972, 21209, 21441, 21670, 21908, 22122, 22343, 22564, 22774, 22971, 23173, 23373, 23555, 23740, 23923, 24104, 24296, 24483, 24647, 24841, 24992, 25190, 25377, 25532, 25694, 25853, 26032, 26202, 26374, 26546, 26717, 26894, 27063, 27217, 27388, 27551, 27721, 27856, 28013, 28164, 28336, 28510, 28682, 28860, 29020, 29187, 29362, 29528, 29682, 29861, 30037, 30207, 30367, 30566, 30747, 30930, 31119, 31308, 31480, 31679, 31874, 32046, 32206, 32385, 32582, 32784, 32965, 33144, 33338, 33489, 33653, 33822, 33995, 34180, 34351, 34527, 34714, 34898, 35062, 35240, 35415, 35592, 35774, 35968, 36156, 36358, 36524, 36704, 36894, 37080, 37261, 37430, 37600, 37778, 37950, 38116, 38296, 38468, 38656, 38846, 39042, 39219, 39429, 39607, 39798, 39980, 40180, 40391, 40614, 40831, 41074, 41319, 41570, 41802, 42044, 42303, 42537, 42812, 43048, 43299, 43608, 43902, 44166, 44487, 44763, 45019, 45308, 45607, 45945, 46313, 46628, 46987, 47328, 47701, 48069, 48462, 48833, 49212, 49584, 49990, 50382, 50798, 51191, 51601, 51969, 52300, 52658, 53045, 53401, 53734, 54050, 54366, 54662, 54945, 55216, 55481, 55747, 56011, 56253, 56488, 56745, 56945, 57157, 57350, 57510, 57707, 57869, 58043, 58177, 58332, 58495, 58650]}, {\"name\": \"recuperados Preprocesamiento propio\", \"type\": \"scatter\", \"x\": [\"2020-02-27T00:00:00\", \"2020-02-28T00:00:00\", \"2020-02-29T00:00:00\", \"2020-03-01T00:00:00\", \"2020-03-02T00:00:00\", \"2020-03-03T00:00:00\", \"2020-03-04T00:00:00\", \"2020-03-05T00:00:00\", \"2020-03-06T00:00:00\", \"2020-03-07T00:00:00\", \"2020-03-08T00:00:00\", \"2020-03-09T00:00:00\", \"2020-03-10T00:00:00\", \"2020-03-11T00:00:00\", \"2020-03-12T00:00:00\", \"2020-03-13T00:00:00\", \"2020-03-14T00:00:00\", \"2020-03-15T00:00:00\", \"2020-03-16T00:00:00\", \"2020-03-17T00:00:00\", \"2020-03-18T00:00:00\", \"2020-03-19T00:00:00\", \"2020-03-20T00:00:00\", \"2020-03-21T00:00:00\", \"2020-03-22T00:00:00\", \"2020-03-23T00:00:00\", \"2020-03-24T00:00:00\", \"2020-03-25T00:00:00\", \"2020-03-26T00:00:00\", \"2020-03-27T00:00:00\", \"2020-03-28T00:00:00\", \"2020-03-29T00:00:00\", \"2020-03-30T00:00:00\", \"2020-03-31T00:00:00\", \"2020-04-01T00:00:00\", \"2020-04-02T00:00:00\", \"2020-04-03T00:00:00\", \"2020-04-04T00:00:00\", \"2020-04-05T00:00:00\", \"2020-04-06T00:00:00\", \"2020-04-07T00:00:00\", \"2020-04-08T00:00:00\", \"2020-04-09T00:00:00\", \"2020-04-10T00:00:00\", \"2020-04-11T00:00:00\", \"2020-04-12T00:00:00\", \"2020-04-13T00:00:00\", \"2020-04-14T00:00:00\", \"2020-04-15T00:00:00\", \"2020-04-16T00:00:00\", \"2020-04-17T00:00:00\", \"2020-04-18T00:00:00\", \"2020-04-19T00:00:00\", \"2020-04-20T00:00:00\", \"2020-04-21T00:00:00\", \"2020-04-22T00:00:00\", \"2020-04-23T00:00:00\", \"2020-04-24T00:00:00\", \"2020-04-25T00:00:00\", \"2020-04-26T00:00:00\", \"2020-04-27T00:00:00\", \"2020-04-28T00:00:00\", \"2020-04-29T00:00:00\", \"2020-04-30T00:00:00\", \"2020-05-01T00:00:00\", \"2020-05-02T00:00:00\", \"2020-05-03T00:00:00\", \"2020-05-04T00:00:00\", \"2020-05-05T00:00:00\", \"2020-05-06T00:00:00\", \"2020-05-07T00:00:00\", \"2020-05-08T00:00:00\", \"2020-05-09T00:00:00\", \"2020-05-10T00:00:00\", \"2020-05-11T00:00:00\", \"2020-05-12T00:00:00\", \"2020-05-13T00:00:00\", \"2020-05-14T00:00:00\", \"2020-05-15T00:00:00\", \"2020-05-16T00:00:00\", \"2020-05-17T00:00:00\", \"2020-05-18T00:00:00\", \"2020-05-19T00:00:00\", \"2020-05-20T00:00:00\", \"2020-05-21T00:00:00\", \"2020-05-22T00:00:00\", \"2020-05-23T00:00:00\", \"2020-05-24T00:00:00\", \"2020-05-25T00:00:00\", \"2020-05-26T00:00:00\", \"2020-05-27T00:00:00\", \"2020-05-28T00:00:00\", \"2020-05-29T00:00:00\", \"2020-05-30T00:00:00\", \"2020-05-31T00:00:00\", \"2020-06-01T00:00:00\", \"2020-06-02T00:00:00\", \"2020-06-03T00:00:00\", \"2020-06-04T00:00:00\", \"2020-06-05T00:00:00\", \"2020-06-06T00:00:00\", \"2020-06-07T00:00:00\", \"2020-06-08T00:00:00\", \"2020-06-09T00:00:00\", \"2020-06-10T00:00:00\", \"2020-06-11T00:00:00\", \"2020-06-12T00:00:00\", \"2020-06-13T00:00:00\", \"2020-06-14T00:00:00\", \"2020-06-15T00:00:00\", \"2020-06-16T00:00:00\", \"2020-06-17T00:00:00\", \"2020-06-18T00:00:00\", \"2020-06-19T00:00:00\", \"2020-06-20T00:00:00\", \"2020-06-21T00:00:00\", \"2020-06-22T00:00:00\", \"2020-06-23T00:00:00\", \"2020-06-24T00:00:00\", \"2020-06-25T00:00:00\", \"2020-06-26T00:00:00\", \"2020-06-27T00:00:00\", \"2020-06-28T00:00:00\", \"2020-06-29T00:00:00\", \"2020-06-30T00:00:00\", \"2020-07-01T00:00:00\", \"2020-07-02T00:00:00\", \"2020-07-03T00:00:00\", \"2020-07-04T00:00:00\", \"2020-07-05T00:00:00\", \"2020-07-06T00:00:00\", \"2020-07-07T00:00:00\", \"2020-07-08T00:00:00\", \"2020-07-09T00:00:00\", \"2020-07-10T00:00:00\", \"2020-07-11T00:00:00\", \"2020-07-12T00:00:00\", \"2020-07-13T00:00:00\", \"2020-07-14T00:00:00\", \"2020-07-15T00:00:00\", \"2020-07-16T00:00:00\", \"2020-07-17T00:00:00\", \"2020-07-18T00:00:00\", \"2020-07-19T00:00:00\", \"2020-07-20T00:00:00\", \"2020-07-21T00:00:00\", \"2020-07-22T00:00:00\", \"2020-07-23T00:00:00\", \"2020-07-24T00:00:00\", \"2020-07-25T00:00:00\", \"2020-07-26T00:00:00\", \"2020-07-27T00:00:00\", \"2020-07-28T00:00:00\", \"2020-07-29T00:00:00\", \"2020-07-30T00:00:00\", \"2020-07-31T00:00:00\", \"2020-08-01T00:00:00\", \"2020-08-02T00:00:00\", \"2020-08-03T00:00:00\", \"2020-08-04T00:00:00\", \"2020-08-05T00:00:00\", \"2020-08-06T00:00:00\", \"2020-08-07T00:00:00\", \"2020-08-08T00:00:00\", \"2020-08-09T00:00:00\", \"2020-08-10T00:00:00\", \"2020-08-11T00:00:00\", \"2020-08-12T00:00:00\", \"2020-08-13T00:00:00\", \"2020-08-14T00:00:00\", \"2020-08-15T00:00:00\", \"2020-08-16T00:00:00\", \"2020-08-17T00:00:00\", \"2020-08-18T00:00:00\", \"2020-08-19T00:00:00\", \"2020-08-20T00:00:00\", \"2020-08-21T00:00:00\", \"2020-08-22T00:00:00\", \"2020-08-23T00:00:00\", \"2020-08-24T00:00:00\", \"2020-08-25T00:00:00\", \"2020-08-26T00:00:00\", \"2020-08-27T00:00:00\", \"2020-08-28T00:00:00\", \"2020-08-29T00:00:00\", \"2020-08-30T00:00:00\", \"2020-08-31T00:00:00\", \"2020-09-01T00:00:00\", \"2020-09-02T00:00:00\", \"2020-09-03T00:00:00\", \"2020-09-04T00:00:00\", \"2020-09-05T00:00:00\", \"2020-09-06T00:00:00\", \"2020-09-07T00:00:00\", \"2020-09-08T00:00:00\", \"2020-09-09T00:00:00\", \"2020-09-10T00:00:00\", \"2020-09-11T00:00:00\", \"2020-09-12T00:00:00\", \"2020-09-13T00:00:00\", \"2020-09-14T00:00:00\", \"2020-09-15T00:00:00\", \"2020-09-16T00:00:00\", \"2020-09-17T00:00:00\", \"2020-09-18T00:00:00\", \"2020-09-19T00:00:00\", \"2020-09-20T00:00:00\", \"2020-09-21T00:00:00\", \"2020-09-22T00:00:00\", \"2020-09-23T00:00:00\", \"2020-09-24T00:00:00\", \"2020-09-25T00:00:00\", \"2020-09-26T00:00:00\", \"2020-09-27T00:00:00\", \"2020-09-28T00:00:00\", \"2020-09-29T00:00:00\", \"2020-09-30T00:00:00\", \"2020-10-01T00:00:00\", \"2020-10-02T00:00:00\", \"2020-10-03T00:00:00\", \"2020-10-04T00:00:00\", \"2020-10-05T00:00:00\", \"2020-10-06T00:00:00\", \"2020-10-07T00:00:00\", \"2020-10-08T00:00:00\", \"2020-10-09T00:00:00\", \"2020-10-10T00:00:00\", \"2020-10-11T00:00:00\", \"2020-10-12T00:00:00\", \"2020-10-13T00:00:00\", \"2020-10-14T00:00:00\", \"2020-10-15T00:00:00\", \"2020-10-16T00:00:00\", \"2020-10-17T00:00:00\", \"2020-10-18T00:00:00\", \"2020-10-19T00:00:00\", \"2020-10-20T00:00:00\", \"2020-10-21T00:00:00\", \"2020-10-22T00:00:00\", \"2020-10-23T00:00:00\", \"2020-10-24T00:00:00\", \"2020-10-25T00:00:00\", \"2020-10-26T00:00:00\", \"2020-10-27T00:00:00\", \"2020-10-28T00:00:00\", \"2020-10-29T00:00:00\", \"2020-10-30T00:00:00\", \"2020-10-31T00:00:00\", \"2020-11-01T00:00:00\", \"2020-11-02T00:00:00\", \"2020-11-03T00:00:00\", \"2020-11-04T00:00:00\", \"2020-11-05T00:00:00\", \"2020-11-06T00:00:00\", \"2020-11-07T00:00:00\", \"2020-11-08T00:00:00\", \"2020-11-09T00:00:00\", \"2020-11-10T00:00:00\", \"2020-11-11T00:00:00\", \"2020-11-12T00:00:00\", \"2020-11-13T00:00:00\", \"2020-11-14T00:00:00\", \"2020-11-15T00:00:00\", \"2020-11-16T00:00:00\", \"2020-11-17T00:00:00\", \"2020-11-18T00:00:00\", \"2020-11-19T00:00:00\", \"2020-11-20T00:00:00\", \"2020-11-21T00:00:00\", \"2020-11-22T00:00:00\", \"2020-11-23T00:00:00\", \"2020-11-24T00:00:00\", \"2020-11-25T00:00:00\", \"2020-11-26T00:00:00\", \"2020-11-27T00:00:00\", \"2020-11-28T00:00:00\", \"2020-11-29T00:00:00\", \"2020-11-30T00:00:00\", \"2020-12-01T00:00:00\", \"2020-12-02T00:00:00\", \"2020-12-03T00:00:00\", \"2020-12-04T00:00:00\", \"2020-12-05T00:00:00\", \"2020-12-06T00:00:00\", \"2020-12-07T00:00:00\", \"2020-12-08T00:00:00\", \"2020-12-09T00:00:00\", \"2020-12-10T00:00:00\", \"2020-12-11T00:00:00\", \"2020-12-12T00:00:00\", \"2020-12-13T00:00:00\", \"2020-12-14T00:00:00\", \"2020-12-15T00:00:00\", \"2020-12-16T00:00:00\", \"2020-12-17T00:00:00\", \"2020-12-18T00:00:00\", \"2020-12-19T00:00:00\", \"2020-12-20T00:00:00\", \"2020-12-21T00:00:00\", \"2020-12-22T00:00:00\", \"2020-12-23T00:00:00\", \"2020-12-24T00:00:00\", \"2020-12-25T00:00:00\", \"2020-12-26T00:00:00\", \"2020-12-27T00:00:00\", \"2020-12-28T00:00:00\", \"2020-12-29T00:00:00\", \"2020-12-30T00:00:00\", \"2020-12-31T00:00:00\", \"2021-01-01T00:00:00\", \"2021-01-02T00:00:00\", \"2021-01-03T00:00:00\", \"2021-01-04T00:00:00\", \"2021-01-05T00:00:00\", \"2021-01-06T00:00:00\", \"2021-01-07T00:00:00\", \"2021-01-08T00:00:00\", \"2021-01-09T00:00:00\", \"2021-01-10T00:00:00\", \"2021-01-11T00:00:00\", \"2021-01-12T00:00:00\", \"2021-01-13T00:00:00\", \"2021-01-14T00:00:00\", \"2021-01-15T00:00:00\", \"2021-01-16T00:00:00\", \"2021-01-17T00:00:00\", \"2021-01-18T00:00:00\", \"2021-01-19T00:00:00\", \"2021-01-20T00:00:00\", \"2021-01-21T00:00:00\", \"2021-01-22T00:00:00\", \"2021-01-23T00:00:00\", \"2021-01-24T00:00:00\", \"2021-01-25T00:00:00\", \"2021-01-26T00:00:00\", \"2021-01-27T00:00:00\", \"2021-01-28T00:00:00\", \"2021-01-29T00:00:00\", \"2021-01-30T00:00:00\", \"2021-01-31T00:00:00\", \"2021-02-01T00:00:00\", \"2021-02-02T00:00:00\", \"2021-02-03T00:00:00\", \"2021-02-04T00:00:00\", \"2021-02-05T00:00:00\", \"2021-02-06T00:00:00\", \"2021-02-07T00:00:00\", \"2021-02-08T00:00:00\", \"2021-02-09T00:00:00\", \"2021-02-10T00:00:00\", \"2021-02-11T00:00:00\", \"2021-02-12T00:00:00\", \"2021-02-13T00:00:00\", \"2021-02-14T00:00:00\", \"2021-02-15T00:00:00\", \"2021-02-16T00:00:00\", \"2021-02-17T00:00:00\", \"2021-02-18T00:00:00\", \"2021-02-19T00:00:00\"], \"y\": [0, 0, 0, 0, 0, 0, 0, 0, 0, 0, 0, 0, 0, 0, 0, 0, 1, 2, 3, 3, 4, 4, 5, 6, 9, 12, 20, 31, 43, 59, 77, 110, 139, 174, 201, 234, 267, 303, 342, 361, 385, 411, 453, 496, 543, 598, 693, 789, 868, 964, 1041, 1092, 1148, 1220, 1301, 1386, 1474, 1578, 1663, 1766, 1860, 1949, 2059, 2186, 2247, 2359, 2492, 2591, 2740, 3033, 3255, 3411, 3569, 3770, 3932, 4178, 4317, 4547, 4685, 4893, 5111, 5262, 5463, 5661, 5923, 6209, 6483, 6703, 7012, 7289, 7649, 7992, 8362, 8721, 8963, 10701, 11086, 12431, 13455, 14121, 15000, 15495, 16431, 17439, 17981, 19037, 19681, 20548, 21249, 21705, 22051, 22563, 23554, 24653, 25918, 27295, 28857, 30172, 31570, 33150, 35094, 37069, 38522, 40316, 42062, 44233, 45885, 47284, 48658, 50129, 51452, 54090, 56079, 58048, 60654, 63445, 65792, 67699, 70249, 72964, 75953, 79609, 83438, 87964, 92399, 95547, 98203, 100472, 105490, 110266, 115940, 120382, 127473, 133786, 139998, 146032, 152020, 158842, 165007, 171262, 177624, 183281, 188922, 194639, 200287, 207900, 215653, 224152, 233149, 243263, 253256, 265893, 277937, 291439, 301646, 314720, 327228, 336780, 347274, 360732, 370932, 382290, 393636, 404140, 415957, 426633, 436390, 444832, 454663, 464181, 473532, 482357, 491009, 501099, 511907, 523214, 534216, 550008, 562732, 572306, 578521, 585796, 586914, 588946, 594169, 599999, 605920, 611516, 619399, 629913, 641457, 653888, 666110, 678450, 689381, 700119, 711368, 720690, 728794, 731048, 734878, 738680, 743019, 747336, 750521, 754140, 756989, 759572, 766284, 774742, 783043, 793076, 803270, 813462, 823802, 834307, 843771, 852291, 860290, 868884, 876642, 882235, 890074, 898409, 906919, 915654, 923942, 932861, 942750, 951381, 959415, 967674, 976246, 985445, 994776, 1003623, 1012404, 1021296, 1033090, 1044140, 1055322, 1062941, 1071305, 1078770, 1085855, 1093243, 1099919, 1107541, 1114110, 1120602, 1126502, 1134533, 1143241, 1150297, 1157579, 1164672, 1172237, 1179344, 1185328, 1192275, 1200108, 1207458, 1215256, 1223901, 1231567, 1241659, 1252244, 1261394, 1270109, 1277935, 1284332, 1289865, 1296871, 1304366, 1312765, 1320827, 1331537, 1340501, 1357741, 1367341, 1379991, 1390538, 1403945, 1416954, 1430760, 1442883, 1456227, 1464265, 1478852, 1490380, 1502415, 1512925, 1524053, 1533843, 1541126, 1551580, 1562215, 1578810, 1591208, 1602622, 1613996, 1628034, 1645777, 1664345, 1678759, 1691898, 1709238, 1733292, 1748835, 1764770, 1779526, 1790259, 1801863, 1812618, 1830431, 1847091, 1863674, 1880078, 1896517, 1911439, 1925317, 1941637, 1961386, 1978968, 1991276, 1998536, 2010698, 2016649, 2024545, 2039717, 2047630, 2057161, 2064718, 2070361, 2075512, 2082423, 2087102, 2091734, 2097595]}, {\"name\": \"infectados Preprocesamiento propio\", \"type\": \"scatter\", \"x\": [\"2020-02-27T00:00:00\", \"2020-02-28T00:00:00\", \"2020-02-29T00:00:00\", \"2020-03-01T00:00:00\", \"2020-03-02T00:00:00\", \"2020-03-03T00:00:00\", \"2020-03-04T00:00:00\", \"2020-03-05T00:00:00\", \"2020-03-06T00:00:00\", \"2020-03-07T00:00:00\", \"2020-03-08T00:00:00\", \"2020-03-09T00:00:00\", \"2020-03-10T00:00:00\", \"2020-03-11T00:00:00\", \"2020-03-12T00:00:00\", \"2020-03-13T00:00:00\", \"2020-03-14T00:00:00\", \"2020-03-15T00:00:00\", \"2020-03-16T00:00:00\", \"2020-03-17T00:00:00\", \"2020-03-18T00:00:00\", \"2020-03-19T00:00:00\", \"2020-03-20T00:00:00\", \"2020-03-21T00:00:00\", \"2020-03-22T00:00:00\", \"2020-03-23T00:00:00\", \"2020-03-24T00:00:00\", \"2020-03-25T00:00:00\", \"2020-03-26T00:00:00\", \"2020-03-27T00:00:00\", \"2020-03-28T00:00:00\", \"2020-03-29T00:00:00\", \"2020-03-30T00:00:00\", \"2020-03-31T00:00:00\", \"2020-04-01T00:00:00\", \"2020-04-02T00:00:00\", \"2020-04-03T00:00:00\", \"2020-04-04T00:00:00\", \"2020-04-05T00:00:00\", \"2020-04-06T00:00:00\", \"2020-04-07T00:00:00\", \"2020-04-08T00:00:00\", \"2020-04-09T00:00:00\", \"2020-04-10T00:00:00\", \"2020-04-11T00:00:00\", \"2020-04-12T00:00:00\", \"2020-04-13T00:00:00\", \"2020-04-14T00:00:00\", \"2020-04-15T00:00:00\", \"2020-04-16T00:00:00\", \"2020-04-17T00:00:00\", \"2020-04-18T00:00:00\", \"2020-04-19T00:00:00\", \"2020-04-20T00:00:00\", \"2020-04-21T00:00:00\", \"2020-04-22T00:00:00\", \"2020-04-23T00:00:00\", \"2020-04-24T00:00:00\", \"2020-04-25T00:00:00\", \"2020-04-26T00:00:00\", \"2020-04-27T00:00:00\", \"2020-04-28T00:00:00\", \"2020-04-29T00:00:00\", \"2020-04-30T00:00:00\", \"2020-05-01T00:00:00\", \"2020-05-02T00:00:00\", \"2020-05-03T00:00:00\", \"2020-05-04T00:00:00\", \"2020-05-05T00:00:00\", \"2020-05-06T00:00:00\", \"2020-05-07T00:00:00\", \"2020-05-08T00:00:00\", \"2020-05-09T00:00:00\", \"2020-05-10T00:00:00\", \"2020-05-11T00:00:00\", \"2020-05-12T00:00:00\", \"2020-05-13T00:00:00\", \"2020-05-14T00:00:00\", \"2020-05-15T00:00:00\", \"2020-05-16T00:00:00\", \"2020-05-17T00:00:00\", \"2020-05-18T00:00:00\", \"2020-05-19T00:00:00\", \"2020-05-20T00:00:00\", \"2020-05-21T00:00:00\", \"2020-05-22T00:00:00\", \"2020-05-23T00:00:00\", \"2020-05-24T00:00:00\", \"2020-05-25T00:00:00\", \"2020-05-26T00:00:00\", \"2020-05-27T00:00:00\", \"2020-05-28T00:00:00\", \"2020-05-29T00:00:00\", \"2020-05-30T00:00:00\", \"2020-05-31T00:00:00\", \"2020-06-01T00:00:00\", \"2020-06-02T00:00:00\", \"2020-06-03T00:00:00\", \"2020-06-04T00:00:00\", \"2020-06-05T00:00:00\", \"2020-06-06T00:00:00\", \"2020-06-07T00:00:00\", \"2020-06-08T00:00:00\", \"2020-06-09T00:00:00\", \"2020-06-10T00:00:00\", \"2020-06-11T00:00:00\", \"2020-06-12T00:00:00\", \"2020-06-13T00:00:00\", \"2020-06-14T00:00:00\", \"2020-06-15T00:00:00\", \"2020-06-16T00:00:00\", \"2020-06-17T00:00:00\", \"2020-06-18T00:00:00\", \"2020-06-19T00:00:00\", \"2020-06-20T00:00:00\", \"2020-06-21T00:00:00\", \"2020-06-22T00:00:00\", \"2020-06-23T00:00:00\", \"2020-06-24T00:00:00\", \"2020-06-25T00:00:00\", \"2020-06-26T00:00:00\", \"2020-06-27T00:00:00\", \"2020-06-28T00:00:00\", \"2020-06-29T00:00:00\", \"2020-06-30T00:00:00\", \"2020-07-01T00:00:00\", \"2020-07-02T00:00:00\", \"2020-07-03T00:00:00\", \"2020-07-04T00:00:00\", \"2020-07-05T00:00:00\", \"2020-07-06T00:00:00\", \"2020-07-07T00:00:00\", \"2020-07-08T00:00:00\", \"2020-07-09T00:00:00\", \"2020-07-10T00:00:00\", \"2020-07-11T00:00:00\", \"2020-07-12T00:00:00\", \"2020-07-13T00:00:00\", \"2020-07-14T00:00:00\", \"2020-07-15T00:00:00\", \"2020-07-16T00:00:00\", \"2020-07-17T00:00:00\", \"2020-07-18T00:00:00\", \"2020-07-19T00:00:00\", \"2020-07-20T00:00:00\", \"2020-07-21T00:00:00\", \"2020-07-22T00:00:00\", \"2020-07-23T00:00:00\", \"2020-07-24T00:00:00\", \"2020-07-25T00:00:00\", \"2020-07-26T00:00:00\", \"2020-07-27T00:00:00\", \"2020-07-28T00:00:00\", \"2020-07-29T00:00:00\", \"2020-07-30T00:00:00\", \"2020-07-31T00:00:00\", \"2020-08-01T00:00:00\", \"2020-08-02T00:00:00\", \"2020-08-03T00:00:00\", \"2020-08-04T00:00:00\", \"2020-08-05T00:00:00\", \"2020-08-06T00:00:00\", \"2020-08-07T00:00:00\", \"2020-08-08T00:00:00\", \"2020-08-09T00:00:00\", \"2020-08-10T00:00:00\", \"2020-08-11T00:00:00\", \"2020-08-12T00:00:00\", \"2020-08-13T00:00:00\", \"2020-08-14T00:00:00\", \"2020-08-15T00:00:00\", \"2020-08-16T00:00:00\", \"2020-08-17T00:00:00\", \"2020-08-18T00:00:00\", \"2020-08-19T00:00:00\", \"2020-08-20T00:00:00\", \"2020-08-21T00:00:00\", \"2020-08-22T00:00:00\", \"2020-08-23T00:00:00\", \"2020-08-24T00:00:00\", \"2020-08-25T00:00:00\", \"2020-08-26T00:00:00\", \"2020-08-27T00:00:00\", \"2020-08-28T00:00:00\", \"2020-08-29T00:00:00\", \"2020-08-30T00:00:00\", \"2020-08-31T00:00:00\", \"2020-09-01T00:00:00\", \"2020-09-02T00:00:00\", \"2020-09-03T00:00:00\", \"2020-09-04T00:00:00\", \"2020-09-05T00:00:00\", \"2020-09-06T00:00:00\", \"2020-09-07T00:00:00\", \"2020-09-08T00:00:00\", \"2020-09-09T00:00:00\", \"2020-09-10T00:00:00\", \"2020-09-11T00:00:00\", \"2020-09-12T00:00:00\", \"2020-09-13T00:00:00\", \"2020-09-14T00:00:00\", \"2020-09-15T00:00:00\", \"2020-09-16T00:00:00\", \"2020-09-17T00:00:00\", \"2020-09-18T00:00:00\", \"2020-09-19T00:00:00\", \"2020-09-20T00:00:00\", \"2020-09-21T00:00:00\", \"2020-09-22T00:00:00\", \"2020-09-23T00:00:00\", \"2020-09-24T00:00:00\", \"2020-09-25T00:00:00\", \"2020-09-26T00:00:00\", \"2020-09-27T00:00:00\", \"2020-09-28T00:00:00\", \"2020-09-29T00:00:00\", \"2020-09-30T00:00:00\", \"2020-10-01T00:00:00\", \"2020-10-02T00:00:00\", \"2020-10-03T00:00:00\", \"2020-10-04T00:00:00\", \"2020-10-05T00:00:00\", \"2020-10-06T00:00:00\", \"2020-10-07T00:00:00\", \"2020-10-08T00:00:00\", \"2020-10-09T00:00:00\", \"2020-10-10T00:00:00\", \"2020-10-11T00:00:00\", \"2020-10-12T00:00:00\", \"2020-10-13T00:00:00\", \"2020-10-14T00:00:00\", \"2020-10-15T00:00:00\", \"2020-10-16T00:00:00\", \"2020-10-17T00:00:00\", \"2020-10-18T00:00:00\", \"2020-10-19T00:00:00\", \"2020-10-20T00:00:00\", \"2020-10-21T00:00:00\", \"2020-10-22T00:00:00\", \"2020-10-23T00:00:00\", \"2020-10-24T00:00:00\", \"2020-10-25T00:00:00\", \"2020-10-26T00:00:00\", \"2020-10-27T00:00:00\", \"2020-10-28T00:00:00\", \"2020-10-29T00:00:00\", \"2020-10-30T00:00:00\", \"2020-10-31T00:00:00\", \"2020-11-01T00:00:00\", \"2020-11-02T00:00:00\", \"2020-11-03T00:00:00\", \"2020-11-04T00:00:00\", \"2020-11-05T00:00:00\", \"2020-11-06T00:00:00\", \"2020-11-07T00:00:00\", \"2020-11-08T00:00:00\", \"2020-11-09T00:00:00\", \"2020-11-10T00:00:00\", \"2020-11-11T00:00:00\", \"2020-11-12T00:00:00\", \"2020-11-13T00:00:00\", \"2020-11-14T00:00:00\", \"2020-11-15T00:00:00\", \"2020-11-16T00:00:00\", \"2020-11-17T00:00:00\", \"2020-11-18T00:00:00\", \"2020-11-19T00:00:00\", \"2020-11-20T00:00:00\", \"2020-11-21T00:00:00\", \"2020-11-22T00:00:00\", \"2020-11-23T00:00:00\", \"2020-11-24T00:00:00\", \"2020-11-25T00:00:00\", \"2020-11-26T00:00:00\", \"2020-11-27T00:00:00\", \"2020-11-28T00:00:00\", \"2020-11-29T00:00:00\", \"2020-11-30T00:00:00\", \"2020-12-01T00:00:00\", \"2020-12-02T00:00:00\", \"2020-12-03T00:00:00\", \"2020-12-04T00:00:00\", \"2020-12-05T00:00:00\", \"2020-12-06T00:00:00\", \"2020-12-07T00:00:00\", \"2020-12-08T00:00:00\", \"2020-12-09T00:00:00\", \"2020-12-10T00:00:00\", \"2020-12-11T00:00:00\", \"2020-12-12T00:00:00\", \"2020-12-13T00:00:00\", \"2020-12-14T00:00:00\", \"2020-12-15T00:00:00\", \"2020-12-16T00:00:00\", \"2020-12-17T00:00:00\", \"2020-12-18T00:00:00\", \"2020-12-19T00:00:00\", \"2020-12-20T00:00:00\", \"2020-12-21T00:00:00\", \"2020-12-22T00:00:00\", \"2020-12-23T00:00:00\", \"2020-12-24T00:00:00\", \"2020-12-25T00:00:00\", \"2020-12-26T00:00:00\", \"2020-12-27T00:00:00\", \"2020-12-28T00:00:00\", \"2020-12-29T00:00:00\", \"2020-12-30T00:00:00\", \"2020-12-31T00:00:00\", \"2021-01-01T00:00:00\", \"2021-01-02T00:00:00\", \"2021-01-03T00:00:00\", \"2021-01-04T00:00:00\", \"2021-01-05T00:00:00\", \"2021-01-06T00:00:00\", \"2021-01-07T00:00:00\", \"2021-01-08T00:00:00\", \"2021-01-09T00:00:00\", \"2021-01-10T00:00:00\", \"2021-01-11T00:00:00\", \"2021-01-12T00:00:00\", \"2021-01-13T00:00:00\", \"2021-01-14T00:00:00\", \"2021-01-15T00:00:00\", \"2021-01-16T00:00:00\", \"2021-01-17T00:00:00\", \"2021-01-18T00:00:00\", \"2021-01-19T00:00:00\", \"2021-01-20T00:00:00\", \"2021-01-21T00:00:00\", \"2021-01-22T00:00:00\", \"2021-01-23T00:00:00\", \"2021-01-24T00:00:00\", \"2021-01-25T00:00:00\", \"2021-01-26T00:00:00\", \"2021-01-27T00:00:00\", \"2021-01-28T00:00:00\", \"2021-01-29T00:00:00\", \"2021-01-30T00:00:00\", \"2021-01-31T00:00:00\", \"2021-02-01T00:00:00\", \"2021-02-02T00:00:00\", \"2021-02-03T00:00:00\", \"2021-02-04T00:00:00\", \"2021-02-05T00:00:00\", \"2021-02-06T00:00:00\", \"2021-02-07T00:00:00\", \"2021-02-08T00:00:00\", \"2021-02-09T00:00:00\", \"2021-02-10T00:00:00\", \"2021-02-11T00:00:00\", \"2021-02-12T00:00:00\", \"2021-02-13T00:00:00\", \"2021-02-14T00:00:00\", \"2021-02-15T00:00:00\", \"2021-02-16T00:00:00\", \"2021-02-17T00:00:00\", \"2021-02-18T00:00:00\", \"2021-02-19T00:00:00\"], \"y\": [0, 1, 2, 4, 9, 13, 15, 18, 26, 41, 55, 66, 88, 125, 158, 207, 272, 370, 504, 641, 768, 907, 1069, 1267, 1427, 1579, 1726, 1864, 2029, 2183, 2332, 2495, 2608, 2751, 2858, 3057, 3203, 3339, 3505, 3645, 3825, 3960, 4116, 4266, 4488, 4678, 4882, 5096, 5298, 5511, 5752, 5945, 6217, 6453, 6829, 7071, 7328, 7642, 7972, 8340, 8745, 9159, 9755, 10136, 10657, 11474, 12094, 12710, 13392, 14399, 15220, 15984, 16871, 17741, 18803, 19633, 20575, 21591, 22592, 23771, 24867, 26032, 27368, 28645, 30277, 31652, 33157, 34617, 35858, 37432, 38849, 40345, 42003, 43639, 45264, 46701, 49341, 51322, 53381, 55291, 57851, 60292, 62234, 65131, 67800, 71299, 74166, 77519, 80301, 82807, 85992, 90067, 94038, 98239, 102673, 107741, 111257, 115193, 120484, 125442, 131106, 136921, 142321, 147299, 151999, 158690, 167312, 174262, 181475, 188418, 194796, 202929, 210447, 218270, 226434, 236448, 244024, 251296, 260821, 270250, 279679, 289428, 298730, 307059, 314377, 323067, 332151, 341683, 351815, 365274, 376185, 384470, 396682, 407225, 418010, 427260, 437408, 448711, 457052, 467479, 477101, 486308, 496026, 503392, 511954, 519382, 530437, 539302, 548981, 557977, 567156, 575326, 582659, 590195, 599543, 608828, 619168, 628044, 635002, 640994, 648532, 656595, 667067, 675145, 682644, 689236, 695345, 703962, 712715, 719818, 726689, 734093, 740710, 746603, 754751, 762423, 769818, 777439, 784115, 789836, 794573, 801809, 808632, 814955, 821483, 828559, 834259, 839958, 846168, 852787, 860199, 868272, 877376, 883077, 888444, 897689, 906321, 915377, 925612, 933627, 940565, 945870, 954230, 961877, 968858, 976612, 983825, 991294, 997832, 1004655, 1013675, 1021967, 1033324, 1043674, 1052037, 1059689, 1070529, 1081590, 1091679, 1102122, 1110335, 1117591, 1124219, 1133954, 1143080, 1151935, 1160356, 1168184, 1174935, 1181230, 1187515, 1195223, 1203246, 1212515, 1221144, 1227786, 1233524, 1241624, 1249948, 1257568, 1265609, 1273827, 1280244, 1285938, 1292985, 1300932, 1308664, 1317384, 1326156, 1333277, 1339687, 1348990, 1357526, 1366304, 1375732, 1384126, 1392415, 1399400, 1409800, 1419866, 1429887, 1440097, 1451090, 1460658, 1469637, 1482943, 1492434, 1504872, 1518713, 1530185, 1541137, 1550287, 1564645, 1579523, 1594836, 1607233, 1620352, 1633097, 1645633, 1660839, 1675807, 1691341, 1706975, 1718815, 1731877, 1741931, 1755934, 1770473, 1787547, 1804563, 1820488, 1836532, 1853025, 1874765, 1894459, 1912518, 1929274, 1948503, 1966513, 1981823, 1994586, 2011225, 2024363, 2037600, 2049824, 2059782, 2067700, 2079415, 2090320, 2101257, 2109494, 2118280, 2125253, 2131290, 2139314, 2146621, 2153418, 2159858, 2165663, 2170365, 2174241, 2179654, 2184248, 2187979, 2191567, 2194984, 2197931, 2200181, 2203163, 2205684, 2208006, 2210306, 2212465, 2213964, 2214579, 2215769, 2216679, 2216980, 2217001]}, {\"name\": \"recuperados base de datos\", \"type\": \"scatter\", \"x\": [\"2020-03-06T05:00:00\", \"2020-03-07T05:00:00\", \"2020-03-08T05:00:00\", \"2020-03-09T05:00:00\", \"2020-03-10T05:00:00\", \"2020-03-11T05:00:00\", \"2020-03-12T05:00:00\", \"2020-03-13T05:00:00\", \"2020-03-14T05:00:00\", \"2020-03-15T05:00:00\", \"2020-03-16T05:00:00\", \"2020-03-17T05:00:00\", \"2020-03-18T05:00:00\", \"2020-03-19T05:00:00\", \"2020-03-20T05:00:00\", \"2020-03-21T05:00:00\", \"2020-03-22T05:00:00\", \"2020-03-23T05:00:00\", \"2020-03-24T05:00:00\", \"2020-03-25T05:00:00\", \"2020-03-26T05:00:00\", \"2020-03-27T05:00:00\", \"2020-03-28T05:00:00\", \"2020-03-29T05:00:00\", \"2020-03-30T05:00:00\", \"2020-03-31T05:00:00\", \"2020-04-01T05:00:00\", \"2020-04-02T05:00:00\", \"2020-04-03T05:00:00\", \"2020-04-04T05:00:00\", \"2020-04-05T05:00:00\", \"2020-04-06T05:00:00\", \"2020-04-07T05:00:00\", \"2020-04-08T08:38:00\", \"2020-04-09T08:39:00\", \"2020-04-10T05:00:00\", \"2020-04-11T05:00:00\", \"2020-04-12T05:00:00\", \"2020-04-13T05:00:00\", \"2020-04-14T05:00:00\", \"2020-04-15T05:00:00\", \"2020-04-16T05:00:00\", \"2020-04-17T05:00:00\", \"2020-04-18T05:00:00\", \"2020-04-19T05:00:00\", \"2020-04-20T05:00:00\", \"2020-04-21T05:00:00\", \"2020-04-22T05:00:00\", \"2020-04-23T05:00:00\", \"2020-04-24T05:00:00\", \"2020-04-25T05:00:00\", \"2020-04-26T05:00:00\", \"2020-04-27T05:00:00\", \"2020-04-28T05:00:00\", \"2020-04-29T05:00:00\", \"2020-04-30T05:00:00\", \"2020-05-01T05:00:00\", \"2020-05-02T05:00:00\", \"2020-05-03T05:00:00\", \"2020-05-04T05:00:00\", \"2020-05-05T05:00:00\", \"2020-05-06T05:00:00\", \"2020-05-07T05:00:00\", \"2020-05-08T05:00:00\", \"2020-05-09T05:00:00\", \"2020-05-10T05:00:00\", \"2020-05-11T05:00:00\", \"2020-05-12T05:00:00\", \"2020-05-13T05:00:00\", \"2020-05-14T05:00:00\", \"2020-05-15T05:00:00\", \"2020-05-16T05:00:00\", \"2020-05-17T05:00:00\", \"2020-05-18T05:00:00\", \"2020-05-19T05:00:00\", \"2020-05-20T05:00:00\", \"2020-05-21T05:00:00\", \"2020-05-22T05:00:00\", \"2020-05-23T05:00:00\", \"2020-05-24T05:00:00\", \"2020-05-25T05:00:00\", \"2020-05-26T05:00:00\", \"2020-05-27T05:00:00\", \"2020-05-28T05:00:00\", \"2020-05-29T05:00:00\", \"2020-05-30T05:00:00\", \"2020-05-31T05:00:00\", \"2020-06-01T05:00:00\", \"2020-06-02T05:00:00\", \"2020-06-03T05:00:00\", \"2020-06-04T05:00:00\", \"2020-06-05T05:00:00\", \"2020-06-06T05:00:00\", \"2020-06-07T05:00:00\", \"2020-06-08T05:00:00\", \"2020-06-09T05:00:00\", \"2020-06-10T05:00:00\", \"2020-06-11T05:00:00\", \"2020-06-12T05:00:00\", \"2020-06-13T05:00:00\", \"2020-06-14T05:00:00\", \"2020-06-15T05:00:00\", \"2020-06-16T05:00:00\", \"2020-06-17T05:00:00\", \"2020-06-18T05:00:00\", \"2020-06-19T05:00:00\", \"2020-06-20T05:00:00\", \"2020-06-21T05:00:00\", \"2020-06-22T05:00:00\", \"2020-06-23T05:00:00\", \"2020-06-24T05:00:00\", \"2020-06-25T05:00:00\", \"2020-06-26T05:00:00\", \"2020-06-27T05:00:00\", \"2020-06-28T05:00:00\", \"2020-06-29T05:00:00\", \"2020-06-30T05:00:00\", \"2020-07-01T05:00:00\", \"2020-07-02T05:00:00\", \"2020-07-03T05:00:00\", \"2020-07-04T05:00:00\", \"2020-07-05T05:00:00\", \"2020-07-06T05:00:00\", \"2020-07-07T05:00:00\", \"2020-07-08T05:00:00\", \"2020-07-09T05:00:00\", \"2020-07-10T05:00:00\", \"2020-07-11T05:00:00\", \"2020-07-12T05:00:00\", \"2020-07-13T05:00:00\", \"2020-07-14T05:00:00\", \"2020-07-15T05:00:00\", \"2020-07-16T05:00:00\", \"2020-07-17T05:00:00\", \"2020-07-18T05:00:00\", \"2020-07-19T05:00:00\", \"2020-07-20T05:00:00\", \"2020-07-21T05:00:00\", \"2020-07-22T05:00:00\", \"2020-07-23T05:00:00\", \"2020-07-24T05:00:00\", \"2020-07-25T05:00:00\", \"2020-07-26T05:00:00\", \"2020-07-27T05:00:00\", \"2020-07-28T05:00:00\", \"2020-07-29T05:00:00\", \"2020-07-30T05:00:00\", \"2020-07-31T05:00:00\", \"2020-08-01T05:00:00\", \"2020-08-02T05:00:00\", \"2020-08-03T05:00:00\", \"2020-08-04T05:00:00\", \"2020-08-05T05:00:00\", \"2020-08-06T05:00:00\", \"2020-08-07T05:00:00\", \"2020-08-08T05:00:00\", \"2020-08-09T05:00:00\", \"2020-08-10T05:00:00\", \"2020-08-11T05:00:00\", \"2020-08-12T05:00:00\", \"2020-08-13T05:00:00\", \"2020-08-14T05:00:00\", \"2020-08-15T05:00:00\", \"2020-08-16T05:00:00\", \"2020-08-17T05:00:00\", \"2020-08-18T05:00:00\", \"2020-08-19T05:00:00\", \"2020-08-20T05:00:00\", \"2020-08-21T05:00:00\", \"2020-08-22T05:00:00\", \"2020-08-23T05:00:00\", \"2020-08-24T05:00:00\", \"2020-08-25T05:00:00\", \"2020-08-26T05:00:00\", \"2020-08-27T05:00:00\", \"2020-08-28T05:00:00\", \"2020-08-29T05:00:00\", \"2020-08-30T05:00:00\", \"2020-08-31T05:00:00\", \"2020-09-01T05:00:00\", \"2020-09-02T05:00:00\", \"2020-09-03T05:00:00\", \"2020-09-04T05:00:00\", \"2020-09-05T05:00:00\", \"2020-09-06T05:00:00\", \"2020-09-07T05:00:00\", \"2020-09-08T05:00:00\", \"2020-09-09T05:00:00\", \"2020-09-10T05:00:00\", \"2020-09-11T05:00:00\", \"2020-09-12T05:00:00\", \"2020-09-13T05:00:00\", \"2020-09-14T05:00:00\", \"2020-09-15T05:00:00\", \"2020-09-16T05:00:00\", \"2020-09-17T05:00:00\", \"2020-09-18T05:00:00\", \"2020-09-19T05:00:00\", \"2020-09-20T05:00:00\", \"2020-09-21T05:00:00\", \"2020-09-22T05:00:00\", \"2020-09-23T05:00:00\", \"2020-09-24T05:00:00\", \"2020-09-25T05:00:00\", \"2020-09-26T05:00:00\", \"2020-09-27T05:00:00\", \"2020-09-28T05:00:00\", \"2020-09-29T05:00:00\", \"2020-09-30T05:00:00\", \"2020-10-01T05:00:00\", \"2020-10-02T05:00:00\", \"2020-10-03T05:00:00\", \"2020-10-04T05:00:00\", \"2020-10-05T05:00:00\", \"2020-10-06T05:00:00\", \"2020-10-07T05:00:00\", \"2020-10-08T05:00:00\", \"2020-10-09T05:00:00\", \"2020-10-10T05:00:00\", \"2020-10-11T05:00:00\", \"2020-10-12T05:00:00\", \"2020-10-13T05:00:00\", \"2020-10-14T05:00:00\", \"2020-10-15T05:00:00\", \"2020-10-16T05:00:00\", \"2020-10-17T05:00:00\", \"2020-10-18T05:00:00\", \"2020-10-19T05:00:00\", \"2020-10-20T05:00:00\", \"2020-10-21T05:00:00\", \"2020-10-22T05:00:00\", \"2020-10-23T05:00:00\", \"2020-10-24T05:00:00\", \"2020-10-25T05:00:00\", \"2020-10-26T05:00:00\", \"2020-10-27T05:00:00\", \"2020-10-28T05:00:00\", \"2020-10-29T05:00:00\", \"2020-10-30T05:00:00\", \"2020-10-31T05:00:00\", \"2020-11-01T05:00:00\", \"2020-11-02T05:00:00\", \"2020-11-03T05:00:00\", \"2020-11-04T05:00:00\", \"2020-11-05T05:00:00\", \"2020-11-06T05:00:00\", \"2020-11-07T05:00:00\", \"2020-11-08T05:00:00\", \"2020-11-09T05:00:00\", \"2020-11-10T05:00:00\", \"2020-11-11T05:00:00\", \"2020-11-12T05:00:00\", \"2020-11-13T05:00:00\", \"2020-11-14T05:00:00\", \"2020-11-15T05:00:00\", \"2020-11-16T05:00:00\", \"2020-11-17T05:00:00\", \"2020-11-18T05:00:00\", \"2020-11-19T05:00:00\", \"2020-11-20T05:00:00\", \"2020-11-21T05:00:00\", \"2020-11-22T05:00:00\", \"2020-11-23T05:00:00\", \"2020-11-24T05:00:00\", \"2020-11-25T05:00:00\", \"2020-11-26T05:00:00\", \"2020-11-27T05:00:00\", \"2020-11-28T05:00:00\", \"2020-11-29T05:00:00\", \"2020-11-30T05:00:00\", \"2020-12-01T05:00:00\", \"2020-12-02T05:00:00\", \"2020-12-03T05:00:00\", \"2020-12-04T05:00:00\", \"2020-12-05T05:00:00\", \"2020-12-06T05:00:00\", \"2020-12-07T05:00:00\", \"2020-12-08T05:00:00\", \"2020-12-09T05:00:00\", \"2020-12-10T05:00:00\", \"2020-12-11T05:00:00\", \"2020-12-12T05:00:00\", \"2020-12-13T05:00:00\", \"2020-12-14T05:00:00\", \"2020-12-15T05:00:00\", \"2020-12-16T05:00:00\", \"2020-12-17T05:00:00\", \"2020-12-18T05:00:00\", \"2020-12-19T05:00:00\", \"2020-12-20T05:00:00\", \"2020-12-21T05:00:00\", \"2020-12-22T05:00:00\", \"2020-12-23T05:00:00\", \"2020-12-24T05:00:00\", \"2020-12-25T05:00:00\", \"2020-12-26T05:00:00\", \"2020-12-27T05:00:00\", \"2020-12-28T05:00:00\", \"2020-12-29T05:00:00\", \"2020-12-30T05:00:00\", \"2020-12-31T05:00:00\", \"2021-01-01T05:00:00\", \"2021-01-02T05:00:00\", \"2021-01-03T05:00:00\", \"2021-01-04T05:00:00\", \"2021-01-05T05:00:00\", \"2021-01-06T05:00:00\", \"2021-01-07T05:00:00\", \"2021-01-08T05:00:00\", \"2021-01-09T05:00:00\", \"2021-01-10T05:00:00\", \"2021-01-11T05:00:00\", \"2021-01-12T05:00:00\", \"2021-01-13T05:00:00\", \"2021-01-14T05:00:00\", \"2021-01-15T05:00:00\", \"2021-01-16T05:00:00\", \"2021-01-17T05:00:00\", \"2021-01-18T05:00:00\", \"2021-01-19T05:00:00\", \"2021-01-20T05:00:00\", \"2021-01-21T05:00:00\", \"2021-01-22T05:00:00\", \"2021-01-23T05:00:00\", \"2021-01-24T05:00:00\", \"2021-01-25T05:00:00\", \"2021-01-26T05:00:00\", \"2021-01-27T05:00:00\", \"2021-01-28T05:00:00\", \"2021-01-29T05:00:00\", \"2021-01-30T05:00:00\", \"2021-01-31T05:00:00\", \"2021-02-01T05:00:00\", \"2021-02-02T05:00:00\", \"2021-02-03T05:00:00\", \"2021-02-04T05:00:00\", \"2021-02-05T05:00:00\", \"2021-02-06T05:00:00\", \"2021-02-07T05:00:00\", \"2021-02-08T05:00:00\", \"2021-02-09T05:00:00\", \"2021-02-10T05:00:00\", \"2021-02-11T05:00:00\", \"2021-02-12T05:00:00\", \"2021-02-13T05:00:00\", \"2021-02-14T05:00:00\", \"2021-02-15T05:00:00\", \"2021-02-16T05:00:00\", \"2021-02-17T05:00:00\", \"2021-02-18T05:00:00\", \"2021-02-19T05:00:00\", \"2021-02-20T05:00:00\", \"2021-02-21T05:00:00\", \"2021-02-22T05:00:00\", \"2021-02-23T05:00:00\", \"2021-02-24T05:00:00\", \"2021-02-25T05:00:00\", \"2021-02-26T05:00:00\", \"2021-02-27T05:00:00\", \"2021-02-28T05:00:00\", \"2021-03-01T05:00:00\", \"2021-03-02T05:00:00\", \"2021-03-03T05:00:00\"], \"y\": [0, 0, 0, 0, 0, 0, 0, 0, 0, 0, 0, 0, 0, 0, 0, 0, 0, 6, 6, 8, 8, 10, 10, 10, 15, 31, 39, 55, 55, 55, 88, 88, 100, 123, 174, 197, 214, 270, 319, 354, 452, 550, 634, 691, 711, 804, 804, 870, 927, 1003, 1067, 1133, 1210, 1268, 1411, 1439, 1551, 1666, 1722, 1807, 2013, 2148, 2300, 2424, 2569, 2705, 2825, 2971, 3133, 3358, 3460, 3587, 3751, 3903, 4050, 4256, 4431, 4575, 4718, 5016, 5265, 5511, 6111, 6665, 6913, 7121, 8543, 9661, 11142, 12288, 12921, 13638, 14382, 15322, 16427, 16534, 17333, 17790, 18715, 19426, 19822, 19952, 20366, 21326, 22680, 23988, 25499, 27360, 28968, 30459, 31671, 33349, 34937, 36273, 38280, 39954, 42073, 43407, 44531, 45334, 46563, 47881, 50372, 51861, 53634, 56272, 58800, 61186, 63451, 65809, 68806, 71738, 76164, 80637, 85836, 91793, 95804, 98840, 101613, 107951, 113864, 119667, 125037, 131161, 136690, 142777, 148695, 154387, 160708, 167239, 173727, 180258, 186317, 192355, 198495, 204591, 212688, 221485, 230427, 239785, 250494, 261296, 274420, 287436, 301525, 312323, 326298, 339124, 348940, 359792, 374030, 384171, 395470, 407121, 417793, 429620, 440574, 450621, 459475, 469557, 479568, 489151, 498221, 507770, 518229, 529279, 541462, 552885, 569479, 582694, 592820, 599385, 606925, 607978, 610078, 615457, 621521, 627685, 633199, 640900, 650801, 662277, 674961, 687477, 700112, 711472, 722536, 734154, 743653, 751691, 753953, 757801, 761674, 766300, 770812, 773973, 777658, 780547, 783131, 789787, 798396, 806703, 816667, 826831, 837001, 847467, 858294, 867961, 876731, 884895, 893712, 901652, 907379, 915451, 924044, 932882, 941874, 950348, 959433, 969230, 977804, 985796, 993877, 1002202, 1011166, 1020263, 1029082, 1038082, 1047017, 1059237, 1070423, 1081691, 1089340, 1097576, 1104956, 1111867, 1118902, 1125184, 1132393, 1138581, 1144923, 1150932, 1158897, 1167857, 1174959, 1181753, 1189499, 1197204, 1204452, 1210489, 1217647, 1225635, 1233115, 1240990, 1249702, 1257410, 1267595, 1278326, 1287597, 1296420, 1304299, 1310425, 1314836, 1321469, 1328430, 1336166, 1343819, 1354021, 1362543, 1373332, 1382340, 1394374, 1404168, 1417316, 1430709, 1444041, 1455975, 1469041, 1483027, 1497180, 1508419, 1520548, 1530973, 1542353, 1552177, 1559010, 1569578, 1580285, 1597160, 1609564, 1621019, 1632614, 1646892, 1665003, 1683835, 1698457, 1711924, 1729633, 1754222, 1769935, 1786170, 1801134, 1811552, 1822309, 1832168, 1849194, 1864904, 1880041, 1894384, 1909791, 1924401, 1938322, 1954674, 1971342, 1988958, 2001135, 2010941, 2022331, 2027333, 2034228, 2048292, 2055468, 2065209, 2072793, 2078391, 2083551, 2090467, 2095105, 2099628, 2105445, 2110562, 2115470, 2120366, 2124695, 2129491, 2134054, 2138193, 2141874, 2145450, 2148249, 2151633, 2156057, 2160555]}, {\"name\": \"infectados base de datos\", \"type\": \"scatter\", \"x\": [\"2020-03-06T05:00:00\", \"2020-03-07T05:00:00\", \"2020-03-08T05:00:00\", \"2020-03-09T05:00:00\", \"2020-03-10T05:00:00\", \"2020-03-11T05:00:00\", \"2020-03-12T05:00:00\", \"2020-03-13T05:00:00\", \"2020-03-14T05:00:00\", \"2020-03-15T05:00:00\", \"2020-03-16T05:00:00\", \"2020-03-17T05:00:00\", \"2020-03-18T05:00:00\", \"2020-03-19T05:00:00\", \"2020-03-20T05:00:00\", \"2020-03-21T05:00:00\", \"2020-03-22T05:00:00\", \"2020-03-23T05:00:00\", \"2020-03-24T05:00:00\", \"2020-03-25T05:00:00\", \"2020-03-26T05:00:00\", \"2020-03-27T05:00:00\", \"2020-03-28T05:00:00\", \"2020-03-29T05:00:00\", \"2020-03-30T05:00:00\", \"2020-03-31T05:00:00\", \"2020-04-01T05:00:00\", \"2020-04-02T05:00:00\", \"2020-04-03T05:00:00\", \"2020-04-04T05:00:00\", \"2020-04-05T05:00:00\", \"2020-04-06T05:00:00\", \"2020-04-07T05:00:00\", \"2020-04-08T08:38:00\", \"2020-04-09T08:39:00\", \"2020-04-10T05:00:00\", \"2020-04-11T05:00:00\", \"2020-04-12T05:00:00\", \"2020-04-13T05:00:00\", \"2020-04-14T05:00:00\", \"2020-04-15T05:00:00\", \"2020-04-16T05:00:00\", \"2020-04-17T05:00:00\", \"2020-04-18T05:00:00\", \"2020-04-19T05:00:00\", \"2020-04-20T05:00:00\", \"2020-04-21T05:00:00\", \"2020-04-22T05:00:00\", \"2020-04-23T05:00:00\", \"2020-04-24T05:00:00\", \"2020-04-25T05:00:00\", \"2020-04-26T05:00:00\", \"2020-04-27T05:00:00\", \"2020-04-28T05:00:00\", \"2020-04-29T05:00:00\", \"2020-04-30T05:00:00\", \"2020-05-01T05:00:00\", \"2020-05-02T05:00:00\", \"2020-05-03T05:00:00\", \"2020-05-04T05:00:00\", \"2020-05-05T05:00:00\", \"2020-05-06T05:00:00\", \"2020-05-07T05:00:00\", \"2020-05-08T05:00:00\", \"2020-05-09T05:00:00\", \"2020-05-10T05:00:00\", \"2020-05-11T05:00:00\", \"2020-05-12T05:00:00\", \"2020-05-13T05:00:00\", \"2020-05-14T05:00:00\", \"2020-05-15T05:00:00\", \"2020-05-16T05:00:00\", \"2020-05-17T05:00:00\", \"2020-05-18T05:00:00\", \"2020-05-19T05:00:00\", \"2020-05-20T05:00:00\", \"2020-05-21T05:00:00\", \"2020-05-22T05:00:00\", \"2020-05-23T05:00:00\", \"2020-05-24T05:00:00\", \"2020-05-25T05:00:00\", \"2020-05-26T05:00:00\", \"2020-05-27T05:00:00\", \"2020-05-28T05:00:00\", \"2020-05-29T05:00:00\", \"2020-05-30T05:00:00\", \"2020-05-31T05:00:00\", \"2020-06-01T05:00:00\", \"2020-06-02T05:00:00\", \"2020-06-03T05:00:00\", \"2020-06-04T05:00:00\", \"2020-06-05T05:00:00\", \"2020-06-06T05:00:00\", \"2020-06-07T05:00:00\", \"2020-06-08T05:00:00\", \"2020-06-09T05:00:00\", \"2020-06-10T05:00:00\", \"2020-06-11T05:00:00\", \"2020-06-12T05:00:00\", \"2020-06-13T05:00:00\", \"2020-06-14T05:00:00\", \"2020-06-15T05:00:00\", \"2020-06-16T05:00:00\", \"2020-06-17T05:00:00\", \"2020-06-18T05:00:00\", \"2020-06-19T05:00:00\", \"2020-06-20T05:00:00\", \"2020-06-21T05:00:00\", \"2020-06-22T05:00:00\", \"2020-06-23T05:00:00\", \"2020-06-24T05:00:00\", \"2020-06-25T05:00:00\", \"2020-06-26T05:00:00\", \"2020-06-27T05:00:00\", \"2020-06-28T05:00:00\", \"2020-06-29T05:00:00\", \"2020-06-30T05:00:00\", \"2020-07-01T05:00:00\", \"2020-07-02T05:00:00\", \"2020-07-03T05:00:00\", \"2020-07-04T05:00:00\", \"2020-07-05T05:00:00\", \"2020-07-06T05:00:00\", \"2020-07-07T05:00:00\", \"2020-07-08T05:00:00\", \"2020-07-09T05:00:00\", \"2020-07-10T05:00:00\", \"2020-07-11T05:00:00\", \"2020-07-12T05:00:00\", \"2020-07-13T05:00:00\", \"2020-07-14T05:00:00\", \"2020-07-15T05:00:00\", \"2020-07-16T05:00:00\", \"2020-07-17T05:00:00\", \"2020-07-18T05:00:00\", \"2020-07-19T05:00:00\", \"2020-07-20T05:00:00\", \"2020-07-21T05:00:00\", \"2020-07-22T05:00:00\", \"2020-07-23T05:00:00\", \"2020-07-24T05:00:00\", \"2020-07-25T05:00:00\", \"2020-07-26T05:00:00\", \"2020-07-27T05:00:00\", \"2020-07-28T05:00:00\", \"2020-07-29T05:00:00\", \"2020-07-30T05:00:00\", \"2020-07-31T05:00:00\", \"2020-08-01T05:00:00\", \"2020-08-02T05:00:00\", \"2020-08-03T05:00:00\", \"2020-08-04T05:00:00\", \"2020-08-05T05:00:00\", \"2020-08-06T05:00:00\", \"2020-08-07T05:00:00\", \"2020-08-08T05:00:00\", \"2020-08-09T05:00:00\", \"2020-08-10T05:00:00\", \"2020-08-11T05:00:00\", \"2020-08-12T05:00:00\", \"2020-08-13T05:00:00\", \"2020-08-14T05:00:00\", \"2020-08-15T05:00:00\", \"2020-08-16T05:00:00\", \"2020-08-17T05:00:00\", \"2020-08-18T05:00:00\", \"2020-08-19T05:00:00\", \"2020-08-20T05:00:00\", \"2020-08-21T05:00:00\", \"2020-08-22T05:00:00\", \"2020-08-23T05:00:00\", \"2020-08-24T05:00:00\", \"2020-08-25T05:00:00\", \"2020-08-26T05:00:00\", \"2020-08-27T05:00:00\", \"2020-08-28T05:00:00\", \"2020-08-29T05:00:00\", \"2020-08-30T05:00:00\", \"2020-08-31T05:00:00\", \"2020-09-01T05:00:00\", \"2020-09-02T05:00:00\", \"2020-09-03T05:00:00\", \"2020-09-04T05:00:00\", \"2020-09-05T05:00:00\", \"2020-09-06T05:00:00\", \"2020-09-07T05:00:00\", \"2020-09-08T05:00:00\", \"2020-09-09T05:00:00\", \"2020-09-10T05:00:00\", \"2020-09-11T05:00:00\", \"2020-09-12T05:00:00\", \"2020-09-13T05:00:00\", \"2020-09-14T05:00:00\", \"2020-09-15T05:00:00\", \"2020-09-16T05:00:00\", \"2020-09-17T05:00:00\", \"2020-09-18T05:00:00\", \"2020-09-19T05:00:00\", \"2020-09-20T05:00:00\", \"2020-09-21T05:00:00\", \"2020-09-22T05:00:00\", \"2020-09-23T05:00:00\", \"2020-09-24T05:00:00\", \"2020-09-25T05:00:00\", \"2020-09-26T05:00:00\", \"2020-09-27T05:00:00\", \"2020-09-28T05:00:00\", \"2020-09-29T05:00:00\", \"2020-09-30T05:00:00\", \"2020-10-01T05:00:00\", \"2020-10-02T05:00:00\", \"2020-10-03T05:00:00\", \"2020-10-04T05:00:00\", \"2020-10-05T05:00:00\", \"2020-10-06T05:00:00\", \"2020-10-07T05:00:00\", \"2020-10-08T05:00:00\", \"2020-10-09T05:00:00\", \"2020-10-10T05:00:00\", \"2020-10-11T05:00:00\", \"2020-10-12T05:00:00\", \"2020-10-13T05:00:00\", \"2020-10-14T05:00:00\", \"2020-10-15T05:00:00\", \"2020-10-16T05:00:00\", \"2020-10-17T05:00:00\", \"2020-10-18T05:00:00\", \"2020-10-19T05:00:00\", \"2020-10-20T05:00:00\", \"2020-10-21T05:00:00\", \"2020-10-22T05:00:00\", \"2020-10-23T05:00:00\", \"2020-10-24T05:00:00\", \"2020-10-25T05:00:00\", \"2020-10-26T05:00:00\", \"2020-10-27T05:00:00\", \"2020-10-28T05:00:00\", \"2020-10-29T05:00:00\", \"2020-10-30T05:00:00\", \"2020-10-31T05:00:00\", \"2020-11-01T05:00:00\", \"2020-11-02T05:00:00\", \"2020-11-03T05:00:00\", \"2020-11-04T05:00:00\", \"2020-11-05T05:00:00\", \"2020-11-06T05:00:00\", \"2020-11-07T05:00:00\", \"2020-11-08T05:00:00\", \"2020-11-09T05:00:00\", \"2020-11-10T05:00:00\", \"2020-11-11T05:00:00\", \"2020-11-12T05:00:00\", \"2020-11-13T05:00:00\", \"2020-11-14T05:00:00\", \"2020-11-15T05:00:00\", \"2020-11-16T05:00:00\", \"2020-11-17T05:00:00\", \"2020-11-18T05:00:00\", \"2020-11-19T05:00:00\", \"2020-11-20T05:00:00\", \"2020-11-21T05:00:00\", \"2020-11-22T05:00:00\", \"2020-11-23T05:00:00\", \"2020-11-24T05:00:00\", \"2020-11-25T05:00:00\", \"2020-11-26T05:00:00\", \"2020-11-27T05:00:00\", \"2020-11-28T05:00:00\", \"2020-11-29T05:00:00\", \"2020-11-30T05:00:00\", \"2020-12-01T05:00:00\", \"2020-12-02T05:00:00\", \"2020-12-03T05:00:00\", \"2020-12-04T05:00:00\", \"2020-12-05T05:00:00\", \"2020-12-06T05:00:00\", \"2020-12-07T05:00:00\", \"2020-12-08T05:00:00\", \"2020-12-09T05:00:00\", \"2020-12-10T05:00:00\", \"2020-12-11T05:00:00\", \"2020-12-12T05:00:00\", \"2020-12-13T05:00:00\", \"2020-12-14T05:00:00\", \"2020-12-15T05:00:00\", \"2020-12-16T05:00:00\", \"2020-12-17T05:00:00\", \"2020-12-18T05:00:00\", \"2020-12-19T05:00:00\", \"2020-12-20T05:00:00\", \"2020-12-21T05:00:00\", \"2020-12-22T05:00:00\", \"2020-12-23T05:00:00\", \"2020-12-24T05:00:00\", \"2020-12-25T05:00:00\", \"2020-12-26T05:00:00\", \"2020-12-27T05:00:00\", \"2020-12-28T05:00:00\", \"2020-12-29T05:00:00\", \"2020-12-30T05:00:00\", \"2020-12-31T05:00:00\", \"2021-01-01T05:00:00\", \"2021-01-02T05:00:00\", \"2021-01-03T05:00:00\", \"2021-01-04T05:00:00\", \"2021-01-05T05:00:00\", \"2021-01-06T05:00:00\", \"2021-01-07T05:00:00\", \"2021-01-08T05:00:00\", \"2021-01-09T05:00:00\", \"2021-01-10T05:00:00\", \"2021-01-11T05:00:00\", \"2021-01-12T05:00:00\", \"2021-01-13T05:00:00\", \"2021-01-14T05:00:00\", \"2021-01-15T05:00:00\", \"2021-01-16T05:00:00\", \"2021-01-17T05:00:00\", \"2021-01-18T05:00:00\", \"2021-01-19T05:00:00\", \"2021-01-20T05:00:00\", \"2021-01-21T05:00:00\", \"2021-01-22T05:00:00\", \"2021-01-23T05:00:00\", \"2021-01-24T05:00:00\", \"2021-01-25T05:00:00\", \"2021-01-26T05:00:00\", \"2021-01-27T05:00:00\", \"2021-01-28T05:00:00\", \"2021-01-29T05:00:00\", \"2021-01-30T05:00:00\", \"2021-01-31T05:00:00\", \"2021-02-01T05:00:00\", \"2021-02-02T05:00:00\", \"2021-02-03T05:00:00\", \"2021-02-04T05:00:00\", \"2021-02-05T05:00:00\", \"2021-02-06T05:00:00\", \"2021-02-07T05:00:00\", \"2021-02-08T05:00:00\", \"2021-02-09T05:00:00\", \"2021-02-10T05:00:00\", \"2021-02-11T05:00:00\", \"2021-02-12T05:00:00\", \"2021-02-13T05:00:00\", \"2021-02-14T05:00:00\", \"2021-02-15T05:00:00\", \"2021-02-16T05:00:00\", \"2021-02-17T05:00:00\", \"2021-02-18T05:00:00\", \"2021-02-19T05:00:00\", \"2021-02-20T05:00:00\", \"2021-02-21T05:00:00\", \"2021-02-22T05:00:00\", \"2021-02-23T05:00:00\", \"2021-02-24T05:00:00\", \"2021-02-25T05:00:00\", \"2021-02-26T05:00:00\", \"2021-02-27T05:00:00\", \"2021-02-28T05:00:00\", \"2021-03-01T05:00:00\", \"2021-03-02T05:00:00\", \"2021-03-03T05:00:00\"], \"y\": [1, 1, 1, 3, 3, 9, 13, 16, 24, 45, 57, 75, 102, 128, 175, 210, 240, 306, 419, 481, 491, 539, 608, 702, 798, 906, 1065, 1161, 1267, 1267, 1485, 1579, 1780, 2054, 2223, 2473, 2709, 2776, 2852, 2979, 3105, 3233, 3439, 3621, 3792, 3977, 4149, 4356, 4561, 4881, 5142, 5379, 5597, 5949, 6211, 6507, 7006, 7285, 7668, 7973, 8613, 8959, 9456, 10051, 10495, 11063, 11613, 12272, 12930, 13610, 14216, 14939, 15574, 16295, 16935, 17687, 18330, 19131, 20177, 21175, 21981, 23003, 24104, 25366, 26688, 28236, 29383, 30493, 31833, 33354, 35120, 36635, 38027, 39236, 40719, 42078, 43682, 45212, 46858, 48746, 50939, 53063, 54931, 57046, 60217, 63276, 65633, 68652, 71183, 73572, 77113, 80599, 84442, 88591, 91769, 95043, 97846, 102009, 106110, 109505, 113389, 117110, 120281, 124494, 128638, 133973, 140776, 145362, 150445, 154277, 159898, 165169, 173206, 182140, 190700, 197278, 204005, 211038, 218428, 226373, 233541, 240795, 248976, 257101, 267385, 276055, 286020, 295508, 306181, 317651, 327850, 334979, 345714, 357710, 367196, 376870, 387481, 397623, 410453, 422519, 433805, 445111, 456689, 468332, 476660, 489122, 502178, 513719, 522138, 533103, 541147, 551696, 562128, 572270, 582022, 590520, 599914, 607938, 615168, 624069, 633339, 641574, 650062, 658456, 666521, 671848, 679513, 686851, 694664, 702088, 708914, 716319, 721892, 728590, 736377, 743945, 750471, 758398, 765076, 770435, 777537, 784268, 790823, 798317, 806038, 813056, 818206, 824042, 829679, 835339, 841531, 848147, 855052, 862158, 869808, 877683, 886179, 894300, 902747, 911316, 919083, 924096, 930159, 936982, 945354, 952371, 959572, 965883, 974139, 981700, 990270, 998942, 1007711, 1015885, 1025052, 1033218, 1041935, 1053122, 1063151, 1074184, 1083321, 1093256, 1099392, 1108084, 1117977, 1127733, 1136447, 1143887, 1149063, 1156675, 1165326, 1174012, 1182697, 1191004, 1198746, 1205217, 1211128, 1218003, 1225490, 1233444, 1240493, 1248417, 1254979, 1262494, 1270991, 1280487, 1290510, 1299613, 1308376, 1316806, 1324792, 1334089, 1343322, 1352607, 1362249, 1371103, 1377100, 1384610, 1392133, 1399911, 1408909, 1417072, 1425774, 1434516, 1444646, 1456599, 1468795, 1482072, 1496062, 1507222, 1518067, 1530593, 1544826, 1559766, 1574707, 1584903, 1594497, 1603807, 1614822, 1626461, 1642775, 1654880, 1666408, 1675820, 1686131, 1702966, 1719771, 1737347, 1755568, 1771363, 1786900, 1801903, 1816082, 1831980, 1849101, 1870179, 1891034, 1908413, 1923132, 1939071, 1956979, 1972345, 1987418, 2002969, 2015485, 2027746, 2041352, 2055305, 2067575, 2077633, 2086806, 2094884, 2104506, 2114597, 2125622, 2135412, 2142660, 2151207, 2157216, 2161462, 2166904, 2173347, 2179641, 2185169, 2190116, 2195039, 2198549, 2202598, 2207701, 2212525, 2217001, 2222018, 2226262, 2229663, 2233589, 2237542, 2241225, 2244792, 2248135, 2251690, 2255260, 2259599, 2262646]}, {\"name\": \"muertos base de datos\", \"type\": \"scatter\", \"x\": [\"2020-03-06T05:00:00\", \"2020-03-07T05:00:00\", \"2020-03-08T05:00:00\", \"2020-03-09T05:00:00\", \"2020-03-10T05:00:00\", \"2020-03-11T05:00:00\", \"2020-03-12T05:00:00\", \"2020-03-13T05:00:00\", \"2020-03-14T05:00:00\", \"2020-03-15T05:00:00\", \"2020-03-16T05:00:00\", \"2020-03-17T05:00:00\", \"2020-03-18T05:00:00\", \"2020-03-19T05:00:00\", \"2020-03-20T05:00:00\", \"2020-03-21T05:00:00\", \"2020-03-22T05:00:00\", \"2020-03-23T05:00:00\", \"2020-03-24T05:00:00\", \"2020-03-25T05:00:00\", \"2020-03-26T05:00:00\", \"2020-03-27T05:00:00\", \"2020-03-28T05:00:00\", \"2020-03-29T05:00:00\", \"2020-03-30T05:00:00\", \"2020-03-31T05:00:00\", \"2020-04-01T05:00:00\", \"2020-04-02T05:00:00\", \"2020-04-03T05:00:00\", \"2020-04-04T05:00:00\", \"2020-04-05T05:00:00\", \"2020-04-06T05:00:00\", \"2020-04-07T05:00:00\", \"2020-04-08T08:38:00\", \"2020-04-09T08:39:00\", \"2020-04-10T05:00:00\", \"2020-04-11T05:00:00\", \"2020-04-12T05:00:00\", \"2020-04-13T05:00:00\", \"2020-04-14T05:00:00\", \"2020-04-15T05:00:00\", \"2020-04-16T05:00:00\", \"2020-04-17T05:00:00\", \"2020-04-18T05:00:00\", \"2020-04-19T05:00:00\", \"2020-04-20T05:00:00\", \"2020-04-21T05:00:00\", \"2020-04-22T05:00:00\", \"2020-04-23T05:00:00\", \"2020-04-24T05:00:00\", \"2020-04-25T05:00:00\", \"2020-04-26T05:00:00\", \"2020-04-27T05:00:00\", \"2020-04-28T05:00:00\", \"2020-04-29T05:00:00\", \"2020-04-30T05:00:00\", \"2020-05-01T05:00:00\", \"2020-05-02T05:00:00\", \"2020-05-03T05:00:00\", \"2020-05-04T05:00:00\", \"2020-05-05T05:00:00\", \"2020-05-06T05:00:00\", \"2020-05-07T05:00:00\", \"2020-05-08T05:00:00\", \"2020-05-09T05:00:00\", \"2020-05-10T05:00:00\", \"2020-05-11T05:00:00\", \"2020-05-12T05:00:00\", \"2020-05-13T05:00:00\", \"2020-05-14T05:00:00\", \"2020-05-15T05:00:00\", \"2020-05-16T05:00:00\", \"2020-05-17T05:00:00\", \"2020-05-18T05:00:00\", \"2020-05-19T05:00:00\", \"2020-05-20T05:00:00\", \"2020-05-21T05:00:00\", \"2020-05-22T05:00:00\", \"2020-05-23T05:00:00\", \"2020-05-24T05:00:00\", \"2020-05-25T05:00:00\", \"2020-05-26T05:00:00\", \"2020-05-27T05:00:00\", \"2020-05-28T05:00:00\", \"2020-05-29T05:00:00\", \"2020-05-30T05:00:00\", \"2020-05-31T05:00:00\", \"2020-06-01T05:00:00\", \"2020-06-02T05:00:00\", \"2020-06-03T05:00:00\", \"2020-06-04T05:00:00\", \"2020-06-05T05:00:00\", \"2020-06-06T05:00:00\", \"2020-06-07T05:00:00\", \"2020-06-08T05:00:00\", \"2020-06-09T05:00:00\", \"2020-06-10T05:00:00\", \"2020-06-11T05:00:00\", \"2020-06-12T05:00:00\", \"2020-06-13T05:00:00\", \"2020-06-14T05:00:00\", \"2020-06-15T05:00:00\", \"2020-06-16T05:00:00\", \"2020-06-17T05:00:00\", \"2020-06-18T05:00:00\", \"2020-06-19T05:00:00\", \"2020-06-20T05:00:00\", \"2020-06-21T05:00:00\", \"2020-06-22T05:00:00\", \"2020-06-23T05:00:00\", \"2020-06-24T05:00:00\", \"2020-06-25T05:00:00\", \"2020-06-26T05:00:00\", \"2020-06-27T05:00:00\", \"2020-06-28T05:00:00\", \"2020-06-29T05:00:00\", \"2020-06-30T05:00:00\", \"2020-07-01T05:00:00\", \"2020-07-02T05:00:00\", \"2020-07-03T05:00:00\", \"2020-07-04T05:00:00\", \"2020-07-05T05:00:00\", \"2020-07-06T05:00:00\", \"2020-07-07T05:00:00\", \"2020-07-08T05:00:00\", \"2020-07-09T05:00:00\", \"2020-07-10T05:00:00\", \"2020-07-11T05:00:00\", \"2020-07-12T05:00:00\", \"2020-07-13T05:00:00\", \"2020-07-14T05:00:00\", \"2020-07-15T05:00:00\", \"2020-07-16T05:00:00\", \"2020-07-17T05:00:00\", \"2020-07-18T05:00:00\", \"2020-07-19T05:00:00\", \"2020-07-20T05:00:00\", \"2020-07-21T05:00:00\", \"2020-07-22T05:00:00\", \"2020-07-23T05:00:00\", \"2020-07-24T05:00:00\", \"2020-07-25T05:00:00\", \"2020-07-26T05:00:00\", \"2020-07-27T05:00:00\", \"2020-07-28T05:00:00\", \"2020-07-29T05:00:00\", \"2020-07-30T05:00:00\", \"2020-07-31T05:00:00\", \"2020-08-01T05:00:00\", \"2020-08-02T05:00:00\", \"2020-08-03T05:00:00\", \"2020-08-04T05:00:00\", \"2020-08-05T05:00:00\", \"2020-08-06T05:00:00\", \"2020-08-07T05:00:00\", \"2020-08-08T05:00:00\", \"2020-08-09T05:00:00\", \"2020-08-10T05:00:00\", \"2020-08-11T05:00:00\", \"2020-08-12T05:00:00\", \"2020-08-13T05:00:00\", \"2020-08-14T05:00:00\", \"2020-08-15T05:00:00\", \"2020-08-16T05:00:00\", \"2020-08-17T05:00:00\", \"2020-08-18T05:00:00\", \"2020-08-19T05:00:00\", \"2020-08-20T05:00:00\", \"2020-08-21T05:00:00\", \"2020-08-22T05:00:00\", \"2020-08-23T05:00:00\", \"2020-08-24T05:00:00\", \"2020-08-25T05:00:00\", \"2020-08-26T05:00:00\", \"2020-08-27T05:00:00\", \"2020-08-28T05:00:00\", \"2020-08-29T05:00:00\", \"2020-08-30T05:00:00\", \"2020-08-31T05:00:00\", \"2020-09-01T05:00:00\", \"2020-09-02T05:00:00\", \"2020-09-03T05:00:00\", \"2020-09-04T05:00:00\", \"2020-09-05T05:00:00\", \"2020-09-06T05:00:00\", \"2020-09-07T05:00:00\", \"2020-09-08T05:00:00\", \"2020-09-09T05:00:00\", \"2020-09-10T05:00:00\", \"2020-09-11T05:00:00\", \"2020-09-12T05:00:00\", \"2020-09-13T05:00:00\", \"2020-09-14T05:00:00\", \"2020-09-15T05:00:00\", \"2020-09-16T05:00:00\", \"2020-09-17T05:00:00\", \"2020-09-18T05:00:00\", \"2020-09-19T05:00:00\", \"2020-09-20T05:00:00\", \"2020-09-21T05:00:00\", \"2020-09-22T05:00:00\", \"2020-09-23T05:00:00\", \"2020-09-24T05:00:00\", \"2020-09-25T05:00:00\", \"2020-09-26T05:00:00\", \"2020-09-27T05:00:00\", \"2020-09-28T05:00:00\", \"2020-09-29T05:00:00\", \"2020-09-30T05:00:00\", \"2020-10-01T05:00:00\", \"2020-10-02T05:00:00\", \"2020-10-03T05:00:00\", \"2020-10-04T05:00:00\", \"2020-10-05T05:00:00\", \"2020-10-06T05:00:00\", \"2020-10-07T05:00:00\", \"2020-10-08T05:00:00\", \"2020-10-09T05:00:00\", \"2020-10-10T05:00:00\", \"2020-10-11T05:00:00\", \"2020-10-12T05:00:00\", \"2020-10-13T05:00:00\", \"2020-10-14T05:00:00\", \"2020-10-15T05:00:00\", \"2020-10-16T05:00:00\", \"2020-10-17T05:00:00\", \"2020-10-18T05:00:00\", \"2020-10-19T05:00:00\", \"2020-10-20T05:00:00\", \"2020-10-21T05:00:00\", \"2020-10-22T05:00:00\", \"2020-10-23T05:00:00\", \"2020-10-24T05:00:00\", \"2020-10-25T05:00:00\", \"2020-10-26T05:00:00\", \"2020-10-27T05:00:00\", \"2020-10-28T05:00:00\", \"2020-10-29T05:00:00\", \"2020-10-30T05:00:00\", \"2020-10-31T05:00:00\", \"2020-11-01T05:00:00\", \"2020-11-02T05:00:00\", \"2020-11-03T05:00:00\", \"2020-11-04T05:00:00\", \"2020-11-05T05:00:00\", \"2020-11-06T05:00:00\", \"2020-11-07T05:00:00\", \"2020-11-08T05:00:00\", \"2020-11-09T05:00:00\", \"2020-11-10T05:00:00\", \"2020-11-11T05:00:00\", \"2020-11-12T05:00:00\", \"2020-11-13T05:00:00\", \"2020-11-14T05:00:00\", \"2020-11-15T05:00:00\", \"2020-11-16T05:00:00\", \"2020-11-17T05:00:00\", \"2020-11-18T05:00:00\", \"2020-11-19T05:00:00\", \"2020-11-20T05:00:00\", \"2020-11-21T05:00:00\", \"2020-11-22T05:00:00\", \"2020-11-23T05:00:00\", \"2020-11-24T05:00:00\", \"2020-11-25T05:00:00\", \"2020-11-26T05:00:00\", \"2020-11-27T05:00:00\", \"2020-11-28T05:00:00\", \"2020-11-29T05:00:00\", \"2020-11-30T05:00:00\", \"2020-12-01T05:00:00\", \"2020-12-02T05:00:00\", \"2020-12-03T05:00:00\", \"2020-12-04T05:00:00\", \"2020-12-05T05:00:00\", \"2020-12-06T05:00:00\", \"2020-12-07T05:00:00\", \"2020-12-08T05:00:00\", \"2020-12-09T05:00:00\", \"2020-12-10T05:00:00\", \"2020-12-11T05:00:00\", \"2020-12-12T05:00:00\", \"2020-12-13T05:00:00\", \"2020-12-14T05:00:00\", \"2020-12-15T05:00:00\", \"2020-12-16T05:00:00\", \"2020-12-17T05:00:00\", \"2020-12-18T05:00:00\", \"2020-12-19T05:00:00\", \"2020-12-20T05:00:00\", \"2020-12-21T05:00:00\", \"2020-12-22T05:00:00\", \"2020-12-23T05:00:00\", \"2020-12-24T05:00:00\", \"2020-12-25T05:00:00\", \"2020-12-26T05:00:00\", \"2020-12-27T05:00:00\", \"2020-12-28T05:00:00\", \"2020-12-29T05:00:00\", \"2020-12-30T05:00:00\", \"2020-12-31T05:00:00\", \"2021-01-01T05:00:00\", \"2021-01-02T05:00:00\", \"2021-01-03T05:00:00\", \"2021-01-04T05:00:00\", \"2021-01-05T05:00:00\", \"2021-01-06T05:00:00\", \"2021-01-07T05:00:00\", \"2021-01-08T05:00:00\", \"2021-01-09T05:00:00\", \"2021-01-10T05:00:00\", \"2021-01-11T05:00:00\", \"2021-01-12T05:00:00\", \"2021-01-13T05:00:00\", \"2021-01-14T05:00:00\", \"2021-01-15T05:00:00\", \"2021-01-16T05:00:00\", \"2021-01-17T05:00:00\", \"2021-01-18T05:00:00\", \"2021-01-19T05:00:00\", \"2021-01-20T05:00:00\", \"2021-01-21T05:00:00\", \"2021-01-22T05:00:00\", \"2021-01-23T05:00:00\", \"2021-01-24T05:00:00\", \"2021-01-25T05:00:00\", \"2021-01-26T05:00:00\", \"2021-01-27T05:00:00\", \"2021-01-28T05:00:00\", \"2021-01-29T05:00:00\", \"2021-01-30T05:00:00\", \"2021-01-31T05:00:00\", \"2021-02-01T05:00:00\", \"2021-02-02T05:00:00\", \"2021-02-03T05:00:00\", \"2021-02-04T05:00:00\", \"2021-02-05T05:00:00\", \"2021-02-06T05:00:00\", \"2021-02-07T05:00:00\", \"2021-02-08T05:00:00\", \"2021-02-09T05:00:00\", \"2021-02-10T05:00:00\", \"2021-02-11T05:00:00\", \"2021-02-12T05:00:00\", \"2021-02-13T05:00:00\", \"2021-02-14T05:00:00\", \"2021-02-15T05:00:00\", \"2021-02-16T05:00:00\", \"2021-02-17T05:00:00\", \"2021-02-18T05:00:00\", \"2021-02-19T05:00:00\", \"2021-02-20T05:00:00\", \"2021-02-21T05:00:00\", \"2021-02-22T05:00:00\", \"2021-02-23T05:00:00\", \"2021-02-24T05:00:00\", \"2021-02-25T05:00:00\", \"2021-02-26T05:00:00\", \"2021-02-27T05:00:00\", \"2021-02-28T05:00:00\", \"2021-03-01T05:00:00\", \"2021-03-02T05:00:00\", \"2021-03-03T05:00:00\"], \"y\": [0, 0, 0, 0, 0, 0, 0, 0, 0, 0, 0, 0, 0, 0, 0, 1, 2, 3, 3, 4, 6, 6, 6, 10, 14, 16, 17, 19, 25, 25, 35, 46, 50, 54, 69, 80, 100, 109, 112, 127, 131, 144, 153, 166, 179, 189, 196, 206, 215, 225, 233, 244, 253, 269, 278, 293, 314, 324, 340, 358, 378, 397, 407, 428, 445, 463, 479, 493, 509, 525, 546, 562, 574, 592, 613, 630, 652, 682, 705, 727, 750, 776, 803, 822, 853, 890, 939, 969, 1009, 1045, 1087, 1145, 1205, 1259, 1308, 1372, 1433, 1488, 1545, 1592, 1667, 1726, 1801, 1864, 1950, 2045, 2126, 2273, 2310, 2404, 2491, 2654, 2811, 2939, 3106, 3223, 3334, 3470, 3641, 3777, 3942, 4064, 4210, 4359, 4527, 4714, 4925, 5119, 5307, 5455, 5625, 5814, 6029, 6288, 6516, 6736, 6929, 7166, 7373, 7688, 7975, 8269, 8525, 8777, 9074, 9454, 9810, 10105, 10330, 10650, 11017, 11315, 11624, 11939, 12250, 12540, 12842, 13154, 13475, 13837, 14145, 14492, 14810, 15097, 15372, 15619, 15979, 16183, 16568, 16968, 17316, 17612, 17889, 18184, 18468, 18767, 19064, 19364, 19663, 20053, 20348, 20618, 20888, 21156, 21512, 21615, 21817, 22053, 22275, 22518, 22734, 22924, 23123, 23288, 23478, 23665, 23850, 24039, 24208, 24397, 24570, 24746, 24924, 25103, 25296, 25488, 25641, 25828, 25998, 26196, 26397, 26556, 26712, 26844, 27017, 27180, 27331, 27495, 27660, 27834, 27985, 28141, 28306, 28457, 28616, 28803, 28970, 29102, 29272, 29464, 29636, 29802, 30000, 30154, 30348, 30565, 30753, 30926, 31135, 31314, 31515, 31670, 31847, 32013, 32209, 32405, 32595, 32791, 32974, 33148, 33312, 33491, 33669, 33829, 34031, 34223, 34381, 34563, 34761, 34929, 35104, 35287, 35479, 35677, 35860, 36019, 36214, 36401, 36584, 36766, 36934, 37117, 37305, 37467, 37633, 37807, 37995, 38158, 38308, 38484, 38669, 38866, 39053, 39195, 39356, 39560, 39787, 40019, 40268, 40475, 40680, 40931, 41174, 41454, 41690, 41943, 42171, 42374, 42620, 42909, 43213, 43495, 43765, 43965, 44187, 44426, 44723, 45067, 45431, 45784, 46114, 46451, 46782, 47124, 47491, 47868, 48256, 48631, 49004, 49402, 49792, 50187, 50586, 50982, 51374, 51747, 52128, 52523, 52913, 53284, 53650, 53983, 54272, 54576, 54877, 55131, 55403, 55693, 55993, 56290, 56507, 56733, 56983, 57196, 57425, 57605, 57786, 57949, 58134, 58334, 58511, 58685, 58834, 58974, 59118, 59260, 59396, 59518, 59660, 59766, 59866, 59972, 60082]}],\n",
              "                        {\"showlegend\": true, \"template\": {\"data\": {\"bar\": [{\"error_x\": {\"color\": \"#2a3f5f\"}, \"error_y\": {\"color\": \"#2a3f5f\"}, \"marker\": {\"line\": {\"color\": \"#E5ECF6\", \"width\": 0.5}}, \"type\": \"bar\"}], \"barpolar\": [{\"marker\": {\"line\": {\"color\": \"#E5ECF6\", \"width\": 0.5}}, \"type\": \"barpolar\"}], \"carpet\": [{\"aaxis\": {\"endlinecolor\": \"#2a3f5f\", \"gridcolor\": \"white\", \"linecolor\": \"white\", \"minorgridcolor\": \"white\", \"startlinecolor\": \"#2a3f5f\"}, \"baxis\": {\"endlinecolor\": \"#2a3f5f\", \"gridcolor\": \"white\", \"linecolor\": \"white\", \"minorgridcolor\": \"white\", \"startlinecolor\": \"#2a3f5f\"}, \"type\": \"carpet\"}], \"choropleth\": [{\"colorbar\": {\"outlinewidth\": 0, \"ticks\": \"\"}, \"type\": \"choropleth\"}], \"contour\": [{\"colorbar\": {\"outlinewidth\": 0, \"ticks\": \"\"}, \"colorscale\": [[0.0, \"#0d0887\"], [0.1111111111111111, \"#46039f\"], [0.2222222222222222, \"#7201a8\"], [0.3333333333333333, \"#9c179e\"], [0.4444444444444444, \"#bd3786\"], [0.5555555555555556, \"#d8576b\"], [0.6666666666666666, \"#ed7953\"], [0.7777777777777778, \"#fb9f3a\"], [0.8888888888888888, \"#fdca26\"], [1.0, \"#f0f921\"]], \"type\": \"contour\"}], \"contourcarpet\": [{\"colorbar\": {\"outlinewidth\": 0, \"ticks\": \"\"}, \"type\": \"contourcarpet\"}], \"heatmap\": [{\"colorbar\": {\"outlinewidth\": 0, \"ticks\": \"\"}, \"colorscale\": [[0.0, \"#0d0887\"], [0.1111111111111111, \"#46039f\"], [0.2222222222222222, \"#7201a8\"], [0.3333333333333333, \"#9c179e\"], [0.4444444444444444, \"#bd3786\"], [0.5555555555555556, \"#d8576b\"], [0.6666666666666666, \"#ed7953\"], [0.7777777777777778, \"#fb9f3a\"], [0.8888888888888888, \"#fdca26\"], [1.0, \"#f0f921\"]], \"type\": \"heatmap\"}], \"heatmapgl\": [{\"colorbar\": {\"outlinewidth\": 0, \"ticks\": \"\"}, \"colorscale\": [[0.0, \"#0d0887\"], [0.1111111111111111, \"#46039f\"], [0.2222222222222222, \"#7201a8\"], [0.3333333333333333, \"#9c179e\"], [0.4444444444444444, \"#bd3786\"], [0.5555555555555556, \"#d8576b\"], [0.6666666666666666, \"#ed7953\"], [0.7777777777777778, \"#fb9f3a\"], [0.8888888888888888, \"#fdca26\"], [1.0, \"#f0f921\"]], \"type\": \"heatmapgl\"}], \"histogram\": [{\"marker\": {\"colorbar\": {\"outlinewidth\": 0, \"ticks\": \"\"}}, \"type\": \"histogram\"}], \"histogram2d\": [{\"colorbar\": {\"outlinewidth\": 0, \"ticks\": \"\"}, \"colorscale\": [[0.0, \"#0d0887\"], [0.1111111111111111, \"#46039f\"], [0.2222222222222222, \"#7201a8\"], [0.3333333333333333, \"#9c179e\"], [0.4444444444444444, \"#bd3786\"], [0.5555555555555556, \"#d8576b\"], [0.6666666666666666, \"#ed7953\"], [0.7777777777777778, \"#fb9f3a\"], [0.8888888888888888, \"#fdca26\"], [1.0, \"#f0f921\"]], \"type\": \"histogram2d\"}], \"histogram2dcontour\": [{\"colorbar\": {\"outlinewidth\": 0, \"ticks\": \"\"}, \"colorscale\": [[0.0, \"#0d0887\"], [0.1111111111111111, \"#46039f\"], [0.2222222222222222, \"#7201a8\"], [0.3333333333333333, \"#9c179e\"], [0.4444444444444444, \"#bd3786\"], [0.5555555555555556, \"#d8576b\"], [0.6666666666666666, \"#ed7953\"], [0.7777777777777778, \"#fb9f3a\"], [0.8888888888888888, \"#fdca26\"], [1.0, \"#f0f921\"]], \"type\": \"histogram2dcontour\"}], \"mesh3d\": [{\"colorbar\": {\"outlinewidth\": 0, \"ticks\": \"\"}, \"type\": \"mesh3d\"}], \"parcoords\": [{\"line\": {\"colorbar\": {\"outlinewidth\": 0, \"ticks\": \"\"}}, \"type\": \"parcoords\"}], \"pie\": [{\"automargin\": true, \"type\": \"pie\"}], \"scatter\": [{\"marker\": {\"colorbar\": {\"outlinewidth\": 0, \"ticks\": \"\"}}, \"type\": \"scatter\"}], \"scatter3d\": [{\"line\": {\"colorbar\": {\"outlinewidth\": 0, \"ticks\": \"\"}}, \"marker\": {\"colorbar\": {\"outlinewidth\": 0, \"ticks\": \"\"}}, \"type\": \"scatter3d\"}], \"scattercarpet\": [{\"marker\": {\"colorbar\": {\"outlinewidth\": 0, \"ticks\": \"\"}}, \"type\": \"scattercarpet\"}], \"scattergeo\": [{\"marker\": {\"colorbar\": {\"outlinewidth\": 0, \"ticks\": \"\"}}, \"type\": \"scattergeo\"}], \"scattergl\": [{\"marker\": {\"colorbar\": {\"outlinewidth\": 0, \"ticks\": \"\"}}, \"type\": \"scattergl\"}], \"scattermapbox\": [{\"marker\": {\"colorbar\": {\"outlinewidth\": 0, \"ticks\": \"\"}}, \"type\": \"scattermapbox\"}], \"scatterpolar\": [{\"marker\": {\"colorbar\": {\"outlinewidth\": 0, \"ticks\": \"\"}}, \"type\": \"scatterpolar\"}], \"scatterpolargl\": [{\"marker\": {\"colorbar\": {\"outlinewidth\": 0, \"ticks\": \"\"}}, \"type\": \"scatterpolargl\"}], \"scatterternary\": [{\"marker\": {\"colorbar\": {\"outlinewidth\": 0, \"ticks\": \"\"}}, \"type\": \"scatterternary\"}], \"surface\": [{\"colorbar\": {\"outlinewidth\": 0, \"ticks\": \"\"}, \"colorscale\": [[0.0, \"#0d0887\"], [0.1111111111111111, \"#46039f\"], [0.2222222222222222, \"#7201a8\"], [0.3333333333333333, \"#9c179e\"], [0.4444444444444444, \"#bd3786\"], [0.5555555555555556, \"#d8576b\"], [0.6666666666666666, \"#ed7953\"], [0.7777777777777778, \"#fb9f3a\"], [0.8888888888888888, \"#fdca26\"], [1.0, \"#f0f921\"]], \"type\": \"surface\"}], \"table\": [{\"cells\": {\"fill\": {\"color\": \"#EBF0F8\"}, \"line\": {\"color\": \"white\"}}, \"header\": {\"fill\": {\"color\": \"#C8D4E3\"}, \"line\": {\"color\": \"white\"}}, \"type\": \"table\"}]}, \"layout\": {\"annotationdefaults\": {\"arrowcolor\": \"#2a3f5f\", \"arrowhead\": 0, \"arrowwidth\": 1}, \"coloraxis\": {\"colorbar\": {\"outlinewidth\": 0, \"ticks\": \"\"}}, \"colorscale\": {\"diverging\": [[0, \"#8e0152\"], [0.1, \"#c51b7d\"], [0.2, \"#de77ae\"], [0.3, \"#f1b6da\"], [0.4, \"#fde0ef\"], [0.5, \"#f7f7f7\"], [0.6, \"#e6f5d0\"], [0.7, \"#b8e186\"], [0.8, \"#7fbc41\"], [0.9, \"#4d9221\"], [1, \"#276419\"]], \"sequential\": [[0.0, \"#0d0887\"], [0.1111111111111111, \"#46039f\"], [0.2222222222222222, \"#7201a8\"], [0.3333333333333333, \"#9c179e\"], [0.4444444444444444, \"#bd3786\"], [0.5555555555555556, \"#d8576b\"], [0.6666666666666666, \"#ed7953\"], [0.7777777777777778, \"#fb9f3a\"], [0.8888888888888888, \"#fdca26\"], [1.0, \"#f0f921\"]], \"sequentialminus\": [[0.0, \"#0d0887\"], [0.1111111111111111, \"#46039f\"], [0.2222222222222222, \"#7201a8\"], [0.3333333333333333, \"#9c179e\"], [0.4444444444444444, \"#bd3786\"], [0.5555555555555556, \"#d8576b\"], [0.6666666666666666, \"#ed7953\"], [0.7777777777777778, \"#fb9f3a\"], [0.8888888888888888, \"#fdca26\"], [1.0, \"#f0f921\"]]}, \"colorway\": [\"#636efa\", \"#EF553B\", \"#00cc96\", \"#ab63fa\", \"#FFA15A\", \"#19d3f3\", \"#FF6692\", \"#B6E880\", \"#FF97FF\", \"#FECB52\"], \"font\": {\"color\": \"#2a3f5f\"}, \"geo\": {\"bgcolor\": \"white\", \"lakecolor\": \"white\", \"landcolor\": \"#E5ECF6\", \"showlakes\": true, \"showland\": true, \"subunitcolor\": \"white\"}, \"hoverlabel\": {\"align\": \"left\"}, \"hovermode\": \"closest\", \"mapbox\": {\"style\": \"light\"}, \"paper_bgcolor\": \"white\", \"plot_bgcolor\": \"#E5ECF6\", \"polar\": {\"angularaxis\": {\"gridcolor\": \"white\", \"linecolor\": \"white\", \"ticks\": \"\"}, \"bgcolor\": \"#E5ECF6\", \"radialaxis\": {\"gridcolor\": \"white\", \"linecolor\": \"white\", \"ticks\": \"\"}}, \"scene\": {\"xaxis\": {\"backgroundcolor\": \"#E5ECF6\", \"gridcolor\": \"white\", \"gridwidth\": 2, \"linecolor\": \"white\", \"showbackground\": true, \"ticks\": \"\", \"zerolinecolor\": \"white\"}, \"yaxis\": {\"backgroundcolor\": \"#E5ECF6\", \"gridcolor\": \"white\", \"gridwidth\": 2, \"linecolor\": \"white\", \"showbackground\": true, \"ticks\": \"\", \"zerolinecolor\": \"white\"}, \"zaxis\": {\"backgroundcolor\": \"#E5ECF6\", \"gridcolor\": \"white\", \"gridwidth\": 2, \"linecolor\": \"white\", \"showbackground\": true, \"ticks\": \"\", \"zerolinecolor\": \"white\"}}, \"shapedefaults\": {\"line\": {\"color\": \"#2a3f5f\"}}, \"ternary\": {\"aaxis\": {\"gridcolor\": \"white\", \"linecolor\": \"white\", \"ticks\": \"\"}, \"baxis\": {\"gridcolor\": \"white\", \"linecolor\": \"white\", \"ticks\": \"\"}, \"bgcolor\": \"#E5ECF6\", \"caxis\": {\"gridcolor\": \"white\", \"linecolor\": \"white\", \"ticks\": \"\"}}, \"title\": {\"x\": 0.05}, \"xaxis\": {\"automargin\": true, \"gridcolor\": \"white\", \"linecolor\": \"white\", \"ticks\": \"\", \"title\": {\"standoff\": 15}, \"zerolinecolor\": \"white\", \"zerolinewidth\": 2}, \"yaxis\": {\"automargin\": true, \"gridcolor\": \"white\", \"linecolor\": \"white\", \"ticks\": \"\", \"title\": {\"standoff\": 15}, \"zerolinecolor\": \"white\", \"zerolinewidth\": 2}}}, \"title\": {\"text\": \"Recuperados por dia\"}},\n",
              "                        {\"responsive\": true}\n",
              "                    ).then(function(){\n",
              "                            \n",
              "var gd = document.getElementById('036961b4-0c87-4762-b724-535fc758befb');\n",
              "var x = new MutationObserver(function (mutations, observer) {{\n",
              "        var display = window.getComputedStyle(gd).display;\n",
              "        if (!display || display === 'none') {{\n",
              "            console.log([gd, 'removed!']);\n",
              "            Plotly.purge(gd);\n",
              "            observer.disconnect();\n",
              "        }}\n",
              "}});\n",
              "\n",
              "// Listen for the removal of the full notebook cells\n",
              "var notebookContainer = gd.closest('#notebook-container');\n",
              "if (notebookContainer) {{\n",
              "    x.observe(notebookContainer, {childList: true});\n",
              "}}\n",
              "\n",
              "// Listen for the clearing of the current output cell\n",
              "var outputEl = gd.closest('.output');\n",
              "if (outputEl) {{\n",
              "    x.observe(outputEl, {childList: true});\n",
              "}}\n",
              "\n",
              "                        })\n",
              "                };\n",
              "                \n",
              "            </script>\n",
              "        </div>\n",
              "</body>\n",
              "</html>"
            ]
          },
          "metadata": {
            "tags": []
          }
        }
      ]
    },
    {
      "cell_type": "code",
      "metadata": {
        "colab": {
          "base_uri": "https://localhost:8080/",
          "height": 623
        },
        "id": "0sEBCU5PdkFU",
        "outputId": "59cadf19-5805-4f71-e4de-c9d7c52a62a4"
      },
      "source": [
        "casos_diarios_DF[:340]"
      ],
      "execution_count": null,
      "outputs": [
        {
          "output_type": "execute_result",
          "data": {
            "text/html": [
              "<div>\n",
              "<style scoped>\n",
              "    .dataframe tbody tr th:only-of-type {\n",
              "        vertical-align: middle;\n",
              "    }\n",
              "\n",
              "    .dataframe tbody tr th {\n",
              "        vertical-align: top;\n",
              "    }\n",
              "\n",
              "    .dataframe thead th {\n",
              "        text-align: right;\n",
              "    }\n",
              "</style>\n",
              "<table border=\"1\" class=\"dataframe\">\n",
              "  <thead>\n",
              "    <tr style=\"text-align: right;\">\n",
              "      <th></th>\n",
              "      <th>fechas</th>\n",
              "      <th>casos por dia</th>\n",
              "      <th>fallecidos por dia</th>\n",
              "      <th>recuperados por dia</th>\n",
              "      <th>sintomaticos activos</th>\n",
              "      <th>expuestos</th>\n",
              "      <th>acumulado muertes</th>\n",
              "      <th>acumulado recuperados</th>\n",
              "      <th>acumulado casos</th>\n",
              "      <th>acumulado sintomaticos</th>\n",
              "      <th>acumulado expuestos</th>\n",
              "      <th>activos por dia</th>\n",
              "      <th>asintomaticos</th>\n",
              "    </tr>\n",
              "  </thead>\n",
              "  <tbody>\n",
              "    <tr>\n",
              "      <th>0</th>\n",
              "      <td>2020-02-27</td>\n",
              "      <td>1</td>\n",
              "      <td>0</td>\n",
              "      <td>0</td>\n",
              "      <td>1</td>\n",
              "      <td>14</td>\n",
              "      <td>0</td>\n",
              "      <td>0</td>\n",
              "      <td>0</td>\n",
              "      <td>0</td>\n",
              "      <td>0</td>\n",
              "      <td>0</td>\n",
              "      <td>0</td>\n",
              "    </tr>\n",
              "    <tr>\n",
              "      <th>1</th>\n",
              "      <td>2020-02-28</td>\n",
              "      <td>1</td>\n",
              "      <td>0</td>\n",
              "      <td>0</td>\n",
              "      <td>1</td>\n",
              "      <td>13</td>\n",
              "      <td>0</td>\n",
              "      <td>0</td>\n",
              "      <td>1</td>\n",
              "      <td>1</td>\n",
              "      <td>14</td>\n",
              "      <td>1</td>\n",
              "      <td>0</td>\n",
              "    </tr>\n",
              "    <tr>\n",
              "      <th>2</th>\n",
              "      <td>2020-02-29</td>\n",
              "      <td>2</td>\n",
              "      <td>0</td>\n",
              "      <td>0</td>\n",
              "      <td>2</td>\n",
              "      <td>9</td>\n",
              "      <td>0</td>\n",
              "      <td>0</td>\n",
              "      <td>2</td>\n",
              "      <td>2</td>\n",
              "      <td>27</td>\n",
              "      <td>2</td>\n",
              "      <td>0</td>\n",
              "    </tr>\n",
              "    <tr>\n",
              "      <th>3</th>\n",
              "      <td>2020-03-01</td>\n",
              "      <td>5</td>\n",
              "      <td>0</td>\n",
              "      <td>0</td>\n",
              "      <td>5</td>\n",
              "      <td>17</td>\n",
              "      <td>0</td>\n",
              "      <td>0</td>\n",
              "      <td>4</td>\n",
              "      <td>4</td>\n",
              "      <td>36</td>\n",
              "      <td>4</td>\n",
              "      <td>0</td>\n",
              "    </tr>\n",
              "    <tr>\n",
              "      <th>4</th>\n",
              "      <td>2020-03-02</td>\n",
              "      <td>4</td>\n",
              "      <td>0</td>\n",
              "      <td>0</td>\n",
              "      <td>4</td>\n",
              "      <td>33</td>\n",
              "      <td>0</td>\n",
              "      <td>0</td>\n",
              "      <td>9</td>\n",
              "      <td>9</td>\n",
              "      <td>53</td>\n",
              "      <td>9</td>\n",
              "      <td>0</td>\n",
              "    </tr>\n",
              "    <tr>\n",
              "      <th>...</th>\n",
              "      <td>...</td>\n",
              "      <td>...</td>\n",
              "      <td>...</td>\n",
              "      <td>...</td>\n",
              "      <td>...</td>\n",
              "      <td>...</td>\n",
              "      <td>...</td>\n",
              "      <td>...</td>\n",
              "      <td>...</td>\n",
              "      <td>...</td>\n",
              "      <td>...</td>\n",
              "      <td>...</td>\n",
              "      <td>...</td>\n",
              "    </tr>\n",
              "    <tr>\n",
              "      <th>335</th>\n",
              "      <td>2021-01-27</td>\n",
              "      <td>6797</td>\n",
              "      <td>333</td>\n",
              "      <td>16583</td>\n",
              "      <td>-10051</td>\n",
              "      <td>-3277</td>\n",
              "      <td>53401</td>\n",
              "      <td>1847091</td>\n",
              "      <td>2146621</td>\n",
              "      <td>221163</td>\n",
              "      <td>66298</td>\n",
              "      <td>246129</td>\n",
              "      <td>24966</td>\n",
              "    </tr>\n",
              "    <tr>\n",
              "      <th>336</th>\n",
              "      <td>2021-01-28</td>\n",
              "      <td>6440</td>\n",
              "      <td>316</td>\n",
              "      <td>16404</td>\n",
              "      <td>-11297</td>\n",
              "      <td>-2006</td>\n",
              "      <td>53734</td>\n",
              "      <td>1863674</td>\n",
              "      <td>2153418</td>\n",
              "      <td>211112</td>\n",
              "      <td>63021</td>\n",
              "      <td>236010</td>\n",
              "      <td>24898</td>\n",
              "    </tr>\n",
              "    <tr>\n",
              "      <th>337</th>\n",
              "      <td>2021-01-29</td>\n",
              "      <td>5805</td>\n",
              "      <td>316</td>\n",
              "      <td>16439</td>\n",
              "      <td>-11863</td>\n",
              "      <td>-1945</td>\n",
              "      <td>54050</td>\n",
              "      <td>1880078</td>\n",
              "      <td>2159858</td>\n",
              "      <td>199815</td>\n",
              "      <td>61015</td>\n",
              "      <td>225730</td>\n",
              "      <td>25915</td>\n",
              "    </tr>\n",
              "    <tr>\n",
              "      <th>338</th>\n",
              "      <td>2021-01-30</td>\n",
              "      <td>4702</td>\n",
              "      <td>296</td>\n",
              "      <td>14922</td>\n",
              "      <td>-9156</td>\n",
              "      <td>-3812</td>\n",
              "      <td>54366</td>\n",
              "      <td>1896517</td>\n",
              "      <td>2165663</td>\n",
              "      <td>187952</td>\n",
              "      <td>59070</td>\n",
              "      <td>214780</td>\n",
              "      <td>26828</td>\n",
              "    </tr>\n",
              "    <tr>\n",
              "      <th>339</th>\n",
              "      <td>2021-01-31</td>\n",
              "      <td>3876</td>\n",
              "      <td>283</td>\n",
              "      <td>13878</td>\n",
              "      <td>-8997</td>\n",
              "      <td>-2182</td>\n",
              "      <td>54662</td>\n",
              "      <td>1911439</td>\n",
              "      <td>2170365</td>\n",
              "      <td>178796</td>\n",
              "      <td>55258</td>\n",
              "      <td>204264</td>\n",
              "      <td>25468</td>\n",
              "    </tr>\n",
              "  </tbody>\n",
              "</table>\n",
              "<p>340 rows × 13 columns</p>\n",
              "</div>"
            ],
            "text/plain": [
              "        fechas  casos por dia  ...  activos por dia  asintomaticos\n",
              "0   2020-02-27              1  ...                0              0\n",
              "1   2020-02-28              1  ...                1              0\n",
              "2   2020-02-29              2  ...                2              0\n",
              "3   2020-03-01              5  ...                4              0\n",
              "4   2020-03-02              4  ...                9              0\n",
              "..         ...            ...  ...              ...            ...\n",
              "335 2021-01-27           6797  ...           246129          24966\n",
              "336 2021-01-28           6440  ...           236010          24898\n",
              "337 2021-01-29           5805  ...           225730          25915\n",
              "338 2021-01-30           4702  ...           214780          26828\n",
              "339 2021-01-31           3876  ...           204264          25468\n",
              "\n",
              "[340 rows x 13 columns]"
            ]
          },
          "metadata": {
            "tags": []
          },
          "execution_count": 34
        }
      ]
    },
    {
      "cell_type": "code",
      "metadata": {
        "id": "CUGivOP-dmlR"
      },
      "source": [
        "casos_diarios_DF[:340].to_csv(r'Casos diarios.csv', index = False)"
      ],
      "execution_count": null,
      "outputs": []
    }
  ]
}