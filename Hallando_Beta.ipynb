{
  "nbformat": 4,
  "nbformat_minor": 0,
  "metadata": {
    "colab": {
      "name": "Hallando Beta.ipynb",
      "provenance": [],
      "collapsed_sections": [],
      "include_colab_link": true
    },
    "kernelspec": {
      "name": "python3",
      "display_name": "Python 3"
    }
  },
  "cells": [
    {
      "cell_type": "markdown",
      "metadata": {
        "id": "view-in-github",
        "colab_type": "text"
      },
      "source": [
        "<a href=\"https://colab.research.google.com/github/santiagoprado12/Tesis/blob/main/Hallando_Beta.ipynb\" target=\"_parent\"><img src=\"https://colab.research.google.com/assets/colab-badge.svg\" alt=\"Open In Colab\"/></a>"
      ]
    },
    {
      "cell_type": "code",
      "metadata": {
        "id": "c36DphaQq3wJ"
      },
      "source": [
        "import numpy as np\n",
        "import pandas as pd\n",
        "import matplotlib.pyplot as plt\n",
        "from scipy.integrate import odeint\n",
        "from scipy.optimize import minimize"
      ],
      "execution_count": null,
      "outputs": []
    },
    {
      "cell_type": "code",
      "metadata": {
        "id": "zWLeo7V-z378"
      },
      "source": [
        "df = pd.read_csv(r'Casos diarios.csv')"
      ],
      "execution_count": null,
      "outputs": []
    },
    {
      "cell_type": "code",
      "metadata": {
        "id": "SSWeCQHtG0MS"
      },
      "source": [
        "the_gamma = 1/21"
      ],
      "execution_count": null,
      "outputs": []
    },
    {
      "cell_type": "code",
      "metadata": {
        "colab": {
          "base_uri": "https://localhost:8080/",
          "height": 623
        },
        "id": "lY0DLIaXIE8c",
        "outputId": "51f01c32-835e-4340-c37e-e1f95173a40f"
      },
      "source": [
        "df"
      ],
      "execution_count": null,
      "outputs": [
        {
          "output_type": "execute_result",
          "data": {
            "text/html": [
              "<div>\n",
              "<style scoped>\n",
              "    .dataframe tbody tr th:only-of-type {\n",
              "        vertical-align: middle;\n",
              "    }\n",
              "\n",
              "    .dataframe tbody tr th {\n",
              "        vertical-align: top;\n",
              "    }\n",
              "\n",
              "    .dataframe thead th {\n",
              "        text-align: right;\n",
              "    }\n",
              "</style>\n",
              "<table border=\"1\" class=\"dataframe\">\n",
              "  <thead>\n",
              "    <tr style=\"text-align: right;\">\n",
              "      <th></th>\n",
              "      <th>fechas</th>\n",
              "      <th>casos por dia</th>\n",
              "      <th>fallecidos por dia</th>\n",
              "      <th>recuperados por dia</th>\n",
              "      <th>sintomaticos activos</th>\n",
              "      <th>expuestos</th>\n",
              "      <th>acumulado muertes</th>\n",
              "      <th>acumulado recuperados</th>\n",
              "      <th>acumulado casos</th>\n",
              "      <th>acumulado sintomaticos</th>\n",
              "      <th>acumulado expuestos</th>\n",
              "      <th>activos por dia</th>\n",
              "      <th>asintomaticos</th>\n",
              "    </tr>\n",
              "  </thead>\n",
              "  <tbody>\n",
              "    <tr>\n",
              "      <th>0</th>\n",
              "      <td>2020-02-27</td>\n",
              "      <td>1</td>\n",
              "      <td>0</td>\n",
              "      <td>0</td>\n",
              "      <td>1</td>\n",
              "      <td>14</td>\n",
              "      <td>0</td>\n",
              "      <td>0</td>\n",
              "      <td>0</td>\n",
              "      <td>0</td>\n",
              "      <td>0</td>\n",
              "      <td>0</td>\n",
              "      <td>0</td>\n",
              "    </tr>\n",
              "    <tr>\n",
              "      <th>1</th>\n",
              "      <td>2020-02-28</td>\n",
              "      <td>1</td>\n",
              "      <td>0</td>\n",
              "      <td>0</td>\n",
              "      <td>1</td>\n",
              "      <td>13</td>\n",
              "      <td>0</td>\n",
              "      <td>0</td>\n",
              "      <td>1</td>\n",
              "      <td>1</td>\n",
              "      <td>14</td>\n",
              "      <td>1</td>\n",
              "      <td>0</td>\n",
              "    </tr>\n",
              "    <tr>\n",
              "      <th>2</th>\n",
              "      <td>2020-02-29</td>\n",
              "      <td>2</td>\n",
              "      <td>0</td>\n",
              "      <td>0</td>\n",
              "      <td>2</td>\n",
              "      <td>9</td>\n",
              "      <td>0</td>\n",
              "      <td>0</td>\n",
              "      <td>2</td>\n",
              "      <td>2</td>\n",
              "      <td>27</td>\n",
              "      <td>2</td>\n",
              "      <td>0</td>\n",
              "    </tr>\n",
              "    <tr>\n",
              "      <th>3</th>\n",
              "      <td>2020-03-01</td>\n",
              "      <td>5</td>\n",
              "      <td>0</td>\n",
              "      <td>0</td>\n",
              "      <td>5</td>\n",
              "      <td>17</td>\n",
              "      <td>0</td>\n",
              "      <td>0</td>\n",
              "      <td>4</td>\n",
              "      <td>4</td>\n",
              "      <td>36</td>\n",
              "      <td>4</td>\n",
              "      <td>0</td>\n",
              "    </tr>\n",
              "    <tr>\n",
              "      <th>4</th>\n",
              "      <td>2020-03-02</td>\n",
              "      <td>4</td>\n",
              "      <td>0</td>\n",
              "      <td>0</td>\n",
              "      <td>4</td>\n",
              "      <td>33</td>\n",
              "      <td>0</td>\n",
              "      <td>0</td>\n",
              "      <td>9</td>\n",
              "      <td>9</td>\n",
              "      <td>53</td>\n",
              "      <td>9</td>\n",
              "      <td>0</td>\n",
              "    </tr>\n",
              "    <tr>\n",
              "      <th>...</th>\n",
              "      <td>...</td>\n",
              "      <td>...</td>\n",
              "      <td>...</td>\n",
              "      <td>...</td>\n",
              "      <td>...</td>\n",
              "      <td>...</td>\n",
              "      <td>...</td>\n",
              "      <td>...</td>\n",
              "      <td>...</td>\n",
              "      <td>...</td>\n",
              "      <td>...</td>\n",
              "      <td>...</td>\n",
              "      <td>...</td>\n",
              "    </tr>\n",
              "    <tr>\n",
              "      <th>335</th>\n",
              "      <td>2021-01-27</td>\n",
              "      <td>6797</td>\n",
              "      <td>333</td>\n",
              "      <td>16583</td>\n",
              "      <td>-10051</td>\n",
              "      <td>-3277</td>\n",
              "      <td>53401</td>\n",
              "      <td>1847091</td>\n",
              "      <td>2146621</td>\n",
              "      <td>221163</td>\n",
              "      <td>66298</td>\n",
              "      <td>246129</td>\n",
              "      <td>24966</td>\n",
              "    </tr>\n",
              "    <tr>\n",
              "      <th>336</th>\n",
              "      <td>2021-01-28</td>\n",
              "      <td>6440</td>\n",
              "      <td>316</td>\n",
              "      <td>16404</td>\n",
              "      <td>-11297</td>\n",
              "      <td>-2006</td>\n",
              "      <td>53734</td>\n",
              "      <td>1863674</td>\n",
              "      <td>2153418</td>\n",
              "      <td>211112</td>\n",
              "      <td>63021</td>\n",
              "      <td>236010</td>\n",
              "      <td>24898</td>\n",
              "    </tr>\n",
              "    <tr>\n",
              "      <th>337</th>\n",
              "      <td>2021-01-29</td>\n",
              "      <td>5805</td>\n",
              "      <td>316</td>\n",
              "      <td>16439</td>\n",
              "      <td>-11863</td>\n",
              "      <td>-1945</td>\n",
              "      <td>54050</td>\n",
              "      <td>1880078</td>\n",
              "      <td>2159858</td>\n",
              "      <td>199815</td>\n",
              "      <td>61015</td>\n",
              "      <td>225730</td>\n",
              "      <td>25915</td>\n",
              "    </tr>\n",
              "    <tr>\n",
              "      <th>338</th>\n",
              "      <td>2021-01-30</td>\n",
              "      <td>4702</td>\n",
              "      <td>296</td>\n",
              "      <td>14922</td>\n",
              "      <td>-9156</td>\n",
              "      <td>-3812</td>\n",
              "      <td>54366</td>\n",
              "      <td>1896517</td>\n",
              "      <td>2165663</td>\n",
              "      <td>187952</td>\n",
              "      <td>59070</td>\n",
              "      <td>214780</td>\n",
              "      <td>26828</td>\n",
              "    </tr>\n",
              "    <tr>\n",
              "      <th>339</th>\n",
              "      <td>2021-01-31</td>\n",
              "      <td>3876</td>\n",
              "      <td>283</td>\n",
              "      <td>13878</td>\n",
              "      <td>-8997</td>\n",
              "      <td>-2182</td>\n",
              "      <td>54662</td>\n",
              "      <td>1911439</td>\n",
              "      <td>2170365</td>\n",
              "      <td>178796</td>\n",
              "      <td>55258</td>\n",
              "      <td>204264</td>\n",
              "      <td>25468</td>\n",
              "    </tr>\n",
              "  </tbody>\n",
              "</table>\n",
              "<p>340 rows × 13 columns</p>\n",
              "</div>"
            ],
            "text/plain": [
              "         fechas  casos por dia  ...  activos por dia  asintomaticos\n",
              "0    2020-02-27              1  ...                0              0\n",
              "1    2020-02-28              1  ...                1              0\n",
              "2    2020-02-29              2  ...                2              0\n",
              "3    2020-03-01              5  ...                4              0\n",
              "4    2020-03-02              4  ...                9              0\n",
              "..          ...            ...  ...              ...            ...\n",
              "335  2021-01-27           6797  ...           246129          24966\n",
              "336  2021-01-28           6440  ...           236010          24898\n",
              "337  2021-01-29           5805  ...           225730          25915\n",
              "338  2021-01-30           4702  ...           214780          26828\n",
              "339  2021-01-31           3876  ...           204264          25468\n",
              "\n",
              "[340 rows x 13 columns]"
            ]
          },
          "metadata": {
            "tags": []
          },
          "execution_count": 184
        }
      ]
    },
    {
      "cell_type": "code",
      "metadata": {
        "id": "HNUWpxLJqtqR"
      },
      "source": [
        "def derivSIR(y, t, N, beta, gamma):\n",
        "    S, I, R = y\n",
        "    dSdt = -beta * S * I / N\n",
        "    dIdt = beta * S * I / N - gamma * I\n",
        "    dRdt = gamma * I\n",
        "    return dSdt, dIdt, dRdt\n",
        "\n",
        "def derivSEIR(y, t, N, beta, gamma, sigma):\n",
        "    S, E, I, R = y\n",
        "    dSdt = -beta * S * I / N\n",
        "    dEdt = beta * S * I / N - sigma * E\n",
        "    dIdt = sigma * E - gamma*I\n",
        "    dRdt = gamma * I\n",
        "    return dSdt, dEdt, dIdt, dRdt "
      ],
      "execution_count": null,
      "outputs": []
    },
    {
      "cell_type": "code",
      "metadata": {
        "id": "VJn5Kzn04I7U"
      },
      "source": [
        "def modelSIR(V,R,N,beta,gamma):\n",
        "    t = np.linspace(0,len(V)-1,len(V))\n",
        "    y0 = N-V[0]-R[0],V[0],R[0]\n",
        "    S,I,R = odeint(derivSIR, y0, t, args=(N, beta, gamma)).T\n",
        "    dV = V\n",
        "    dI = I\n",
        "    return np.linalg.norm(dV-dI)\n",
        "\n",
        "def modelSEIR(Ex,V,R,N,beta,gamma,sigma):\n",
        "    t = np.linspace(0,len(V)-1,len(V))\n",
        "    y0 = N - Ex[0] - V[0] - R[0], Ex[0], V[0], R[0]\n",
        "    S, E, I, R  = odeint(derivSEIR, y0, t, args=(N, beta, gamma, sigma)).T\n",
        "    dV = V\n",
        "    dI = I\n",
        "    dE = E\n",
        "    dEx = Ex\n",
        "    return np.linalg.norm(((dV-dI)**2)+((dE-dEx)**2))"
      ],
      "execution_count": null,
      "outputs": []
    },
    {
      "cell_type": "code",
      "metadata": {
        "id": "FhV6aoH04Mfp"
      },
      "source": [
        "\n",
        "def fitSIR(V,R,N):\n",
        "    \n",
        "    res = minimize(lambda x:modelSIR(V,R,N,x,the_gamma),\n",
        "                            x0=0.5,method='powell')\n",
        "    return res.x\n",
        "\n",
        "def fitSEIR(Ex,V,R,N):\n",
        "    \n",
        "    def f(x):\n",
        "      y1,y2=x\n",
        "      return modelSEIR(Ex,V,R,N,y1,the_gamma,y2)\n",
        "\n",
        "\n",
        "    res1 = minimize(f,x0=[0.5,0.5])\n",
        "\n",
        "    return res1.x"
      ],
      "execution_count": null,
      "outputs": []
    },
    {
      "cell_type": "code",
      "metadata": {
        "id": "9GLiGve64Pa6"
      },
      "source": [
        "def compute_paramsSIR(df,population, start_index, ndays):\n",
        "  for i in range(start_index,len(df)-ndays):\n",
        "      V = df['Infected'][i:i+ndays].to_numpy()\n",
        "      R = df['Removed'][i:i+ndays].to_numpy()\n",
        "      beta = fitSIR(V,R,population)\n",
        "      df.loc[i,'Beta'] = beta\n",
        "      df.loc[i,'Gamma'] = the_gamma\n",
        "\n",
        "def compute_paramsSEIR(df,population, start_index, ndays):\n",
        "  for i in range(start_index,len(df)-ndays):\n",
        "      Ex=df['Expuestos'][i:i+ndays].to_numpy()\n",
        "      V = df['InfectedSEIR'][i:i+ndays].to_numpy()\n",
        "      R = df['Removed'][i:i+ndays].to_numpy()\n",
        "      beta, sigma = fitSEIR(Ex,V,R,population)\n",
        "      df.loc[i,'BetaSEIR'] = beta\n",
        "      df.loc[i,'Gamma'] = the_gamma\n",
        "      df.loc[i,'Sigma'] = sigma"
      ],
      "execution_count": null,
      "outputs": []
    },
    {
      "cell_type": "markdown",
      "metadata": {
        "id": "1YxPpaB9zdZv"
      },
      "source": [
        "S=Poblacion total - Activos - recuperados - muertos\n",
        "\n",
        "I=Activos\n",
        "\n",
        "R=Recuperados + Muertos"
      ]
    },
    {
      "cell_type": "code",
      "metadata": {
        "colab": {
          "base_uri": "https://localhost:8080/",
          "height": 293
        },
        "id": "LUq8Scpczy5h",
        "outputId": "13d03e68-1e24-4474-da5d-89c1f8b8efc9"
      },
      "source": [
        "n=2500000\n",
        "plt.plot(n-df['activos por dia']-df['acumulado recuperados']-df['acumulado muertes'])\n",
        "plt.plot(df['activos por dia'])\n",
        "plt.plot(df['acumulado recuperados']+df['acumulado muertes'])"
      ],
      "execution_count": null,
      "outputs": [
        {
          "output_type": "execute_result",
          "data": {
            "text/plain": [
              "[<matplotlib.lines.Line2D at 0x7f00a0ddcfd0>]"
            ]
          },
          "metadata": {
            "tags": []
          },
          "execution_count": 189
        },
        {
          "output_type": "display_data",
          "data": {
            "image/png": "[encoded data removed]",
            "text/plain": [
              "<Figure size 432x288 with 1 Axes>"
            ]
          },
          "metadata": {
            "tags": [],
            "needs_background": "light"
          }
        }
      ]
    },
    {
      "cell_type": "code",
      "metadata": {
        "colab": {
          "base_uri": "https://localhost:8080/",
          "height": 293
        },
        "id": "qvOyQVjDIJez",
        "outputId": "777de46d-30a1-4a8a-f5a6-c426c6b13a95"
      },
      "source": [
        "n=2500000\n",
        "plt.plot(n-df['acumulado sintomaticos']-df['acumulado expuestos']-df['acumulado recuperados']-df['acumulado muertes'])\n",
        "plt.plot(df['acumulado sintomaticos'])\n",
        "plt.plot(df['acumulado expuestos'])\n",
        "plt.plot(df['acumulado recuperados']+df['acumulado muertes'])"
      ],
      "execution_count": null,
      "outputs": [
        {
          "output_type": "execute_result",
          "data": {
            "text/plain": [
              "[<matplotlib.lines.Line2D at 0x7f00a0d5cf90>]"
            ]
          },
          "metadata": {
            "tags": []
          },
          "execution_count": 190
        },
        {
          "output_type": "display_data",
          "data": {
            "image/png": "[encoded data removed]",
            "text/plain": [
              "<Figure size 432x288 with 1 Axes>"
            ]
          },
          "metadata": {
            "tags": [],
            "needs_background": "light"
          }
        }
      ]
    },
    {
      "cell_type": "code",
      "metadata": {
        "id": "N2A9U4Xots2H"
      },
      "source": [
        "df['Infected']=df['activos por dia']\n",
        "df['Recovered']=df['acumulado recuperados']\n",
        "df['Deaths']=df['acumulado muertes']\n",
        "df['Removed'] = df['Recovered']+df['Deaths']"
      ],
      "execution_count": null,
      "outputs": []
    },
    {
      "cell_type": "code",
      "metadata": {
        "id": "y2TvBT8KJMZq"
      },
      "source": [
        "df['InfectedSEIR']=df['acumulado sintomaticos']\n",
        "df['Expuestos']=df['acumulado expuestos']"
      ],
      "execution_count": null,
      "outputs": []
    },
    {
      "cell_type": "code",
      "metadata": {
        "id": "EtQJCD_f4vlH"
      },
      "source": [
        "init_index=20\n",
        "compute_paramsSIR(df,48200000, init_index, 2)\n",
        "df['Rt'] = df['Beta'] / df['Gamma']"
      ],
      "execution_count": null,
      "outputs": []
    },
    {
      "cell_type": "code",
      "metadata": {
        "id": "CmtzyRGZK3pM"
      },
      "source": [
        "init_index=20\n",
        "compute_paramsSEIR(df,48200000, init_index, 2)\n",
        "#df['Rt'] = df['Beta'] / df['Gamma']"
      ],
      "execution_count": null,
      "outputs": []
    },
    {
      "cell_type": "code",
      "metadata": {
        "id": "jPCd2MpY8bW4"
      },
      "source": [
        "res=[]\n",
        "N= 48200000\n",
        "the_gamma = 1/21\n",
        "I_a=df['Infected'][init_index]\n",
        "res=[I_a]\n",
        "R_a=df['Removed'][init_index]\n",
        "S_a=N-I_a-R_a\n",
        "\n",
        "for be in df['Beta'][init_index:]:\n",
        "  t = np.linspace(0,1,2)\n",
        "  y0 = S_a,I_a,R_a\n",
        "  S,I,R = odeint(derivSIR, y0, t, args=(N, be, the_gamma)).T\n",
        "  I_a=I[1]\n",
        "  R_a=R[1]\n",
        "  S_a=S[1]\n",
        "  res.append(I[1])"
      ],
      "execution_count": null,
      "outputs": []
    },
    {
      "cell_type": "code",
      "metadata": {
        "colab": {
          "base_uri": "https://localhost:8080/",
          "height": 285
        },
        "id": "QaWV4s-f8b6G",
        "outputId": "0a11f050-9166-42cb-90b3-e01323c3ea43"
      },
      "source": [
        "plt.plot(range(0,len(df['activos por dia'][init_index:])),df['activos por dia'][init_index:])\n",
        "plt.plot(res)\n",
        "plt.plot(range(0,len(df['asintomaticos'][init_index:])),df['asintomaticos'][init_index:]+df['acumulado sintomaticos'][init_index:])"
      ],
      "execution_count": null,
      "outputs": [
        {
          "output_type": "execute_result",
          "data": {
            "text/plain": [
              "[<matplotlib.lines.Line2D at 0x7f00a0c81290>]"
            ]
          },
          "metadata": {
            "tags": []
          },
          "execution_count": 196
        },
        {
          "output_type": "display_data",
          "data": {
            "image/png": "[encoded data removed]",
            "text/plain": [
              "<Figure size 432x288 with 1 Axes>"
            ]
          },
          "metadata": {
            "tags": [],
            "needs_background": "light"
          }
        }
      ]
    },
    {
      "cell_type": "code",
      "metadata": {
        "id": "bRM49tOzO6Vp"
      },
      "source": [
        "res1=[]\n",
        "N= 48200000\n",
        "init_index=20\n",
        "the_gamma = 1/21\n",
        "I_a=df['InfectedSEIR'][init_index]\n",
        "res1=[I_a]\n",
        "Ex_a=df['Expuestos'][init_index]\n",
        "R_a=df['Removed'][init_index]\n",
        "S_a=N-I_a-R_a-Ex_a\n",
        "sigma1=df['Sigma'][init_index:]\n",
        "\n",
        "for i,be in enumerate(df['BetaSEIR'][init_index:]):\n",
        "  sigma=sigma1[i+init_index]\n",
        "  t = np.linspace(0,1,2)\n",
        "  y0 = S_a,Ex_a,I_a,R_a\n",
        "  S,E,I,R = odeint(derivSEIR, y0, t, args=(N, be, the_gamma,sigma)).T\n",
        "  I_a=I[1]\n",
        "  Ex_a=E[1]\n",
        "  R_a=R[1]\n",
        "  S_a=S[1]\n",
        "  res1.append(I[1])"
      ],
      "execution_count": null,
      "outputs": []
    },
    {
      "cell_type": "code",
      "metadata": {
        "colab": {
          "base_uri": "https://localhost:8080/"
        },
        "id": "E-IP6D6pnQBC",
        "outputId": "725c1f90-e0b5-43f3-bd2a-f6e254fb783a"
      },
      "source": [
        "sigma1"
      ],
      "execution_count": null,
      "outputs": [
        {
          "output_type": "execute_result",
          "data": {
            "text/plain": [
              "20     0.141823\n",
              "21     0.164904\n",
              "22     0.203440\n",
              "23     0.184229\n",
              "24     0.182041\n",
              "         ...   \n",
              "335    0.003703\n",
              "336   -0.024439\n",
              "337   -0.043865\n",
              "338         NaN\n",
              "339         NaN\n",
              "Name: Sigma, Length: 320, dtype: float64"
            ]
          },
          "metadata": {
            "tags": []
          },
          "execution_count": 198
        }
      ]
    },
    {
      "cell_type": "code",
      "metadata": {
        "colab": {
          "base_uri": "https://localhost:8080/",
          "height": 285
        },
        "id": "0F-3cm4yO-0e",
        "outputId": "0d82ea43-e0de-40b2-ae68-f825b04e12ea"
      },
      "source": [
        "plt.plot(range(0,len(df['activos por dia'][init_index:])),df['activos por dia'][init_index:])\n",
        "plt.plot(range(0,len(df['asintomaticos'][init_index:])),df['asintomaticos'][init_index:]+res1[:-1])"
      ],
      "execution_count": null,
      "outputs": [
        {
          "output_type": "execute_result",
          "data": {
            "text/plain": [
              "[<matplotlib.lines.Line2D at 0x7f00a0c76610>]"
            ]
          },
          "metadata": {
            "tags": []
          },
          "execution_count": 199
        },
        {
          "output_type": "display_data",
          "data": {
            "image/png": "[encoded data removed]",
            "text/plain": [
              "<Figure size 432x288 with 1 Axes>"
            ]
          },
          "metadata": {
            "tags": [],
            "needs_background": "light"
          }
        }
      ]
    },
    {
      "cell_type": "code",
      "metadata": {
        "id": "6mE0PgrHvfPQ"
      },
      "source": [
        "df1 = pd.read_csv(r'Casos diarios.csv')"
      ],
      "execution_count": null,
      "outputs": []
    },
    {
      "cell_type": "code",
      "metadata": {
        "id": "Y_HV0krH0TFi"
      },
      "source": [
        "df1[\"Gamma\"]=df[\"Gamma\"]"
      ],
      "execution_count": null,
      "outputs": []
    },
    {
      "cell_type": "code",
      "metadata": {
        "id": "KdpUxmE40ZPq"
      },
      "source": [
        "df1[\"Beta\"]=df[\"Beta\"]"
      ],
      "execution_count": null,
      "outputs": []
    },
    {
      "cell_type": "code",
      "metadata": {
        "id": "QASwqiw6mzdr"
      },
      "source": [
        "df1[\"Sigma\"]=df[\"Sigma\"]"
      ],
      "execution_count": null,
      "outputs": []
    },
    {
      "cell_type": "code",
      "metadata": {
        "id": "qvE00aSzm3YJ"
      },
      "source": [
        "df1[\"BetaSEIR\"]=df[\"BetaSEIR\"]"
      ],
      "execution_count": null,
      "outputs": []
    },
    {
      "cell_type": "code",
      "metadata": {
        "id": "blAuANCdQ4Nf"
      },
      "source": [
        "df1=df1[20:338]"
      ],
      "execution_count": null,
      "outputs": []
    },
    {
      "cell_type": "code",
      "metadata": {
        "id": "WhpAo7pg0qbN"
      },
      "source": [
        "df1.to_csv(r'Casos diarios y Beta.csv', index = False)"
      ],
      "execution_count": null,
      "outputs": []
    },
    {
      "cell_type": "code",
      "metadata": {
        "colab": {
          "base_uri": "https://localhost:8080/",
          "height": 643
        },
        "id": "xPXJM4x5TG95",
        "outputId": "10ca5278-5b3e-432f-a0d5-34f1d701f2c2"
      },
      "source": [
        "df1"
      ],
      "execution_count": null,
      "outputs": [
        {
          "output_type": "execute_result",
          "data": {
            "text/html": [
              "<div>\n",
              "<style scoped>\n",
              "    .dataframe tbody tr th:only-of-type {\n",
              "        vertical-align: middle;\n",
              "    }\n",
              "\n",
              "    .dataframe tbody tr th {\n",
              "        vertical-align: top;\n",
              "    }\n",
              "\n",
              "    .dataframe thead th {\n",
              "        text-align: right;\n",
              "    }\n",
              "</style>\n",
              "<table border=\"1\" class=\"dataframe\">\n",
              "  <thead>\n",
              "    <tr style=\"text-align: right;\">\n",
              "      <th></th>\n",
              "      <th>fechas</th>\n",
              "      <th>casos por dia</th>\n",
              "      <th>fallecidos por dia</th>\n",
              "      <th>recuperados por dia</th>\n",
              "      <th>sintomaticos activos</th>\n",
              "      <th>expuestos</th>\n",
              "      <th>acumulado muertes</th>\n",
              "      <th>acumulado recuperados</th>\n",
              "      <th>acumulado casos</th>\n",
              "      <th>acumulado sintomaticos</th>\n",
              "      <th>acumulado expuestos</th>\n",
              "      <th>activos por dia</th>\n",
              "      <th>asintomaticos</th>\n",
              "      <th>Gamma</th>\n",
              "      <th>Beta</th>\n",
              "      <th>Sigma</th>\n",
              "      <th>BetaSEIR</th>\n",
              "    </tr>\n",
              "  </thead>\n",
              "  <tbody>\n",
              "    <tr>\n",
              "      <th>20</th>\n",
              "      <td>2020-03-18</td>\n",
              "      <td>139</td>\n",
              "      <td>0</td>\n",
              "      <td>0</td>\n",
              "      <td>138</td>\n",
              "      <td>16</td>\n",
              "      <td>1</td>\n",
              "      <td>4</td>\n",
              "      <td>768</td>\n",
              "      <td>754</td>\n",
              "      <td>1244</td>\n",
              "      <td>763</td>\n",
              "      <td>9</td>\n",
              "      <td>0.047619</td>\n",
              "      <td>0.214979</td>\n",
              "      <td>0.141823</td>\n",
              "      <td>0.234668</td>\n",
              "    </tr>\n",
              "    <tr>\n",
              "      <th>21</th>\n",
              "      <td>2020-03-19</td>\n",
              "      <td>162</td>\n",
              "      <td>0</td>\n",
              "      <td>1</td>\n",
              "      <td>160</td>\n",
              "      <td>-12</td>\n",
              "      <td>1</td>\n",
              "      <td>4</td>\n",
              "      <td>907</td>\n",
              "      <td>892</td>\n",
              "      <td>1260</td>\n",
              "      <td>902</td>\n",
              "      <td>10</td>\n",
              "      <td>0.047619</td>\n",
              "      <td>0.211859</td>\n",
              "      <td>0.164904</td>\n",
              "      <td>0.199767</td>\n",
              "    </tr>\n",
              "    <tr>\n",
              "      <th>22</th>\n",
              "      <td>2020-03-20</td>\n",
              "      <td>198</td>\n",
              "      <td>0</td>\n",
              "      <td>1</td>\n",
              "      <td>195</td>\n",
              "      <td>-33</td>\n",
              "      <td>1</td>\n",
              "      <td>5</td>\n",
              "      <td>1069</td>\n",
              "      <td>1052</td>\n",
              "      <td>1248</td>\n",
              "      <td>1063</td>\n",
              "      <td>11</td>\n",
              "      <td>0.047619</td>\n",
              "      <td>0.217641</td>\n",
              "      <td>0.203440</td>\n",
              "      <td>0.188397</td>\n",
              "    </tr>\n",
              "    <tr>\n",
              "      <th>23</th>\n",
              "      <td>2020-03-21</td>\n",
              "      <td>160</td>\n",
              "      <td>0</td>\n",
              "      <td>3</td>\n",
              "      <td>156</td>\n",
              "      <td>-46</td>\n",
              "      <td>1</td>\n",
              "      <td>6</td>\n",
              "      <td>1267</td>\n",
              "      <td>1247</td>\n",
              "      <td>1215</td>\n",
              "      <td>1260</td>\n",
              "      <td>13</td>\n",
              "      <td>0.047619</td>\n",
              "      <td>0.165054</td>\n",
              "      <td>0.184229</td>\n",
              "      <td>0.130562</td>\n",
              "    </tr>\n",
              "    <tr>\n",
              "      <th>24</th>\n",
              "      <td>2020-03-22</td>\n",
              "      <td>152</td>\n",
              "      <td>1</td>\n",
              "      <td>3</td>\n",
              "      <td>142</td>\n",
              "      <td>-3</td>\n",
              "      <td>1</td>\n",
              "      <td>9</td>\n",
              "      <td>1427</td>\n",
              "      <td>1403</td>\n",
              "      <td>1169</td>\n",
              "      <td>1417</td>\n",
              "      <td>14</td>\n",
              "      <td>0.047619</td>\n",
              "      <td>0.146968</td>\n",
              "      <td>0.182041</td>\n",
              "      <td>0.141889</td>\n",
              "    </tr>\n",
              "    <tr>\n",
              "      <th>...</th>\n",
              "      <td>...</td>\n",
              "      <td>...</td>\n",
              "      <td>...</td>\n",
              "      <td>...</td>\n",
              "      <td>...</td>\n",
              "      <td>...</td>\n",
              "      <td>...</td>\n",
              "      <td>...</td>\n",
              "      <td>...</td>\n",
              "      <td>...</td>\n",
              "      <td>...</td>\n",
              "      <td>...</td>\n",
              "      <td>...</td>\n",
              "      <td>...</td>\n",
              "      <td>...</td>\n",
              "      <td>...</td>\n",
              "      <td>...</td>\n",
              "    </tr>\n",
              "    <tr>\n",
              "      <th>333</th>\n",
              "      <td>2021-01-25</td>\n",
              "      <td>8024</td>\n",
              "      <td>387</td>\n",
              "      <td>17813</td>\n",
              "      <td>-6550</td>\n",
              "      <td>-7056</td>\n",
              "      <td>52658</td>\n",
              "      <td>1812618</td>\n",
              "      <td>2131290</td>\n",
              "      <td>237659</td>\n",
              "      <td>76693</td>\n",
              "      <td>266014</td>\n",
              "      <td>28355</td>\n",
              "      <td>0.047619</td>\n",
              "      <td>0.009013</td>\n",
              "      <td>0.063068</td>\n",
              "      <td>-0.010922</td>\n",
              "    </tr>\n",
              "    <tr>\n",
              "      <th>334</th>\n",
              "      <td>2021-01-26</td>\n",
              "      <td>7307</td>\n",
              "      <td>356</td>\n",
              "      <td>16660</td>\n",
              "      <td>-9946</td>\n",
              "      <td>-3339</td>\n",
              "      <td>53045</td>\n",
              "      <td>1830431</td>\n",
              "      <td>2139314</td>\n",
              "      <td>231109</td>\n",
              "      <td>69637</td>\n",
              "      <td>255838</td>\n",
              "      <td>24729</td>\n",
              "      <td>0.047619</td>\n",
              "      <td>0.009345</td>\n",
              "      <td>0.012076</td>\n",
              "      <td>-0.011667</td>\n",
              "    </tr>\n",
              "    <tr>\n",
              "      <th>335</th>\n",
              "      <td>2021-01-27</td>\n",
              "      <td>6797</td>\n",
              "      <td>333</td>\n",
              "      <td>16583</td>\n",
              "      <td>-10051</td>\n",
              "      <td>-3277</td>\n",
              "      <td>53401</td>\n",
              "      <td>1847091</td>\n",
              "      <td>2146621</td>\n",
              "      <td>221163</td>\n",
              "      <td>66298</td>\n",
              "      <td>246129</td>\n",
              "      <td>24966</td>\n",
              "      <td>0.047619</td>\n",
              "      <td>0.005900</td>\n",
              "      <td>0.003703</td>\n",
              "      <td>-0.014724</td>\n",
              "    </tr>\n",
              "    <tr>\n",
              "      <th>336</th>\n",
              "      <td>2021-01-28</td>\n",
              "      <td>6440</td>\n",
              "      <td>316</td>\n",
              "      <td>16404</td>\n",
              "      <td>-11297</td>\n",
              "      <td>-2006</td>\n",
              "      <td>53734</td>\n",
              "      <td>1863674</td>\n",
              "      <td>2153418</td>\n",
              "      <td>211112</td>\n",
              "      <td>63021</td>\n",
              "      <td>236010</td>\n",
              "      <td>24898</td>\n",
              "      <td>0.047619</td>\n",
              "      <td>0.003229</td>\n",
              "      <td>-0.024439</td>\n",
              "      <td>-0.017959</td>\n",
              "    </tr>\n",
              "    <tr>\n",
              "      <th>337</th>\n",
              "      <td>2021-01-29</td>\n",
              "      <td>5805</td>\n",
              "      <td>316</td>\n",
              "      <td>16439</td>\n",
              "      <td>-11863</td>\n",
              "      <td>-1945</td>\n",
              "      <td>54050</td>\n",
              "      <td>1880078</td>\n",
              "      <td>2159858</td>\n",
              "      <td>199815</td>\n",
              "      <td>61015</td>\n",
              "      <td>225730</td>\n",
              "      <td>25915</td>\n",
              "      <td>0.047619</td>\n",
              "      <td>-0.002205</td>\n",
              "      <td>-0.043865</td>\n",
              "      <td>-0.024745</td>\n",
              "    </tr>\n",
              "  </tbody>\n",
              "</table>\n",
              "<p>318 rows × 17 columns</p>\n",
              "</div>"
            ],
            "text/plain": [
              "         fechas  casos por dia  ...     Sigma  BetaSEIR\n",
              "20   2020-03-18            139  ...  0.141823  0.234668\n",
              "21   2020-03-19            162  ...  0.164904  0.199767\n",
              "22   2020-03-20            198  ...  0.203440  0.188397\n",
              "23   2020-03-21            160  ...  0.184229  0.130562\n",
              "24   2020-03-22            152  ...  0.182041  0.141889\n",
              "..          ...            ...  ...       ...       ...\n",
              "333  2021-01-25           8024  ...  0.063068 -0.010922\n",
              "334  2021-01-26           7307  ...  0.012076 -0.011667\n",
              "335  2021-01-27           6797  ...  0.003703 -0.014724\n",
              "336  2021-01-28           6440  ... -0.024439 -0.017959\n",
              "337  2021-01-29           5805  ... -0.043865 -0.024745\n",
              "\n",
              "[318 rows x 17 columns]"
            ]
          },
          "metadata": {
            "tags": []
          },
          "execution_count": 207
        }
      ]
    }
  ]
}